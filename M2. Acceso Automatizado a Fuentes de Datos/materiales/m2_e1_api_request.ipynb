{
 "cells": [
  {
   "cell_type": "markdown",
   "id": "19201d60",
   "metadata": {},
   "source": [
    "# Introducción al uso de interfaces de datos (API)\n",
    "## ¿Qué es un API?\n",
    "\n",
    "Un **API (Application Programming Interface)** es un interfaz que permite que dos aplicaciones o sistemas se comuniquen entre sí. A través de un API, un programa puede solicitar datos o servicios de otro sin necesidad de que el usuario interactúe directamente con ambas aplicaciones. Las APIs facilitan el desarrollo de aplicaciones de explotación de datos (IA), ya que permiten la integración y el acceso a servicios y datos de manera eficiente.\n",
    "\n",
    "## Tipos de consulta en un API REST\n",
    "\n",
    "Las APIs REST (Representational State Transfer) son un tipo de API que permite a los sistemas interactuar a través de la web utilizando los métodos HTTP estándar. A continuación, los tipos de consultas más comunes en una API REST:\n",
    "\n",
    "1. **GET**: Se utiliza para **solicitar** datos de un recurso específico en el servidor. Es el método más común cuando queremos obtener información.\n",
    "   - Ejemplo: Obtener datos meteorológicos actuales.\n",
    "2. **POST**: Se utiliza para **enviar** datos al servidor, normalmente para crear un nuevo recurso.\n",
    "   - Ejemplo: Enviar datos de usuario para registrarse en un servicio.\n",
    "3. **PUT**: Se utiliza para **actualizar** un recurso existente en el servidor con datos proporcionados.\n",
    "   - Ejemplo: Actualizar información de perfil de usuario.\n",
    "4. **DELETE**: Se utiliza para **eliminar** un recurso existente en el servidor.\n",
    "   - Ejemplo: Eliminar un usuario de un sistema."
   ]
  },
  {
   "cell_type": "code",
   "execution_count": null,
   "id": "872189dd",
   "metadata": {},
   "outputs": [],
   "source": [
    "! pip install requests"
   ]
  },
  {
   "cell_type": "markdown",
   "id": "d6f0fc41",
   "metadata": {},
   "source": [
    "---\n",
    "\n",
    "## API de OpenMeteo\n",
    "\n",
    "**OpenMeteo** es una API pública que proporciona datos meteorológicos sin necesidad de registro o autenticación. Esto facilita mucho el proceso de acceso, ya que no se requiere una cuenta o clave API.\n",
    "\n",
    "1. **Acceder al sitio web**: [https://open-meteo.com/](https://open-meteo.com/)\n",
    "2. **Documentación**: La API tiene una documentación accesible donde se describen los diferentes endpoints y parámetros que puedes utilizar para hacer consultas (por ejemplo, coordenadas geográficas, intervalo de tiempo, variables meteorológicas).\n",
    "3. **Consulta de datos**: Puedes realizar peticiones directamente a la API utilizando los parámetros de consulta correctos."
   ]
  },
  {
   "cell_type": "markdown",
   "id": "1523288d",
   "metadata": {},
   "source": [
    "---\n",
    "\n",
    "## **Ejercicio: Consulta sencilla a OpenMeteo**\n",
    "\n",
    "Las coordenadas geográficas de **Icod de Los Vinos** son:\n",
    "- **Latitud**: 28.367\n",
    "- **Longitud**: -16.721\n",
    "\n",
    "Vamos a realizar una consulta a la API de OpenMeteo para obtener el pronóstico de temperatura utilizando estas coordenadas:"
   ]
  },
  {
   "cell_type": "code",
   "execution_count": null,
   "id": "8364a9c4",
   "metadata": {},
   "outputs": [],
   "source": [
    "import requests\n",
    "import json\n",
    "\n",
    "# Coordenadas de Icod de Los Vinos\n",
    "latitud = 28.367\n",
    "longitud = -16.721\n",
    "\n",
    "# URL del API de OpenMeteo para el pronóstico del tiempo\n",
    "url = f\"https://api.open-meteo.com/v1/forecast?latitude={latitud}&longitude={longitud}&hourly=temperature_2m\"\n",
    "\n",
    "# Realizar la solicitud GET\n",
    "response = requests.get(url)\n",
    "\n",
    "# Verificar si la solicitud fue exitosa\n",
    "if response.status_code == 200:\n",
    "    # Convertir la respuesta en JSON\n",
    "    data = response.json()\n",
    "    data\n",
    "else:\n",
    "    data = None\n",
    "    print(f\"Error en la solicitud: {response.status_code}\")\n"
   ]
  },
  {
   "cell_type": "markdown",
   "id": "74ef2d2b",
   "metadata": {},
   "source": [
    "### Explicación del código:\n",
    "* Parámetros de consulta:\n",
    "  * Latitud y longitud de Icod de Los Vinos se insertan en la URL de la API.\n",
    "  * El parámetro hourly=temperature_2m especifica que queremos obtener el pronóstico de temperatura a 2 metros del suelo, en intervalos horarios.\n",
    "* Solicitud HTTP:\n",
    "  * Se realiza una petición GET a la API de OpenMeteo utilizando la librería requests. La respuesta del servidor se almacena en la variable response si la respuesta es correcta (200).\n",
    "\n",
    "A continuación mostramos los datos obtenidos en formato JSON."
   ]
  },
  {
   "cell_type": "code",
   "execution_count": null,
   "id": "72f5a728",
   "metadata": {},
   "outputs": [],
   "source": [
    "data"
   ]
  },
  {
   "cell_type": "markdown",
   "id": "3a8a35b0",
   "metadata": {},
   "source": [
    "Como podemos observar la consulta nos devuelve una predicción de los valores de temperatura en las coordenadas espcficadas para los siguientes 6 días a una frecuencia horaria."
   ]
  },
  {
   "cell_type": "markdown",
   "id": "64020462",
   "metadata": {},
   "source": [
    "### Guardado de datos en formato JSON\n",
    "Antes de seguir, para evitar perder los datos de la consulta al API, los guardaremos en local usando para ello el formato json."
   ]
  },
  {
   "cell_type": "code",
   "execution_count": null,
   "id": "b06a9572",
   "metadata": {},
   "outputs": [],
   "source": [
    " # Guardar la respuesta en un archivo JSON\n",
    "with open('data/m2_e1_datos_meteo.json', 'w') as json_file:\n",
    "    json.dump(data, json_file, indent=4)\n",
    "    print(\"Datos meteorológicos guardados en 'icod_meteo.json'.\")"
   ]
  },
  {
   "cell_type": "markdown",
   "id": "67b7d1ac",
   "metadata": {},
   "source": [
    "### Lectura de archivo en formato JSON\n",
    "Ahora volvemos a leer los datos del archivo guardado en disco y lo transformamos en un objeto de pandas:"
   ]
  },
  {
   "cell_type": "code",
   "execution_count": null,
   "id": "f982d85c",
   "metadata": {},
   "outputs": [],
   "source": [
    "import pandas as pd\n",
    "\n",
    "# Extraer las horas y las temperaturas\n",
    "horas = data['hourly']['time']\n",
    "temperaturas = data['hourly']['temperature_2m']\n",
    "\n",
    "# Crear un DataFrame con las horas y las temperaturas\n",
    "df = pd.DataFrame({\n",
    "    'Fecha': pd.to_datetime(horas),  # Convertir las horas a formato datetime\n",
    "    'Temperatura (°C)': temperaturas\n",
    "})\n",
    "\n",
    "# Mostrar las primeras filas del DataFrame\n",
    "print(df.head())"
   ]
  },
  {
   "cell_type": "markdown",
   "id": "abfc83d5",
   "metadata": {},
   "source": [
    "Una vez que tienes los datos en el DataFrame, procedemos a hacer un análisi descrptivo de los datos"
   ]
  },
  {
   "cell_type": "code",
   "execution_count": null,
   "id": "12e34863",
   "metadata": {},
   "outputs": [],
   "source": [
    "# Ver estadísticas descriptivas del DataFrame\n",
    "print(df.describe())"
   ]
  },
  {
   "cell_type": "code",
   "execution_count": null,
   "id": "5297d423",
   "metadata": {},
   "outputs": [],
   "source": [
    "print(df.info())"
   ]
  },
  {
   "cell_type": "code",
   "execution_count": null,
   "id": "d60a2129",
   "metadata": {},
   "outputs": [],
   "source": [
    "# Guardar el DataFrame en un archivo CSV (opcional)\n",
    "df.to_csv('data/m2_e1_datos_meteo.csv', index=False)"
   ]
  },
  {
   "cell_type": "markdown",
   "id": "33b0edc7",
   "metadata": {},
   "source": [
    "### Visulización básica de los datos\n",
    "\n",
    "#### Gráfico de línea\n",
    "Visualizamos la serie temporal de temperaturas en un gráfico de línea, añadiendo una línea discontinua que represente el promedio de la serie "
   ]
  },
  {
   "cell_type": "code",
   "execution_count": null,
   "id": "e1a4b468",
   "metadata": {},
   "outputs": [],
   "source": [
    "import pandas as pd\n",
    "import matplotlib.pyplot as plt\n",
    "\n",
    "# Cargar los datos desde el archivo CSV (o usa el DataFrame directamente si ya está creado)\n",
    "df = pd.read_csv('data/m2_e1_datos_meteo.csv')\n",
    "\n",
    "# Convertir la columna 'Fecha' al tipo datetime\n",
    "df['Fecha'] = pd.to_datetime(df['Fecha'])\n",
    "\n",
    "# Crear el gráfico de líneas\n",
    "plt.figure(figsize=(10, 6))\n",
    "plt.plot(df['Fecha'], df['Temperatura (°C)'], linestyle='-', marker='o', markersize=3)\n",
    "\n",
    "# Calcular el promedio, máximo y mínimo de la columna 'Temperatura (°C)'\n",
    "promedio_temperatura = df['Temperatura (°C)'].mean()\n",
    "# Añadir línea discontinua para el promedio\n",
    "plt.axhline(y=promedio_temperatura, color='red', linestyle='--', linewidth=2, label=f'Promedio: {promedio_temperatura:.2f} °C')\n",
    "\n",
    "# Añadir etiquetas y título\n",
    "plt.title('Serie Temporal de Temperatura en Icod de Los Vinos', fontsize=16)\n",
    "plt.xlabel('Fecha', fontsize=12)\n",
    "plt.ylabel('Temperatura (°C)', fontsize=12)\n",
    "\n",
    "# Rotar las etiquetas del eje X para mejor legibilidad\n",
    "plt.xticks(rotation=45)\n",
    "\n",
    "# Mostrar una cuadrícula\n",
    "plt.grid(True)\n",
    "\n",
    "# Ajustar los márgenes\n",
    "plt.tight_layout()\n",
    "\n",
    "# Mostrar el gráfico\n",
    "plt.show()\n"
   ]
  },
  {
   "cell_type": "markdown",
   "id": "9c0e7592",
   "metadata": {},
   "source": [
    "#### Histograma\n",
    "Generamos un histograma de la serie de temperaturas, que nos permitirá visualizar la distribución de las temperaturas en la serie temporal:"
   ]
  },
  {
   "cell_type": "code",
   "execution_count": null,
   "id": "9120d4b4",
   "metadata": {},
   "outputs": [],
   "source": [
    "# Crear el histograma de la columna 'Temperatura (°C)'\n",
    "plt.figure(figsize=(8, 6))\n",
    "plt.hist(df['Temperatura (°C)'], bins=10, color='skyblue', edgecolor='black')\n",
    "\n",
    "# Añadir etiquetas y título\n",
    "plt.title('Histograma de Temperaturas en Icod de Los Vinos', fontsize=16)\n",
    "plt.xlabel('Temperatura (°C)', fontsize=12)\n",
    "plt.ylabel('Frecuencia', fontsize=12)\n",
    "\n",
    "# Mostrar el histograma\n",
    "plt.grid(True)\n",
    "plt.tight_layout()\n",
    "plt.show()\n"
   ]
  },
  {
   "cell_type": "markdown",
   "id": "64a0a930",
   "metadata": {},
   "source": [
    "**Comentarios:**\n",
    "* Distribución de las temperaturas: El histograma te mostrará cómo se distribuyen las temperaturas a lo largo del tiempo. Si el histograma tiene una forma de campana, podría indicar una distribución normal en las temperaturas.\n",
    "* Frecuencia de temperaturas: Te permitirá ver si hay rangos de temperatura que ocurren con mayor frecuencia. Por ejemplo, puede que encuentres que la mayor parte de las temperaturas están entre 15 y 20°C, lo que podría ser la temperatura más común en el periodo analizado.\n",
    "* Posibles extremos: Si hay barras en los extremos del gráfico con una frecuencia muy baja, podrían corresponder a valores extremos o inusuales de temperatura."
   ]
  }
 ],
 "metadata": {
  "jupytext": {
   "cell_metadata_filter": "-all",
   "main_language": "python",
   "notebook_metadata_filter": "-all"
  },
  "kernelspec": {
   "display_name": "ibbi",
   "language": "python",
   "name": "python3"
  },
  "language_info": {
   "codemirror_mode": {
    "name": "ipython",
    "version": 3
   },
   "file_extension": ".py",
   "mimetype": "text/x-python",
   "name": "python",
   "nbconvert_exporter": "python",
   "pygments_lexer": "ipython3",
   "version": "3.12.0"
  }
 },
 "nbformat": 4,
 "nbformat_minor": 5
}
