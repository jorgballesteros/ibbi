{
 "cells": [
  {
   "cell_type": "markdown",
   "id": "cf007a81",
   "metadata": {},
   "source": [
    "# Consulta de Datos sobre una API Protegida\n",
    "\n",
    "Trabajamos para monitorear las **condiciones meteorológicas** en tiempo real en Canarias para optimizar la eficiencia de un sistema de **energía solar**. Necesitas acceder a una API meteorológica que proporciona datos sobre **temperatura**, **humedad** y **radiación solar**. La API está protegida por una **API Key** que debes incluir en tus solicitudes.\n",
    "\n",
    "## Objetivos del ejercicio\n",
    "1. Realizar una **solicitud HTTP** a una API meteorológica protegida con **credenciales** (API Key).\n",
    "2. Extraer datos sobre **temperatura**, **humedad**, y **radiación solar** para una **ubicación específica**.\n",
    "3. Cargar los datos obtenidos en un **DataFrame de Pandas** para su análisis.\n",
    "4. Generar visualizaciones para analizar las **correlaciones** entre las variables meteorológicas.\n",
    "\n",
    "---\n",
    "\n",
    "## Configuración previa\n",
    "\n",
    "1. **Regístrate en un servicio meteorológico** (por ejemplo, **OpenWeatherMap** o **WeatherAPI**) y obtén tu **API Key**.\n",
    "2. **Instala las librerías necesarias** (si no las tienes instaladas):"
   ]
  },
  {
   "cell_type": "code",
   "execution_count": null,
   "id": "1860c2fa",
   "metadata": {},
   "outputs": [],
   "source": [
    "! pip install requests pandas matplotlib seaborn"
   ]
  },
  {
   "cell_type": "markdown",
   "id": "56fb6b6a",
   "metadata": {},
   "source": [
    "---\n",
    "\n",
    "##  Ejercicio: Consulta de datos sobre API con seguridad\n",
    "\n",
    "### Realizar la solicitud a la API"
   ]
  },
  {
   "cell_type": "code",
   "execution_count": null,
   "id": "11b52deb",
   "metadata": {},
   "outputs": [],
   "source": [
    "import requests\n",
    "import json \n",
    "\n",
    "import pandas as pd\n",
    "import matplotlib.pyplot as plt\n",
    "import seaborn as sns\n",
    "\n",
    "# Parámetros para la consulta\n",
    "API_KEY = 'YOUR_API_KEY'  # Reemplaza con tu API Key\n",
    "CIUDAD = 'Santa Cruz de Tenerife,ES'\n",
    "URL = f\"http://api.openweathermap.org/data/2.5/forecast?q={CIUDAD}&appid={API_KEY}&units=metric\"\n",
    "\n",
    "response = requests.get(URL)\n",
    "\n",
    "# Comprobar si la solicitud fue exitosa\n",
    "if response.status_code == 200:\n",
    "    print(\"Conexión exitosa con la API.\")\n",
    "    datos = response.json()\n",
    "else:\n",
    "    print(f\"Error al conectarse con la API. Código de respuesta: {response.status_code}\")\n",
    "    exit()"
   ]
  },
  {
   "cell_type": "code",
   "execution_count": null,
   "id": "a6548cec",
   "metadata": {},
   "outputs": [],
   "source": [
    "# Guardamos los datos en formato JSON\n",
    "with open('data/m2_e4_datos_meteo_owm.json', 'w') as json_file:\n",
    "    json.dump(datos, json_file, indent=4)"
   ]
  },
  {
   "cell_type": "code",
   "execution_count": null,
   "id": "3670abf3",
   "metadata": {},
   "outputs": [],
   "source": [
    "# Cargamos los datos desde archivo JSON\n",
    "with open('data/m2_e4_datos_meteo_owm.json', 'r') as json_file:\n",
    "    datos = json.load(json_file)"
   ]
  },
  {
   "cell_type": "code",
   "execution_count": null,
   "id": "e0923d68",
   "metadata": {},
   "outputs": [],
   "source": [
    "# Mostramos contenido de datos en formato JSON\n",
    "datos"
   ]
  },
  {
   "cell_type": "markdown",
   "id": "1667f31a",
   "metadata": {},
   "source": [
    "### Extraer los datos relevantes y transformarlos en un DataFrame"
   ]
  },
  {
   "cell_type": "code",
   "execution_count": null,
   "id": "f9a3bffd",
   "metadata": {},
   "outputs": [],
   "source": [
    "# Construimos objetos para crear dataframe\n",
    "fechas = []\n",
    "temperaturas = []\n",
    "humedades = []\n",
    "radiacion_solar = []  # Supongamos que la radiación solar viene en el campo 'clouds'\n",
    "\n",
    "for entry in datos['list']:\n",
    "    fechas.append(entry['dt_txt'])\n",
    "    temperaturas.append(entry['main']['temp'])\n",
    "    humedades.append(entry['main']['humidity'])\n",
    "    # Usamos el porcentaje de nubes como aproximación de la radiación solar inversamente proporcional\n",
    "    radiacion_solar.append(100 - entry['clouds']['all'])\n",
    "\n",
    "# Crear un DataFrame\n",
    "df = pd.DataFrame({\n",
    "    \"Fecha\": pd.to_datetime(fechas),\n",
    "    \"Temperatura (°C)\": temperaturas,\n",
    "    \"Humedad (%)\": humedades,\n",
    "    \"Radiación Solar (%)\": radiacion_solar\n",
    "})\n",
    "\n",
    "df.set_index(\"Fecha\", inplace=True)\n",
    "\n",
    "# Mostrar las primeras filas del DataFrame\n",
    "print(\"\\nDatos extraídos:\")\n",
    "print(df.head())\n"
   ]
  },
  {
   "cell_type": "code",
   "execution_count": null,
   "id": "aa67ba1f",
   "metadata": {},
   "outputs": [],
   "source": [
    "# Guardar csv\n",
    "df.to_csv('data/m2_e4_datos_meteo_owm.csv', index=False)"
   ]
  },
  {
   "cell_type": "markdown",
   "id": "38a01795",
   "metadata": {},
   "source": [
    "### Visualización y análisis de datos"
   ]
  },
  {
   "cell_type": "code",
   "execution_count": null,
   "id": "c6581c28",
   "metadata": {},
   "outputs": [],
   "source": [
    "# Visualizamos los datos en una sola gráfica\n",
    "plt.figure(figsize=(12, 6))\n",
    "plt.plot(df.index, df[\"Temperatura (°C)\"], label=\"Temperatura (°C)\", color='red')\n",
    "plt.plot(df.index, df[\"Radiación Solar (%)\"], label=\"Radiación Solar (%)\", color='orange')\n",
    "plt.plot(df.index, df[\"Humedad (%)\"], label=\"Humedad (%)\", color='blue')\n",
    "plt.title(\"Condiciones Meteorológicas en Santa Cruz de Tenerife\")\n",
    "plt.xlabel(\"Fecha\")\n",
    "plt.ylabel(\"Valor\")\n",
    "plt.legend()\n",
    "plt.grid(True)\n",
    "plt.xticks(rotation=45)\n",
    "plt.tight_layout()\n",
    "plt.show()\n"
   ]
  },
  {
   "cell_type": "markdown",
   "id": "6f6aff9c",
   "metadata": {},
   "source": [
    "Ahora representamos las mismas series temporales en un eje Y para cada serie"
   ]
  },
  {
   "cell_type": "code",
   "execution_count": null,
   "id": "6c93ef61",
   "metadata": {},
   "outputs": [],
   "source": [
    "# Crear el gráfico principal con el primer eje Y (temperatura)\n",
    "fig, ax1 = plt.subplots(figsize=(12, 6))\n",
    "\n",
    "# Graficar la temperatura en el eje Y1\n",
    "ax1.set_xlabel('Fecha')\n",
    "ax1.set_ylabel('Temperatura (°C)', color='blue')\n",
    "ax1.plot(df.index, df['Temperatura (°C)'], color='blue', label='Temperatura (°C)')\n",
    "ax1.tick_params(axis='y', labelcolor='blue')\n",
    "ax1.grid(True)\n",
    "\n",
    "# Crear un segundo eje Y que comparta el eje X (humedad relativa)\n",
    "ax2 = ax1.twinx()  \n",
    "ax2.set_ylabel('Humedad (%)', color='green')\n",
    "ax2.plot(df.index, df['Humedad (%)'], color='green', label='Humedad (%)')\n",
    "ax2.tick_params(axis='y', labelcolor='green')\n",
    "\n",
    "# Crear un tecer eje Y que comparta el eje X (radiación solar)\n",
    "\n",
    "ax3 = ax1.twinx()\n",
    "ax3.spines['right'].set_position(('outward', 60))  # Mover el tercer eje un poco a la derecha\n",
    "ax3.set_ylabel('Radiación Solar (%)', color='orange')\n",
    "ax3.plot(df.index, df['Radiación Solar (%)'], color='orange', label='Humedad (%)')\n",
    "ax3.tick_params(axis='y', labelcolor='orange')\n",
    "\n",
    "# Añadir el título del gráfico\n",
    "plt.title('Previsión Meteorológica en {}'.format(CIUDAD), fontsize=14)\n",
    "\n",
    "# Ajustar los márgenes\n",
    "fig.tight_layout()\n",
    "\n",
    "# Mostrar el gráfico\n",
    "plt.show()\n"
   ]
  },
  {
   "cell_type": "markdown",
   "id": "0e35a41e",
   "metadata": {},
   "source": [
    "### Análisis de correlación"
   ]
  },
  {
   "cell_type": "code",
   "execution_count": null,
   "id": "07dc5b2d",
   "metadata": {},
   "outputs": [],
   "source": [
    "correlaciones = df.corr()\n",
    "print(\"\\nMatriz de Correlación:\")\n",
    "print(correlaciones)\n",
    "\n",
    "# Visualizar la matriz de correlación\n",
    "plt.figure(figsize=(8, 5))\n",
    "sns.heatmap(correlaciones, annot=True, cmap='coolwarm', linewidths=0.5)\n",
    "plt.title(\"Correlación entre Variables Meteorológicas\")\n",
    "plt.show()\n"
   ]
  },
  {
   "cell_type": "markdown",
   "id": "4dcf126a",
   "metadata": {},
   "source": [
    "### Gráfico de dispersión entre Radiación Solar y Temperatura"
   ]
  },
  {
   "cell_type": "code",
   "execution_count": null,
   "id": "85cde0f5",
   "metadata": {},
   "outputs": [],
   "source": [
    "plt.figure(figsize=(8, 5))\n",
    "sns.scatterplot(x=\"Radiación Solar (%)\", y=\"Temperatura (°C)\", data=df, hue=\"Humedad (%)\", palette=\"viridis\")\n",
    "plt.title(\"Relación entre Radiación Solar y Temperatura\")\n",
    "plt.xlabel(\"Radiación Solar (%)\")\n",
    "plt.ylabel(\"Temperatura (°C)\")\n",
    "plt.grid(True)\n",
    "plt.show()"
   ]
  },
  {
   "cell_type": "markdown",
   "id": "2f4e16a2",
   "metadata": {},
   "source": [
    "## Explicación del Código\n",
    "\n",
    "1. **Consulta a la API**:\n",
    "   - Realizamos una solicitud HTTP GET a la API utilizando la API Key.\n",
    "   - Validamos que la conexión sea exitosa antes de continuar.\n",
    "\n",
    "2. **Extracción de datos**:\n",
    "   - Extraemos las variables de **temperatura**, **humedad**, y una aproximación de la **radiación solar** a partir del porcentaje de nubes.\n",
    "\n",
    "3. **Creación del DataFrame**:\n",
    "   - Los datos se organizan en un **DataFrame de Pandas** para un análisis estructurado.\n",
    "\n",
    "4. **Visualización**:\n",
    "   - Utilizamos **Matplotlib** para graficar la evolución diaria de las variables.\n",
    "   - Usamos **Seaborn** para un análisis de correlación y gráficos de dispersión.\n",
    "\n",
    "5. **Correlaciones**:\n",
    "   - El **mapa de calor** y los gráficos de dispersión ayudan a entender cómo la radiación solar y la temperatura están relacionadas con la generación de energía.\n"
   ]
  }
 ],
 "metadata": {
  "jupytext": {
   "cell_metadata_filter": "-all",
   "main_language": "python",
   "notebook_metadata_filter": "-all"
  },
  "kernelspec": {
   "display_name": "ibbi",
   "language": "python",
   "name": "python3"
  },
  "language_info": {
   "codemirror_mode": {
    "name": "ipython",
    "version": 3
   },
   "file_extension": ".py",
   "mimetype": "text/x-python",
   "name": "python",
   "nbconvert_exporter": "python",
   "pygments_lexer": "ipython3",
   "version": "3.12.0"
  }
 },
 "nbformat": 4,
 "nbformat_minor": 5
}
