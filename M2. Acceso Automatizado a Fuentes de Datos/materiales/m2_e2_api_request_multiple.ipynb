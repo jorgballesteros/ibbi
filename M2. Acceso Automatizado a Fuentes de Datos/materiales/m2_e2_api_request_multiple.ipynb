{
 "cells": [
  {
   "cell_type": "markdown",
   "id": "4fe07730",
   "metadata": {},
   "source": [
    "# Introducción al uso de interfaces de datos (API) (II)\n",
    "\n",
    "## Ejercicio: Consulta multiple a OpenMeteo\n",
    "\n",
    "En este ejercicio vamos a trabajar en la consulta de varias series temporales en diferentes coordenadas para su posterior análisis y visualización conjunta. En primer lugar generamos un diccionario  de coordenadas de Icod de Los Vinos, Adeje, y Santa Cruz de Tenerife para realizar consultas a la API de OpenMeteo:"
   ]
  },
  {
   "cell_type": "code",
   "execution_count": null,
   "id": "ce61f4fd",
   "metadata": {},
   "outputs": [],
   "source": [
    "# Generamos un doccionario\n",
    "coordenadas = {\n",
    "    'Icod': {\n",
    "        'latitud': 28.367,\n",
    "        'longitud': -16.721\n",
    "    },\n",
    "    'Adeje': {\n",
    "        'latitud': 28.1227,\n",
    "        'longitud': -16.726\n",
    "    },\n",
    "    'SantaCruz': {\n",
    "        'latitud': 28.4636,\n",
    "        'longitud': -16.2518\n",
    "    }\n",
    "}"
   ]
  },
  {
   "cell_type": "markdown",
   "id": "d2fc6632",
   "metadata": {},
   "source": [
    "2. Consultamos la serie de temperatura para cada ubicación y combinamos todas las respuestas en un solo archivo JSON:"
   ]
  },
  {
   "cell_type": "code",
   "execution_count": null,
   "id": "57d72a60",
   "metadata": {},
   "outputs": [],
   "source": [
    "import requests\n",
    "import json\n",
    "\n",
    "# Diccionario para almacenar los resultados combinados\n",
    "datos_combinados = {}\n",
    "\n",
    "# Bucle para consultar la API para cada localidad\n",
    "for lugar, coords in coordenadas.items():\n",
    "    # Construir la URL para la API de OpenMeteo\n",
    "    url = f\"https://api.open-meteo.com/v1/forecast?latitude={coords['latitud']}&longitude={coords['longitud']}&hourly=temperature_2m\"\n",
    "    \n",
    "    # Realizar la solicitud GET a la API\n",
    "    response = requests.get(url)\n",
    "    \n",
    "    # Verificar si la solicitud fue exitosa\n",
    "    if response.status_code == 200:\n",
    "        # Extraer los datos en formato JSON\n",
    "        data = response.json()\n",
    "        \n",
    "        # Almacenar los datos en el diccionario con la localidad como clave\n",
    "        datos_combinados[lugar] = data\n",
    "        print(f\"Datos obtenidos para {lugar}\")\n",
    "    else:\n",
    "        print(f\"Error al obtener datos para {lugar}: {response.status_code}\")\n"
   ]
  },
  {
   "cell_type": "markdown",
   "id": "b7cf2c49",
   "metadata": {},
   "source": [
    "El resultado tendrá un formato como el siguiente:\n",
    "```json\n",
    "{\n",
    "    \"Icod\": {\n",
    "        \"hourly\": {\n",
    "            \"time\": [\"2024-01-01T00:00\", \"2024-01-01T01:00\", ...],\n",
    "            \"temperature_2m\": [12.5, 12.0, ...]\n",
    "        }\n",
    "    },\n",
    "    \"Adeje\": {\n",
    "        \"hourly\": {\n",
    "            \"time\": [\"2024-01-01T00:00\", \"2024-01-01T01:00\", ...],\n",
    "            \"temperature_2m\": [13.5, 13.0, ...]\n",
    "        }\n",
    "    },\n",
    "    \"SantaCruz\": {\n",
    "        \"hourly\": {\n",
    "            \"time\": [\"2024-01-01T00:00\", \"2024-01-01T01:00\", ...],\n",
    "            \"temperature_2m\": [15.0, 14.5, ...]\n",
    "        }\n",
    "    }\n",
    "}\n",
    "\n",
    "\n",
    "\n",
    "3. Guardamos todos los resultados en un archivo JSON combinado\n",
    "\n",
    "```python\n",
    "# Guardar todos los resultados en un archivo JSON combinado\n",
    "with open('data/m2_e2_datos_meteo_combinados.json', 'w') as json_file:\n",
    "    json.dump(datos_combinados, json_file, indent=4)\n",
    "\n",
    "print(\"Datos combinados guardados en 'temperaturas_combinadas.json'.\")\n",
    "```\n",
    "\n",
    "### Lectura de datos combinados en formato JSON\n",
    "Leemos los datos desde el archivo JSON generado previamente y convertimos cada conjunto de datos de temperatura en un DataFrame separado para cada localidad:"
   ]
  },
  {
   "cell_type": "code",
   "execution_count": null,
   "id": "fc3b9e7f",
   "metadata": {},
   "outputs": [],
   "source": [
    "import json\n",
    "import pandas as pd\n",
    "\n",
    "# Leer el archivo JSON que contiene los datos combinados\n",
    "with open('data/m2_e2_datos_meteo_combinados.json', 'r') as json_file:\n",
    "    datos_combinados = json.load(json_file)\n",
    "\n",
    "# Diccionario para almacenar los DataFrames de cada localidad\n",
    "dfs = {}\n",
    "\n",
    "# Convertir los datos de cada localidad en un DataFrame\n",
    "for localidad, datos in datos_combinados.items():\n",
    "    # Crear un DataFrame a partir de los datos de la localidad\n",
    "    localidad_df = pd.DataFrame({\n",
    "        'Fecha': pd.to_datetime(datos['hourly']['time']),  # Convertir las fechas a datetime\n",
    "        'Temperatura (°C)': datos['hourly']['temperature_2m']\n",
    "    })\n",
    "    \n",
    "    # Almacenar el DataFrame en el diccionario usando la localidad como clave\n",
    "    dfs[localidad] = localidad_df\n",
    "\n",
    "    # Mostrar el DataFrame de la localidad\n",
    "    print(f\"DataFrame de {localidad}:\")\n",
    "    print(localidad_df.head(), \"\\n\")\n",
    "\n",
    "# Ahora tienes un DataFrame separado para cada localidad en el diccionario 'dfs'\n"
   ]
  },
  {
   "cell_type": "markdown",
   "id": "d838ca17",
   "metadata": {},
   "source": [
    "### Visulización básica de los datos\n"
   ]
  },
  {
   "cell_type": "markdown",
   "id": "0d1b68ad",
   "metadata": {},
   "source": [
    "#### Gráfico de línea\n",
    "Visualizamos la serie temporal de temperaturas en un gráfico de línea, añadiendo una línea discontinua que represente el promedio de la serie "
   ]
  },
  {
   "cell_type": "code",
   "execution_count": null,
   "id": "05dd4ded",
   "metadata": {},
   "outputs": [],
   "source": [
    "import pandas as pd\n",
    "import matplotlib.pyplot as plt\n",
    "\n",
    "for localidad in dfs.keys():\n",
    "    df = dfs[localidad]\n",
    "    # Crear el gráfico de líneas\n",
    "    plt.figure(figsize=(10, 6))\n",
    "    plt.plot(df['Fecha'], df['Temperatura (°C)'], linestyle='-', marker='o', markersize=3)\n",
    "\n",
    "    # Calcular el promedio, máximo y mínimo de la columna 'Temperatura (°C)'\n",
    "    promedio_temperatura = df['Temperatura (°C)'].mean()\n",
    "    # Añadir línea discontinua para el promedio\n",
    "    plt.axhline(y=promedio_temperatura, color='red', linestyle='--', linewidth=2, label=f'Promedio: {promedio_temperatura:.2f} °C')\n",
    "\n",
    "    # Añadir etiquetas y título\n",
    "    plt.title('Serie Temporal de Temperatura en {}'.format(localidad), fontsize=14)\n",
    "    plt.xlabel('Fecha', fontsize=12)\n",
    "    plt.ylabel('Temperatura (°C)', fontsize=12)\n",
    "\n",
    "    # Rotar las etiquetas del eje X para mejor legibilidad\n",
    "    plt.xticks(rotation=45)\n",
    "\n",
    "    # Mostrar una cuadrícula\n",
    "    plt.grid(True)\n",
    "\n",
    "    # Ajustar los márgenes\n",
    "    plt.tight_layout()\n",
    "\n",
    "    # Mostrar el gráfico\n",
    "    plt.show()\n"
   ]
  },
  {
   "cell_type": "markdown",
   "id": "1ef7f05d",
   "metadata": {},
   "source": [
    "#### Histograma\n",
    "Generamos un histograma de la serie de temperaturas, que nos permitirá visualizar la distribución de las temperaturas en la serie temporal:"
   ]
  },
  {
   "cell_type": "code",
   "execution_count": null,
   "id": "b70b532d",
   "metadata": {},
   "outputs": [],
   "source": [
    "for localidad in dfs.keys():\n",
    "    df = dfs[localidad]\n",
    "    # Crear el histograma de la columna 'Temperatura (°C)'\n",
    "    plt.figure(figsize=(8, 6))\n",
    "    plt.hist(df['Temperatura (°C)'], bins=30, color='skyblue', edgecolor='black')\n",
    "\n",
    "    # Añadir etiquetas y título\n",
    "    plt.title('Histograma de Temperaturas en {}'.format(localidad), fontsize=16)\n",
    "    plt.xlabel('Temperatura (°C)', fontsize=12)\n",
    "    plt.ylabel('Frecuencia', fontsize=12)\n",
    "\n",
    "    # Mostrar el histograma\n",
    "    plt.grid(True)\n",
    "    plt.tight_layout()\n",
    "    plt.show()\n"
   ]
  },
  {
   "cell_type": "markdown",
   "id": "c1788386",
   "metadata": {},
   "source": [
    "### Combinacion de datos\n",
    "A continuación, combinamos los DataFrames de las tres localidades en un solo DataFrame."
   ]
  },
  {
   "cell_type": "code",
   "execution_count": null,
   "id": "c2111edb",
   "metadata": {},
   "outputs": [],
   "source": [
    "import pandas as pd\n",
    "import matplotlib.pyplot as plt\n",
    "\n",
    "# Crear un DataFrame combinado a partir de los DataFrames individuales\n",
    "combinado_df = pd.DataFrame()\n",
    "\n",
    "# Agregar cada DataFrame de localidad al DataFrame combinado\n",
    "for localidad, localidad_df in dfs.items():\n",
    "    # Renombrar la columna de temperatura para incluir el nombre de la localidad\n",
    "    localidad_df_tmp = localidad_df.rename(columns={'Temperatura (°C)': f'Temperatura ({localidad})'})\n",
    "    \n",
    "    # Si es el primer DataFrame, se inicia el DataFrame combinado con las fechas\n",
    "    if combinado_df.empty:\n",
    "        combinado_df['Fecha'] = localidad_df_tmp['Fecha']\n",
    "    \n",
    "    # Agregar la columna de temperaturas de la localidad\n",
    "    combinado_df[f'Temperatura ({localidad})'] = localidad_df_tmp[f'Temperatura ({localidad})']\n",
    "\n",
    "# Mostrar el DataFrame combinado\n",
    "print(combinado_df.head())"
   ]
  },
  {
   "cell_type": "markdown",
   "id": "ccdfea05",
   "metadata": {},
   "source": [
    "### Visualizaciñon combinada series temporales\n",
    "Visualizamos las tres series de temperatura en un gráfico de líneas manteniendo el promedio de cada una y, finalmente, guarda el DataFrame combinado en un archivo CSV:"
   ]
  },
  {
   "cell_type": "code",
   "execution_count": null,
   "id": "644aa751",
   "metadata": {},
   "outputs": [],
   "source": [
    "# Visualizar las 3 series de temperatura en un solo gráfico con el promedio de cada serie\n",
    "\n",
    "plt.figure(figsize=(10, 6))\n",
    "\n",
    "# Colores y etiquetas de cada localidad\n",
    "colors = {'Icod': 'blue', 'Adeje': 'green', 'SantaCruz': 'red'}\n",
    "\n",
    "# Dibujar cada serie de temperaturas y sus promedios\n",
    "for localidad, color in colors.items():\n",
    "    # Graficar la serie de cada localidad\n",
    "    plt.plot(combinado_df['Fecha'], combinado_df[f'Temperatura ({localidad})'], color=color, linestyle='-', marker='o', markersize=3, label=f'Temperatura ({localidad})')\n",
    "    \n",
    "    # Calcular el promedio de la temperatura de la localidad\n",
    "    promedio = combinado_df[f'Temperatura ({localidad})'].mean()\n",
    "    \n",
    "    # Dibujar una línea horizontal para el promedio de cada localidad\n",
    "    plt.axhline(y=promedio, color=color, linestyle='--', linewidth=2, label=f'Promedio {localidad}: {promedio:.2f} °C')\n",
    "\n",
    "# Añadir etiquetas y título\n",
    "plt.title('Serie Temporal de Temperaturas en Icod de Los Vinos, Adeje y Santa Cruz de Tenerife', fontsize=16)\n",
    "plt.xlabel('Fecha', fontsize=12)\n",
    "plt.ylabel('Temperatura (°C)', fontsize=12)\n",
    "\n",
    "# Rotar las etiquetas del eje X para mejor legibilidad\n",
    "plt.xticks(rotation=45)\n",
    "\n",
    "# Mostrar la cuadrícula\n",
    "plt.grid(True)\n",
    "\n",
    "# Mostrar la leyenda\n",
    "plt.legend()\n",
    "\n",
    "# Ajustar los márgenes\n",
    "plt.tight_layout()\n",
    "\n",
    "# Mostrar el gráfico\n",
    "plt.show()\n",
    "\n",
    "# Guardar el DataFrame combinado en un archivo CSV\n",
    "combinado_df.to_csv('data/m2_e2_datos_meteo_combinados.csv', index=False)\n",
    "print(\"DataFrame combinado guardado en 'temperaturas_combinadas_localidades.csv'.\")\n"
   ]
  }
 ],
 "metadata": {
  "jupytext": {
   "cell_metadata_filter": "-all",
   "main_language": "python",
   "notebook_metadata_filter": "-all"
  },
  "kernelspec": {
   "display_name": "ibbi",
   "language": "python",
   "name": "python3"
  },
  "language_info": {
   "codemirror_mode": {
    "name": "ipython",
    "version": 3
   },
   "file_extension": ".py",
   "mimetype": "text/x-python",
   "name": "python",
   "nbconvert_exporter": "python",
   "pygments_lexer": "ipython3",
   "version": "3.12.0"
  }
 },
 "nbformat": 4,
 "nbformat_minor": 5
}
