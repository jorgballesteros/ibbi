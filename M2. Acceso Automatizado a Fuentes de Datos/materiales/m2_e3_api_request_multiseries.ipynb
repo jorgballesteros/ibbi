{
 "cells": [
  {
   "cell_type": "markdown",
   "id": "963fccf4",
   "metadata": {},
   "source": [
    "# Introducción al uso de interfaces de datos (API) (III)\n",
    "\n",
    "## Ejercicio: Consulta multiples series a OpenMeteo\n",
    "\n",
    "En este ejercicio vamos a trabajar en realizar consultas a la API de OpenMeteo en Icod de Los Vinos para obtener 4 series diferentes: temperatura a 2 metros, humedad relativa a 2 metros, probabilidad de precipitación y velocidad del viento a 10 metros."
   ]
  },
  {
   "cell_type": "code",
   "execution_count": null,
   "id": "9d1a157d",
   "metadata": {},
   "outputs": [],
   "source": [
    "import requests\n",
    "import pandas as pd\n",
    "import matplotlib.pyplot as plt\n",
    "import json\n",
    "\n",
    "# Coordenadas de Icod de Los Vinos\n",
    "latitud = 28.367\n",
    "longitud = -16.721\n",
    "\n",
    "# URL de la API de OpenMeteo para obtener las 4 series de datos\n",
    "url = f\"https://api.open-meteo.com/v1/forecast?latitude={latitud}&longitude={longitud}&hourly=temperature_2m,relative_humidity_2m,precipitation_probability,wind_speed_10m\"\n",
    "\n",
    "# Realizar la solicitud GET\n",
    "response = requests.get(url)\n",
    "\n",
    "# Verificar si la solicitud fue exitosa\n",
    "if response.status_code == 200:\n",
    "    # Convertir la respuesta en JSON\n",
    "    data = response.json()\n",
    "\n",
    "    print(\"Consulta ejecutada correctamente.\")\n",
    "    # Guardamos datos en formato JSON\n",
    "    with open('data/m2_e3_datos_meteo_multiseries.json', 'w') as json_file:\n",
    "        json.dump(data, json_file, indent=4)\n",
    "else:\n",
    "    print(f\"Error en la solicitud: {response.status_code}\")\n"
   ]
  },
  {
   "cell_type": "markdown",
   "id": "01236e4e",
   "metadata": {},
   "source": [
    "### Leer datos en formato JSON\n",
    "Después de guardar la respuesta, leemos el archivo JSON usando json.load() para cargar los datos en una variable llamada data."
   ]
  },
  {
   "cell_type": "code",
   "execution_count": null,
   "id": "5aacf88d",
   "metadata": {},
   "outputs": [],
   "source": [
    "with open('data/m2_e3_datos_meteo_multiseries.json', 'r') as json_file:\n",
    "    data = json.load(json_file)\n",
    "\n",
    "data['hourly'].keys()"
   ]
  },
  {
   "cell_type": "markdown",
   "id": "3500095e",
   "metadata": {},
   "source": [
    "### Creación del dataframe\n",
    "Usamos los datos leídos del archivo JSON para crear un DataFrame con 4 columnas: Fecha, Temperatura (°C), Humedad Relativa (%), Probabilidad Precipitación (%) y Velocidad Viento (km/h)."
   ]
  },
  {
   "cell_type": "code",
   "execution_count": null,
   "id": "1db714eb",
   "metadata": {},
   "outputs": [],
   "source": [
    "# Crear un DataFrame con las 4 series de datos\n",
    "df = pd.DataFrame({\n",
    "    'Fecha': pd.to_datetime(data['hourly']['time']),  # Convertir las horas a datetime\n",
    "    'Temperatura (°C)': data['hourly']['temperature_2m'],\n",
    "    'Humedad Relativa (%)': data['hourly']['relative_humidity_2m'],\n",
    "    'Probabilidad Precipitación (%)': data['hourly']['precipitation_probability'],\n",
    "    'Velocidad Viento (km/h)': data['hourly']['wind_speed_10m']\n",
    "})\n",
    "\n",
    "# Mostrar las primeras filas del DataFrame\n",
    "print(df.head())"
   ]
  },
  {
   "cell_type": "code",
   "execution_count": null,
   "id": "159dc6f1",
   "metadata": {},
   "outputs": [],
   "source": [
    "# Guardar el DataFrame en un archivo CSV\n",
    "df.to_csv('data/m2_e3_datos_meteo_multiserie.csv', index=False)\n",
    "print(\"Datos guardados en 'm2_1_3_datos_meteo_multiserie.csv'.\")"
   ]
  },
  {
   "cell_type": "markdown",
   "id": "11e91c81",
   "metadata": {},
   "source": [
    "### Visualización combinada series temporales\n",
    "* Graficamos las 4 series en un solo gráfico, cada una con un color diferente para facilitar la comparación.\n",
    "* Las etiquetas del eje X se rotan 45 grados para mejorar la legibilidad.\n",
    "* Se añade una leyenda para identificar cada serie, junto con una cuadrícula para mejorar la visualización."
   ]
  },
  {
   "cell_type": "code",
   "execution_count": null,
   "id": "6c301092",
   "metadata": {},
   "outputs": [],
   "source": [
    "# Visualización de las 4 series en un gráfico\n",
    "plt.figure(figsize=(12, 8))\n",
    "\n",
    "# Graficar las 4 series\n",
    "plt.plot(df['Fecha'], df['Temperatura (°C)'], color='blue', label='Temperatura (°C)')\n",
    "plt.plot(df['Fecha'], df['Humedad Relativa (%)'], color='green', label='Humedad Relativa (%)')\n",
    "plt.plot(df['Fecha'], df['Probabilidad Precipitación (%)'], color='purple', label='Probabilidad Precipitación (%)')\n",
    "plt.plot(df['Fecha'], df['Velocidad Viento (km/h)'], color='orange', label='Velocidad Viento (km/h)')\n",
    "\n",
    "# Añadir etiquetas y título\n",
    "plt.title('Series Temporales de Variables Meteorológicas en Icod de Los Vinos', fontsize=16)\n",
    "plt.xlabel('Fecha', fontsize=12)\n",
    "plt.ylabel('Valores', fontsize=12)\n",
    "\n",
    "# Rotar las etiquetas del eje X\n",
    "plt.xticks(rotation=45)\n",
    "\n",
    "# Mostrar la leyenda\n",
    "plt.legend()\n",
    "\n",
    "# Mostrar la cuadrícula\n",
    "plt.grid(True)\n",
    "\n",
    "# Ajustar los márgenes\n",
    "plt.tight_layout()\n",
    "\n",
    "# Mostrar el gráfico\n",
    "plt.show()"
   ]
  },
  {
   "cell_type": "markdown",
   "id": "b29649e6",
   "metadata": {},
   "source": [
    "Podemos ver las 4 series en simultáneo en una misma gráfica. Sin emabrgo, hay algo que no cuadra en esta gráfica ???"
   ]
  },
  {
   "cell_type": "markdown",
   "id": "94ebf280",
   "metadata": {},
   "source": [
    "#### Gráfico con múltiples índices\n",
    "Para visualizar múltiples series con unidades diferentes en un mismo gráfico, podemos utilizar ejes Y independientes para cada serie. En Matplotlib, esto se logra utilizando la función twinx(), que crea un segundo eje Y que comparte el mismo eje X."
   ]
  },
  {
   "cell_type": "code",
   "execution_count": null,
   "id": "50e6d7bd",
   "metadata": {},
   "outputs": [],
   "source": [
    "# Crear el gráfico principal con el primer eje Y (temperatura)\n",
    "fig, ax1 = plt.subplots(figsize=(12, 6))\n",
    "\n",
    "# Graficar la temperatura en el eje Y1\n",
    "ax1.set_xlabel('Fecha')\n",
    "ax1.set_ylabel('Temperatura (°C)', color='blue')\n",
    "ax1.plot(df['Fecha'], df['Temperatura (°C)'], color='blue', label='Temperatura (°C)')\n",
    "ax1.tick_params(axis='y', labelcolor='blue')\n",
    "ax1.grid(True)\n",
    "\n",
    "# Crear un segundo eje Y que comparta el eje X (humedad relativa)\n",
    "ax2 = ax1.twinx()  \n",
    "ax2.set_ylabel('Humedad Relativa (%)', color='green')\n",
    "ax2.plot(df['Fecha'], df['Humedad Relativa (%)'], color='green', label='Humedad Relativa (%)')\n",
    "ax2.tick_params(axis='y', labelcolor='green')\n",
    "\n",
    "# Crear un tercer eje Y para la probabilidad de precipitación\n",
    "ax3 = ax1.twinx()  \n",
    "ax3.spines['right'].set_position(('outward', 60))  # Mover el tercer eje un poco a la derecha\n",
    "ax3.set_ylabel('Probabilidad Precipitación (%)', color='purple')\n",
    "ax3.plot(df['Fecha'], df['Probabilidad Precipitación (%)'], color='purple', label='Probabilidad Precipitación (%)')\n",
    "ax3.tick_params(axis='y', labelcolor='purple')\n",
    "\n",
    "# Crear un cuarto eje Y para la velocidad del viento\n",
    "ax4 = ax1.twinx()  \n",
    "ax4.spines['right'].set_position(('outward', 120))  # Mover el cuarto eje más a la derecha\n",
    "ax4.set_ylabel('Velocidad Viento (km/h)', color='orange')\n",
    "ax4.plot(df['Fecha'], df['Velocidad Viento (km/h)'], color='orange', label='Velocidad Viento (km/h)')\n",
    "ax4.tick_params(axis='y', labelcolor='orange')\n",
    "\n",
    "# Rotar las etiquetas del eje X para mayor legibilidad\n",
    "plt.xticks(rotation=45)\n",
    "\n",
    "# Añadir el título del gráfico\n",
    "plt.title('Variables Meteorológicas en Icod de Los Vinos', fontsize=16)\n",
    "\n",
    "# Ajustar los márgenes\n",
    "fig.tight_layout()\n",
    "\n",
    "# Mostrar el gráfico\n",
    "plt.show()\n"
   ]
  },
  {
   "cell_type": "markdown",
   "id": "c3cc9ebb",
   "metadata": {},
   "source": [
    "### Multiples gráficos\n",
    "Para resolver el problema de visualización y mostrar cada serie meteorológica en su propio gráfico dentro de una sola figura, podemos utilizar **subplots** en Matplotlib. Esto permitirá crear un gráfico separado para cada variable en un diseño de múltiple gráfico dentro de una sola figura."
   ]
  },
  {
   "cell_type": "code",
   "execution_count": null,
   "id": "4c7ae557",
   "metadata": {},
   "outputs": [],
   "source": [
    "# Crear un multiplot con 4 gráficos en una sola figura\n",
    "fig, axs = plt.subplots(4, 1, figsize=(10, 12), sharex=True)\n",
    "\n",
    "# Gráfico de Temperatura\n",
    "axs[0].plot(df['Fecha'], df['Temperatura (°C)'], color='blue')\n",
    "axs[0].set_title('Temperatura (°C)')\n",
    "axs[0].set_ylabel('°C')\n",
    "axs[0].grid(True)\n",
    "\n",
    "# Gráfico de Humedad Relativa\n",
    "axs[1].plot(df['Fecha'], df['Humedad Relativa (%)'], color='green')\n",
    "axs[1].set_title('Humedad Relativa (%)')\n",
    "axs[1].set_ylabel('%')\n",
    "axs[1].grid(True)\n",
    "\n",
    "# Gráfico de Probabilidad de Precipitación\n",
    "axs[2].plot(df['Fecha'], df['Probabilidad Precipitación (%)'], color='purple')\n",
    "axs[2].set_title('Probabilidad de Precipitación (%)')\n",
    "axs[2].set_ylabel('%')\n",
    "axs[2].grid(True)\n",
    "\n",
    "# Gráfico de Velocidad del Viento\n",
    "axs[3].plot(df['Fecha'], df['Velocidad Viento (km/h)'], color='orange')\n",
    "axs[3].set_title('Velocidad del Viento (km/h)')\n",
    "axs[3].set_ylabel('km/h')\n",
    "axs[3].set_xlabel('Fecha')\n",
    "axs[3].grid(True)\n",
    "\n",
    "# Ajustar los márgenes y mostrar la figura\n",
    "plt.xticks(rotation=45)\n",
    "plt.tight_layout()\n",
    "plt.show()"
   ]
  },
  {
   "cell_type": "markdown",
   "id": "40b2a8ff",
   "metadata": {},
   "source": [
    "### Histograma de múltiples series temporales\n",
    "Creamos un multiplot de histogramas de las cuatro series (temperatura, humedad relativa, probabilidad de precipitación y velocidad del viento) en una sola figura, utilizando subplots en Matplotlib:"
   ]
  },
  {
   "cell_type": "code",
   "execution_count": null,
   "id": "f262da88",
   "metadata": {},
   "outputs": [],
   "source": [
    "# Crear un multiplot de histogramas\n",
    "fig, axs = plt.subplots(2, 2, figsize=(10, 8))\n",
    "\n",
    "# Histograma de Temperatura\n",
    "axs[0, 0].hist(df['Temperatura (°C)'], bins=20, color='blue', edgecolor='black')\n",
    "axs[0, 0].set_title('Temperatura (°C)')\n",
    "axs[0, 0].set_xlabel('°C')\n",
    "axs[0, 0].set_ylabel('Frecuencia')\n",
    "\n",
    "# Histograma de Humedad Relativa\n",
    "axs[0, 1].hist(df['Humedad Relativa (%)'], bins=20, color='green', edgecolor='black')\n",
    "axs[0, 1].set_title('Humedad Relativa (%)')\n",
    "axs[0, 1].set_xlabel('%')\n",
    "axs[0, 1].set_ylabel('Frecuencia')\n",
    "\n",
    "# Histograma de Probabilidad de Precipitación\n",
    "axs[1, 0].hist(df['Probabilidad Precipitación (%)'], bins=20, color='purple', edgecolor='black')\n",
    "axs[1, 0].set_title('Probabilidad de Precipitación (%)')\n",
    "axs[1, 0].set_xlabel('%')\n",
    "axs[1, 0].set_ylabel('Frecuencia')\n",
    "\n",
    "# Histograma de Velocidad del Viento\n",
    "axs[1, 1].hist(df['Velocidad Viento (km/h)'], bins=20, color='orange', edgecolor='black')\n",
    "axs[1, 1].set_title('Velocidad del Viento (km/h)')\n",
    "axs[1, 1].set_xlabel('km/h')\n",
    "axs[1, 1].set_ylabel('Frecuencia')\n",
    "\n",
    "# Ajustar los márgenes entre gráficos\n",
    "plt.tight_layout()\n",
    "\n",
    "# Mostrar el gráfico\n",
    "plt.show()"
   ]
  }
 ],
 "metadata": {
  "jupytext": {
   "cell_metadata_filter": "-all",
   "main_language": "python",
   "notebook_metadata_filter": "-all"
  },
  "kernelspec": {
   "display_name": "ibbi",
   "language": "python",
   "name": "python3"
  },
  "language_info": {
   "codemirror_mode": {
    "name": "ipython",
    "version": 3
   },
   "file_extension": ".py",
   "mimetype": "text/x-python",
   "name": "python",
   "nbconvert_exporter": "python",
   "pygments_lexer": "ipython3",
   "version": "3.12.0"
  }
 },
 "nbformat": 4,
 "nbformat_minor": 5
}
