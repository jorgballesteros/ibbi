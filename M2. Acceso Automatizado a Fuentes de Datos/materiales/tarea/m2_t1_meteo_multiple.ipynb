{
 "cells": [
  {
   "cell_type": "markdown",
   "id": "8c0bca83",
   "metadata": {},
   "source": [
    "#  Tarea para Casa: Análisis Comparativo de Datos Meteorológicos en Múltiples Ubicaciones\n",
    "\n",
    "En este ejercicio, practicarás cómo acceder a datos de predicción meteorológica para **múltiples ubicaciones** utilizando una **API con credenciales** y realizarás un análisis comparativo entre las ciudades seleccionadas. Además, visualizarás las **series temporales** y generarás **gráficos comparativos** para entender mejor cómo las condiciones meteorológicas varían entre ubicaciones.\n",
    "\n",
    "---\n",
    "\n",
    "## Objetivos de la tarea:\n",
    "\n",
    "1. **Acceder a la API** para obtener datos meteorológicos (temperatura, radiación solar y humedad) para **tres ubicaciones**.\n",
    "2. **Visualizar las series temporales** de las variables meteorológicas para cada ciudad.\n",
    "3. Comparar las mismas series temporales (por ejemplo, temperatura) entre las **tres ciudades** en un solo gráfico.\n",
    "4. Generar un **histograma combinado** para analizar la distribución de la **temperatura** en cada ciudad.\n",
    "\n",
    "---\n",
    "\n",
    "## Solución del ejercicio\n",
    "\n",
    "### 1. Acceder a la API y consultar datos\n",
    "Aquí tienes un **código inicial** que te ayudará a obtener los datos para **tres ciudades** y a realizar las visualizaciones solicitadas."
   ]
  },
  {
   "cell_type": "code",
   "execution_count": null,
   "id": "e542aa16",
   "metadata": {
    "lines_to_next_cell": 0
   },
   "outputs": [],
   "source": [
    "import requests\n",
    "import pandas as pd\n",
    "import matplotlib.pyplot as plt\n",
    "import seaborn as sns\n",
    "\n",
    "# Parámetros para la consulta a la API\n",
    "API_KEY = 'TU_CLAVE_API'  # Reemplaza con tu API Key\n",
    "CIUDADES = ['Santa Cruz de Tenerife,ES', 'Las Palmas de Gran Canaria,ES', 'Madrid,ES']\n",
    "URL_BASE = \"http://api.openweathermap.org/data/2.5/forecast\""
   ]
  },
  {
   "cell_type": "markdown",
   "id": "7e22a708",
   "metadata": {},
   "source": [
    "### Función para obtener datos de la API para una ciudad"
   ]
  },
  {
   "cell_type": "code",
   "execution_count": null,
   "id": "aae54c73",
   "metadata": {
    "lines_to_next_cell": 0
   },
   "outputs": [],
   "source": []
  },
  {
   "cell_type": "markdown",
   "id": "ce0e2ea0",
   "metadata": {},
   "source": [
    "### Combinar datos para todas las ciudades y mostrar `head()`"
   ]
  },
  {
   "cell_type": "code",
   "execution_count": null,
   "id": "eec05937",
   "metadata": {},
   "outputs": [],
   "source": []
  },
  {
   "cell_type": "markdown",
   "id": "302ba91d",
   "metadata": {},
   "source": [
    "---\n",
    "\n",
    "### 2. Visualización de las Series Temporales por Ciudad\n",
    "\n",
    "1. **Visualiza las series temporales** de **temperatura, humedad y radiación solar** para cada ciudad de forma independiente."
   ]
  },
  {
   "cell_type": "code",
   "execution_count": null,
   "id": "b0386b98",
   "metadata": {},
   "outputs": [],
   "source": []
  },
  {
   "cell_type": "markdown",
   "id": "8c378603",
   "metadata": {},
   "source": [
    "---\n",
    "\n",
    "2. **Visualiza las series temporales para cada variable** (Temperatura, Humedad, Radiación Solar) **en una sola ciudad**."
   ]
  },
  {
   "cell_type": "code",
   "execution_count": null,
   "id": "bc683844",
   "metadata": {},
   "outputs": [],
   "source": []
  },
  {
   "cell_type": "markdown",
   "id": "5af0937f",
   "metadata": {},
   "source": [
    "---\n",
    "\n",
    "### 3. Comparación de Temperatura entre Ciudades\n",
    "\n",
    "Genera un gráfico de **barras o líneas** para comparar la temperatura media de las tres ciudades."
   ]
  },
  {
   "cell_type": "code",
   "execution_count": null,
   "id": "a1b3244d",
   "metadata": {},
   "outputs": [],
   "source": []
  },
  {
   "cell_type": "markdown",
   "id": "17886138",
   "metadata": {},
   "source": [
    "---\n",
    "\n",
    "### 4. Histograma Combinado de la Temperatura en Cada Ciudad\n",
    "\n",
    "Genera un **histograma combinado** para analizar la **distribución de la temperatura** en cada ciudad."
   ]
  },
  {
   "cell_type": "code",
   "execution_count": null,
   "id": "ce06b6d5",
   "metadata": {},
   "outputs": [],
   "source": []
  }
 ],
 "metadata": {
  "jupytext": {
   "cell_metadata_filter": "-all",
   "main_language": "python",
   "notebook_metadata_filter": "-all"
  },
  "language_info": {
   "name": "python"
  }
 },
 "nbformat": 4,
 "nbformat_minor": 5
}
