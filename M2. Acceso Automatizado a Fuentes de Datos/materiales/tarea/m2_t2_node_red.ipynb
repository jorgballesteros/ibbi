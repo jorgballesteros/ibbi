{
 "cells": [
  {
   "cell_type": "markdown",
   "id": "b3307747",
   "metadata": {
    "lines_to_next_cell": 0
   },
   "source": [
    "# Tarea para casa. Introdución a Node-RED\n",
    "\n",
    "## ¿Que es Node-RED?\n",
    "Node-RED es una herramienta de desarrollo basada en flujo, ideal para conectar dispositivos, servicios y API de forma visual. Creado por IBM, permite a los usuarios diseñar flujos que integran datos y automatizan procesos mediante una interfaz intuitiva. Esto lo hace perfecto para proyectos de Internet de las Cosas (IoT), automatización, y aplicaciones en tiempo real.\n",
    "\n",
    "Node-RED está construido sobre Node.js, por lo que es necesario tenerlo instalado antes de usar Node-RED. A continuación, te explico cómo instalar y configurar Node-RED en tu sistema.\n",
    "\n",
    "---\n",
    "\n",
    "## Requisitos Previos\n",
    "Antes de instalar Node-RED, necesitas:\n",
    "\n",
    "- **Node.js** (versión 14.x o superior).\n",
    "- **npm** (Node Package Manager, que viene con Node.js).\n",
    "  \n",
    "Verifica si ya tienes Node.js y npm instalados ejecutando en la terminal:"
   ]
  },
  {
   "cell_type": "code",
   "execution_count": null,
   "id": "f00c291f",
   "metadata": {},
   "outputs": [],
   "source": [
    "node -v\n",
    "npm -v"
   ]
  },
  {
   "cell_type": "markdown",
   "id": "11021c70",
   "metadata": {},
   "source": [
    "Si no están instalados, sigue las instrucciones para tu sistema operativo.\n",
    "\n",
    "---\n",
    "\n",
    "## 1. Instalación de Node.js y npm\n",
    "\n",
    "### **Windows**\n",
    "1. Descarga el instalador de Node.js desde [nodejs.org](https://nodejs.org/).\n",
    "2. Ejecuta el archivo `.msi` y sigue los pasos del asistente.\n",
    "3. Una vez completada la instalación, abre la **PowerShell** y verifica la instalación:\n",
    "   ```bash\n",
    "   node -v\n",
    "   npm -v\n",
    "   ```\n",
    "\n",
    "### **macOS**\n",
    "1. Abre una terminal y ejecuta:\n",
    "   ```bash\n",
    "   brew install node\n",
    "   ```\n",
    "   (Requiere tener [Homebrew](https://brew.sh/) instalado).\n",
    "2. Verifica que Node.js y npm estén instalados:\n",
    "   ```bash\n",
    "   node -v\n",
    "   npm -v\n",
    "   ```\n",
    "\n",
    "### **Linux (Debian/Ubuntu)**\n",
    "1. Actualiza tu sistema e instala Node.js:\n",
    "   ```bash\n",
    "   sudo apt update\n",
    "   sudo apt install -y nodejs npm\n",
    "   ```\n",
    "2. Verifica la instalación:\n",
    "   ```bash\n",
    "   node -v\n",
    "   npm -v\n",
    "   ```\n",
    "\n",
    "---\n",
    "\n",
    "## 2. Instalación de Node-RED\n",
    "\n",
    "Una vez que Node.js y npm están instalados, sigue estos pasos para instalar Node-RED:"
   ]
  },
  {
   "cell_type": "code",
   "execution_count": null,
   "id": "70cf29d0",
   "metadata": {},
   "outputs": [],
   "source": [
    "sudo npm install -g --unsafe-perm node-red"
   ]
  },
  {
   "cell_type": "markdown",
   "id": "3243e814",
   "metadata": {},
   "source": [
    "### **Verificar la instalación**\n",
    "Para asegurarte de que Node-RED se ha instalado correctamente, ejecuta:"
   ]
  },
  {
   "cell_type": "code",
   "execution_count": null,
   "id": "a01316ff",
   "metadata": {},
   "outputs": [],
   "source": [
    "node-red"
   ]
  },
  {
   "cell_type": "markdown",
   "id": "1094055d",
   "metadata": {},
   "source": [
    "Esto iniciará Node-RED en tu terminal y deberías ver un mensaje indicando que está funcionando en `http://127.0.0.1:1880`.\n",
    "\n",
    "---\n",
    "\n",
    "## 3. Ejecutar Node-RED\n",
    "1. Abre tu navegador y ve a la dirección:\n",
    "   ```\n",
    "   http://localhost:1880\n",
    "   ```\n",
    "2. Verás la interfaz de Node-RED. Aquí puedes empezar a crear flujos.\n",
    "\n",
    "---\n",
    "\n",
    "## 4. Ejemplo: Crear un Flujo Simple\n",
    "\n",
    "### **Crear un Flujo de \"Hola Mundo\"**\n",
    "1. Arrastra un nodo **inject** y un nodo **debug** al área de trabajo.\n",
    "2. Conéctalos arrastrando una línea entre ellos.\n",
    "3. Haz doble clic en el nodo `inject`, establece el **payload** como `string` y escribe:\n",
    "   ```\n",
    "   ¡Hola, mundo!\n",
    "   ```\n",
    "4. Haz clic en **Deploy**.\n",
    "5. Haz clic en el botón junto al nodo `inject` y observa el resultado en la pestaña **debug** (en la parte derecha).\n",
    "\n",
    "---\n",
    "\n",
    "## Recursos Adicionales (Video Tutoriales)\n",
    "1. [Introducción a Node-RED (YouTube)](https://www.youtube.com/watch?v=4J1I4eE7Y6Y) - Tutorial básico para principiantes.\n",
    "2. [Automatización con Node-RED (YouTube)](https://www.youtube.com/watch?v=6a61YYwot8w) - Cómo crear flujos automatizados."
   ]
  }
 ],
 "metadata": {
  "jupytext": {
   "cell_metadata_filter": "-all",
   "main_language": "bash",
   "notebook_metadata_filter": "-all"
  },
  "language_info": {
   "name": "python"
  }
 },
 "nbformat": 4,
 "nbformat_minor": 5
}
