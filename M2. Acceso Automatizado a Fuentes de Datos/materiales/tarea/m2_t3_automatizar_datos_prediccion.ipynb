{
 "cells": [
  {
   "cell_type": "markdown",
   "id": "1b59cdde",
   "metadata": {},
   "source": [
    "### **Tarea 3: Programar un Script para Recopilar Datos de Predicción de Open-Meteo**\n",
    "\n",
    "---\n",
    "\n",
    "### **Objetivo**\n",
    "1. Crear un script en Python que obtenga datos de predicción del tiempo (forecast) para una localización específica desde la API de **Open-Meteo**.\n",
    "2. Guardar los datos en un archivo CSV.\n",
    "3. Programar el script para que se ejecute automáticamente todos los días a las **6:30 AM** utilizando `crontab`.\n",
    "\n",
    "---\n",
    "\n",
    "### **Paso 1: Desarrollo del Script**\n",
    "\n",
    "#### **1. Crear el archivo Python**\n",
    "Guarda el siguiente código en un archivo llamado `recopilar_prediccion_om.py`."
   ]
  },
  {
   "cell_type": "code",
   "execution_count": null,
   "id": "8182eefa",
   "metadata": {},
   "outputs": [],
   "source": [
    "%%python\n",
    "import requests\n",
    "import pandas as pd\n",
    "from datetime import datetime\n",
    "\n",
    "# Configuración\n",
    "LAT, LON = 28.4161, -16.5446  # Coordenadas de Puerto de la Cruz\n",
    "URL = \"https://api.open-meteo.com/v1/forecast\"\n",
    "OUTPUT_FILE = \"datos_prediccion_om.csv\"\n",
    "\n",
    "# Obtener datos de predicción\n",
    "def recopilar_datos(lat, lon):\n",
    "    try:\n",
    "        # Construir request\n",
    "\n",
    "        # Comprobar status\n",
    "        \n",
    "        return response.json()\n",
    "    except requests.RequestException as e:\n",
    "        print(f\"Error al obtener los datos: {e}\")\n",
    "        return None\n",
    "\n",
    "# Guardar datos en un archivo CSV\n",
    "def guardar_datos(datos):\n",
    "    try:\n",
    "        # Procesar los datos\n",
    "        \n",
    "        # Guardar en CSV\n",
    "        print(f\"Datos guardados en {OUTPUT_FILE}\")\n",
    "    except KeyError as e:\n",
    "        print(f\"Error al procesar los datos: {e}\")\n",
    "\n",
    "# Ejecutar las funciones\n",
    "if __name__ == \"__main__\":\n",
    "    datos = recopilar_datos(LAT, LON)\n",
    "    if datos:\n",
    "        guardar_datos(datos)"
   ]
  },
  {
   "cell_type": "markdown",
   "id": "51c63cb2",
   "metadata": {
    "lines_to_next_cell": 0
   },
   "source": [
    "---\n",
    "\n",
    "### **Paso 2: Probar el Script**\n",
    "1. Ejecuta el script manualmente para verificar que funciona correctamente:\n",
    "   ```bash\n",
    "   python3 recopilar_prediccion_om.py\n",
    "   ```\n",
    "2. Verifica que el archivo `datos_prediccion_om.csv` se haya creado con datos similares a:\n",
    "\n",
    "```csv\n",
    "time,temperature_2m_max,temperature_2m_min,precipitation_sum\n",
    "2024-11-25,22.5,15.2,0.0\n",
    "2024-11-26,23.0,16.1,0.1\n",
    "2024-11-27,24.2,17.3,0.2\n",
    "```\n",
    "\n",
    "---\n",
    "\n",
    "### **Paso 3: Programar la Ejecución Automática con `crontab`**\n",
    "\n",
    "#### **1. Abrir el archivo crontab**\n",
    "En la terminal, abre el editor de `crontab`:"
   ]
  },
  {
   "cell_type": "code",
   "execution_count": null,
   "id": "3f9d0f61",
   "metadata": {},
   "outputs": [],
   "source": [
    "crontab -e"
   ]
  },
  {
   "cell_type": "markdown",
   "id": "d1a62f08",
   "metadata": {
    "lines_to_next_cell": 0
   },
   "source": [
    "#### **2. Añadir la tarea**\n",
    "Añade la siguiente línea para programar el script a las 6:30 AM diariamente:"
   ]
  },
  {
   "cell_type": "code",
   "execution_count": null,
   "id": "3eabbb71",
   "metadata": {},
   "outputs": [],
   "source": [
    "30 6 * * * /usr/bin/python3 /ruta/completa/recopilar_prediccion_om.py >> /ruta/completa/recopilar_prediccion_om.log 2>&1"
   ]
  },
  {
   "cell_type": "markdown",
   "id": "284de0cb",
   "metadata": {},
   "source": [
    "- **`30 6 * * *`**: Programa la tarea a las 6:30 AM todos los días.\n",
    "- **`/usr/bin/python3`**: Ruta al ejecutable de Python (puedes verificarla con `which python3`).\n",
    "- **`/ruta/completa/recopilar_prediccion_om.py`**: Ruta completa al script Python.\n",
    "- **`>> /ruta/completa/recopilar_prediccion_om.log 2>&1`**: Guarda la salida (y errores) en un archivo de log para depuración.\n",
    "\n",
    "#### **3. Guardar y salir**\n",
    "Guarda y cierra el archivo. La tarea se programará automáticamente.\n",
    "\n",
    "---\n",
    "\n",
    "### **Paso 4: Verificar la Tarea Programada**\n",
    "1. Listar las tareas programadas:\n",
    "   ```bash\n",
    "   crontab -l\n",
    "   ```\n",
    "   Deberías ver la tarea registrada.\n",
    "\n",
    "2. Verifica los logs (`recopilar_prediccion_om.log`) después de la hora programada para confirmar que el script se ejecutó correctamente.\n",
    "\n",
    "---\n",
    "\n",
    "### **Notas Finales**\n",
    "- Si necesitas ajustar la ubicación, cambia las coordenadas (`LAT, LON`) en el script.\n",
    "- Revisa el archivo de log regularmente para asegurarte de que no haya errores.\n",
    "- Puedes extender la funcionalidad para enviar notificaciones o realizar análisis adicionales sobre los datos."
   ]
  }
 ],
 "metadata": {
  "jupytext": {
   "cell_metadata_filter": "-all",
   "main_language": "bash",
   "notebook_metadata_filter": "-all"
  },
  "language_info": {
   "name": "python"
  }
 },
 "nbformat": 4,
 "nbformat_minor": 5
}
