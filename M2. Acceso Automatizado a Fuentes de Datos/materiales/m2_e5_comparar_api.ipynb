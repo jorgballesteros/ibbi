{
 "cells": [
  {
   "cell_type": "markdown",
   "id": "e519ec9a",
   "metadata": {},
   "source": [
    "# Comparativa de Datos Históricos entre APIs\n",
    "\n",
    "---\n",
    "\n",
    "## **Contexto**:\n",
    "Obtendremos **datos históricos** de dos servicios de API: **Open-Meteo** y **OpenWeatherMap**, para el **Puerto de La Cruz, España**. Los datos incluirán las siguientes variables: **temperatura**, **humedad**, **velocidad del viento**, y **precipitaciones**. Se analizarán las diferencias entre las mediciones proporcionadas por ambas fuentes para el mismo período (últimos 15 días) y se realizarán comparaciones gráficas.\n",
    "\n",
    "---\n",
    "\n",
    "## **Objetivos**:\n",
    "1. **Consultar y procesar datos históricos** de Open-Meteo y OpenWeatherMap.\n",
    "2. **Encapsular código en funciones** para su reutilización\n",
    "3. **Crear series temporales** con las variables seleccionadas.\n",
    "4. Realizar una **comparación gráfica** de las mediciones entre ambas fuentes.\n",
    "5. **Analizar las diferencias** mediante estadísticas descriptivas y visualizaciones.\n",
    "\n",
    "---\n",
    "\n",
    "## **Requisitos Previos**:\n",
    "- **API Key** de OpenWeatherMap.\n",
    "- **Open-Meteo** no requiere autenticación.\n",
    "- Instalar las librerías necesarias:\n"
   ]
  },
  {
   "cell_type": "code",
   "execution_count": null,
   "id": "c7473dd6",
   "metadata": {},
   "outputs": [],
   "source": [
    "\n",
    "! pip install requests pandas matplotlib seaborn\n"
   ]
  },
  {
   "cell_type": "markdown",
   "id": "27999444",
   "metadata": {},
   "source": [
    "\n",
    "---\n",
    "\n",
    "## Solución del ejercicio\n",
    "\n",
    "### Consultar datos históricos desde las APIs"
   ]
  },
  {
   "cell_type": "code",
   "execution_count": null,
   "id": "aa8beec6",
   "metadata": {},
   "outputs": [],
   "source": [
    "import requests\n",
    "import pandas as pd\n",
    "import matplotlib.pyplot as plt\n",
    "import seaborn as sns\n",
    "from datetime import datetime, timedelta\n",
    "\n",
    "# Coordenadas de Puerto de La Cruz\n",
    "LAT, LON = 28.4161, -16.5446\n",
    "DAYS = 15  # Últimos 15 días\n",
    "END_DATE = datetime.now().date()- timedelta(days = 3)\n",
    "START_DATE = END_DATE - timedelta(days=DAYS)\n",
    "\n",
    "# Open-Meteo API Configuración\n",
    "OM_URL = \"https://api.open-meteo.com/\"\n",
    "\n",
    "# AEMET API Configuración\n",
    "AEMET_API_KEY = \"TU_CLAVE_API\" # Reemplaza con tu API Key\n",
    "AEMET_URL = \"https://opendata.aemet.es/opendata/\""
   ]
  },
  {
   "cell_type": "markdown",
   "id": "0d1314f2",
   "metadata": {},
   "source": [
    "### Encapsular código en funciones"
   ]
  },
  {
   "cell_type": "code",
   "execution_count": null,
   "id": "cd1985ac",
   "metadata": {},
   "outputs": [],
   "source": [
    "# Función para obtener datos de Open-Meteo\n",
    "def obtener_datos_historicos_open_meteo(start_date, end_date, lat, lon, diarios=False):\n",
    "    url =  \"https://archive-api.open-meteo.com/v1/archive\"\n",
    "    print(url)\n",
    "    response = requests.get(\n",
    "        url=url,\n",
    "        params={\n",
    "            \"latitude\": lat,\n",
    "            \"longitude\": lon,\n",
    "            \"start_date\": start_date.strftime(\"%Y-%m-%d\"),\n",
    "            \"end_date\": end_date.strftime(\"%Y-%m-%d\"),\n",
    "            \"hourly\": \"temperature_2m,relative_humidity_2m,precipitation,wind_speed_10m\"\n",
    "        }\n",
    "    )\n",
    "    # print(response.request.url)\n",
    "    if response.status_code == 200:\n",
    "        return response.json()\n",
    "    else:\n",
    "        print(\"Error al obtener datos de Open-Meteo\")\n",
    "        return None"
   ]
  },
  {
   "cell_type": "code",
   "execution_count": null,
   "id": "9ec2935c",
   "metadata": {},
   "outputs": [],
   "source": [
    "datos_om = obtener_datos_historicos_open_meteo(START_DATE, END_DATE, LAT, LON)\n",
    "datos_om"
   ]
  },
  {
   "cell_type": "code",
   "execution_count": null,
   "id": "ef7ab7b3",
   "metadata": {},
   "outputs": [],
   "source": [
    "# Listar estaciones AEMET\n",
    "def listar_estaciones_aemet(key):\n",
    "    headers = {\"api_key\": key}\n",
    "    url = AEMET_URL+\"api/valores/climatologicos/inventarioestaciones/todasestaciones\"\n",
    "    print(url)\n",
    "    response = requests.get(url, headers=headers)\n",
    "    if response.status_code == 200:\n",
    "        d = response.json()\n",
    "        if 'datos' in d:\n",
    "            data = requests.get(d['datos'])\n",
    "            if data.status_code == 200:\n",
    "                return data.json()\n",
    "            else:\n",
    "                print(\"Error en la respuesta a consulta a AEMET:\", data.status_code)        \n",
    "        return \n",
    "    else:\n",
    "        print(\"Error en la consulta a AEMET:\", response.status_code)\n",
    "        return None\n",
    "    "
   ]
  },
  {
   "cell_type": "code",
   "execution_count": null,
   "id": "78daf1b2",
   "metadata": {},
   "outputs": [],
   "source": [
    "from urllib.parse import quote\n",
    "\n",
    "# Obtener datos de AEMET APi\n",
    "def obtener_datos_historicos_aemet(key, start_date, end_date, id):\n",
    "    variables = ['']\n",
    "    headers = {\"api_key\": key}\n",
    "    # Formatear fechas\n",
    "    fecha_ini = start_date.strftime('%Y-%m-%dT%H:%M:%SUTC')\n",
    "    fecha_fin = end_date.strftime('%Y-%m-%dT%H:%M:%SUTC')\n",
    "    url = AEMET_URL+\"/api/valores/climatologicos/diarios/datos/fechaini/{}/fechafin/{}/estacion/{}\".format(fecha_ini, fecha_fin, id)\n",
    "    print(url)\n",
    "\n",
    "    response = requests.get(url, headers=headers)\n",
    "    if response.status_code == 200:\n",
    "        if not 'datos' in response.json():\n",
    "            print(\"Error al descarga datos AEMET: Consulta vacía\")\n",
    "            return None\n",
    "        data_url = response.json()[\"datos\"]\n",
    "        data_response = requests.get(data_url)\n",
    "        if data_response.status_code == 200:\n",
    "            data = data_response.json()\n",
    "            return data\n",
    "        else:\n",
    "            print(\"Error al descargar datos AEMET:\", data_response.status_code)\n",
    "            return None\n",
    "    else:\n",
    "        print(\"Error en la consulta a AEMET:\", response.status_code)\n",
    "        return None"
   ]
  },
  {
   "cell_type": "code",
   "execution_count": null,
   "id": "c13cf79e",
   "metadata": {},
   "outputs": [],
   "source": [
    "# Listar estaciones AEMET\n",
    "estaciones_aemet = listar_estaciones_aemet(AEMET_API_KEY)\n",
    "print(len(estaciones_aemet))\n",
    "estaciones_aemet[0]"
   ]
  },
  {
   "cell_type": "code",
   "execution_count": null,
   "id": "0b3d8627",
   "metadata": {},
   "outputs": [],
   "source": [
    "# Filtrar estaciones de S/C de Tenerife\n",
    "estaciones_tf = [item for item in estaciones_aemet if \"tenerife\" in item[\"provincia\"].lower()]\n",
    "print(len(estaciones_tf))\n",
    "estaciones_tf[0]"
   ]
  },
  {
   "cell_type": "code",
   "execution_count": null,
   "id": "a052091b",
   "metadata": {},
   "outputs": [],
   "source": [
    "# Filtrar aquellas cuyo nombre tenga la el texto 'cruz'\n",
    "estaciones_pc = [item for item in estaciones_tf if \"cruz\" in item[\"nombre\"].lower()]\n",
    "estaciones_pc"
   ]
  },
  {
   "cell_type": "code",
   "execution_count": null,
   "id": "53b30e0a",
   "metadata": {},
   "outputs": [],
   "source": [
    "# Obtener datos de aemet para la estación seleccionada\n",
    "datos_aemet = obtener_datos_historicos_aemet(AEMET_API_KEY, START_DATE, END_DATE, 'C459Z')\n",
    "datos_aemet[0]"
   ]
  },
  {
   "cell_type": "code",
   "execution_count": null,
   "id": "1aed382e",
   "metadata": {},
   "outputs": [],
   "source": [
    "# Obtener los datos openmeteo\n",
    "datos_om = obtener_datos_historicos_open_meteo(START_DATE, END_DATE, LAT, LON)\n",
    "datos_om"
   ]
  },
  {
   "cell_type": "markdown",
   "id": "1baf9654",
   "metadata": {},
   "source": [
    "---\n",
    "\n",
    "#### **Paso 2: Procesar los datos y convertirlos en DataFrames**"
   ]
  },
  {
   "cell_type": "code",
   "execution_count": null,
   "id": "14a3d9b9",
   "metadata": {},
   "outputs": [],
   "source": [
    "# Procesar datos de Open-Meteo\n",
    "agregar_diarios=True\n",
    "# Convertir el JSON a DataFrame\n",
    "df = pd.DataFrame(datos_om['hourly'])\n",
    "df['time'] = pd.to_datetime(df['time'])\n",
    "df.rename(columns={\"time\": \"Fecha\"}, inplace=True)\n",
    "df.set_index('Fecha', inplace=True)\n",
    "if agregar_diarios:\n",
    "    df['Dia'] = df.index.date\n",
    "    daily_df = df.groupby('Dia').agg(\n",
    "        temperature = ('temperature_2m', 'mean'),  # Promedio de temperatura\n",
    "        temperature_min = ('temperature_2m', 'min'),  # Minimo de temperatura\n",
    "        temperature_max = ('temperature_2m', 'max'),  # Máximo de temperatura\n",
    "        humidity =('relative_humidity_2m', 'mean'),  # Promedio de humedad relativa\n",
    "        humidity_min =('relative_humidity_2m', 'min'),  # Mínimo de humedad relativa\n",
    "        humidity_max =('relative_humidity_2m', 'max'),  # Máximo de humedad relativa\n",
    "        precipitation = ('precipitation', 'sum'),  # Suma total de precipitaciones\n",
    "        wind_speed = ('wind_speed_10m', 'mean')  # Promedio de velocidad del viento\n",
    "    ).reset_index()\n",
    "    daily_df.rename(columns={\"Dia\": \"Fecha\"}, inplace=True)\n",
    "    daily_df.set_index(pd.to_datetime(daily_df['Fecha']), inplace=True)\n",
    "    daily_df = daily_df.drop(\"Fecha\", axis=1)\n",
    "    df_om = daily_df\n",
    "else:\n",
    "    df_om = df\n",
    "\n",
    "# Procesar datos de AEMET\n",
    "df = pd.DataFrame(datos_aemet)\n",
    "df['Fecha'] = pd.to_datetime(df['fecha'])\n",
    "df.set_index(\"Fecha\", inplace=True)\n",
    "df = df[['tmed', 'tmin', 'tmax', 'velmedia', 'hrMedia', 'hrMax', 'hrMin', 'prec']]\n",
    "df = df.rename(columns={\n",
    "    \"tmed\": \"temperature\",\n",
    "    \"tmin\": \"temperature_min\",\n",
    "    \"tmax\": \"temperature_max\",\n",
    "    \"velmedia\": \"wind_speed\",\n",
    "    \"hrMedia\": \"humidity\",\n",
    "    \"hrMin\": \"humidity_min\",\n",
    "    \"hrMax\": \"humidity_max\",\n",
    "    \"prec\": \"precipitation\",\n",
    "})\n",
    "\n",
    "# Reemplazar comas por puntos y convertir a numérico\n",
    "df = df.map(lambda x: float(x.replace(',', '.')) if isinstance(x, str) else x)\n",
    "\n",
    "df_aemet = df"
   ]
  },
  {
   "cell_type": "code",
   "execution_count": null,
   "id": "2b824cb4",
   "metadata": {},
   "outputs": [],
   "source": [
    "df_om.head()"
   ]
  },
  {
   "cell_type": "code",
   "execution_count": null,
   "id": "2bd8218b",
   "metadata": {},
   "outputs": [],
   "source": [
    "df_aemet.head()"
   ]
  },
  {
   "cell_type": "code",
   "execution_count": null,
   "id": "2e75714c",
   "metadata": {},
   "outputs": [],
   "source": [
    "# Asegurar que ambas series tienen las mismas fechas para comparar\n",
    "df_combined = pd.merge(df_aemet, df_om, on=\"Fecha\", suffixes=(\"_AEMET\", \"_OM\"))\n",
    "print(\"\\nDatos combinados:\")\n",
    "df_combined.head()"
   ]
  },
  {
   "cell_type": "markdown",
   "id": "7e9ba9a9",
   "metadata": {},
   "source": [
    "---\n",
    "\n",
    "#### **Paso 3: Visualizar las series temporales por fuente**"
   ]
  },
  {
   "cell_type": "code",
   "execution_count": null,
   "id": "10e5d508",
   "metadata": {},
   "outputs": [],
   "source": [
    "# Comparación de Temperatura\n",
    "plt.figure(figsize=(12, 6))\n",
    "plt.plot(df_combined.index, df_combined[\"temperature_AEMET\"], label=\"AEMET\")\n",
    "plt.plot(df_combined.index, df_combined[\"temperature_OM\"], label=\"Open-Meteo\")\n",
    "plt.title(\"Comparación de Temperatura\")\n",
    "plt.xlabel(\"Fecha\")\n",
    "plt.ylabel(\"Temperatura (°C)\")\n",
    "plt.legend()\n",
    "plt.grid(True)\n",
    "plt.xticks(rotation=45)\n",
    "plt.tight_layout()\n",
    "plt.show()"
   ]
  },
  {
   "cell_type": "code",
   "execution_count": null,
   "id": "ed765df7",
   "metadata": {},
   "outputs": [],
   "source": [
    "# Comparación de todas las variables (Temperatura, Humedad, Viento, Precipitación)\n",
    "variables = [\"temperature\", \"humidity\", \"wind_speed\", \"precipitation\"]\n",
    "for variable in variables:\n",
    "    plt.figure(figsize=(12, 6))\n",
    "    plt.plot(df_combined.index, df_combined[f\"{variable}_AEMET\"], label=f\"{variable} - AEMET\")\n",
    "    plt.plot(df_combined.index, df_combined[f\"{variable}_OM\"], label=f\"{variable} - Open-Meteo\")\n",
    "    plt.title(f\"Comparación de {variable}\")\n",
    "    plt.xlabel(\"Fecha\")\n",
    "    plt.ylabel(variable)\n",
    "    plt.legend()\n",
    "    plt.grid(True)\n",
    "    plt.xticks(rotation=45)\n",
    "    plt.tight_layout()\n",
    "    plt.show()"
   ]
  },
  {
   "cell_type": "markdown",
   "id": "26f285bd",
   "metadata": {},
   "source": [
    "---\n",
    "\n",
    "#### **Paso 4: Histograma Comparativo de Temperatura**"
   ]
  },
  {
   "cell_type": "code",
   "execution_count": null,
   "id": "3f49111a",
   "metadata": {},
   "outputs": [],
   "source": [
    "plt.figure(figsize=(10, 6))\n",
    "sns.histplot(df_combined[\"temperature_AEMET\"], label=\"AEMET\", color=\"blue\", kde=True)\n",
    "sns.histplot(df_combined[\"temperature_OM\"], label=\"Open-Meteo\", color=\"orange\", kde=True)\n",
    "plt.title(\"Distribución de Temperatura - AEMET vs Open-Meteo\")\n",
    "plt.xlabel(\"Temperatura (°C)\")\n",
    "plt.ylabel(\"Frecuencia\")\n",
    "plt.legend()\n",
    "plt.tight_layout()\n",
    "plt.show()"
   ]
  },
  {
   "cell_type": "markdown",
   "id": "0bee56e3",
   "metadata": {},
   "source": [
    "---\n",
    "\n",
    "### **Paso 5: Análisis de Estadísticas Descriptivas**"
   ]
  },
  {
   "cell_type": "code",
   "execution_count": null,
   "id": "1cff889d",
   "metadata": {},
   "outputs": [],
   "source": [
    "print(\"\\nEstadísticas descriptivas de AEMET:\")\n",
    "df_combined.filter(like=\"_AEMET\").describe()"
   ]
  },
  {
   "cell_type": "code",
   "execution_count": null,
   "id": "49a324e4",
   "metadata": {},
   "outputs": [],
   "source": [
    "print(\"\\nEstadísticas descriptivas de Open-Meteo:\")\n",
    "df_combined.filter(like=\"_OM\").describe()"
   ]
  }
 ],
 "metadata": {
  "jupytext": {
   "cell_metadata_filter": "-all",
   "main_language": "python",
   "notebook_metadata_filter": "-all"
  },
  "kernelspec": {
   "display_name": "ibbi",
   "language": "python",
   "name": "python3"
  },
  "language_info": {
   "codemirror_mode": {
    "name": "ipython",
    "version": 3
   },
   "file_extension": ".py",
   "mimetype": "text/x-python",
   "name": "python",
   "nbconvert_exporter": "python",
   "pygments_lexer": "ipython3",
   "version": "3.12.7"
  }
 },
 "nbformat": 4,
 "nbformat_minor": 5
}
