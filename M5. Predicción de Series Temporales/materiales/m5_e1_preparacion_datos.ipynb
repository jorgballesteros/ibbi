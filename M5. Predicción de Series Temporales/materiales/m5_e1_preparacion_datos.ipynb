{
 "cells": [
  {
   "cell_type": "markdown",
   "id": "ec9f22bb",
   "metadata": {},
   "source": [
    "# E1. Análisis Exploratorio y Preparación del Dataset\n",
    "\n",
    "**Objetivo:**  \n",
    "Familiarizarse con una serie temporal real de consumo de recursos (energía o agua), analizar sus componentes y preparar el conjunto de datos para su uso en modelos predictivos, incluyendo la creación de los conjuntos de entrenamiento y validación.\n",
    "\n",
    "**Duración estimada:** 1h\n",
    "En este primer ejercicio trabajaremos con **series temporales reales** relacionadas con el consumo de energía. El objetivo es preparar el conjunto de datos para su uso posterior en modelos predictivos.\n",
    "\n",
    "## Tecnologías utilizadas\n",
    "\n",
    "- **Pandas**: Para carga, procesamiento y análisis de datos tabulares.\n",
    "- **Matplotlib & Seaborn**: Para generar visualizaciones estáticas de las series y relaciones entre variables.\n",
    "- **Statsmodels**: Para realizar la descomposición de la serie en sus componentes (tendencia, estacionalidad y residuo).\n",
    "- **Python**: Todo el trabajo se realizará en Jupyter o Google Colab con scripts en Python.\n",
    "\n",
    "## ¿Qué es una serie temporal?\n",
    "\n",
    "Una **serie temporal** es una secuencia de datos medidos en intervalos regulares de tiempo (diarios, mensuales, anuales...). Su análisis nos permite descubrir patrones como:\n",
    "\n",
    "- Tendencias a largo plazo\n",
    "- Estacionalidades o repeticiones periódicas\n",
    "- Cambios o anomalías\n",
    "\n",
    "## Flujo de trabajo del ejercicio\n",
    "\n",
    "```mermaid\n",
    "flowchart TD\n",
    "    A[Dataset bruto: consumo energético] --> B[Conversión a frecuencia diaria]\n",
    "    B --> C[Análisis exploratorio]\n",
    "    C --> D[Visualización y correlación entre variables]\n",
    "    D --> E[Descomposición de la serie]\n",
    "    E --> F[División en conjuntos de entrenamiento y validación]\n",
    "    F --> G[Datos listos para modelado predictivo]\n",
    "```\n",
    "---\n",
    "\n",
    "## Paso 1: Cargar el dataset\n",
    "\n",
    "Utilizaremos un dataset con datos diarios de consumo de agua por vivienda o edificio."
   ]
  },
  {
   "cell_type": "code",
   "execution_count": null,
   "id": "5f5180ed",
   "metadata": {},
   "outputs": [],
   "source": [
    "import pandas as pd\n",
    "\n",
    "# Cargar dataset desde archivo CSV\n",
    "df = pd.read_csv(\"data/m5_consumo_energia.csv\", parse_dates=[\"dt\"])\n",
    "\n",
    "# Establecer columna temporal como índice\n",
    "df.set_index(\"dt\", inplace=True)\n",
    "\n",
    "# Agregamos datos a diario\n",
    "df = df.groupby(df.index.date).agg({\n",
    "    'Energia Consumida':'sum',\n",
    "    'Temperatura':'mean',\n",
    "    'Humedad':'mean',\n",
    "})\n",
    "df = df.round(3)\n",
    "\n",
    "# Guardar datos agregados\n",
    "df.to_csv('data/m5_consumo_energia_diario.csv')\n",
    "\n",
    "# Mostrar las primeras filas\n",
    "df.head()"
   ]
  },
  {
   "cell_type": "code",
   "execution_count": null,
   "id": "496539e4",
   "metadata": {},
   "outputs": [],
   "source": [
    "df.info()"
   ]
  },
  {
   "cell_type": "code",
   "execution_count": null,
   "id": "c31237d6",
   "metadata": {},
   "outputs": [],
   "source": [
    "# Estadísticas descriptivas\n",
    "df.describe()"
   ]
  },
  {
   "cell_type": "markdown",
   "id": "80db2916",
   "metadata": {},
   "source": [
    "> Asegúrate de que el archivo contiene al menos dos columnas:  \n",
    "> - `fecha`: columna de tipo fecha  \n",
    "> - `consumo`: valor numérico del consumo diario (litros o m³)\n",
    "\n",
    "---\n",
    "\n",
    "## Paso 2: Visualización de los datos"
   ]
  },
  {
   "cell_type": "code",
   "execution_count": null,
   "id": "5325964a",
   "metadata": {},
   "outputs": [],
   "source": [
    "import matplotlib.pyplot as plt\n",
    "# Visualizar las variables clave\n",
    "df.plot(subplots=True, figsize=(10, 8), grid=True)\n",
    "plt.tight_layout()\n",
    "plt.show()"
   ]
  },
  {
   "cell_type": "code",
   "execution_count": null,
   "id": "c793b46b",
   "metadata": {},
   "outputs": [],
   "source": [
    "import seaborn as sns\n",
    "import matplotlib.pyplot as plt\n",
    "\n",
    "# Calcular matriz de correlación\n",
    "corr = df.corr()\n",
    "\n",
    "# Representar heatmap\n",
    "plt.figure(figsize=(6, 4))\n",
    "sns.heatmap(corr, annot=True, cmap=\"coolwarm\", fmt=\".2f\")\n",
    "plt.title(\"Matriz de correlación entre variables\")\n",
    "plt.tight_layout()\n",
    "plt.show()\n"
   ]
  },
  {
   "cell_type": "markdown",
   "id": "9ff5849b",
   "metadata": {},
   "source": [
    "---\n",
    "\n",
    "## Paso 3: Descomposición de la serie\n",
    "\n",
    "Descomponemos la serie en **tendencia, estacionalidad y residuo** para analizar su comportamiento."
   ]
  },
  {
   "cell_type": "code",
   "execution_count": null,
   "id": "5a09fe41",
   "metadata": {},
   "outputs": [],
   "source": [
    "from statsmodels.tsa.seasonal import seasonal_decompose\n",
    "\n",
    "result = seasonal_decompose(df[\"Energia Consumida\"], model='additive', period=7)  # Periodo semanal\n",
    "\n",
    "result.plot()\n",
    "plt.suptitle(\"Descomposición de la serie temporal\", fontsize=14)\n",
    "plt.tight_layout()\n",
    "plt.show()"
   ]
  },
  {
   "cell_type": "code",
   "execution_count": null,
   "id": "36986fc9",
   "metadata": {},
   "outputs": [],
   "source": [
    "from statsmodels.tsa.seasonal import seasonal_decompose\n",
    "\n",
    "result = seasonal_decompose(df[\"Temperatura\"], model='additive', period=7)  # Periodo semanal\n",
    "\n",
    "result.plot()\n",
    "plt.suptitle(\"Descomposición de la serie temporal\", fontsize=14)\n",
    "plt.tight_layout()\n",
    "plt.show()"
   ]
  },
  {
   "cell_type": "markdown",
   "id": "18dbd304",
   "metadata": {},
   "source": [
    "---\n",
    "\n",
    "## Paso 4: Generación de conjuntos de entrenamiento y validación\n",
    "\n",
    "Vamos a dividir la serie temporal en dos partes:\n",
    "- **Conjunto de entrenamiento**: ~80% inicial de los datos.\n",
    "- **Conjunto de validación**: ~20% final, que usaremos para evaluar las predicciones."
   ]
  },
  {
   "cell_type": "code",
   "execution_count": null,
   "id": "2cd027bc",
   "metadata": {},
   "outputs": [],
   "source": [
    "# Definir punto de corte\n",
    "split_index = int(len(df) * 0.9)\n",
    "\n",
    "train_df = df.iloc[:split_index]\n",
    "val_df = df.iloc[split_index:]\n",
    "\n",
    "train_df.to_csv('data/m5_consumo_energia_train.csv')\n",
    "val_df.to_csv('data/m5_consumo_energia_test.csv')\n",
    "\n",
    "# Verificar tamaños\n",
    "print(f\"Entrenamiento: {len(train_df)} muestras\")\n",
    "print(f\"Validación: {len(val_df)} muestras\")"
   ]
  },
  {
   "cell_type": "markdown",
   "id": "b1d05f29",
   "metadata": {},
   "source": [
    "Visualizamos ambas particiones:"
   ]
  },
  {
   "cell_type": "code",
   "execution_count": null,
   "id": "6e00dd74",
   "metadata": {},
   "outputs": [],
   "source": [
    "plt.figure(figsize=(12, 4))\n",
    "plt.plot(train_df.index, train_df[\"Energia Consumida\"], label=\"Train\")\n",
    "plt.plot(val_df.index, val_df[\"Energia Consumida\"], label=\"Validation\")\n",
    "plt.title(\"División de la serie en entrenamiento y validación\")\n",
    "plt.xlabel(\"Fecha\")\n",
    "plt.ylabel(\"Consumo\")\n",
    "plt.legend()\n",
    "plt.grid(True)\n",
    "plt.tight_layout()\n",
    "plt.show()"
   ]
  },
  {
   "cell_type": "markdown",
   "id": "9efae944",
   "metadata": {},
   "source": [
    "---\n",
    "\n",
    "## ✅ Resultado\n",
    "\n",
    "- Una serie temporal descompuesta y visualizada para su análisis.\n",
    "- Un conjunto de datos limpio, indexado por fecha.\n",
    "- Las particiones `train` y `val` listas para usar en modelos de predicción."
   ]
  }
 ],
 "metadata": {
  "jupytext": {
   "cell_metadata_filter": "-all",
   "main_language": "python",
   "notebook_metadata_filter": "-all"
  },
  "kernelspec": {
   "display_name": "ibbi",
   "language": "python",
   "name": "python3"
  },
  "language_info": {
   "codemirror_mode": {
    "name": "ipython",
    "version": 3
   },
   "file_extension": ".py",
   "mimetype": "text/x-python",
   "name": "python",
   "nbconvert_exporter": "python",
   "pygments_lexer": "ipython3",
   "version": "3.12.9"
  }
 },
 "nbformat": 4,
 "nbformat_minor": 5
}
