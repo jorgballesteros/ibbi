{
 "cells": [
  {
   "cell_type": "markdown",
   "id": "e5a3eaf2",
   "metadata": {},
   "source": [
    "# Ejercicio 2 – Predicción de series temporales con ARIMA\n",
    "\n",
    "## ¿Qué es ARIMA?\n",
    "\n",
    "**ARIMA** (AutoRegressive Integrated Moving Average) es uno de los modelos estadísticos más utilizados para predecir series temporales. Funciona especialmente bien cuando se tiene una única variable a lo largo del tiempo y se busca capturar patrones como tendencias o ciclos.\n",
    "\n",
    "Su potencia radica en tres componentes principales:\n",
    "\n",
    "- **AR (Auto-Regresión)**: La serie se predice a partir de sus propios valores pasados.\n",
    "- **I (Integración)**: Diferenciación para hacer la serie estacionaria.\n",
    "- **MA (Media Móvil)**: Utiliza errores pasados para mejorar la predicción.\n",
    "\n",
    "El modelo se representa como:  \n",
    "📌 `ARIMA(p, d, q)`  \n",
    "donde:\n",
    "- `p`: representa el número de observaciones rezagadas (lags). Nos indica cuántos pasos atrás en el tiempo debemos mirar para predecir el valor actual. Se determina observando la autocorrelación de la serie.\n",
    "- `d`: es el orden de diferenciación, es decir, cuántas veces hay que restar el valor actual con respecto al anterior para hacer que la serie sea estacionaria (sin tendencia ni variación en la varianza).\n",
    "- `q`:  Representa cuántos errores de predicción pasados se incorporan en el modelo. A diferencia de una media móvil tradicional que suaviza datos, aquí se usa para modelar la relación entre los errores pasados y los valores actuales.\n",
    "\n",
    "---\n",
    "\n",
    "## Conceptos clave\n",
    "\n",
    "- **Estacionariedad**: Una serie estacionaria mantiene sus propiedades estadísticas constantes a lo largo del tiempo. ARIMA requiere que la serie sea estacionaria para funcionar correctamente.\n",
    "- **Autocorrelación**: Se refiere a cómo se relaciona una observación con valores pasados. Se mide con ACF y PACF.\n",
    "- **Diferenciación**: Técnica para eliminar tendencia y hacer la serie estacionaria restando el valor anterior:  \n",
    "  \\[\n",
    "  Y'_t = Y_t - Y_{t-1}\n",
    "  \\]\n",
    "\n",
    "---\n",
    "\n",
    "## Flujo de trabajo\n",
    "\n",
    "```mermaid\n",
    "flowchart TD\n",
    "    A[Serie temporal entrenamiento] --> B[Test de estacionariedad ADF]\n",
    "    B --> C[Aplicar diferenciación si es necesario]\n",
    "    C --> D[Análisis ACF y PACF]\n",
    "    D --> E[Selección de parámetros p, d, q]\n",
    "    E --> F[Entrenamiento del modelo ARIMA]\n",
    "    F --> G[Predicción y evaluación con set de validación]\n",
    "    G --> H[Visualización y análisis de errores]\n",
    "```\n",
    "\n",
    "---\n",
    "\n",
    "## Ejercicio práctico\n",
    "\n",
    "### Paso 1: Cargar datos preparados (train / validation)"
   ]
  },
  {
   "cell_type": "code",
   "execution_count": null,
   "id": "2d5d873f",
   "metadata": {},
   "outputs": [],
   "source": [
    "import pandas as pd\n",
    "\n",
    "# Cargar datasets desde archivo CSVs\n",
    "train = pd.read_csv(\"data/m5_consumo_energia_train.csv\", index_col=0)\n",
    "val = pd.read_csv(\"data/m5_consumo_energia_test.csv\", index_col=0)\n",
    "\n",
    "# Establecer columna temporal como índice\n",
    "train.set_index(pd.to_datetime(train.index), inplace=True)\n",
    "# Cargar dataset desde archivo CSV\n",
    "\n",
    "# Establecer columna temporal como índice\n",
    "val.set_index(pd.to_datetime(val.index), inplace=True)"
   ]
  },
  {
   "cell_type": "markdown",
   "id": "be95b000",
   "metadata": {},
   "source": [
    "---\n",
    "\n",
    "### Paso 2: Verificar estacionariedad con prueba ADF"
   ]
  },
  {
   "cell_type": "code",
   "execution_count": null,
   "id": "6539ceb4",
   "metadata": {},
   "outputs": [],
   "source": [
    "from statsmodels.tsa.stattools import adfuller\n",
    "\n",
    "result = adfuller(train[\"Energia Consumida\"].dropna())\n",
    "print(f\"ADF Statistic: {result[0]}\")\n",
    "print(f\"p-value: {result[1]}\")\n",
    "\n",
    "if result[1] > 0.05:\n",
    "    print(\"La serie NO es estacionaria. Se recomienda aplicar diferenciación.\")\n",
    "else:\n",
    "    print(\"La serie es estacionaria.\")"
   ]
  },
  {
   "cell_type": "markdown",
   "id": "e7cd06ad",
   "metadata": {},
   "source": [
    "---\n",
    "\n",
    "### Paso 3: Aplicar diferenciación si es necesario"
   ]
  },
  {
   "cell_type": "code",
   "execution_count": null,
   "id": "c52816a7",
   "metadata": {},
   "outputs": [],
   "source": [
    "train_diff = train[\"Energia Consumida\"].diff().dropna()\n",
    "\n",
    "# Visualizar la serie diferenciada\n",
    "import matplotlib.pyplot as plt\n",
    "\n",
    "plt.figure(figsize=(10, 4))\n",
    "plt.plot(train_diff)\n",
    "plt.plot(train[\"Energia Consumida\"])\n",
    "plt.title(\"Serie diferenciada (1ª orden)\")\n",
    "plt.grid(True)\n",
    "plt.tight_layout()\n",
    "plt.show()"
   ]
  },
  {
   "cell_type": "code",
   "execution_count": null,
   "id": "353b8a98",
   "metadata": {},
   "outputs": [],
   "source": [
    "result_diff = adfuller(train_diff)\n",
    "print(f\"ADF Statistic (Differenced): {result_diff[0]:.4f}\")\n",
    "print(f\"p-value (Differenced): {result_diff[1]:.4f}\")\n",
    "if result_diff[1] < 0.05:\n",
    "    print(\"La serie es estacionaria.\")\n",
    "else:\n",
    "    print(\"La serie NO es estacionaria.\")"
   ]
  },
  {
   "cell_type": "markdown",
   "id": "a285e1c2",
   "metadata": {},
   "source": [
    "---\n",
    "\n",
    "### Paso 4: Estimar parámetros con ACF y PACF"
   ]
  },
  {
   "cell_type": "code",
   "execution_count": null,
   "id": "0291e9ff",
   "metadata": {},
   "outputs": [],
   "source": [
    "from statsmodels.graphics.tsaplots import plot_acf, plot_pacf\n",
    "\n",
    "fig, ax = plt.subplots(2, 1, figsize=(10, 6))\n",
    "plot_acf(train_diff, ax=ax[0], lags=30)\n",
    "plot_pacf(train_diff, ax=ax[1], lags=30)\n",
    "plt.tight_layout()\n",
    "plt.show()"
   ]
  },
  {
   "cell_type": "markdown",
   "id": "e9388e79",
   "metadata": {},
   "source": [
    "> Con estos gráficos se seleccionan visualmente los valores `p` y `q`.\n",
    "\n",
    "---\n",
    "\n",
    "### Paso 5: Ajustar el modelo ARIMA"
   ]
  },
  {
   "cell_type": "code",
   "execution_count": null,
   "id": "591a6cd0",
   "metadata": {},
   "outputs": [],
   "source": [
    "from statsmodels.tsa.arima.model import ARIMA\n",
    "\n",
    "# Definir y entrenar el modelo (por ejemplo ARIMA(p,d,q))\n",
    "model = ARIMA(train[\"Energia Consumida\"], order=(7, 0, 1))\n",
    "model_fit = model.fit()\n",
    "\n",
    "# Resumen del modelo\n",
    "print(model_fit.summary())"
   ]
  },
  {
   "cell_type": "markdown",
   "id": "431e8713",
   "metadata": {},
   "source": [
    "---\n",
    "\n",
    "### Paso 6: Hacer predicciones sobre el conjunto de validación"
   ]
  },
  {
   "cell_type": "code",
   "execution_count": null,
   "id": "6ac9273c",
   "metadata": {},
   "outputs": [],
   "source": [
    "# Predecir sobre el rango de fechas de validación\n",
    "start = val.index[0]\n",
    "end = val.index[-1]\n",
    "pred = model_fit.predict(start=start, end=end, typ=\"levels\")\n",
    "# Intervalo de cnofianza\n",
    "forecast = model_fit.get_forecast(steps=len(val))\n",
    "pred_mean = forecast.predicted_mean\n",
    "conf_int = forecast.conf_int() \n",
    "# Visualización\n",
    "plt.figure(figsize=(12, 5))\n",
    "plt.plot(train.index, train[\"Energia Consumida\"], label=\"Train\")\n",
    "plt.plot(val.index, val[\"Energia Consumida\"], label=\"Validation\")\n",
    "plt.plot(pred.index, pred, label=\"Predicción ARIMA\", linestyle=\"--\")\n",
    "plt.fill_between(val.index,\n",
    "                 conf_int.iloc[:, 0],  # límite inferior\n",
    "                 conf_int.iloc[:, 1],  # límite superior\n",
    "                 color='lightgreen', alpha=0.3, label=\"95% IC\")\n",
    "plt.title(\"Predicción de consumo con ARIMA\")\n",
    "plt.legend()\n",
    "plt.grid(True)\n",
    "plt.tight_layout()\n",
    "plt.show()"
   ]
  },
  {
   "cell_type": "markdown",
   "id": "03071efb",
   "metadata": {},
   "source": [
    "---\n",
    "\n",
    "### Paso 7: Evaluar el rendimiento del modelo"
   ]
  },
  {
   "cell_type": "code",
   "execution_count": null,
   "id": "5536f298",
   "metadata": {},
   "outputs": [],
   "source": [
    "from sklearn.metrics import mean_absolute_error, mean_squared_error\n",
    "import numpy as np\n",
    "\n",
    "mae = mean_absolute_error(val[\"Energia Consumida\"], pred)\n",
    "rmse = np.sqrt(mean_squared_error(val[\"Energia Consumida\"], pred))\n",
    "\n",
    "print(f\"MAE: {mae:.2f}\")\n",
    "print(f\"RMSE: {rmse:.2f}\")"
   ]
  },
  {
   "cell_type": "markdown",
   "id": "3541a94d",
   "metadata": {},
   "source": [
    "### ¿Qué indican el MAE y el RMSE?\n",
    "\n",
    "#### **MAE – Mean Absolute Error (Error Absoluto Medio)**\n",
    "\n",
    "- **Qué mide:**  \n",
    "  El promedio de los errores absolutos entre los valores reales y los predichos.\n",
    "\n",
    "- **Fórmula:**  \n",
    "  \\[\n",
    "  \\text{MAE} = \\frac{1}{n} \\sum_{i=1}^{n} \\left| y_i - \\hat{y}_i \\right|\n",
    "  \\]\n",
    "\n",
    "- **Interpretación:**  \n",
    "  Nos dice, en promedio, cuánto se desvían nuestras predicciones de los valores reales.  \n",
    "  Por ejemplo, un MAE de 4 significa que, en promedio, nos estamos equivocando en ±4 unidades (p. ej., kWh, litros, etc.).\n",
    "\n",
    "- **Ventaja:**  \n",
    "  Fácil de interpretar, no amplifica los errores grandes.\n",
    "\n",
    "---\n",
    "\n",
    "#### **RMSE – Root Mean Squared Error (Raíz del Error Cuadrático Medio)**\n",
    "\n",
    "- **Qué mide:**  \n",
    "  El promedio del cuadrado de los errores, pero toma la **raíz cuadrada** para mantener las unidades originales.\n",
    "\n",
    "- **Fórmula:**  \n",
    "  \\[\n",
    "  \\text{RMSE} = \\sqrt{\\frac{1}{n} \\sum_{i=1}^{n} (y_i - \\hat{y}_i)^2}\n",
    "  \\]\n",
    "\n",
    "- **Interpretación:**  \n",
    "  Similar al MAE, pero **penaliza más los errores grandes**. Es más sensible a valores atípicos (outliers)."
   ]
  },
  {
   "cell_type": "markdown",
   "id": "4813555b",
   "metadata": {},
   "source": [
    "---\n",
    "\n",
    "## ✅ Resultado esperado\n",
    "\n",
    "- Verificar la estacionariedad de una serie temporal.\n",
    "- Aplicar diferenciación y análisis ACF/PACF para determinar parámetros.\n",
    "- Ajustar un modelo ARIMA con `statsmodels`.\n",
    "- Evaluar su rendimiento y analizar visualmente los resultados.\n"
   ]
  }
 ],
 "metadata": {
  "jupytext": {
   "cell_metadata_filter": "-all",
   "main_language": "python",
   "notebook_metadata_filter": "-all"
  },
  "kernelspec": {
   "display_name": "ibbi",
   "language": "python",
   "name": "python3"
  },
  "language_info": {
   "codemirror_mode": {
    "name": "ipython",
    "version": 3
   },
   "file_extension": ".py",
   "mimetype": "text/x-python",
   "name": "python",
   "nbconvert_exporter": "python",
   "pygments_lexer": "ipython3",
   "version": "3.12.9"
  }
 },
 "nbformat": 4,
 "nbformat_minor": 5
}
