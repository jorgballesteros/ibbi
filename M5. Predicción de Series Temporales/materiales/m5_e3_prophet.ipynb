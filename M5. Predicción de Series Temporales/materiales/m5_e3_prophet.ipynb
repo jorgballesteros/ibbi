{
 "cells": [
  {
   "cell_type": "markdown",
   "id": "cc3f1b09",
   "metadata": {},
   "source": [
    "# Ejercicio 3 – Predicción de series temporales con Prophet\n",
    "\n",
    "## ¿Qué es Prophet?\n",
    "\n",
    "**Prophet** es una herramienta desarrollada por Facebook para facilitar el modelado de series temporales, especialmente útil cuando:\n",
    "\n",
    "- Hay **tendencias y estacionalidades** claras.\n",
    "- Hay **festivos o eventos especiales**.\n",
    "- Se necesita una **herramienta sencilla pero flexible** sin profundos conocimientos estadísticos.\n",
    "\n",
    "Es muy utilizado en contextos empresariales y educativos por su simplicidad y eficacia.\n",
    "\n",
    "## ¿Cómo funciona?\n",
    "\n",
    "Prophet descompone la serie en tres componentes principales:\n",
    "\n",
    "\\[\n",
    "y(t) = g(t) + s(t) + h(t) + \\varepsilon_t\n",
    "\\]\n",
    "\n",
    "- `g(t)`: Tendencia (lineal, logística, piecewise)\n",
    "- `s(t)`: Estacionalidad (diaria, semanal, anual)\n",
    "- `h(t)`: Festivos o eventos especiales\n",
    "- `ε`: Error aleatorio\n",
    "\n",
    "---\n",
    "\n",
    "## Flujo de trabajo\n",
    "\n",
    "```mermaid\n",
    "flowchart TD\n",
    "    A[Dataset original] --> B[Renombrar columnas: ds, y]\n",
    "    B --> C[Modelo Prophet básico]\n",
    "    C --> D[Predicción futura]\n",
    "    D --> E[Visualización]\n",
    "    E --> F[Modelo con regresores externos]\n",
    "    F --> G[Comparación de rendimiento]\n",
    "```\n",
    "\n",
    "---\n",
    "\n",
    "## Requisitos previos\n",
    "```bash\n",
    "pip install prophet\n",
    "```"
   ]
  },
  {
   "cell_type": "markdown",
   "id": "0c2edc56",
   "metadata": {},
   "source": [
    "---\n",
    "\n",
    "## Parte 1 – Modelo Prophet\n",
    "\n",
    "### Paso 1: Preparar el dataset"
   ]
  },
  {
   "cell_type": "code",
   "execution_count": null,
   "id": "134657ab",
   "metadata": {},
   "outputs": [],
   "source": [
    "from prophet import Prophet\n",
    "import pandas as pd\n",
    "\n",
    "# Cargar y preparar datos\n",
    "df = pd.read_csv(\"data/m5_consumo_energia_train.csv\", index_col=0)\n",
    "df = df.set_index(pd.to_datetime(df.index))\n",
    "\n",
    "df['dt'] = df.index\n",
    "\n",
    "# Prophet requiere columnas: 'ds' para fecha y 'y' para valor\n",
    "train_df = df.rename(columns={\"dt\": \"ds\", \"Energia Consumida\": \"y\"})"
   ]
  },
  {
   "cell_type": "code",
   "execution_count": null,
   "id": "3a0978fb",
   "metadata": {},
   "outputs": [],
   "source": [
    "val_df = pd.read_csv(\"data/m5_consumo_energia_test.csv\", index_col=0)\n",
    "val_df = val_df.set_index(pd.to_datetime(val_df.index))\n",
    "val_df['dt'] = val_df.index\n",
    "val_df = val_df.rename(columns={\"dt\": \"ds\", \"Energia Consumida\": \"y\"})"
   ]
  },
  {
   "cell_type": "code",
   "execution_count": null,
   "id": "7c15c050",
   "metadata": {},
   "outputs": [],
   "source": [
    "import matplotlib.pyplot as plt\n",
    "\n",
    "plt.figure(figsize=(12, 4))\n",
    "plt.plot(train_df.index, train_df[\"y\"], label=\"Train\")\n",
    "plt.plot(val_df.index, val_df[\"y\"], label=\"Validation\")\n",
    "plt.title(\"División de la serie en entrenamiento y validación\")\n",
    "plt.xlabel(\"Fecha\")\n",
    "plt.ylabel(\"Consumo\")\n",
    "plt.legend()\n",
    "plt.grid(True)\n",
    "plt.tight_layout()\n",
    "plt.show()"
   ]
  },
  {
   "cell_type": "markdown",
   "id": "5f222cbd",
   "metadata": {},
   "source": [
    "---\n",
    "\n",
    "### Paso 2: Crear y entrenar el modelo"
   ]
  },
  {
   "cell_type": "code",
   "execution_count": null,
   "id": "a84dd12c",
   "metadata": {},
   "outputs": [],
   "source": [
    "t_df = train_df[['ds','y']]\n",
    "m = Prophet()\n",
    "m.fit(t_df)"
   ]
  },
  {
   "cell_type": "markdown",
   "id": "081a9c3e",
   "metadata": {},
   "source": [
    "---\n",
    "\n",
    "### Paso 3: Crear futuro y predecir"
   ]
  },
  {
   "cell_type": "code",
   "execution_count": null,
   "id": "4715a894",
   "metadata": {},
   "outputs": [],
   "source": [
    "# Predecir los próximos 30 días\n",
    "future = m.make_future_dataframe(periods=len(val_df))\n",
    "forecast = m.predict(future)"
   ]
  },
  {
   "cell_type": "markdown",
   "id": "3379b171",
   "metadata": {},
   "source": [
    "---\n",
    "\n",
    "### Paso 4: Visualizar resultado"
   ]
  },
  {
   "cell_type": "code",
   "execution_count": null,
   "id": "27635e20",
   "metadata": {},
   "outputs": [],
   "source": [
    "fig1 = m.plot(forecast)"
   ]
  },
  {
   "cell_type": "markdown",
   "id": "6f7ae6d8",
   "metadata": {},
   "source": [
    "#### Explicación\n",
    "\n",
    "Este es el **gráfico principal de predicción de Prophet**. Incluye:\n",
    "\n",
    "- La **predicción** realizada por el modelo (línea azul).\n",
    "- Un **intervalo de confianza del 95%** alrededor de la predicción (franja azul claro).\n",
    "- El **ajuste del modelo** a la serie original (puntos negros).\n",
    "\n",
    "🔍 **Interpretación**:\n",
    "- El propósito de los puntos es permitirte ver cómo el modelo ha capturado los patrones de la serie temporal y si hay una buena correspondencia entre los datos observados y las componentes ajustadas. Si los puntos negros siguen de cerca las curvas modeladas, eso sugiere que el modelo está ajustado correctamente.\n",
    "- La línea azul continúa donde termina la serie original y muestra el valor estimado para todo el rango, incluyendo los días futuros.\n",
    "- El área azul claro indica la **incertidumbre** del modelo en cada punto (más ancho = más incertidumbre)."
   ]
  },
  {
   "cell_type": "code",
   "execution_count": null,
   "id": "ab7f3190",
   "metadata": {},
   "outputs": [],
   "source": [
    "fig2 = m.plot_components(forecast)"
   ]
  },
  {
   "cell_type": "markdown",
   "id": "99add64a",
   "metadata": {},
   "source": [
    "### Explicación\n",
    "\n",
    "Este genera **una visualización separada de los componentes del modelo Prophet**:\n",
    "\n",
    "1. **Tendencia (trend)**:  \n",
    "   La evolución a largo plazo del consumo.  \n",
    "   Puedes ver si hay una subida, bajada, o tramos con crecimientos distintos.\n",
    "\n",
    "2. **Estacionalidad semanal** (si existe):  \n",
    "   Cómo varía el consumo según el día de la semana (por ejemplo, más consumo entre semana que los fines de semana).\n",
    "\n",
    "3. **Estacionalidad anual** (si hay suficientes datos):  \n",
    "   Fluctuaciones repetitivas a lo largo del año (más relevante con >1 año de datos).\n",
    "\n",
    "4. **Otros componentes**:  \n",
    "   Si has añadido **regresores** o **festivos**, también se incluirán aquí.\n",
    "\n",
    "🔍 **Interpretación**:\n",
    "- Este gráfico permite entender **qué patrones ha aprendido el modelo**, más allá de la predicción final.\n",
    "- Es ideal para explicar el comportamiento estacional a otras personas no técnicas."
   ]
  },
  {
   "cell_type": "code",
   "execution_count": null,
   "id": "ce1146bc",
   "metadata": {},
   "outputs": [],
   "source": [
    "import matplotlib.pyplot as plt\n",
    "\n",
    "# También puedes obtener el final de train como referencia\n",
    "cutoff_date = train_df[\"ds\"].max()\n",
    "\n",
    "# Filtramos la parte futura del forecast\n",
    "forecast_future = forecast[forecast[\"ds\"] > cutoff_date]\n",
    "\n",
    "# Graficamos todo\n",
    "plt.figure(figsize=(12, 6))\n",
    "\n",
    "# Serie real\n",
    "plt.plot(train_df[\"ds\"], train_df[\"y\"], label=\"Entrenamiento\", color=\"blue\")\n",
    "plt.plot(val_df[\"ds\"], val_df[\"y\"], label=\"Validación\", color=\"orange\")\n",
    "\n",
    "# Predicción\n",
    "plt.plot(forecast_future[\"ds\"], forecast_future[\"yhat\"], label=\"Predicción Prophet\", color=\"green\", linestyle=\"--\")\n",
    "\n",
    "# Intervalo de confianza\n",
    "plt.fill_between(forecast_future[\"ds\"],\n",
    "                 forecast_future[\"yhat_lower\"],\n",
    "                 forecast_future[\"yhat_upper\"],\n",
    "                 color=\"green\", alpha=0.2, label=\"Intervalo 95%\")\n",
    "\n",
    "# Formato\n",
    "plt.title(\"Predicción de Prophet vs serie real\")\n",
    "plt.xlabel(\"Fecha\")\n",
    "plt.ylabel(\"Consumo (kWh)\")\n",
    "plt.legend()\n",
    "plt.grid(True)\n",
    "plt.tight_layout()\n",
    "plt.show()"
   ]
  },
  {
   "cell_type": "markdown",
   "id": "2145ac05",
   "metadata": {},
   "source": [
    "---\n",
    "\n",
    "### Paso 5: Evaluar el rendimiento del modelo"
   ]
  },
  {
   "cell_type": "code",
   "execution_count": null,
   "id": "b4a43cfb",
   "metadata": {},
   "outputs": [],
   "source": [
    "from sklearn.metrics import mean_absolute_error, mean_squared_error\n",
    "import numpy as np\n",
    "\n",
    "mae = mean_absolute_error(val_df[\"y\"], forecast_future[\"yhat\"])\n",
    "rmse = np.sqrt(mean_squared_error(val_df[\"y\"], forecast_future[\"yhat\"]))\n",
    "\n",
    "print(f\"MAE: {mae:.2f}\")\n",
    "print(f\"RMSE: {rmse:.2f}\")"
   ]
  },
  {
   "cell_type": "code",
   "execution_count": null,
   "id": "530562a9",
   "metadata": {},
   "outputs": [],
   "source": [
    "t_df['holidays'] = t_df[t_df.index.day > 5]\n",
    "t_df.loc['2024/11/01'] = 1\n",
    "t_df.loc['2024/12/06'] = 1\n",
    "t_df.loc['2024/12/08'] = 1\n",
    "m = Prophet(holidays=t_df['holidays'])"
   ]
  },
  {
   "cell_type": "markdown",
   "id": "93c04efe",
   "metadata": {},
   "source": [
    "---\n",
    "\n",
    "## Parte 2 – Modelado con regresores externos\n",
    "\n",
    "Un **regresor** es una variable adicional que se incluye en el modelo para ayudar a explicar las variaciones del valor que queremos predecir.\n",
    "\n",
    "En el contexto de consumo de energía, algunos ejemplos de regresores pueden ser:\n",
    "\n",
    "- Temperatura (afecta al uso de aire acondicionado o calefacción)\n",
    "- Humedad (relacionada con el uso de sistemas de ventilación o agua)\n",
    "- Día de la semana (influye en el comportamiento de consumo en edificios)\n",
    "\n",
    "### ¿Qué aporta un regresor?\n",
    "**Mejora la precisión del modelo**\n",
    "Al introducir una variable que está correlacionada con la serie temporal, el modelo puede anticiparse mejor a ciertos cambios o fluctuaciones que no se explican solo con el tiempo.\n",
    "\n",
    "**Captura relaciones causales**\n",
    "Un regresor puede reflejar una relación de causa y efecto real. Por ejemplo, sabemos que a mayor temperatura, probablemente aumenta el consumo energético por el uso de aire acondicionado.\n",
    "\n",
    "**Permite simular escenarios**\n",
    "Si el modelo incluye regresores, podemos simular “¿qué pasaría si...?” variara la temperatura o la humedad, lo que es útil para escenarios educativos o de planificación.\n",
    "\n",
    "**Reduce el error**\n",
    "En muchos casos, incluir regresores mejora métricas como MAE o RMSE, porque el modelo puede explicar parte del comportamiento que antes consideraba “ruido”.\n",
    "\n",
    "### Paso 1: Visualizar correlaciones"
   ]
  },
  {
   "cell_type": "code",
   "execution_count": null,
   "id": "311d90db",
   "metadata": {},
   "outputs": [],
   "source": [
    "import seaborn as sns\n",
    "import matplotlib.pyplot as plt\n",
    "\n",
    "# Calcular matriz de correlación\n",
    "corr = train_df[['y','Temperatura','Humedad']].corr()\n",
    "\n",
    "# Representar heatmap\n",
    "plt.figure(figsize=(6, 6))\n",
    "sns.heatmap(corr, annot=True, cmap=\"coolwarm\", fmt=\".2f\")\n",
    "plt.title(\"Matriz de correlación entre variables\")\n",
    "plt.tight_layout()\n",
    "plt.show()"
   ]
  },
  {
   "cell_type": "markdown",
   "id": "f94e4d9e",
   "metadata": {},
   "source": [
    "### Paso 2: Añadir regresores al dataframe"
   ]
  },
  {
   "cell_type": "code",
   "execution_count": null,
   "id": "a061c5b2",
   "metadata": {},
   "outputs": [],
   "source": [
    "# Preparar dataset con variables externas (Temperatura y Humedad)\n",
    "train_reg_df = df.reset_index().rename(columns={\n",
    "    \"dt\": \"ds\",\n",
    "    \"Energia Consumida\": \"y\"\n",
    "})\n",
    "\n",
    "# Añadir regresores\n",
    "train_reg_df[\"temperatura\"] = df[\"Temperatura\"].values\n",
    "train_reg_df[\"humedad\"] = df[\"Humedad\"].values"
   ]
  },
  {
   "cell_type": "code",
   "execution_count": null,
   "id": "f358cfe3",
   "metadata": {},
   "outputs": [],
   "source": [
    "train_reg_df[['y','temperatura','humedad']].plot()"
   ]
  },
  {
   "cell_type": "markdown",
   "id": "a3cb5bc6",
   "metadata": {},
   "source": [
    "---\n",
    "\n",
    "### Paso 3: Definir modelo con regresores"
   ]
  },
  {
   "cell_type": "code",
   "execution_count": null,
   "id": "c50f65c2",
   "metadata": {},
   "outputs": [],
   "source": [
    "m_reg = Prophet()\n",
    "m_reg.add_regressor(\"temperatura\")\n",
    "m_reg.add_regressor(\"humedad\")\n",
    "\n",
    "m_reg.fit(train_reg_df)"
   ]
  },
  {
   "cell_type": "markdown",
   "id": "4ceea4e3",
   "metadata": {},
   "source": [
    "---\n",
    "\n",
    "### Paso 3: Crear futuro con regresores"
   ]
  },
  {
   "cell_type": "code",
   "execution_count": null,
   "id": "015c90d4",
   "metadata": {},
   "outputs": [],
   "source": [
    "all_df = pd.concat([train_df, val_df], axis=0)\n",
    "all_df"
   ]
  },
  {
   "cell_type": "code",
   "execution_count": null,
   "id": "6c6e1aa3",
   "metadata": {},
   "outputs": [],
   "source": [
    "# Generar mismo número de días futuros\n",
    "future_reg = m_reg.make_future_dataframe(periods=len(val_df))\n",
    "future_reg = future_reg.set_index(pd.to_datetime(future_reg['ds']))\n",
    "# Aquí usamos el valor real de cada variable meteorológica\n",
    "future_reg[\"temperatura\"] = all_df['Temperatura']\n",
    "future_reg[\"humedad\"] = all_df['Humedad']\n"
   ]
  },
  {
   "cell_type": "code",
   "execution_count": null,
   "id": "1f9cca96",
   "metadata": {},
   "outputs": [],
   "source": [
    "future_reg"
   ]
  },
  {
   "cell_type": "markdown",
   "id": "b7f04949",
   "metadata": {},
   "source": [
    "---\n",
    "\n",
    "### Paso 4: Predecir y visualizar"
   ]
  },
  {
   "cell_type": "code",
   "execution_count": null,
   "id": "bc6e26fc",
   "metadata": {},
   "outputs": [],
   "source": [
    "forecast_reg = m_reg.predict(future_reg)\n",
    "\n",
    "# Visualización\n",
    "fig1 = m_reg.plot(forecast_reg)\n",
    "fig2 = m_reg.plot_components(forecast_reg)"
   ]
  },
  {
   "cell_type": "code",
   "execution_count": null,
   "id": "7b62d973",
   "metadata": {},
   "outputs": [],
   "source": [
    "import matplotlib.pyplot as plt\n",
    "\n",
    "# También puedes obtener el final de train como referencia\n",
    "cutoff_date = train_df[\"ds\"].max()\n",
    "\n",
    "# Filtramos la parte futura del forecast\n",
    "forecast_reg_future = forecast_reg[forecast_reg[\"ds\"] > cutoff_date]\n",
    "\n",
    "# Graficamos todo\n",
    "plt.figure(figsize=(12, 6))\n",
    "\n",
    "# Serie real\n",
    "plt.plot(train_df[\"ds\"], train_df[\"y\"], label=\"Entrenamiento\", color=\"blue\")\n",
    "plt.plot(val_df[\"ds\"], val_df[\"y\"], label=\"Validación\", color=\"green\")\n",
    "\n",
    "# Predicción\n",
    "plt.plot(forecast_reg_future[\"ds\"], forecast_reg_future[\"yhat\"], label=\"Predicción Prophet\", color=\"orange\", linestyle=\"--\")\n",
    "\n",
    "# Intervalo de confianza\n",
    "plt.fill_between(forecast_reg_future[\"ds\"],\n",
    "                 forecast_reg_future[\"yhat_lower\"],\n",
    "                 forecast_reg_future[\"yhat_upper\"],\n",
    "                 color=\"blue\", alpha=0.2, label=\"Intervalo 95%\")\n",
    "\n",
    "# Formato\n",
    "plt.title(\"Predicción de Prophet vs serie real\")\n",
    "plt.xlabel(\"Fecha\")\n",
    "plt.ylabel(\"Consumo (kWh)\")\n",
    "plt.legend()\n",
    "plt.grid(True)\n",
    "plt.tight_layout()\n",
    "plt.show()"
   ]
  },
  {
   "cell_type": "markdown",
   "id": "93f53f1e",
   "metadata": {},
   "source": [
    "---\n",
    "\n",
    "### Paso 5: Evaluar el modelo"
   ]
  },
  {
   "cell_type": "code",
   "execution_count": null,
   "id": "c4a137e3",
   "metadata": {},
   "outputs": [],
   "source": [
    "from sklearn.metrics import mean_absolute_error, mean_squared_error\n",
    "import numpy as np\n",
    "\n",
    "mae = mean_absolute_error(val_df[\"y\"], forecast_reg_future[\"yhat\"])\n",
    "rmse = np.sqrt(mean_squared_error(val_df[\"y\"], forecast_reg_future[\"yhat\"]))\n",
    "\n",
    "print(f\"MAE: {mae:.2f}\")\n",
    "print(f\"RMSE: {rmse:.2f}\")"
   ]
  },
  {
   "cell_type": "markdown",
   "id": "2ecec633",
   "metadata": {},
   "source": [
    "## Capacidades de Prophet\n",
    "\n",
    "Los parámetros que se utilizan al crear un modelo Prophet están relacionados con el manejo de las tendencias, estacionalidades y festividades. Aquí están los principales parámetros que puedes ajustar al usar **Prophet()**:\n",
    "\n",
    "### 1. **`growth`**:\n",
    "   - Especifica la forma de la tendencia.\n",
    "     - **'linear'**: Utiliza una tendencia lineal.\n",
    "     - **'logistic'**: Utiliza una tendencia logística (crecimiento con un límite superior definido).\n",
    "   - **Por defecto** es **'linear'**.\n",
    "\n",
    "### 2. **`changepoint_prior_scale`**:\n",
    "   - Controla la flexibilidad de la tendencia. Es un parámetro regularizador que determina cuán rápido puede cambiar la tendencia en función de los puntos de cambio.\n",
    "   - **Valores más altos** permiten que la tendencia cambie de forma más abrupta, mientras que **valores más bajos** restringen esos cambios.\n",
    "   - **Por defecto** es **0.05**.\n",
    "\n",
    "### 3. **`seasonality_prior_scale`**:\n",
    "   - Ajusta la flexibilidad del componente estacional. Controla cuánto puede variar la estacionalidad a lo largo del tiempo.\n",
    "   - **Valores altos** permiten mayor flexibilidad en la estacionalidad, mientras que **valores bajos** lo restringen.\n",
    "   - **Por defecto** es **10.0**.\n",
    "\n",
    "### 4. **`holidays_prior_scale`**:\n",
    "   - Similar al parámetro de estacionalidad, pero controla la flexibilidad de los efectos de las festividades.\n",
    "   - Si no se agregan festividades al modelo, este parámetro no tiene efecto.\n",
    "   - **Por defecto** es **10.0**.\n",
    "\n",
    "### 5. **`seasonality_mode`**:\n",
    "   - Controla cómo se modela la estacionalidad.\n",
    "     - **'additive'**: La estacionalidad se suma a la tendencia.\n",
    "     - **'multiplicative'**: La estacionalidad multiplica la tendencia.\n",
    "   - **Por defecto** es **'additive'**.\n",
    "\n",
    "### 6. **`yearly_seasonality`**:\n",
    "   - Activa o desactiva la estacionalidad anual. Si se pone en `True`, Prophet añadirá automáticamente un componente de estacionalidad anual.\n",
    "   - **Por defecto** es **True** si la frecuencia de los datos es anual, de lo contrario, se ajusta automáticamente según los datos.\n",
    "\n",
    "### 7. **`weekly_seasonality`**:\n",
    "   - Activa o desactiva la estacionalidad semanal.\n",
    "   - **Por defecto** es **True** si los datos contienen suficiente información para modelar una estacionalidad semanal.\n",
    "\n",
    "### 8. **`daily_seasonality`**:\n",
    "   - Activa o desactiva la estacionalidad diaria.\n",
    "   - **Por defecto** es **True** si los datos contienen suficiente información para modelar una estacionalidad diaria.\n",
    "\n",
    "### 9. **`seasonality`**:\n",
    "   - Puedes proporcionar estacionalidades adicionales personalizadas para incluir en el modelo. Es útil cuando deseas añadir estacionalidades específicas (por ejemplo, trimestrales).\n",
    "   - Acepta una lista de objetos que definen la estacionalidad adicional.\n",
    "\n",
    "### 10. **`holidays`**:\n",
    "   - Puedes añadir un dataframe de festividades que afecten la serie temporal. Las festividades pueden ser estacionales o específicas de ciertos días (por ejemplo, Navidad, Año Nuevo).\n",
    "   - Debe ser un DataFrame con las columnas **'holiday'** (nombre de la festividad), **'ds'** (fecha de la festividad) y **'lower_window' y 'upper_window'** (para definir el rango de días de la festividad).\n",
    "\n",
    "### 11. **`interval_width`**:\n",
    "   - Define el ancho del intervalo de confianza para las predicciones. Este parámetro controla el rango en el que se espera que se encuentren las predicciones.\n",
    "   - **Por defecto** es **0.80**, lo que significa un intervalo de confianza del 80%.\n",
    "\n",
    "### 12. **`uncertainty_samples`**:\n",
    "   - Determina cuántas muestras de incertidumbre se generan para estimar el intervalo de confianza.\n",
    "   - **Por defecto** es **1000**, lo que genera 1000 muestras.\n",
    "\n",
    "### 13. **`cap` y `floor`**:\n",
    "   - Cuando se utiliza el modelo con **'logistic'** en lugar de **'linear'**, puedes definir un valor máximo (**cap**) y mínimo (**floor**) para limitar la tendencia logística. Esto es útil cuando esperas que la serie temporal tenga un crecimiento limitado (por ejemplo, usuarios de una plataforma que no pueden superar un número máximo de usuarios).\n",
    "\n",
    "### 14. **`mcmc_samples`**:\n",
    "   - Si se establece un valor mayor que cero, Prophet utiliza un enfoque basado en MCMC (Monte Carlo Markov Chain) para las predicciones, lo que puede ser útil cuando se requiere una estimación más precisa de la incertidumbre.\n",
    "\n",
    "### 15. **`interval_width`**:\n",
    "   - Determina el ancho del intervalo de predicción (por ejemplo, 0.95 correspondería a un intervalo de confianza del 95%).\n",
    "\n",
    "### 16. **`prophet.growth()`**:\n",
    "   - Este parámetro se refiere al crecimiento de la serie temporal, que puede ser lineal o logístico.\n",
    "\n",
    "---\n",
    "\n",
    "### Ejemplo de ajuste de parámetros en Prophet\n",
    "```python\n",
    "modelo = Prophet(\n",
    "    growth='linear',               # Tendencia lineal\n",
    "    changepoint_prior_scale=0.05,  # Flexibilidad de los puntos de cambio\n",
    "    seasonality_prior_scale=10.0,  # Flexibilidad de la estacionalidad\n",
    "    holidays_prior_scale=10.0,     # Flexibilidad de las festividades\n",
    "    yearly_seasonality=True,       # Estacionalidad anual\n",
    "    weekly_seasonality=True        # Estacionalidad semanal\n",
    ")\n",
    "\n",
    "```"
   ]
  },
  {
   "cell_type": "markdown",
   "id": "af26735f",
   "metadata": {},
   "source": [
    "---\n",
    "\n",
    "## ✅ Resultado esperado\n",
    "\n",
    "- Preparar tus datos en formato adecuado para Prophet.\n",
    "- Entrenar modelos con y sin regresores externos.\n",
    "- Visualizar tendencias, estacionalidades y componentes.\n",
    "- Comparar predicciones y detectar el efecto de variables como temperatura o humedad."
   ]
  }
 ],
 "metadata": {
  "jupytext": {
   "cell_metadata_filter": "-all",
   "main_language": "python",
   "notebook_metadata_filter": "-all"
  },
  "kernelspec": {
   "display_name": "ibbi",
   "language": "python",
   "name": "python3"
  },
  "language_info": {
   "codemirror_mode": {
    "name": "ipython",
    "version": 3
   },
   "file_extension": ".py",
   "mimetype": "text/x-python",
   "name": "python",
   "nbconvert_exporter": "python",
   "pygments_lexer": "ipython3",
   "version": "3.12.9"
  }
 },
 "nbformat": 4,
 "nbformat_minor": 5
}
