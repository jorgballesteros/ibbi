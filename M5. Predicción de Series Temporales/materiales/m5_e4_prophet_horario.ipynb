{
 "cells": [
  {
   "cell_type": "markdown",
   "id": "cc3f1b09",
   "metadata": {},
   "source": [
    "# Ejercicio 3 – Predicción de serie temporal horaria con Prophet"
   ]
  },
  {
   "cell_type": "markdown",
   "id": "0c2edc56",
   "metadata": {},
   "source": [
    "---\n",
    "\n",
    "### Paso 1: Preparar el dataset"
   ]
  },
  {
   "cell_type": "code",
   "execution_count": null,
   "id": "134657ab",
   "metadata": {},
   "outputs": [],
   "source": [
    "from prophet import Prophet\n",
    "import pandas as pd\n",
    "\n",
    "# Cargar dataset desde archivo CSV\n",
    "df = pd.read_csv(\"data/m5_consumo_energia.csv\", parse_dates=[\"dt\"])\n",
    "\n",
    "# Establecer columna temporal como índice\n",
    "df.set_index(\"dt\", inplace=True)\n",
    "\n",
    "df.info()"
   ]
  },
  {
   "cell_type": "code",
   "execution_count": null,
   "id": "f66655ed",
   "metadata": {},
   "outputs": [],
   "source": [
    "df.describe()"
   ]
  },
  {
   "cell_type": "code",
   "execution_count": null,
   "id": "8e9d20b9",
   "metadata": {},
   "outputs": [],
   "source": [
    "import matplotlib.pyplot as plt\n",
    "# Visualizar las variables clave\n",
    "df.plot(subplots=True, figsize=(10, 8), grid=True)\n",
    "plt.tight_layout()\n",
    "plt.show()"
   ]
  },
  {
   "cell_type": "markdown",
   "id": "b3a2e193",
   "metadata": {},
   "source": [
    "Seleccionamos solo el mes de Julio para facilitar el análisis"
   ]
  },
  {
   "cell_type": "code",
   "execution_count": null,
   "id": "e2c27544",
   "metadata": {},
   "outputs": [],
   "source": [
    "daily_df = df[df.index.month == 7]\n",
    "daily_df.info()"
   ]
  },
  {
   "cell_type": "code",
   "execution_count": null,
   "id": "70a86f57",
   "metadata": {},
   "outputs": [],
   "source": [
    "daily_df.describe()"
   ]
  },
  {
   "cell_type": "code",
   "execution_count": null,
   "id": "30828559",
   "metadata": {},
   "outputs": [],
   "source": [
    "# Visualizar las variables clave\n",
    "daily_df.plot(subplots=True, figsize=(10, 8), grid=True)\n",
    "plt.tight_layout()\n",
    "plt.show()"
   ]
  },
  {
   "cell_type": "code",
   "execution_count": null,
   "id": "311d90db",
   "metadata": {},
   "outputs": [],
   "source": [
    "import seaborn as sns\n",
    "import matplotlib.pyplot as plt\n",
    "\n",
    "# Calcular matriz de correlación\n",
    "corr = daily_df.corr()\n",
    "\n",
    "# Representar heatmap\n",
    "plt.figure(figsize=(6, 6))\n",
    "sns.heatmap(corr, annot=True, cmap=\"coolwarm\", fmt=\".2f\")\n",
    "plt.title(\"Matriz de correlación entre variables\")\n",
    "plt.tight_layout()\n",
    "plt.show()"
   ]
  },
  {
   "cell_type": "markdown",
   "id": "a163d50d",
   "metadata": {},
   "source": [
    "### Paso 2: Separar datos de entrenamiento y validación\n",
    "Dividimos el dataset en entrenamiento y validación"
   ]
  },
  {
   "cell_type": "code",
   "execution_count": null,
   "id": "3a0978fb",
   "metadata": {},
   "outputs": [],
   "source": [
    "train_df = daily_df[daily_df.index.day <= 29]\n",
    "val_df = daily_df[daily_df.index.day > 29]\n",
    "\n",
    "# Prophet requiere columnas: 'ds' para fecha y 'y' para valor\n",
    "train_df = train_df.rename(columns={\"Energia Consumida\": \"y\"})\n",
    "val_df = val_df.rename(columns={\"Energia Consumida\": \"y\"})"
   ]
  },
  {
   "cell_type": "code",
   "execution_count": null,
   "id": "0b52bcf5",
   "metadata": {},
   "outputs": [],
   "source": [
    "print(\"Entrenamiento: {} muestras\".format(len(train_df)))\n",
    "print(\"Validación: {} muestras\".format(len(val_df)))"
   ]
  },
  {
   "cell_type": "markdown",
   "id": "f94e4d9e",
   "metadata": {},
   "source": [
    "### Paso 2: Añadir regresores al dataframe"
   ]
  },
  {
   "cell_type": "code",
   "execution_count": null,
   "id": "a061c5b2",
   "metadata": {},
   "outputs": [],
   "source": [
    "# Preparar dataset con variables externas (Temperatura y Humedad)\n",
    "train_reg_df = train_df.reset_index().rename(columns={\n",
    "    \"dt\": \"ds\",\n",
    "    \"Energia Consumida\": \"y\"\n",
    "})\n",
    "train_reg_df = train_reg_df[[\"ds\",\"y\"]]\n",
    "\n",
    "# Añadir regresores\n",
    "train_reg_df[\"temperatura\"] = train_df[\"Temperatura\"].values\n",
    "train_reg_df[\"humedad\"] = train_df[\"Humedad\"].values\n",
    "\n",
    "train_reg_df"
   ]
  },
  {
   "cell_type": "markdown",
   "id": "a3cb5bc6",
   "metadata": {},
   "source": [
    "---\n",
    "\n",
    "### Paso 3: Definir modelo con regresores"
   ]
  },
  {
   "cell_type": "code",
   "execution_count": null,
   "id": "c50f65c2",
   "metadata": {},
   "outputs": [],
   "source": [
    "model = Prophet()\n",
    "# model.add_regressor(\"temperatura\")\n",
    "# model.add_regressor(\"humedad\")\n",
    "\n",
    "model.fit(train_reg_df)"
   ]
  },
  {
   "cell_type": "markdown",
   "id": "4ceea4e3",
   "metadata": {},
   "source": [
    "---\n",
    "\n",
    "### Paso 3: Crear futuro con regresores"
   ]
  },
  {
   "cell_type": "code",
   "execution_count": null,
   "id": "015c90d4",
   "metadata": {},
   "outputs": [],
   "source": [
    "# Reconstruimos el dataset completo\n",
    "all_df = pd.concat([train_df, val_df], axis=0)\n",
    "all_df = all_df.rename({\"Temperatura\":\"temperatura\",\n",
    "                        \"Humedad\":\"humedad\",}, axis=1)\n"
   ]
  },
  {
   "cell_type": "code",
   "execution_count": null,
   "id": "a8353c0a",
   "metadata": {},
   "outputs": [],
   "source": [
    "# Duplicamos y eliminamos la variable a predecir\n",
    "future_df = all_df.copy()\n",
    "future_df = future_df.drop([\"y\"], axis=1)\n",
    "future_df['ds'] = future_df.index\n",
    "future_df"
   ]
  },
  {
   "cell_type": "markdown",
   "id": "b7f04949",
   "metadata": {},
   "source": [
    "---\n",
    "\n",
    "### Paso 4: Predecir y visualizar"
   ]
  },
  {
   "cell_type": "code",
   "execution_count": null,
   "id": "bc6e26fc",
   "metadata": {},
   "outputs": [],
   "source": [
    "forecast_reg = model.predict(future_df)\n",
    "\n",
    "# Visualización\n",
    "fig1 = model.plot(forecast_reg)\n",
    "fig2 = model.plot_components(forecast_reg)"
   ]
  },
  {
   "cell_type": "code",
   "execution_count": null,
   "id": "7b62d973",
   "metadata": {},
   "outputs": [],
   "source": [
    "import matplotlib.pyplot as plt\n",
    "\n",
    "train_df['ds'] = train_df.index\n",
    "val_df['ds'] = val_df.index\n",
    "# También puedes obtener el final de train como referencia\n",
    "cutoff_date = train_df['ds'].max()\n",
    "\n",
    "# Filtramos la parte futura del forecast\n",
    "forecast_reg_future = forecast_reg[forecast_reg[\"ds\"] > cutoff_date]\n",
    "\n",
    "# Graficamos todo\n",
    "plt.figure(figsize=(12, 6))\n",
    "\n",
    "# Serie real\n",
    "plt.plot(train_df[\"ds\"], train_df[\"y\"], label=\"Entrenamiento\", color=\"blue\")\n",
    "plt.plot(val_df[\"ds\"], val_df[\"y\"], label=\"Validación\", color=\"green\")\n",
    "\n",
    "# Predicción\n",
    "plt.plot(forecast_reg_future[\"ds\"], forecast_reg_future[\"yhat\"], label=\"Predicción Prophet\", color=\"orange\", linestyle=\"--\")\n",
    "\n",
    "# Intervalo de confianza\n",
    "plt.fill_between(forecast_reg_future[\"ds\"],\n",
    "                 forecast_reg_future[\"yhat_lower\"],\n",
    "                 forecast_reg_future[\"yhat_upper\"],\n",
    "                 color=\"blue\", alpha=0.2, label=\"Intervalo 95%\")\n",
    "\n",
    "# Formato\n",
    "plt.title(\"Predicción de Prophet vs serie real\")\n",
    "plt.xlabel(\"Fecha\")\n",
    "plt.ylabel(\"Consumo (kWh)\")\n",
    "plt.legend()\n",
    "plt.grid(True)\n",
    "plt.tight_layout()\n",
    "plt.show()"
   ]
  },
  {
   "cell_type": "code",
   "execution_count": null,
   "id": "a3a5f7cb",
   "metadata": {},
   "outputs": [],
   "source": [
    "# Graficamos todo\n",
    "plt.figure(figsize=(12, 6))\n",
    "\n",
    "# Serie real\n",
    "plt.plot(train_df[-96:][\"ds\"], train_df[-96:][\"y\"], label=\"Entrenamiento\", color=\"blue\")\n",
    "plt.plot(val_df[\"ds\"], val_df[\"y\"], label=\"Validación\", color=\"green\")\n",
    "\n",
    "# Predicción\n",
    "plt.plot(forecast_reg_future[\"ds\"], forecast_reg_future[\"yhat\"], label=\"Predicción Prophet\", color=\"orange\", linestyle=\"--\")\n",
    "plt.grid(True)\n",
    "plt.legend()\n",
    "plt.tight_layout()\n",
    "plt.show()"
   ]
  },
  {
   "cell_type": "markdown",
   "id": "93f53f1e",
   "metadata": {},
   "source": [
    "---\n",
    "\n",
    "### Paso 5: Evaluar el modelo"
   ]
  },
  {
   "cell_type": "code",
   "execution_count": null,
   "id": "c4a137e3",
   "metadata": {},
   "outputs": [],
   "source": [
    "from sklearn.metrics import mean_absolute_error, mean_squared_error\n",
    "import numpy as np\n",
    "\n",
    "mae = mean_absolute_error(val_df[\"y\"], forecast_reg_future[\"yhat\"])\n",
    "rmse = np.sqrt(mean_squared_error(val_df[\"y\"], forecast_reg_future[\"yhat\"]))\n",
    "\n",
    "print(f\"MAE: {mae:.2f}\")\n",
    "print(f\"RMSE: {rmse:.2f}\")"
   ]
  },
  {
   "cell_type": "markdown",
   "id": "af26735f",
   "metadata": {},
   "source": [
    "---\n",
    "\n",
    "## ✅ Resultado esperado\n",
    "\n",
    "- Preparar tus datos en formato adecuado para Prophet.\n",
    "- Entrenar modelos con y sin regresores externos.\n",
    "- Visualizar tendencias, estacionalidades y componentes.\n",
    "- Comparar predicciones y detectar el efecto de variables como temperatura o humedad."
   ]
  }
 ],
 "metadata": {
  "jupytext": {
   "cell_metadata_filter": "-all",
   "main_language": "python",
   "notebook_metadata_filter": "-all"
  },
  "kernelspec": {
   "display_name": "ibbi",
   "language": "python",
   "name": "python3"
  },
  "language_info": {
   "codemirror_mode": {
    "name": "ipython",
    "version": 3
   },
   "file_extension": ".py",
   "mimetype": "text/x-python",
   "name": "python",
   "nbconvert_exporter": "python",
   "pygments_lexer": "ipython3",
   "version": "3.12.9"
  }
 },
 "nbformat": 4,
 "nbformat_minor": 5
}
