{
 "cells": [
  {
   "cell_type": "markdown",
   "metadata": {},
   "source": [
    "## E2. Introducción a Numpy\n",
    "`Numpy` es una librería que nos permite manejar arrays multidimensionales de manera eficiente. A continuación, veremos cómo crear y manipular arrays."
   ]
  },
  {
   "cell_type": "code",
   "execution_count": null,
   "metadata": {},
   "outputs": [],
   "source": [
    "# Importar la librería numpy\n",
    "import numpy as np\n"
   ]
  },
  {
   "cell_type": "markdown",
   "metadata": {},
   "source": [
    "### Crear un array\n",
    "Crea un array a partir de una lista o tupla. (`np.array()`)"
   ]
  },
  {
   "cell_type": "code",
   "execution_count": null,
   "metadata": {},
   "outputs": [],
   "source": [
    "# Crear un array de números enteros\n",
    "a = np.array([1, 2, 3, 4, 5])\n",
    "print('Array:', a)"
   ]
  },
  {
   "cell_type": "markdown",
   "metadata": {},
   "source": [
    "### Crear arrays con valores iniciales\n",
    "Genera arrays con valores predefinidos (`np.zeros()`, `np.ones()`, `np.arange()`)"
   ]
  },
  {
   "cell_type": "code",
   "execution_count": null,
   "metadata": {},
   "outputs": [],
   "source": [
    "zeros = np.zeros(5)       # Array de ceros\n",
    "ones = np.ones((2, 3))    # Matriz 2x3 de unos\n",
    "rango = np.arange(0, 10, 2)  # Array de 0 a 9 con paso 2\n",
    "print(zeros)\n",
    "print(ones)\n",
    "print(rango)"
   ]
  },
  {
   "cell_type": "markdown",
   "metadata": {},
   "source": [
    "### Generar un array aleatorio\n",
    "Genera un array con valores aleatorios entre 0 y 1 (`np.random.random(`)`)"
   ]
  },
  {
   "cell_type": "code",
   "execution_count": null,
   "metadata": {},
   "outputs": [],
   "source": [
    "random_arr = np.random.random(5)\n",
    "print(random_arr)"
   ]
  },
  {
   "cell_type": "markdown",
   "metadata": {},
   "source": [
    "### Acceder a elementos y rangos\n",
    "Accede a elementos o rangos de un array. (a[index], a[start:end])"
   ]
  },
  {
   "cell_type": "code",
   "execution_count": null,
   "metadata": {},
   "outputs": [],
   "source": [
    "print(a[0])      # Primer elemento\n",
    "print(a[1:4])    # Rango del índice 1 al 3"
   ]
  },
  {
   "cell_type": "markdown",
   "metadata": {},
   "source": [
    "### Obtener información del array\n",
    "Consulta la forma, el tipo de datos y el tamaño del array. (`shape`, `dtype`, `size`)"
   ]
  },
  {
   "cell_type": "code",
   "execution_count": null,
   "metadata": {},
   "outputs": [],
   "source": [
    "print(a.shape)   # Dimensiones del array\n",
    "print(a.dtype)   # Tipo de datos\n",
    "print(a.size)    # Número total de elementos"
   ]
  },
  {
   "cell_type": "markdown",
   "metadata": {},
   "source": [
    "### Operaciones matemáticas\n",
    "Puedes realizar operaciones matemáticas elementales con los arrays de `numpy` de forma eficiente."
   ]
  },
  {
   "cell_type": "code",
   "execution_count": null,
   "metadata": {},
   "outputs": [],
   "source": [
    "# Sumar 10 a cada elemento del array\n",
    "b = a + 10\n",
    "print('Array después de sumar 10:', b)\n",
    "\n",
    "# Multiplicar cada elemento por 2\n",
    "c = a * 2\n",
    "print('Array después de multiplicar por 2:', c)\n",
    "\n",
    "# Suma elemento a elemento\n",
    "d =  a + b\n",
    "print('Array de suma elemento a elemento:', d)"
   ]
  },
  {
   "cell_type": "markdown",
   "metadata": {},
   "source": [
    "### Calcular estadísticas básicas\n",
    "Calcula estadísticas básicas en el array. (`np.mean()`, `np.max()`, `np.min()`, `np.sum()`)"
   ]
  },
  {
   "cell_type": "code",
   "execution_count": null,
   "metadata": {},
   "outputs": [],
   "source": [
    "print(\"Media:\", np.mean(a))\n",
    "print(\"Máximo:\", np.max(a))\n",
    "print(\"Mínimo:\", np.min(a))\n",
    "print(\"Suma:\", np.sum(a))"
   ]
  },
  {
   "cell_type": "markdown",
   "metadata": {},
   "source": [
    "### Filtrar elementos \n",
    "Filtra elementos que cumplen con una condición. (`a[condición]`)"
   ]
  },
  {
   "cell_type": "code",
   "execution_count": null,
   "metadata": {},
   "outputs": [],
   "source": [
    "filtro = a[a > 3]   # Elementos mayores que 3\n",
    "print(filtro)"
   ]
  },
  {
   "cell_type": "markdown",
   "metadata": {},
   "source": [
    "### Arrays multidimensionales\n",
    "A continuación crearemos un array bidimensional (matriz) con `numpy`."
   ]
  },
  {
   "cell_type": "code",
   "execution_count": null,
   "metadata": {},
   "outputs": [],
   "source": [
    "# Crear una matriz 3x3\n",
    "m = np.array([[1, 2, 3], [4, 5, 6], [7, 8, 9]])\n",
    "print('Matriz 3x3:\\n', m)"
   ]
  },
  {
   "cell_type": "code",
   "execution_count": null,
   "metadata": {},
   "outputs": [],
   "source": [
    "print(m.shape)\n",
    "print(m[0, 0], m[0, 1], m[1, 0])"
   ]
  },
  {
   "cell_type": "markdown",
   "metadata": {},
   "source": [
    "### Operaciones de álgebra lineal\n",
    "Realiza operaciones de álgebra lineal, como el producto de matrices y la transposición. (`np.dot()`, `np.transpose()`)"
   ]
  },
  {
   "cell_type": "code",
   "execution_count": null,
   "metadata": {},
   "outputs": [],
   "source": [
    "A = np.array([[1, 2], [3, 4]])\n",
    "B = np.array([[5, 6], [7, 8]])\n",
    "producto_matriz = np.dot(A, B)  # Producto matricial\n",
    "transpuesta = np.transpose(A)   # Transpuesta de A\n",
    "print(producto_matriz)\n",
    "print(transpuesta)"
   ]
  }
 ],
 "metadata": {
  "kernelspec": {
   "display_name": "ibbi",
   "language": "python",
   "name": "python3"
  },
  "language_info": {
   "codemirror_mode": {
    "name": "ipython",
    "version": 3
   },
   "file_extension": ".py",
   "mimetype": "text/x-python",
   "name": "python",
   "nbconvert_exporter": "python",
   "pygments_lexer": "ipython3",
   "version": "3.12.0"
  }
 },
 "nbformat": 4,
 "nbformat_minor": 4
}
