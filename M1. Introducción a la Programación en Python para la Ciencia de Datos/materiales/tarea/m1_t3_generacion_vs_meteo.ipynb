{
 "cells": [
  {
   "cell_type": "markdown",
   "id": "23ea75bc",
   "metadata": {},
   "source": [
    "### **Tarea 3: Análisis de la Generación Fotovoltaica y Factores Meteorológicos**\n",
    "\n",
    "---\n",
    "\n",
    "### **Contexto**:\n",
    "Tienes un conjunto de datos que incluye registros diarios de **temperatura**, **radiación solar**, **humedad**, y **producción de energía fotovoltaica** durante un mes. El objetivo del análisis es identificar cómo las condiciones meteorológicas afectan la **generación de energía solar**.\n",
    "\n",
    "### **Datos de Ejemplo**:\n",
    "El conjunto de datos incluye las siguientes columnas:\n",
    "\n",
    "- **Fecha**: La fecha de la observación.\n",
    "- **Temperatura (°C)**: Temperatura media diaria.\n",
    "- **Radiación Solar (W/m²)**: Radiación solar media diaria.\n",
    "- **Humedad (%)**: Humedad relativa media diaria.\n",
    "- **Generación Fotovoltaica (kWh)**: Energía generada por un sistema fotovoltaico.\n",
    "\n",
    "---\n",
    "\n",
    "### Generar un DataFrame Simulado con Datos"
   ]
  },
  {
   "cell_type": "code",
   "execution_count": null,
   "id": "768be03f",
   "metadata": {},
   "outputs": [],
   "source": [
    "import pandas as pd\n",
    "import numpy as np\n",
    "import matplotlib.pyplot as plt\n",
    "import seaborn as sns\n",
    "\n",
    "# Generar datos simulados\n",
    "np.random.seed(42)\n",
    "fechas = pd.date_range(start=\"2024-10-01\", periods=30)\n",
    "\n",
    "datos = {\n",
    "    \"Fecha\": fechas,\n",
    "    \"Temperatura (°C)\": np.random.uniform(15, 35, size=30),\n",
    "    \"Radiación Solar (W/m²)\": np.random.uniform(200, 1000, size=30),\n",
    "    \"Humedad (%)\": np.random.uniform(30, 80, size=30),\n",
    "    \"Generación Fotovoltaica (kWh)\": np.random.uniform(100, 500, size=30)\n",
    "}\n",
    "\n",
    "df = pd.DataFrame(datos)\n",
    "df.set_index(\"Fecha\", inplace=True)\n",
    "\n",
    "# Mostrar las primeras filas del DataFrame\n",
    "print(\"Datos Meteorológicos y de Generación Fotovoltaica:\")\n",
    "print(df.head())"
   ]
  },
  {
   "cell_type": "markdown",
   "id": "fd0f5e8b",
   "metadata": {},
   "source": [
    "---\n",
    "\n",
    "### Instrucciones\n",
    "\n",
    "**Objetivos del ejercicio**:\n",
    "\n",
    "1. **Visualizar la evolución diaria** de la **temperatura, radiación solar y generación fotovoltaica** utilizando gráficos de líneas.\n",
    "2. Calcular y **visualizar las correlaciones** entre las variables para entender su relación.\n",
    "3. Utilizar un **gráfico de dispersión (scatter plot)** para analizar la relación entre:\n",
    "   - Radiación solar y generación fotovoltaica.\n",
    "   - Temperatura y generación fotovoltaica.\n",
    "   - Humedad y generación fotovoltaica.\n",
    "4. Crear un **mapa de calor (heatmap)** que muestre las correlaciones entre las variables.\n",
    "\n",
    "---\n",
    "\n",
    "**Resultados esperados**:\n",
    "\n",
    "- El **mapa de calor** debería mostrar una correlación positiva fuerte entre **Radiación Solar** y **Generación Fotovoltaica**.\n",
    "- Las **gráficas de dispersión** te ayudarán a identificar tendencias y relaciones no lineales, como el posible impacto negativo de **altas temperaturas** o **altos niveles de humedad** en la eficiencia de la generación solar.\n",
    "\n",
    "### Solución del Ejercicio"
   ]
  },
  {
   "cell_type": "code",
   "execution_count": null,
   "id": "0b5c6a0b",
   "metadata": {},
   "outputs": [],
   "source": [
    "# 1. Visualizar la evolución diaria de las variables\n"
   ]
  },
  {
   "cell_type": "code",
   "execution_count": null,
   "id": "157c3182",
   "metadata": {},
   "outputs": [],
   "source": [
    "# 2. Calcular las correlaciones.\n"
   ]
  },
  {
   "cell_type": "code",
   "execution_count": null,
   "id": "d64b6068",
   "metadata": {},
   "outputs": [],
   "source": [
    "# 3. Visualizar un mapa de calor de correlaciones\n",
    "plt.figure(figsize=(8, 5))\n"
   ]
  },
  {
   "cell_type": "code",
   "execution_count": null,
   "id": "2ba4a4ab",
   "metadata": {},
   "outputs": [],
   "source": [
    "# 4. Gráficos de dispersión para analizar correlaciones específicas\n",
    "\n",
    "# Relación entre Radiación Solar y Generación Fotovoltaica\n",
    "plt.figure(figsize=(8, 5))\n"
   ]
  },
  {
   "cell_type": "code",
   "execution_count": null,
   "id": "2265887d",
   "metadata": {},
   "outputs": [],
   "source": [
    "# Relación entre Temperatura y Generación Fotovoltaica\n",
    "plt.figure(figsize=(8, 5))\n"
   ]
  },
  {
   "cell_type": "code",
   "execution_count": null,
   "id": "ca76db2e",
   "metadata": {
    "lines_to_next_cell": 0
   },
   "outputs": [],
   "source": [
    "# Relación entre Humedad y Generación Fotovoltaica\n",
    "plt.figure(figsize=(8, 5))\n"
   ]
  },
  {
   "cell_type": "markdown",
   "id": "1fc7d7eb",
   "metadata": {},
   "source": [
    "---"
   ]
  }
 ],
 "metadata": {
  "jupytext": {
   "cell_metadata_filter": "-all",
   "main_language": "python",
   "notebook_metadata_filter": "-all"
  }
 },
 "nbformat": 4,
 "nbformat_minor": 5
}
