{
 "cells": [
  {
   "cell_type": "markdown",
   "metadata": {},
   "source": [
    "# E5. Manipulación y análisis de datos de energía\n",
    "Este notebook analiza un dataset de consumo energético en W a lo largo de 365 días.\n",
    "El objetivo es realizar un análisis estadístico y una visualización sencilla usando `pandas` y `matplotlib`."
   ]
  },
  {
   "cell_type": "code",
   "execution_count": null,
   "metadata": {},
   "outputs": [],
   "source": [
    "# Importar las librerías necesarias\n",
    "import pandas as pd\n",
    "import numpy as np\n",
    "import matplotlib.pyplot as plt"
   ]
  },
  {
   "cell_type": "code",
   "execution_count": null,
   "metadata": {},
   "outputs": [],
   "source": [
    "# Cargar el dataset desde un archivo CSV\n",
    "url = 'data/m1_e5_datos_energia.csv'  # Cambiar por la ruta local si es necesario\n",
    "df = pd.read_csv(url)\n",
    "# Convertimos el campo 'Fecha' a un objeto de tipo datetime (fecha)\n",
    "df['Fecha'] = pd.to_datetime(df['Fecha'])\n",
    "# Fijamos 'Fecha' com índice\n",
    "df = df.set_index('Fecha')\n",
    "df.head()"
   ]
  },
  {
   "cell_type": "code",
   "execution_count": null,
   "metadata": {},
   "outputs": [],
   "source": [
    "# Información del conjunto de datos cargado\n",
    "df.info()"
   ]
  },
  {
   "cell_type": "markdown",
   "metadata": {},
   "source": [
    "## Estadísticas Descriptivas\n",
    "Vamos a calcular las estadísticas básicas del consumo de energía y costo."
   ]
  },
  {
   "cell_type": "code",
   "execution_count": null,
   "metadata": {},
   "outputs": [],
   "source": [
    "# Calcular estadísticas descriptivas\n",
    "df.describe()"
   ]
  },
  {
   "cell_type": "markdown",
   "metadata": {},
   "source": [
    "## Visualización de los datos\n",
    "A continuación, visualizamos el consumo de energía diario a lo largo del tiempo."
   ]
  },
  {
   "cell_type": "code",
   "execution_count": null,
   "metadata": {},
   "outputs": [],
   "source": [
    "# Crear una gráfica de consumo de energía\n",
    "plt.figure(figsize=(10, 6))\n",
    "plt.plot(df.index, df['Consumo'], marker='o')\n",
    "plt.title('Consumos Diarios de Energía')\n",
    "plt.xlabel('Fecha')\n",
    "plt.ylabel('Energy Consumption (kWh)')\n",
    "plt.grid(True)\n",
    "plt.xticks(rotation=45)\n",
    "plt.show()"
   ]
  },
  {
   "cell_type": "markdown",
   "metadata": {},
   "source": [
    "#### Filtrado de datos\n",
    "Seleccionamos un rango mas reducido de datos para su análisis"
   ]
  },
  {
   "cell_type": "code",
   "execution_count": null,
   "metadata": {},
   "outputs": [],
   "source": [
    "# Filtramos datos del primer trimestre\n",
    "t1_df = df[df.index.month < 4]\n",
    "# Crear una gráfica de consumo de energía\n",
    "plt.figure(figsize=(10, 6))\n",
    "plt.plot(t1_df.index, t1_df['Consumo'], marker='o')\n",
    "plt.title('Consumos Diarios de Energía')\n",
    "plt.xlabel('Fecha')\n",
    "plt.ylabel('Potencia Promedio (kW)')\n",
    "plt.grid(True)\n",
    "plt.xticks(rotation=45)\n",
    "plt.show()"
   ]
  },
  {
   "cell_type": "markdown",
   "metadata": {},
   "source": [
    "### Carga de otros datos y filtrado\n",
    "Ahora cargaremos otro conjunto de datos de consumos de un edificio de oficina en el mismo rango"
   ]
  },
  {
   "cell_type": "code",
   "execution_count": null,
   "metadata": {},
   "outputs": [],
   "source": [
    "url = 'data/m1_e5_datos_energia_oficina.csv'  # Cambiar por la ruta local si es necesario\n",
    "oficina_df = pd.read_csv(url)\n",
    "# Convertimos el campo 'Fecha' a un objeto de tipo datetime (fecha)\n",
    "oficina_df['Fecha'] = pd.to_datetime(oficina_df['Fecha'])\n",
    "# Fijamos 'Fecha' com índice\n",
    "oficina_df = oficina_df.set_index('Fecha')\n",
    "oficina_df.head()"
   ]
  },
  {
   "cell_type": "code",
   "execution_count": null,
   "metadata": {},
   "outputs": [],
   "source": [
    "# Filtramos datos del primer trimestre\n",
    "oficina_t1_df = oficina_df[oficina_df.index.month < 4]\n",
    "# Crear una gráfica de consumo de energía\n",
    "plt.figure(figsize=(10, 6))\n",
    "plt.plot(oficina_t1_df.index, oficina_t1_df['Consumo'], marker='o')\n",
    "plt.xticks(ticks=oficina_t1_df.index[::len(oficina_t1_df) // 12], labels=oficina_t1_df.index[::len(oficina_t1_df) // 12], rotation=45)\n",
    "plt.title('Consumos Diarios de Energía')\n",
    "plt.xlabel('Fecha')\n",
    "plt.ylabel('Potencia Promedio (kW)')\n",
    "plt.grid(True)\n",
    "plt.xticks(rotation=45)\n",
    "plt.show()"
   ]
  },
  {
   "cell_type": "markdown",
   "metadata": {},
   "source": [
    "### Combinación de datos de diferente fuentes"
   ]
  },
  {
   "cell_type": "code",
   "execution_count": null,
   "metadata": {},
   "outputs": [],
   "source": [
    "# Renombrar columnas para diferenciarlas\n",
    "a_df = t1_df.rename(columns={\n",
    "    \"Consumo\": \"Consumo_A\",\n",
    "    \"Consumo_Minimo\": \"Consumo_Minimo_A\",\n",
    "    \"Consumo_Maximo\": \"Consumo_Maximo_A\"\n",
    "}, inplace=False)\n",
    "\n",
    "b_df = oficina_t1_df.rename(columns={\n",
    "    \"Consumo\": \"Consumo_B\",\n",
    "    \"Consumo_Minimo\": \"Consumo_Minimo_B\",\n",
    "    \"Consumo_Maximo\": \"Consumo_Maximo_B\"\n",
    "}, inplace=False)\n",
    "\n",
    "# Combinar los DataFrames por su índice (Fecha)\n",
    "df_combined = pd.merge(a_df, b_df, left_index=True, right_index=True, how=\"inner\")\n",
    "\n",
    "# Mostrar el DataFrame combinado\n",
    "print(\"\\nDataFrame Combinado:\")\n",
    "print(df_combined.head())\n",
    "\n",
    "# Graficar las columnas combinadas\n",
    "plt.figure(figsize=(10, 6))\n",
    "plt.plot(df_combined.index, df_combined[\"Consumo_A\"], label=\"Consumo A\", marker='o')\n",
    "plt.plot(df_combined.index, df_combined[\"Consumo_B\"], label=\"Consumo B\", marker='o')\n",
    "\n",
    "# Personalizar el gráfico\n",
    "plt.title(\"Comparación de Consumos\")\n",
    "plt.xlabel(\"Fecha\")\n",
    "plt.ylabel(\"Consumo (kWh)\")\n",
    "plt.legend()\n",
    "plt.grid(True)\n",
    "plt.xticks(rotation=45)\n",
    "plt.tight_layout()\n",
    "plt.show()"
   ]
  }
 ],
 "metadata": {
  "kernelspec": {
   "display_name": "ibbi",
   "language": "python",
   "name": "python3"
  },
  "language_info": {
   "codemirror_mode": {
    "name": "ipython",
    "version": 3
   },
   "file_extension": ".py",
   "mimetype": "text/x-python",
   "name": "python",
   "nbconvert_exporter": "python",
   "pygments_lexer": "ipython3",
   "version": "3.12.0"
  }
 },
 "nbformat": 4,
 "nbformat_minor": 4
}
