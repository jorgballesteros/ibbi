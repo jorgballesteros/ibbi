{
 "cells": [
  {
   "cell_type": "markdown",
   "metadata": {},
   "source": [
    "## E6. Visualización de datos de energía"
   ]
  },
  {
   "cell_type": "markdown",
   "metadata": {},
   "source": [
    "### Carga de datos desde fichero CSV\n",
    "La carga de datos en pandas es una de las tareas más comunes y puede realizarse utilizando la función pd.read_csv() para archivos CSV."
   ]
  },
  {
   "cell_type": "code",
   "execution_count": null,
   "metadata": {},
   "outputs": [],
   "source": [
    "import pandas as pd\n",
    "import numpy as np\n",
    "\n",
    "# Carga de datos de energía\n",
    "energia_df = pd.read_csv('data/m1_e5_datos_energia_mes.csv', index_col=0)\n",
    "print(energia_df.head())"
   ]
  },
  {
   "cell_type": "markdown",
   "metadata": {},
   "source": [
    "### Gráfico de Barras:\n",
    "Los gráficos de barras se utilizan principalmente para comparar cantidades entre diferentes categorías o grupos.\n",
    "\n",
    "#### Características principales:\n",
    "- **Comparación de categorías**: Son ideales para mostrar comparaciones directas entre diferentes grupos o categorías. Cada barra representa una categoría, y la altura o longitud de la barra indica la cantidad asociada a esa categoría.\n",
    "- **Visualización discreta**: Se utilizan mejor para datos discretos (por ejemplo, ventas por producto, población por país, etc.).\n",
    "- **Claridad en diferencias**: Ayuda a visualizar diferencias entre categorías que no están relacionadas de forma secuencial."
   ]
  },
  {
   "cell_type": "code",
   "execution_count": null,
   "metadata": {},
   "outputs": [],
   "source": [
    "import matplotlib.pyplot as plt\n",
    "\n",
    "# Nos aseguramos que el índice es un objeto fecha\n",
    "energia_df = energia_df.set_index(pd.to_datetime(energia_df.index))\n",
    "# Crear nuevas columnas para el mes y el año\n",
    "energia_df['Mes'] = energia_df.index.month  # Extraer el mes\n",
    "energia_df['Año'] = energia_df.index.year   # Extraer el año\n",
    "\n",
    "# Gráfico de barras del consumo de energía\n",
    "energia_df = energia_df.set_index('Mes')\n",
    "energia_df['Consumo'].plot(kind='bar')\n",
    "plt.title('Consumo de Energía Mensual')\n",
    "plt.xlabel('Mes')\n",
    "plt.ylabel('Consumo (kWh)')\n",
    "plt.xticks(rotation=45)  # Rotar etiquetas del eje x para mejor visibilidad\n",
    "plt.show()"
   ]
  },
  {
   "cell_type": "markdown",
   "metadata": {},
   "source": [
    "### Gráfico de Líneas:\n",
    "Los gráficos de líneas son útiles para visualizar la evolución de una variable a lo largo del tiempo o para mostrar la relación entre datos secuenciales.\n",
    "\n",
    "#### Características principales:\n",
    "- **Tendencias a lo largo del tiempo**: Se utilizan principalmente para mostrar cómo cambian las variables continuas a lo largo del tiempo o en secuencias ordenadas. Es ideal para series temporales.\n",
    "- **Continuidad**: Conectan puntos de datos con líneas, lo que ayuda a resaltar las tendencias o patrones en datos continuos.\n",
    "- **Diferencias sutiles**: Las líneas permiten visualizar pequeños cambios o variaciones entre los puntos de datos."
   ]
  },
  {
   "cell_type": "code",
   "execution_count": null,
   "metadata": {},
   "outputs": [],
   "source": [
    "energia_df[['Consumo', 'Consumo_Minimo', 'Consumo_Maximo']].plot()\n",
    "plt.title('Consumo de Energía Mensual')\n",
    "plt.xlabel('Mes')\n",
    "plt.ylabel('Consumo (kWh)')\n",
    "plt.xticks(rotation=45)  # Rotar etiquetas del eje x para mejor visibilidad\n",
    "plt.show()"
   ]
  },
  {
   "cell_type": "markdown",
   "metadata": {},
   "source": []
  },
  {
   "cell_type": "code",
   "execution_count": null,
   "metadata": {},
   "outputs": [],
   "source": [
    "plt.plot(energia_df.index, energia_df[['Consumo', 'Consumo_Minimo', 'Consumo_Maximo']], marker='o')\n",
    "plt.title('Evolución del Consumo de Energía')\n",
    "plt.xlabel('Fecha')\n",
    "plt.ylabel('Consumo (kWh)')\n",
    "plt.xticks(rotation=45)\n",
    "plt.grid(True)\n",
    "plt.show()"
   ]
  },
  {
   "cell_type": "markdown",
   "metadata": {},
   "source": [
    "### Diferencias Clave:\n",
    "1. **Tipo de datos**:\n",
    "   - **Barras**: Son mejores para comparar categorías independientes o discretas.\n",
    "   - **Líneas**: Son mejores para mostrar tendencias en datos continuos o secuenciales (como una serie temporal).\n",
    "\n",
    "2. **Propósito**:\n",
    "   - **Barras**: Enfatizan la comparación entre diferentes grupos o categorías.\n",
    "   - **Líneas**: Enfatizan la evolución o tendencia de los datos a lo largo del tiempo.\n",
    "\n",
    "3. **Claridad visual**:\n",
    "   - **Barras**: Son más claras cuando los valores no están conectados o no tienen una relación de continuidad.\n",
    "   - **Líneas**: Ayudan a mostrar la continuidad y los cambios graduales en los datos.\n",
    "\n",
    "### ¿Cuándo usar cada uno?\n",
    "- **Gráfico de Barras**: Cuando quieres comparar cantidades entre varias categorías independientes (por ejemplo, consumo de energía por tipo de electrodoméstico).\n",
    "- **Gráfico de Líneas**: Cuando deseas mostrar cómo cambia una variable con el tiempo o en secuencia (por ejemplo, evolución del consumo de energía mes a mes)."
   ]
  },
  {
   "cell_type": "markdown",
   "metadata": {},
   "source": [
    "### Histograma\n",
    "Un histograma es un tipo de gráfico que muestra la distribución de frecuencias de un conjunto de datos numéricos. Representa cómo se distribuyen los valores de una variable continua o cuantitativa en diferentes rangos o \"bins\" (intervalos), lo que permite visualizar la forma de la distribución, como si fuera un resumen visual de los datos.\n",
    "\n",
    "#### Partes de un histograma:\n",
    "* Eje X (Horizontal): Muestra los intervalos o rangos de los valores de la variable.\n",
    "  * Por ejemplo, si tienes datos de consumos de energía, el eje X puede representar diferentes rangos de consumo (por ejemplo, 100-150 kWh, 150-200 kWh, etc.).\n",
    "* Eje Y (Vertical): Muestra la frecuencia, es decir, cuántos valores de datos caen dentro de cada intervalo.\n",
    "  * Por ejemplo, cuántos días tuvieron un consumo de energía entre 100 y 150 kWh.\n",
    "* Barras: Cada barra del histograma representa la cantidad de observaciones (frecuencia) dentro de un intervalo específico de la variable.\n",
    "  * La altura de cada barra refleja cuántos datos caen en ese intervalo.\n"
   ]
  },
  {
   "cell_type": "code",
   "execution_count": null,
   "metadata": {},
   "outputs": [],
   "source": [
    "# Crear el histograma de la columna 'Consumo'\n",
    "plt.figure(figsize=(8, 6))\n",
    "plt.hist(energia_df['Consumo'], bins=10, edgecolor='black')\n",
    "\n",
    "# Añadir títulos y etiquetas\n",
    "plt.title('Histograma de Consumo de Energía', fontsize=16)\n",
    "plt.xlabel('Consumo (kWh)', fontsize=14)\n",
    "plt.ylabel('Frecuencia', fontsize=14)"
   ]
  },
  {
   "cell_type": "markdown",
   "metadata": {},
   "source": [
    "#### ¿Qué muestra un histograma?\n",
    "* Distribución: El histograma te permite ver cómo están distribuidos los datos. Por ejemplo, si los valores se agrupan más en ciertos rangos o si están repartidos uniformemente.\n",
    "* Frecuencia: Muestra cuántas veces ocurren los valores dentro de ciertos intervalos. Puedes ver si hay valores atípicos (outliers) o si la mayor parte de los datos se concentra en una región específica.\n",
    "* Forma de la distribución: Un histograma puede ayudarte a identificar la forma de la distribución de los datos:\n",
    "  * Distribución normal: Tiene una forma de campana, con la mayoría de los datos agrupados cerca de la media.\n",
    "  * Distribución sesgada: Si hay una inclinación hacia la izquierda o derecha, puede sugerir una asimetría en los datos.\n",
    "  * Distribución uniforme: Todos los intervalos tienen aproximadamente la misma frecuencia.\n"
   ]
  }
 ],
 "metadata": {
  "kernelspec": {
   "display_name": "ibbi",
   "language": "python",
   "name": "python3"
  },
  "language_info": {
   "codemirror_mode": {
    "name": "ipython",
    "version": 3
   },
   "file_extension": ".py",
   "mimetype": "text/x-python",
   "name": "python",
   "nbconvert_exporter": "python",
   "pygments_lexer": "ipython3",
   "version": "3.12.0"
  }
 },
 "nbformat": 4,
 "nbformat_minor": 2
}
