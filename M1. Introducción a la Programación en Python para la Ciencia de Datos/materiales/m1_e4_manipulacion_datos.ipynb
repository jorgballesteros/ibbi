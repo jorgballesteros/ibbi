{
 "cells": [
  {
   "cell_type": "markdown",
   "metadata": {},
   "source": [
    "# E4. Manipulación y análisis de datos de energía\n",
    "Este notebook analiza un pequeño dataset de consumo energético y costos asociados a lo largo de 10 días.\n",
    "El objetivo es realizar un análisis estadístico y una visualización sencilla usando `pandas` y `matplotlib`."
   ]
  },
  {
   "cell_type": "code",
   "execution_count": null,
   "metadata": {},
   "outputs": [],
   "source": [
    "# Importar las librerías necesarias\n",
    "import pandas as pd\n",
    "import numpy as np\n",
    "import matplotlib.pyplot as plt"
   ]
  },
  {
   "cell_type": "code",
   "execution_count": null,
   "metadata": {},
   "outputs": [],
   "source": [
    "# Cargar el dataset desde un archivo CSV\n",
    "url = 'data/m1_e4_datos_energia.csv'  # Cambiar por la ruta local si es necesario\n",
    "df = pd.read_csv(url, index_col=0)\n",
    "df.head()"
   ]
  },
  {
   "cell_type": "markdown",
   "metadata": {},
   "source": [
    "## Estadísticas Descriptivas\n",
    "Vamos a calcular las estadísticas básicas del consumo de energía y costo."
   ]
  },
  {
   "cell_type": "code",
   "execution_count": null,
   "metadata": {},
   "outputs": [],
   "source": [
    "# Calcular estadísticas descriptivas\n",
    "df.describe()"
   ]
  },
  {
   "cell_type": "markdown",
   "metadata": {},
   "source": [
    "## Visualización de los datos\n",
    "A continuación, visualizamos el consumo de energía diario a lo largo del tiempo."
   ]
  },
  {
   "cell_type": "code",
   "execution_count": null,
   "metadata": {},
   "outputs": [],
   "source": [
    "# Crear una gráfica de consumo de energía\n",
    "plt.figure(figsize=(10, 6))\n",
    "plt.plot(df.index, df['Consumo'], marker='o')\n",
    "plt.xticks(ticks=df.index[::len(df) // 12], labels=df.index[::len(df) // 12], rotation=45)\n",
    "plt.title('Consumos Diarios de Energía')\n",
    "plt.xlabel('Fecha')\n",
    "plt.ylabel('Energy Consumption (kWh)')\n",
    "plt.grid(True)\n",
    "plt.xticks(rotation=45)\n",
    "plt.show()"
   ]
  }
 ],
 "metadata": {
  "kernelspec": {
   "display_name": "ibbi",
   "language": "python",
   "name": "python3"
  },
  "language_info": {
   "codemirror_mode": {
    "name": "ipython",
    "version": 3
   },
   "file_extension": ".py",
   "mimetype": "text/x-python",
   "name": "python",
   "nbconvert_exporter": "python",
   "pygments_lexer": "ipython3",
   "version": "3.12.0"
  }
 },
 "nbformat": 4,
 "nbformat_minor": 4
}
