{
 "cells": [
  {
   "cell_type": "markdown",
   "metadata": {},
   "source": [
    "## E5. Carga de datos en Pandas"
   ]
  },
  {
   "cell_type": "markdown",
   "metadata": {},
   "source": [
    "El dataset de consumo de energía a utlizar en este ejercicio es el siguiente\n",
    "\n",
    "### Dataset Actualizado de Consumo de Energía\n",
    "\n",
    "```csv\n",
    "Fecha,Consumo,Consumo_Maximo,Consumo_Minimo,Consumo_Promedio\n",
    "2024-01-01,200.5,250.0,180.0,210.0\n",
    "2024-02-01,220.0,270.0,190.0,230.0\n",
    "2024-03-01,240.7,290.0,210.0,250.0\n",
    "2024-04-01,260.4,310.0,230.0,270.0\n",
    "2024-05-01,280.8,350.0,250.0,290.0\n",
    "2024-06-01,400.0,450.0,370.0,410.0\n",
    "2024-07-01,480.5,520.0,450.0,490.0\n",
    "2024-08-01,500.0,550.0,480.0,510.0\n",
    "2024-09-01,360.2,400.0,340.0,360.0\n",
    "2024-10-01,300.0,340.0,260.0,290.0\n",
    "2024-11-01,250.1,290.0,230.0,260.0\n",
    "2024-12-01,220.2,270.0,200.0,230.0\n",
    "```\n",
    "\n",
    "### Descripción de los Valores\n",
    "\n",
    "El dataset de consumo de energía contiene información mensual sobre el consumo energético en un formato de marca de tiempo. La columna \"Fecha\" representa el primer día de cada mes durante el año 2024. Las columnas adicionales incluyen \"Consumo\", que indica el consumo total de energía en kilovatios-hora (kWh), así como \"Consumo_Maximo\" y \"Consumo_Minimo\", que reflejan los valores máximos y mínimos de consumo registrados en cada mes, respectivamente. Por último, la columna \"Consumo_Promedio\" proporciona el promedio de consumo para cada mes, permitiendo así un análisis más detallado de las tendencias y variaciones en el uso de energía a lo largo del año. Este dataset es útil para realizar análisis estadísticos y visualizaciones que ayuden a comprender mejor los patrones de consumo energético y a identificar posibles áreas de mejora en la eficiencia energética."
   ]
  },
  {
   "cell_type": "markdown",
   "metadata": {},
   "source": [
    "### Carga de datos desde fichero CSV\n",
    "La carga de datos en pandas es una de las tareas más comunes y puede realizarse utilizando la función pd.read_csv() para archivos CSV. A continuación, se detallan varios parámetros útiles, así como ejemplos de cómo utilizarlos."
   ]
  },
  {
   "cell_type": "code",
   "execution_count": 20,
   "metadata": {},
   "outputs": [
    {
     "name": "stdout",
     "output_type": "stream",
     "text": [
      "Requirement already satisfied: pandas in /Users/jballesteros/.virtualenvs/ibbi/lib/python3.12/site-packages (2.2.3)\n",
      "Requirement already satisfied: numpy>=1.26.0 in /Users/jballesteros/.virtualenvs/ibbi/lib/python3.12/site-packages (from pandas) (2.1.2)\n",
      "Requirement already satisfied: python-dateutil>=2.8.2 in /Users/jballesteros/.virtualenvs/ibbi/lib/python3.12/site-packages (from pandas) (2.9.0.post0)\n",
      "Requirement already satisfied: pytz>=2020.1 in /Users/jballesteros/.virtualenvs/ibbi/lib/python3.12/site-packages (from pandas) (2024.2)\n",
      "Requirement already satisfied: tzdata>=2022.7 in /Users/jballesteros/.virtualenvs/ibbi/lib/python3.12/site-packages (from pandas) (2024.2)\n",
      "Requirement already satisfied: six>=1.5 in /Users/jballesteros/.virtualenvs/ibbi/lib/python3.12/site-packages (from python-dateutil>=2.8.2->pandas) (1.16.0)\n",
      "\n",
      "\u001b[1m[\u001b[0m\u001b[34;49mnotice\u001b[0m\u001b[1;39;49m]\u001b[0m\u001b[39;49m A new release of pip is available: \u001b[0m\u001b[31;49m24.1.1\u001b[0m\u001b[39;49m -> \u001b[0m\u001b[32;49m24.3.1\u001b[0m\n",
      "\u001b[1m[\u001b[0m\u001b[34;49mnotice\u001b[0m\u001b[1;39;49m]\u001b[0m\u001b[39;49m To update, run: \u001b[0m\u001b[32;49mpip install --upgrade pip\u001b[0m\n"
     ]
    }
   ],
   "source": [
    "! pip install pandas"
   ]
  },
  {
   "cell_type": "code",
   "execution_count": 21,
   "metadata": {},
   "outputs": [],
   "source": [
    "import pandas as pd\n",
    "import numpy as np"
   ]
  },
  {
   "cell_type": "markdown",
   "metadata": {},
   "source": [
    "Ahora vamos a centrarnos en las opciones avanzadas de importación de datos:"
   ]
  },
  {
   "cell_type": "code",
   "execution_count": 22,
   "metadata": {},
   "outputs": [
    {
     "name": "stdout",
     "output_type": "stream",
     "text": [
      "            Consumo  Consumo_Maximo  Consumo_Minimo  Consumo_Promedio\n",
      "Fecha                                                                \n",
      "2024-02-01    220.0           270.0           190.0             230.0\n",
      "2024-03-01    240.7           290.0           210.0             250.0\n",
      "2024-04-01    260.4           310.0           230.0             270.0\n",
      "2024-05-01    280.8           350.0           250.0             290.0\n",
      "2024-06-01    400.0           450.0           370.0             410.0\n"
     ]
    }
   ],
   "source": [
    "import pandas as pd\n",
    "\n",
    "# Cargar el archivo CSV con parámetros\n",
    "energia_df = pd.read_csv('data/m1_e5_datos_energia_mes.csv',\n",
    "                           index_col='Fecha',   # Fijar la columna 'Mes' como índice\n",
    "                           names=['Fecha', 'Consumo', 'Consumo_Maximo', 'Consumo_Minimo', 'Consumo_Promedio'],  # Renombrar las columnas\n",
    "                           header=0,  # Indicar que la primera fila contiene los nombres de las columnas\n",
    "                           skiprows=1,  # Omitir la primera fila si no contiene datos útiles\n",
    "                           na_values=['NA', '?']) # Definir valores a considerar como NaN\n",
    "\n",
    "print(energia_df.head())  # Mostrar las primeras filas del DataFrame"
   ]
  },
  {
   "cell_type": "markdown",
   "metadata": {},
   "source": [
    "#### Parámetros Útiles de `pd.read_csv()`\n",
    "- **`index_col`**: \n",
    "  - Utilizado para establecer una o más columnas como el índice del DataFrame. Esto es útil para identificar los datos de manera más intuitiva. En el ejemplo anterior, fijamos la columna \"Mes\" como índice.\n",
    "\n",
    "- **`names`**: \n",
    "  - Permite renombrar las columnas directamente al cargar el DataFrame. Esto es útil si el archivo CSV no tiene encabezados o si deseas cambiar los nombres de las columnas.\n",
    "\n",
    "- **`header`**: \n",
    "  - Indica qué fila se utiliza como encabezado de las columnas. Puedes establecerlo en `None` si no hay encabezados en el archivo o especificar la fila correspondiente.\n",
    "\n",
    "- **`skiprows`**: \n",
    "  - Especifica cuántas filas se deben omitir al principio del archivo. Esto puede ser útil si el archivo contiene metadatos o información irrelevante en las primeras filas.\n",
    "\n",
    "- **`na_values`**: \n",
    "  - Define los valores que se deben considerar como NaN (not a number). En el ejemplo, los valores 'NA' y '?' se convertirán en NaN.\n",
    "\n",
    "- **`dtype`**: \n",
    "  - Permite especificar los tipos de datos de las columnas al cargar el DataFrame. Esto ayuda a asegurar que los datos sean tratados correctamente desde el principio. Se podrían fijar que las columnas 'Consumo*' deben ser un tipo `float`.\n",
    "\n"
   ]
  },
  {
   "cell_type": "markdown",
   "metadata": {},
   "source": [
    "#### Variables complementarias\n",
    "A partir de la columna feahca se pueden crear varaibles complementarias"
   ]
  },
  {
   "cell_type": "code",
   "execution_count": 23,
   "metadata": {},
   "outputs": [
    {
     "name": "stdout",
     "output_type": "stream",
     "text": [
      "            Consumo  Consumo_Maximo  Consumo_Minimo  Consumo_Promedio  Mes  \\\n",
      "Fecha                                                                        \n",
      "2024-02-01    220.0           270.0           190.0             230.0    2   \n",
      "2024-03-01    240.7           290.0           210.0             250.0    3   \n",
      "2024-04-01    260.4           310.0           230.0             270.0    4   \n",
      "2024-05-01    280.8           350.0           250.0             290.0    5   \n",
      "2024-06-01    400.0           450.0           370.0             410.0    6   \n",
      "\n",
      "             Año  \n",
      "Fecha             \n",
      "2024-02-01  2024  \n",
      "2024-03-01  2024  \n",
      "2024-04-01  2024  \n",
      "2024-05-01  2024  \n",
      "2024-06-01  2024  \n"
     ]
    }
   ],
   "source": [
    "# Nos aseguramos que el índice es un objeto fecha\n",
    "energia_df = energia_df.set_index(pd.to_datetime(energia_df.index))\n",
    "# Crear nuevas columnas para el mes y el año\n",
    "energia_df['Mes'] = energia_df.index.month  # Extraer el mes\n",
    "energia_df['Año'] = energia_df.index.year   # Extraer el año\n",
    "print(energia_df.head())"
   ]
  },
  {
   "cell_type": "code",
   "execution_count": 24,
   "metadata": {},
   "outputs": [
    {
     "name": "stdout",
     "output_type": "stream",
     "text": [
      "            Consumo  Consumo_Maximo  Consumo_Minimo  Consumo_Promedio  Mes  \\\n",
      "Fecha                                                                        \n",
      "2024-02-01    220.0           270.0           190.0             230.0    2   \n",
      "2024-03-01    240.7           290.0           210.0             250.0    3   \n",
      "2024-04-01    260.4           310.0           230.0             270.0    4   \n",
      "2024-05-01    280.8           350.0           250.0             290.0    5   \n",
      "2024-06-01    400.0           450.0           370.0             410.0    6   \n",
      "\n",
      "             Año  Consumo_Random  \n",
      "Fecha                             \n",
      "2024-02-01  2024      219.963210  \n",
      "2024-03-01  2024      286.057145  \n",
      "2024-04-01  2024      288.559515  \n",
      "2024-05-01  2024      309.865848  \n",
      "2024-06-01  2024      382.481491  \n"
     ]
    }
   ],
   "source": [
    "# Crear una columna random que oscile entre el consumo mínimo y máximo\n",
    "np.random.seed(42)  # Para reproducibilidad\n",
    "energia_df['Consumo_Random'] = np.random.uniform(energia_df['Consumo_Minimo'], energia_df['Consumo_Maximo'])\n",
    "print(energia_df.head())"
   ]
  },
  {
   "cell_type": "markdown",
   "metadata": {},
   "source": [
    "### Limpieza de Datos al Cargar\n",
    "\n",
    "Una vez que los datos se han cargado, es útil realizar algunas operaciones de limpieza, como eliminar duplicados y verificar los tipos de datos."
   ]
  },
  {
   "cell_type": "code",
   "execution_count": 25,
   "metadata": {},
   "outputs": [
    {
     "name": "stdout",
     "output_type": "stream",
     "text": [
      "        Fecha  Consumo  Consumo_Maximo  Consumo_Minimo  Consumo_Promedio\n",
      "0  2024-01-01    200.5           250.0           180.0             210.0\n",
      "1  2024-02-01    220.0           270.0           190.0               NaN\n",
      "2  2024-03-01    240.7           290.0           210.0             250.0\n",
      "3  2024-04-01    260.4           310.0             NaN             270.0\n",
      "4  2024-05-01    280.8           350.0           250.0             290.0\n",
      "Fecha                object\n",
      "Consumo             float64\n",
      "Consumo_Maximo      float64\n",
      "Consumo_Minimo      float64\n",
      "Consumo_Promedio    float64\n",
      "dtype: object\n",
      "Fecha               0\n",
      "Consumo             0\n",
      "Consumo_Maximo      1\n",
      "Consumo_Minimo      2\n",
      "Consumo_Promedio    1\n",
      "dtype: int64\n"
     ]
    }
   ],
   "source": [
    "# Cargamos datos con valores incompletos\n",
    "energia_vacios_df = pd.read_csv('data/m1_e5_datos_energia_mes_nan.csv')\n",
    "print(energia_vacios_df.head())\n",
    "# Identificar tipos de datos de cada columna\n",
    "print(energia_vacios_df.dtypes)\n",
    "# Verificar si hay valores NaN en el DataFrame\n",
    "print(energia_vacios_df.isnull().sum())\n"
   ]
  },
  {
   "cell_type": "code",
   "execution_count": 26,
   "metadata": {},
   "outputs": [],
   "source": [
    "# Eliminar duplicados\n",
    "energia_vacios_df.drop_duplicates(inplace=True)\n",
    "\n",
    "# Limpiar valores NaN si es necesario\n",
    "energia_sin_nan_df = energia_vacios_df.dropna()  # Eliminar filas con NaN\n",
    "# o\n",
    "energia_con_ceros_df = energia_vacios_df.fillna(0)  # Rellenar NaN con 0\n"
   ]
  },
  {
   "cell_type": "code",
   "execution_count": 27,
   "metadata": {},
   "outputs": [
    {
     "name": "stdout",
     "output_type": "stream",
     "text": [
      "Aquí se han elimnado las filas con valores vacíos\n",
      "         Fecha  Consumo  Consumo_Maximo  Consumo_Minimo  Consumo_Promedio\n",
      "0   2024-01-01    200.5           250.0           180.0             210.0\n",
      "2   2024-03-01    240.7           290.0           210.0             250.0\n",
      "4   2024-05-01    280.8           350.0           250.0             290.0\n",
      "5   2024-06-01    400.0           450.0           370.0             410.0\n",
      "7   2024-08-01    500.0           550.0           480.0             510.0\n",
      "8   2024-09-01    360.2           400.0           340.0             360.0\n",
      "10  2024-11-01    250.1           290.0           230.0             260.0\n",
      "11  2024-12-01    220.2           270.0           200.0             230.0\n",
      "Fecha               0\n",
      "Consumo             0\n",
      "Consumo_Maximo      0\n",
      "Consumo_Minimo      0\n",
      "Consumo_Promedio    0\n",
      "dtype: int64\n"
     ]
    }
   ],
   "source": [
    "print(\"Aquí se han elimnado las filas con valores vacíos\")\n",
    "print(energia_sin_nan_df.head(12))\n",
    "# Verificar si hay valores NaN en el DataFrame\n",
    "print(energia_sin_nan_df.isnull().sum())"
   ]
  },
  {
   "cell_type": "code",
   "execution_count": 28,
   "metadata": {},
   "outputs": [
    {
     "name": "stdout",
     "output_type": "stream",
     "text": [
      "Aquí se han rellenado las filas con valores vacíos\n",
      "         Fecha  Consumo  Consumo_Maximo  Consumo_Minimo  Consumo_Promedio\n",
      "0   2024-01-01    200.5           250.0           180.0             210.0\n",
      "1   2024-02-01    220.0           270.0           190.0               0.0\n",
      "2   2024-03-01    240.7           290.0           210.0             250.0\n",
      "3   2024-04-01    260.4           310.0             0.0             270.0\n",
      "4   2024-05-01    280.8           350.0           250.0             290.0\n",
      "5   2024-06-01    400.0           450.0           370.0             410.0\n",
      "6   2024-07-01    480.5           520.0             0.0             490.0\n",
      "7   2024-08-01    500.0           550.0           480.0             510.0\n",
      "8   2024-09-01    360.2           400.0           340.0             360.0\n",
      "9   2024-10-01    300.0             0.0           260.0             290.0\n",
      "10  2024-11-01    250.1           290.0           230.0             260.0\n",
      "11  2024-12-01    220.2           270.0           200.0             230.0\n",
      "Fecha               0\n",
      "Consumo             0\n",
      "Consumo_Maximo      0\n",
      "Consumo_Minimo      0\n",
      "Consumo_Promedio    0\n",
      "dtype: int64\n"
     ]
    }
   ],
   "source": [
    "print(\"Aquí se han rellenado las filas con valores vacíos\")\n",
    "print(energia_con_ceros_df.head(12))\n",
    "# Verificar si hay valores NaN en el DataFrame\n",
    "print(energia_con_ceros_df.isnull().sum())"
   ]
  },
  {
   "cell_type": "markdown",
   "metadata": {},
   "source": [
    "###  Descripción y Estadísticas Básicas\n",
    "\n",
    "Después de cargar y limpiar los datos, podemos obtener una descripción general utilizando `describe()` para ver estadísticas descriptivas de las columnas numéricas:\n"
   ]
  },
  {
   "cell_type": "code",
   "execution_count": 29,
   "metadata": {},
   "outputs": [
    {
     "name": "stdout",
     "output_type": "stream",
     "text": [
      "\n",
      "Descripción estadística del Consumo de Energía:\n"
     ]
    },
    {
     "data": {
      "text/html": [
       "<div>\n",
       "<style scoped>\n",
       "    .dataframe tbody tr th:only-of-type {\n",
       "        vertical-align: middle;\n",
       "    }\n",
       "\n",
       "    .dataframe tbody tr th {\n",
       "        vertical-align: top;\n",
       "    }\n",
       "\n",
       "    .dataframe thead th {\n",
       "        text-align: right;\n",
       "    }\n",
       "</style>\n",
       "<table border=\"1\" class=\"dataframe\">\n",
       "  <thead>\n",
       "    <tr style=\"text-align: right;\">\n",
       "      <th></th>\n",
       "      <th>Consumo</th>\n",
       "      <th>Consumo_Maximo</th>\n",
       "      <th>Consumo_Minimo</th>\n",
       "      <th>Consumo_Promedio</th>\n",
       "      <th>Mes</th>\n",
       "      <th>Año</th>\n",
       "      <th>Consumo_Random</th>\n",
       "    </tr>\n",
       "  </thead>\n",
       "  <tbody>\n",
       "    <tr>\n",
       "      <th>count</th>\n",
       "      <td>11.000000</td>\n",
       "      <td>11.000000</td>\n",
       "      <td>11.000000</td>\n",
       "      <td>11.000000</td>\n",
       "      <td>11.000000</td>\n",
       "      <td>11.0</td>\n",
       "      <td>11.000000</td>\n",
       "    </tr>\n",
       "    <tr>\n",
       "      <th>mean</th>\n",
       "      <td>319.354545</td>\n",
       "      <td>367.272727</td>\n",
       "      <td>291.818182</td>\n",
       "      <td>326.363636</td>\n",
       "      <td>7.000000</td>\n",
       "      <td>2024.0</td>\n",
       "      <td>327.808883</td>\n",
       "    </tr>\n",
       "    <tr>\n",
       "      <th>std</th>\n",
       "      <td>101.387892</td>\n",
       "      <td>99.909050</td>\n",
       "      <td>102.354109</td>\n",
       "      <td>101.614244</td>\n",
       "      <td>3.316625</td>\n",
       "      <td>0.0</td>\n",
       "      <td>91.594443</td>\n",
       "    </tr>\n",
       "    <tr>\n",
       "      <th>min</th>\n",
       "      <td>220.000000</td>\n",
       "      <td>270.000000</td>\n",
       "      <td>190.000000</td>\n",
       "      <td>230.000000</td>\n",
       "      <td>2.000000</td>\n",
       "      <td>2024.0</td>\n",
       "      <td>201.440915</td>\n",
       "    </tr>\n",
       "    <tr>\n",
       "      <th>25%</th>\n",
       "      <td>245.400000</td>\n",
       "      <td>290.000000</td>\n",
       "      <td>220.000000</td>\n",
       "      <td>255.000000</td>\n",
       "      <td>4.500000</td>\n",
       "      <td>2024.0</td>\n",
       "      <td>279.270750</td>\n",
       "    </tr>\n",
       "    <tr>\n",
       "      <th>50%</th>\n",
       "      <td>280.800000</td>\n",
       "      <td>340.000000</td>\n",
       "      <td>250.000000</td>\n",
       "      <td>290.000000</td>\n",
       "      <td>7.000000</td>\n",
       "      <td>2024.0</td>\n",
       "      <td>308.089201</td>\n",
       "    </tr>\n",
       "    <tr>\n",
       "      <th>75%</th>\n",
       "      <td>380.100000</td>\n",
       "      <td>425.000000</td>\n",
       "      <td>355.000000</td>\n",
       "      <td>385.000000</td>\n",
       "      <td>9.500000</td>\n",
       "      <td>2024.0</td>\n",
       "      <td>387.226030</td>\n",
       "    </tr>\n",
       "    <tr>\n",
       "      <th>max</th>\n",
       "      <td>500.000000</td>\n",
       "      <td>550.000000</td>\n",
       "      <td>480.000000</td>\n",
       "      <td>510.000000</td>\n",
       "      <td>12.000000</td>\n",
       "      <td>2024.0</td>\n",
       "      <td>484.065853</td>\n",
       "    </tr>\n",
       "  </tbody>\n",
       "</table>\n",
       "</div>"
      ],
      "text/plain": [
       "          Consumo  Consumo_Maximo  Consumo_Minimo  Consumo_Promedio  \\\n",
       "count   11.000000       11.000000       11.000000         11.000000   \n",
       "mean   319.354545      367.272727      291.818182        326.363636   \n",
       "std    101.387892       99.909050      102.354109        101.614244   \n",
       "min    220.000000      270.000000      190.000000        230.000000   \n",
       "25%    245.400000      290.000000      220.000000        255.000000   \n",
       "50%    280.800000      340.000000      250.000000        290.000000   \n",
       "75%    380.100000      425.000000      355.000000        385.000000   \n",
       "max    500.000000      550.000000      480.000000        510.000000   \n",
       "\n",
       "             Mes     Año  Consumo_Random  \n",
       "count  11.000000    11.0       11.000000  \n",
       "mean    7.000000  2024.0      327.808883  \n",
       "std     3.316625     0.0       91.594443  \n",
       "min     2.000000  2024.0      201.440915  \n",
       "25%     4.500000  2024.0      279.270750  \n",
       "50%     7.000000  2024.0      308.089201  \n",
       "75%     9.500000  2024.0      387.226030  \n",
       "max    12.000000  2024.0      484.065853  "
      ]
     },
     "execution_count": 29,
     "metadata": {},
     "output_type": "execute_result"
    }
   ],
   "source": [
    "print(\"\\nDescripción estadística del Consumo de Energía:\")\n",
    "energia_df.describe()"
   ]
  },
  {
   "cell_type": "markdown",
   "metadata": {},
   "source": [
    "La función `df.describe()` de **pandas** genera estadísticas descriptivas para las columnas numéricas de un **DataFrame**. A continuación te explico las estadísticas que devuelve:\n",
    "\n",
    "1. **count**:\n",
    "   - Indica el número de valores no nulos en cada columna. En este caso, todas las columnas tienen 12 valores, ya que hay 12 meses en el dataset.\n",
    "   \n",
    "2. **mean** (media):\n",
    "   - El promedio de los valores de la columna. Por ejemplo, el consumo medio es de **319.97 kWh**.\n",
    "\n",
    "3. **std** (desviación estándar):\n",
    "   - Mide la dispersión o variabilidad de los datos en torno a la media. Una desviación estándar alta indica que los valores están muy dispersos. Por ejemplo, la desviación estándar del **Consumo** es de **110.97**, lo que indica variabilidad en los valores de consumo.\n",
    "\n",
    "4. **min** (valor mínimo):\n",
    "   - El valor mínimo de cada columna. En este caso, el consumo mínimo registrado es **200.5 kWh**.\n",
    "\n",
    "5. **25%** (primer cuartil):\n",
    "   - El valor por debajo del cual se encuentra el 25% de los datos. Esto se conoce como el primer cuartil. Para **Consumo**, el primer cuartil es **240.48 kWh**, lo que significa que el 25% de los valores de consumo están por debajo de este valor.\n",
    "\n",
    "6. **50%** (mediana):\n",
    "   - El valor que divide los datos en dos mitades, es decir, el 50% de los valores están por debajo de este punto. También se conoce como la mediana. Para **Consumo**, la mediana es **280.8 kWh**.\n",
    "\n",
    "7. **75%** (tercer cuartil):\n",
    "   - El valor por debajo del cual se encuentra el 75% de los datos. Para **Consumo**, el tercer cuartil es **360.15 kWh**.\n",
    "\n",
    "8. **max** (valor máximo):\n",
    "   - El valor más alto de la columna. Por ejemplo, el consumo máximo es **500 kWh**."
   ]
  },
  {
   "cell_type": "markdown",
   "metadata": {},
   "source": [
    "#### Tamaño y forma de los datos"
   ]
  },
  {
   "cell_type": "code",
   "execution_count": 30,
   "metadata": {},
   "outputs": [
    {
     "name": "stdout",
     "output_type": "stream",
     "text": [
      "\n",
      "Tamaño del DataFrame (número de filas y columnas):\n",
      "(11, 7)\n",
      "\n",
      "Número total de elementos en el DataFrame:\n",
      "77\n"
     ]
    }
   ],
   "source": [
    "# Tamaño del DataFrame (número de filas y columnas)\n",
    "print(\"\\nTamaño del DataFrame (número de filas y columnas):\")\n",
    "print(energia_df.shape)\n",
    "\n",
    "# Número total de elementos en el DataFrame\n",
    "print(\"\\nNúmero total de elementos en el DataFrame:\")\n",
    "print(energia_df.size)"
   ]
  },
  {
   "cell_type": "markdown",
   "metadata": {},
   "source": [
    "#### Tipos de datos"
   ]
  },
  {
   "cell_type": "code",
   "execution_count": 31,
   "metadata": {},
   "outputs": [
    {
     "name": "stdout",
     "output_type": "stream",
     "text": [
      "\n",
      "Tipos de datos de cada columna:\n",
      "Consumo             float64\n",
      "Consumo_Maximo      float64\n",
      "Consumo_Minimo      float64\n",
      "Consumo_Promedio    float64\n",
      "Mes                   int32\n",
      "Año                   int32\n",
      "Consumo_Random      float64\n",
      "dtype: object\n"
     ]
    }
   ],
   "source": [
    "# Tipos de datos de cada columna\n",
    "print(\"\\nTipos de datos de cada columna:\")\n",
    "print(energia_df.dtypes)"
   ]
  },
  {
   "cell_type": "markdown",
   "metadata": {},
   "source": [
    "#### Información resumida de los datos"
   ]
  },
  {
   "cell_type": "code",
   "execution_count": 32,
   "metadata": {},
   "outputs": [
    {
     "name": "stdout",
     "output_type": "stream",
     "text": [
      "\n",
      "Información general del DataFrame:\n",
      "<class 'pandas.core.frame.DataFrame'>\n",
      "DatetimeIndex: 11 entries, 2024-02-01 to 2024-12-01\n",
      "Data columns (total 7 columns):\n",
      " #   Column            Non-Null Count  Dtype  \n",
      "---  ------            --------------  -----  \n",
      " 0   Consumo           11 non-null     float64\n",
      " 1   Consumo_Maximo    11 non-null     float64\n",
      " 2   Consumo_Minimo    11 non-null     float64\n",
      " 3   Consumo_Promedio  11 non-null     float64\n",
      " 4   Mes               11 non-null     int32  \n",
      " 5   Año               11 non-null     int32  \n",
      " 6   Consumo_Random    11 non-null     float64\n",
      "dtypes: float64(5), int32(2)\n",
      "memory usage: 616.0 bytes\n"
     ]
    }
   ],
   "source": [
    "# Información general sobre el DataFrame (incluye columnas no nulas)\n",
    "print(\"\\nInformación general del DataFrame:\")\n",
    "energia_df.info()"
   ]
  },
  {
   "cell_type": "markdown",
   "metadata": {},
   "source": [
    "#### Valores nulos y únicos"
   ]
  },
  {
   "cell_type": "code",
   "execution_count": 33,
   "metadata": {},
   "outputs": [
    {
     "name": "stdout",
     "output_type": "stream",
     "text": [
      "\n",
      "Número de valores nulos en cada columna:\n",
      "Consumo             0\n",
      "Consumo_Maximo      0\n",
      "Consumo_Minimo      0\n",
      "Consumo_Promedio    0\n",
      "Mes                 0\n",
      "Año                 0\n",
      "Consumo_Random      0\n",
      "dtype: int64\n",
      "\n",
      "Número de valores únicos en cada columna:\n",
      "Consumo             11\n",
      "Consumo_Maximo       9\n",
      "Consumo_Minimo      10\n",
      "Consumo_Promedio     9\n",
      "Mes                 11\n",
      "Año                  1\n",
      "Consumo_Random      11\n",
      "dtype: int64\n"
     ]
    }
   ],
   "source": [
    "# Número de valores nulos en cada columna\n",
    "print(\"\\nNúmero de valores nulos en cada columna:\")\n",
    "print(energia_df.isnull().sum())\n",
    "\n",
    "# Número de valores únicos en cada columna\n",
    "print(\"\\nNúmero de valores únicos en cada columna:\")\n",
    "print(energia_df.nunique())"
   ]
  },
  {
   "cell_type": "markdown",
   "metadata": {},
   "source": [
    "### Correlación\n",
    "La correlación entre variables es una medida estadística que indica el grado de relación o asociación entre dos variables. Se utiliza para describir cómo una variable cambia con respecto a otra. La correlación cuantifica la dirección y la fuerza de la relación entre estas variables.\n",
    "\n",
    "El coeficiente de correlación más común es el coeficiente de correlación de Pearson, que mide la correlación lineal entre dos variables. Se denota por la letra r y toma valores entre -1 y 1:\n",
    "\n",
    "* r = 1: Correlación positiva perfecta (las variables aumentan o disminuyen juntas de manera proporcional).\n",
    "* r = -1: Correlación negativa perfecta (cuando una variable aumenta, la otra disminuye de manera proporcional).\n",
    "* r = 0: No hay correlación lineal entre las variables.\n",
    "\n",
    "#### Interpretación práctica de los valores de r:\n",
    "* Entre 0.7 y 1 (o entre -0.7 y -1): Correlación fuerte.\n",
    "* Entre 0.3 y 0.7 (o entre -0.3 y -0.7): Correlación moderada.\n",
    "* Entre 0 y 0.3 (o entre 0 y -0.3): Correlación débil."
   ]
  },
  {
   "cell_type": "code",
   "execution_count": 34,
   "metadata": {},
   "outputs": [
    {
     "name": "stdout",
     "output_type": "stream",
     "text": [
      "\n",
      "Matriz de Correlación:\n",
      "                 Consumo  Consumo_Minimo\n",
      "Consumo         1.000000        0.997998\n",
      "Consumo_Minimo  0.997998        1.000000\n"
     ]
    }
   ],
   "source": [
    "# Análisis de correlaciones\n",
    "columnas = ['Consumo', 'Consumo_Minimo']\n",
    "correlation_matrix = energia_df[columnas].corr()\n",
    "print(\"\\nMatriz de Correlación:\")\n",
    "print(correlation_matrix)"
   ]
  },
  {
   "cell_type": "code",
   "execution_count": 35,
   "metadata": {},
   "outputs": [
    {
     "name": "stdout",
     "output_type": "stream",
     "text": [
      "\n",
      "Matriz de Correlación:\n",
      "          Consumo       Mes\n",
      "Consumo  1.000000  0.123771\n",
      "Mes      0.123771  1.000000\n"
     ]
    }
   ],
   "source": [
    "# Análisis de correlaciones\n",
    "columnas = ['Consumo', 'Mes']\n",
    "correlation_matrix = energia_df[columnas].corr()\n",
    "print(\"\\nMatriz de Correlación:\")\n",
    "print(correlation_matrix)"
   ]
  }
 ],
 "metadata": {
  "kernelspec": {
   "display_name": "ibbi",
   "language": "python",
   "name": "python3"
  },
  "language_info": {
   "codemirror_mode": {
    "name": "ipython",
    "version": 3
   },
   "file_extension": ".py",
   "mimetype": "text/x-python",
   "name": "python",
   "nbconvert_exporter": "python",
   "pygments_lexer": "ipython3",
   "version": "3.12.0"
  }
 },
 "nbformat": 4,
 "nbformat_minor": 2
}
