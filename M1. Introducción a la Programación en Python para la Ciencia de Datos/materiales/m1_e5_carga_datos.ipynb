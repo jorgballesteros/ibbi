{
 "cells": [
  {
   "cell_type": "markdown",
   "metadata": {},
   "source": [
    "## E5. Carga de datos en Pandas"
   ]
  },
  {
   "cell_type": "markdown",
   "metadata": {},
   "source": [
    "El dataset de consumo de energía a utlizar en este ejercicio es el siguiente\n",
    "\n",
    "### Dataset Actualizado de Consumo de Energía\n",
    "\n",
    "```csv\n",
    "Fecha,Consumo,Consumo_Maximo,Consumo_Minimo,Consumo_Promedio\n",
    "2024-01-01,200.5,250.0,180.0,210.0\n",
    "2024-02-01,220.0,270.0,190.0,230.0\n",
    "2024-03-01,240.7,290.0,210.0,250.0\n",
    "2024-04-01,260.4,310.0,230.0,270.0\n",
    "2024-05-01,280.8,350.0,250.0,290.0\n",
    "2024-06-01,400.0,450.0,370.0,410.0\n",
    "2024-07-01,480.5,520.0,450.0,490.0\n",
    "2024-08-01,500.0,550.0,480.0,510.0\n",
    "2024-09-01,360.2,400.0,340.0,360.0\n",
    "2024-10-01,300.0,340.0,260.0,290.0\n",
    "2024-11-01,250.1,290.0,230.0,260.0\n",
    "2024-12-01,220.2,270.0,200.0,230.0\n",
    "```\n",
    "\n",
    "### Descripción de los Valores\n",
    "\n",
    "El dataset de consumo de energía contiene información mensual sobre el consumo energético en un formato de marca de tiempo. La columna \"Fecha\" representa el primer día de cada mes durante el año 2024. Las columnas adicionales incluyen \"Consumo\", que indica el consumo total de energía en kilovatios-hora (kWh), así como \"Consumo_Maximo\" y \"Consumo_Minimo\", que reflejan los valores máximos y mínimos de consumo registrados en cada mes, respectivamente. Por último, la columna \"Consumo_Promedio\" proporciona el promedio de consumo para cada mes, permitiendo así un análisis más detallado de las tendencias y variaciones en el uso de energía a lo largo del año. Este dataset es útil para realizar análisis estadísticos y visualizaciones que ayuden a comprender mejor los patrones de consumo energético y a identificar posibles áreas de mejora en la eficiencia energética."
   ]
  },
  {
   "cell_type": "markdown",
   "metadata": {},
   "source": [
    "### Carga de datos desde fichero CSV\n",
    "La carga de datos en pandas es una de las tareas más comunes y puede realizarse utilizando la función pd.read_csv() para archivos CSV. A continuación, se detallan varios parámetros útiles, así como ejemplos de cómo utilizarlos."
   ]
  },
  {
   "cell_type": "code",
   "execution_count": null,
   "metadata": {},
   "outputs": [],
   "source": [
    "! pip install pandas"
   ]
  },
  {
   "cell_type": "code",
   "execution_count": null,
   "metadata": {},
   "outputs": [],
   "source": [
    "import pandas as pd\n",
    "import numpy as np"
   ]
  },
  {
   "cell_type": "markdown",
   "metadata": {},
   "source": [
    "Ahora vamos a centrarnos en las opciones avanzadas de importación de datos:"
   ]
  },
  {
   "cell_type": "code",
   "execution_count": null,
   "metadata": {},
   "outputs": [],
   "source": [
    "import pandas as pd\n",
    "\n",
    "# Cargar el archivo CSV con parámetros\n",
    "energia_df = pd.read_csv('data/m1_e5_datos_energia_mes.csv',\n",
    "                           index_col='Fecha',   # Fijar la columna 'Mes' como índice\n",
    "                           names=['Fecha', 'Consumo', 'Consumo_Maximo', 'Consumo_Minimo', 'Consumo_Promedio'],  # Renombrar las columnas\n",
    "                           header=0,  # Indicar que la primera fila contiene los nombres de las columnas\n",
    "                           skiprows=1,  # Omitir la primera fila si no contiene datos útiles\n",
    "                           na_values=['NA', '?']) # Definir valores a considerar como NaN\n",
    "\n",
    "print(energia_df.head())  # Mostrar las primeras filas del DataFrame"
   ]
  },
  {
   "cell_type": "markdown",
   "metadata": {},
   "source": [
    "#### Parámetros Útiles de `pd.read_csv()`\n",
    "- **`index_col`**: \n",
    "  - Utilizado para establecer una o más columnas como el índice del DataFrame. Esto es útil para identificar los datos de manera más intuitiva. En el ejemplo anterior, fijamos la columna \"Mes\" como índice.\n",
    "\n",
    "- **`names`**: \n",
    "  - Permite renombrar las columnas directamente al cargar el DataFrame. Esto es útil si el archivo CSV no tiene encabezados o si deseas cambiar los nombres de las columnas.\n",
    "\n",
    "- **`header`**: \n",
    "  - Indica qué fila se utiliza como encabezado de las columnas. Puedes establecerlo en `None` si no hay encabezados en el archivo o especificar la fila correspondiente.\n",
    "\n",
    "- **`skiprows`**: \n",
    "  - Especifica cuántas filas se deben omitir al principio del archivo. Esto puede ser útil si el archivo contiene metadatos o información irrelevante en las primeras filas.\n",
    "\n",
    "- **`na_values`**: \n",
    "  - Define los valores que se deben considerar como NaN (not a number). En el ejemplo, los valores 'NA' y '?' se convertirán en NaN.\n",
    "\n",
    "- **`dtype`**: \n",
    "  - Permite especificar los tipos de datos de las columnas al cargar el DataFrame. Esto ayuda a asegurar que los datos sean tratados correctamente desde el principio. Se podrían fijar que las columnas 'Consumo*' deben ser un tipo `float`.\n",
    "\n"
   ]
  },
  {
   "cell_type": "markdown",
   "metadata": {},
   "source": [
    "#### Variables complementarias\n",
    "A partir de la columna feahca se pueden crear varaibles complementarias"
   ]
  },
  {
   "cell_type": "code",
   "execution_count": null,
   "metadata": {},
   "outputs": [],
   "source": [
    "# Nos aseguramos que el índice es un objeto fecha\n",
    "energia_df = energia_df.set_index(pd.to_datetime(energia_df.index))\n",
    "# Crear nuevas columnas para el mes y el año\n",
    "energia_df['Mes'] = energia_df.index.month  # Extraer el mes\n",
    "energia_df['Año'] = energia_df.index.year   # Extraer el año\n",
    "print(energia_df.head())"
   ]
  },
  {
   "cell_type": "code",
   "execution_count": null,
   "metadata": {},
   "outputs": [],
   "source": [
    "# Crear una columna random que oscile entre el consumo mínimo y máximo\n",
    "np.random.seed(42)  # Para reproducibilidad\n",
    "energia_df['Consumo_Random'] = np.random.uniform(energia_df['Consumo_Minimo'], energia_df['Consumo_Maximo'])\n",
    "print(energia_df.head())"
   ]
  },
  {
   "cell_type": "markdown",
   "metadata": {},
   "source": [
    "### Limpieza de Datos al Cargar\n",
    "\n",
    "Una vez que los datos se han cargado, es útil realizar algunas operaciones de limpieza, como eliminar duplicados y verificar los tipos de datos."
   ]
  },
  {
   "cell_type": "code",
   "execution_count": null,
   "metadata": {},
   "outputs": [],
   "source": [
    "# Cargamos datos con valores incompletos\n",
    "energia_vacios_df = pd.read_csv('data/m1_e5_datos_energia_mes_nan.csv')\n",
    "print(energia_vacios_df.head())\n",
    "# Identificar tipos de datos de cada columna\n",
    "print(energia_vacios_df.dtypes)\n",
    "# Verificar si hay valores NaN en el DataFrame\n",
    "print(energia_vacios_df.isnull().sum())\n"
   ]
  },
  {
   "cell_type": "code",
   "execution_count": null,
   "metadata": {},
   "outputs": [],
   "source": [
    "# Eliminar duplicados\n",
    "energia_vacios_df.drop_duplicates(inplace=True)\n",
    "\n",
    "# Limpiar valores NaN si es necesario\n",
    "energia_sin_nan_df = energia_vacios_df.dropna()  # Eliminar filas con NaN\n",
    "# o\n",
    "energia_con_ceros_df = energia_vacios_df.fillna(0)  # Rellenar NaN con 0\n"
   ]
  },
  {
   "cell_type": "code",
   "execution_count": null,
   "metadata": {},
   "outputs": [],
   "source": [
    "print(\"Aquí se han elimnado las filas con valores vacíos\")\n",
    "print(energia_sin_nan_df.head(12))\n",
    "# Verificar si hay valores NaN en el DataFrame\n",
    "print(energia_sin_nan_df.isnull().sum())"
   ]
  },
  {
   "cell_type": "code",
   "execution_count": null,
   "metadata": {},
   "outputs": [],
   "source": [
    "print(\"Aquí se han rellenado las filas con valores vacíos\")\n",
    "print(energia_con_ceros_df.head(12))\n",
    "# Verificar si hay valores NaN en el DataFrame\n",
    "print(energia_con_ceros_df.isnull().sum())"
   ]
  },
  {
   "cell_type": "markdown",
   "metadata": {},
   "source": [
    "###  Descripción y Estadísticas Básicas\n",
    "\n",
    "Después de cargar y limpiar los datos, podemos obtener una descripción general utilizando `describe()` para ver estadísticas descriptivas de las columnas numéricas:\n"
   ]
  },
  {
   "cell_type": "code",
   "execution_count": null,
   "metadata": {},
   "outputs": [],
   "source": [
    "print(\"\\nDescripción estadística del Consumo de Energía:\")\n",
    "energia_df.describe()"
   ]
  },
  {
   "cell_type": "markdown",
   "metadata": {},
   "source": [
    "La función `df.describe()` de **pandas** genera estadísticas descriptivas para las columnas numéricas de un **DataFrame**. A continuación te explico las estadísticas que devuelve:\n",
    "\n",
    "1. **count**:\n",
    "   - Indica el número de valores no nulos en cada columna. En este caso, todas las columnas tienen 12 valores, ya que hay 12 meses en el dataset.\n",
    "   \n",
    "2. **mean** (media):\n",
    "   - El promedio de los valores de la columna. Por ejemplo, el consumo medio es de **319.97 kWh**.\n",
    "\n",
    "3. **std** (desviación estándar):\n",
    "   - Mide la dispersión o variabilidad de los datos en torno a la media. Una desviación estándar alta indica que los valores están muy dispersos. Por ejemplo, la desviación estándar del **Consumo** es de **110.97**, lo que indica variabilidad en los valores de consumo.\n",
    "\n",
    "4. **min** (valor mínimo):\n",
    "   - El valor mínimo de cada columna. En este caso, el consumo mínimo registrado es **200.5 kWh**.\n",
    "\n",
    "5. **25%** (primer cuartil):\n",
    "   - El valor por debajo del cual se encuentra el 25% de los datos. Esto se conoce como el primer cuartil. Para **Consumo**, el primer cuartil es **240.48 kWh**, lo que significa que el 25% de los valores de consumo están por debajo de este valor.\n",
    "\n",
    "6. **50%** (mediana):\n",
    "   - El valor que divide los datos en dos mitades, es decir, el 50% de los valores están por debajo de este punto. También se conoce como la mediana. Para **Consumo**, la mediana es **280.8 kWh**.\n",
    "\n",
    "7. **75%** (tercer cuartil):\n",
    "   - El valor por debajo del cual se encuentra el 75% de los datos. Para **Consumo**, el tercer cuartil es **360.15 kWh**.\n",
    "\n",
    "8. **max** (valor máximo):\n",
    "   - El valor más alto de la columna. Por ejemplo, el consumo máximo es **500 kWh**."
   ]
  },
  {
   "cell_type": "markdown",
   "metadata": {},
   "source": [
    "#### Tamaño y forma de los datos"
   ]
  },
  {
   "cell_type": "code",
   "execution_count": null,
   "metadata": {},
   "outputs": [],
   "source": [
    "# Tamaño del DataFrame (número de filas y columnas)\n",
    "print(\"\\nTamaño del DataFrame (número de filas y columnas):\")\n",
    "print(energia_df.shape)\n",
    "\n",
    "# Número total de elementos en el DataFrame\n",
    "print(\"\\nNúmero total de elementos en el DataFrame:\")\n",
    "print(energia_df.size)"
   ]
  },
  {
   "cell_type": "markdown",
   "metadata": {},
   "source": [
    "#### Tipos de datos"
   ]
  },
  {
   "cell_type": "code",
   "execution_count": null,
   "metadata": {},
   "outputs": [],
   "source": [
    "# Tipos de datos de cada columna\n",
    "print(\"\\nTipos de datos de cada columna:\")\n",
    "print(energia_df.dtypes)"
   ]
  },
  {
   "cell_type": "markdown",
   "metadata": {},
   "source": [
    "#### Información resumida de los datos"
   ]
  },
  {
   "cell_type": "code",
   "execution_count": null,
   "metadata": {},
   "outputs": [],
   "source": [
    "# Información general sobre el DataFrame (incluye columnas no nulas)\n",
    "print(\"\\nInformación general del DataFrame:\")\n",
    "energia_df.info()"
   ]
  },
  {
   "cell_type": "markdown",
   "metadata": {},
   "source": [
    "#### Valores nulos y únicos"
   ]
  },
  {
   "cell_type": "code",
   "execution_count": null,
   "metadata": {},
   "outputs": [],
   "source": [
    "# Número de valores nulos en cada columna\n",
    "print(\"\\nNúmero de valores nulos en cada columna:\")\n",
    "print(energia_df.isnull().sum())\n",
    "\n",
    "# Número de valores únicos en cada columna\n",
    "print(\"\\nNúmero de valores únicos en cada columna:\")\n",
    "print(energia_df.nunique())"
   ]
  },
  {
   "cell_type": "markdown",
   "metadata": {},
   "source": [
    "### Correlación\n",
    "La correlación entre variables es una medida estadística que indica el grado de relación o asociación entre dos variables. Se utiliza para describir cómo una variable cambia con respecto a otra. La correlación cuantifica la dirección y la fuerza de la relación entre estas variables.\n",
    "\n",
    "El coeficiente de correlación más común es el coeficiente de correlación de Pearson, que mide la correlación lineal entre dos variables. Se denota por la letra r y toma valores entre -1 y 1:\n",
    "\n",
    "* r = 1: Correlación positiva perfecta (las variables aumentan o disminuyen juntas de manera proporcional).\n",
    "* r = -1: Correlación negativa perfecta (cuando una variable aumenta, la otra disminuye de manera proporcional).\n",
    "* r = 0: No hay correlación lineal entre las variables.\n",
    "\n",
    "#### Interpretación práctica de los valores de r:\n",
    "* Entre 0.7 y 1 (o entre -0.7 y -1): Correlación fuerte.\n",
    "* Entre 0.3 y 0.7 (o entre -0.3 y -0.7): Correlación moderada.\n",
    "* Entre 0 y 0.3 (o entre 0 y -0.3): Correlación débil."
   ]
  },
  {
   "cell_type": "code",
   "execution_count": null,
   "metadata": {},
   "outputs": [],
   "source": [
    "# Análisis de correlaciones\n",
    "columnas = ['Consumo', 'Consumo_Minimo']\n",
    "correlation_matrix = energia_df[columnas].corr()\n",
    "print(\"\\nMatriz de Correlación:\")\n",
    "print(correlation_matrix)"
   ]
  },
  {
   "cell_type": "code",
   "execution_count": null,
   "metadata": {},
   "outputs": [],
   "source": [
    "# Análisis de correlaciones\n",
    "columnas = ['Consumo', 'Mes']\n",
    "correlation_matrix = energia_df[columnas].corr()\n",
    "print(\"\\nMatriz de Correlación:\")\n",
    "print(correlation_matrix)"
   ]
  }
 ],
 "metadata": {
  "kernelspec": {
   "display_name": "ibbi",
   "language": "python",
   "name": "python3"
  },
  "language_info": {
   "codemirror_mode": {
    "name": "ipython",
    "version": 3
   },
   "file_extension": ".py",
   "mimetype": "text/x-python",
   "name": "python",
   "nbconvert_exporter": "python",
   "pygments_lexer": "ipython3",
   "version": "3.12.0"
  }
 },
 "nbformat": 4,
 "nbformat_minor": 2
}
