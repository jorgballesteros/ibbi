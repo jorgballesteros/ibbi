{
 "cells": [
  {
   "cell_type": "markdown",
   "id": "57d9f9b1",
   "metadata": {},
   "source": [
    "### Caso Práctico 4: Análisis de Calificaciones de Estudiantes\n",
    "**Objetivo**: Practicar la creación y manipulación de DataFrames en Pandas, junto con el uso de operaciones básicas y filtrado de datos.\n",
    "\n",
    "---\n",
    "\n",
    "#### **Descripción del ejercicio**:\n",
    "Tienes un conjunto de datos con las calificaciones de varios estudiantes en tres materias: Matemáticas, Física y Química. Utiliza **Pandas** para analizar estos datos y responder a algunas preguntas.\n",
    "\n",
    "Los datos son los siguientes:\n",
    "\n",
    "| Nombre     | Matemáticas | Física | Química |\n",
    "|------------|-------------|--------|---------|\n",
    "| Ana        | 85         | 78     | 92      |\n",
    "| Benjamín   | 76         | 85     | 88      |\n",
    "| Carla      | 90         | 95     | 85      |\n",
    "| Daniel     | 65         | 70     | 75      |\n",
    "| Elena      | 80         | 88     | 82      |\n",
    "\n",
    "Tu tarea es:\n",
    "\n",
    "1. Crear un **DataFrame** con los datos anteriores.\n",
    "2. Calcular el **promedio** de calificaciones de cada estudiante.\n",
    "3. Determinar qué estudiante tiene la **calificación más alta** en Matemáticas.\n",
    "4. Filtrar el DataFrame para mostrar solo a los estudiantes que tienen un promedio superior a **80**.\n",
    "5. Agregar una nueva columna llamada `Promedio` que contenga el promedio de las tres materias.\n",
    "\n",
    "---\n",
    "\n",
    "#### **Instrucciones**:\n",
    "1. Importa el módulo `pandas`.\n",
    "2. Crea un DataFrame a partir de los datos proporcionados.\n",
    "3. Realiza los cálculos y filtrados utilizando las funciones de Pandas.\n",
    "4. Imprime los resultados de cada análisis.\n",
    "\n",
    "---\n",
    "\n",
    "### **Código de inicio**:"
   ]
  },
  {
   "cell_type": "code",
   "execution_count": null,
   "id": "6af60e73",
   "metadata": {},
   "outputs": [],
   "source": [
    "import pandas as pd\n",
    "\n",
    "# 1. Crear el DataFrame con los datos proporcionados\n",
    "datos = {\n",
    "    \"Nombre\": [\"Ana\", \"Benjamín\", \"Carla\", \"Daniel\", \"Elena\"],\n",
    "    \"Matemáticas\": [85, 76, 90, 65, 80],\n",
    "    \"Física\": [78, 85, 95, 70, 88],\n",
    "    \"Química\": [92, 88, 85, 75, 82]\n",
    "}\n",
    "\n",
    "df = pd.DataFrame(datos)"
   ]
  }
 ],
 "metadata": {
  "jupytext": {
   "cell_metadata_filter": "-all",
   "main_language": "python",
   "notebook_metadata_filter": "-all"
  }
 },
 "nbformat": 4,
 "nbformat_minor": 5
}
