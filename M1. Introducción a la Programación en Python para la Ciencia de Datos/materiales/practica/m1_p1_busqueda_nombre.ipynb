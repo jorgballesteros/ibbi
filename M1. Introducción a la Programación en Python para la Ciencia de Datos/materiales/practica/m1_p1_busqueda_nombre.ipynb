{
 "cells": [
  {
   "cell_type": "markdown",
   "id": "7ddaf35f",
   "metadata": {
    "lines_to_next_cell": 0
   },
   "source": [
    "### Ejercicio 1: Búsqueda de Apellidos por Nombre\n",
    "**Objetivo**: Practicar el uso de diccionarios y la definición de funciones para la búsqueda de datos.\n",
    "\n",
    "---\n",
    "\n",
    "#### **Descripción del ejercicio**:\n",
    "Escribe un programa que almacene un conjunto de nombres y apellidos en un diccionario y que permita buscar los apellidos de las personas que tienen un nombre específico (en este caso, \"Carlos\").\n",
    "\n",
    "- Utiliza un diccionario donde las **claves** son los nombres y los **valores** son los apellidos.\n",
    "- Define una función llamada `buscar_apellidos(nombre)` que tome un nombre como argumento y devuelva el apellido asociados con ese nombre.\n",
    "- Si no se encuentra ninguna persona con el nombre dado, la función debe devolver un mensaje que lo indique.\n",
    "\n",
    "---\n",
    "\n",
    "#### **Instrucciones**:\n",
    "1. Crea un diccionario con al menos 6 pares de nombres y apellidos.\n",
    "2. Define la función `buscar_apellidos(nombre)` para buscar en el diccionario los apellidos de la persona que tienen el nombre, por ejemplo \"Carlos\".\n",
    "3. Pide al usuario que ingrese un nombre y muestra el apellido correspondiente utilizando la función definida.\n",
    "4. Si no hay coincidencias, muestra un mensaje indicando que no se encontraron resultados.\n",
    "\n",
    "---\n",
    "\n",
    "#### Datos de ejemplo:"
   ]
  },
  {
   "cell_type": "code",
   "execution_count": null,
   "id": "783d44db",
   "metadata": {},
   "outputs": [],
   "source": [
    "# Diccionario con nombres como claves y apellidos como valores\n",
    "personas = {\n",
    "    \"Carlos\": \"Pérez\",\n",
    "    \"Ana\": \"García\",\n",
    "    \"Roberto\": \"Gómez\",\n",
    "    \"Marta\": \"López\",\n",
    "    \"Julio\": \"Rodríguez\",\n",
    "    \"Luis\": \"Martínez\",\n",
    "    \"Pedro\": \"Sánchez\"\n",
    "}"
   ]
  },
  {
   "cell_type": "markdown",
   "id": "a7ec6b39",
   "metadata": {},
   "source": [
    "### Nota importante:\n",
    "El uso de **diccionarios en Python no permite tener claves duplicadas**, por lo que si en este caso hubiera varios \"Carlos\", solo se almacenará el último valor asignado."
   ]
  }
 ],
 "metadata": {
  "jupytext": {
   "cell_metadata_filter": "-all",
   "main_language": "python",
   "notebook_metadata_filter": "-all"
  }
 },
 "nbformat": 4,
 "nbformat_minor": 5
}
