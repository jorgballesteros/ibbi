{
 "cells": [
  {
   "cell_type": "markdown",
   "id": "9ea11a20",
   "metadata": {},
   "source": [
    "### Caso Práctico 2: Juego de Adivinanza de Números\n",
    "**Objetivo:** Practicar el uso de bucles, condicionales, variables y funciones.\n",
    "\n",
    "1. **Descripción del ejercicio**:\n",
    "   - Escribe un programa en el que el usuario intente adivinar un número entre 1 y 100.\n",
    "   - El número será generado aleatoriamente por el programa.\n",
    "   - Utiliza una función llamada `jugar_adivinanza` que se encargue de la lógica del juego.\n",
    "   - El programa debe indicar si el número introducido por el usuario es mayor o menor que el número objetivo y continuar hasta que el usuario lo adivine.\n",
    "   - Al final, muestra cuántos intentos tomó adivinar el número.\n",
    "\n",
    "2. **Instrucciones**:\n",
    "   - Importa el módulo `random` para generar un número aleatorio.\n",
    "   - Usa condicionales para verificar si el número ingresado es mayor, menor o igual al número a adivinar.\n",
    "   - Cuenta el número de intentos realizados por el usuario.\n",
    "   - La cuenta de intentos y el número aleatorio deben generarse en una celda independiente a la de ejecución de la función.\n",
    "\n",
    "3. **Código de inicio**:"
   ]
  },
  {
   "cell_type": "code",
   "execution_count": null,
   "id": "98f1ebe6",
   "metadata": {},
   "outputs": [],
   "source": [
    "import random\n",
    "incognita = random.random() * 100\n",
    "# Redondear a número entero\n"
   ]
  }
 ],
 "metadata": {
  "jupytext": {
   "cell_metadata_filter": "-all",
   "main_language": "python",
   "notebook_metadata_filter": "-all"
  }
 },
 "nbformat": 4,
 "nbformat_minor": 5
}
