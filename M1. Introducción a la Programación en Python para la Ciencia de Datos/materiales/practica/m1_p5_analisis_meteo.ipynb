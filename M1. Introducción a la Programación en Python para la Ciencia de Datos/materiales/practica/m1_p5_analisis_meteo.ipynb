{
 "cells": [
  {
   "cell_type": "markdown",
   "id": "22accf73",
   "metadata": {},
   "source": [
    "### **Caso Práctico 5: Análisis de Datos Meteorológicos en Canarias**\n",
    "\n",
    "---\n",
    "\n",
    "### **Contexto**:\n",
    "Supongamos que tienes datos meteorológicos de las islas Canarias que incluyen **temperatura, humedad, velocidad del viento, y precipitaciones** registradas diariamente en varias islas durante el último mes. El objetivo de este ejercicio es analizar y visualizar las tendencias para entender mejor las condiciones climáticas en la región.\n",
    "\n",
    "---\n",
    "\n",
    "### **Datos de Ejemplo**\n",
    "Los datos que vamos a utilizar incluyen:\n",
    "\n",
    "- **Fecha**: La fecha de la observación.\n",
    "- **Isla**: La isla donde se realizó la medición.\n",
    "- **Temperatura (°C)**: Temperatura media diaria.\n",
    "- **Humedad (%)**: Humedad relativa media diaria.\n",
    "- **Velocidad del Viento (km/h)**: Velocidad promedio del viento.\n",
    "- **Precipitación (mm)**: Cantidad de precipitación diaria.\n",
    "\n",
    "Vamos a crear un DataFrame con estos datos para simular el análisis.\n",
    "\n",
    "---\n",
    "\n",
    "### Generar un DataFrame Simulado con Datos Meteorológicos"
   ]
  },
  {
   "cell_type": "code",
   "execution_count": null,
   "id": "65422b22",
   "metadata": {},
   "outputs": [],
   "source": [
    "import pandas as pd\n",
    "import numpy as np\n",
    "import matplotlib.pyplot as plt\n",
    "\n",
    "# Generar datos aleatorios simulados para 5 islas en Canarias durante un mes\n",
    "np.random.seed(42)\n",
    "fechas = pd.date_range(start=\"2024-10-01\", periods=30)\n",
    "\n",
    "islas = [\"Tenerife\", \"Gran Canaria\", \"Lanzarote\", \"Fuerteventura\", \"La Palma\"]\n",
    "datos = {\n",
    "    \"Fecha\": np.tile(fechas, len(islas)),\n",
    "    \"Isla\": np.repeat(islas, len(fechas)),\n",
    "    \"Temperatura (°C)\": np.random.uniform(20, 30, size=len(fechas) * len(islas)),\n",
    "    \"Humedad (%)\": np.random.uniform(50, 80, size=len(fechas) * len(islas)),\n",
    "    \"Velocidad del Viento (km/h)\": np.random.uniform(10, 30, size=len(fechas) * len(islas)),\n",
    "    \"Precipitación (mm)\": np.random.uniform(0, 10, size=len(fechas) * len(islas))\n",
    "}\n",
    "\n",
    "df = pd.DataFrame(datos)\n",
    "df.set_index(\"Fecha\", inplace=True)"
   ]
  },
  {
   "cell_type": "code",
   "execution_count": null,
   "id": "680bcfad",
   "metadata": {},
   "outputs": [],
   "source": [
    "# Mostrar las primeras filas del DataFrame\n",
    "print(\"Datos Meteorológicos de Canarias:\")\n",
    "print(df.head())"
   ]
  },
  {
   "cell_type": "code",
   "execution_count": null,
   "id": "b5ae0bc7",
   "metadata": {},
   "outputs": [],
   "source": [
    "# Mostrar las últimas filas del DataFrame\n",
    "print(df.tail())"
   ]
  },
  {
   "cell_type": "markdown",
   "id": "49135f9a",
   "metadata": {},
   "source": [
    "---\n",
    "\n",
    "### Instrucciones\n",
    "\n",
    "**Instrucciones**:\n",
    "\n",
    "1. Calcula la **temperatura promedio** por isla para el mes y ordénalas de mayor a menor.\n",
    "2. Crea un gráfico de **líneas** que muestre la evolución de la temperatura diaria para las islas Tenerife y Gran Canaria.\n",
    "3. Visualiza un gráfico de **barras** que compare la **precipitación total** acumulada por cada isla.\n",
    "4. Crea un gráfico de **área apilada** para mostrar la distribución de la **velocidad del viento** en todas las islas.\n",
    "\n",
    "**Resultados esperados**:\n",
    "Estos gráficos te permitirán obtener **insights clave** sobre el clima en las Islas Canarias, como qué isla tiene las temperaturas más altas, la relación entre temperatura y humedad, y cómo varía la velocidad del viento entre las islas.\n",
    "\n",
    "---\n",
    "\n",
    "### Solución del Ejercicio"
   ]
  },
  {
   "cell_type": "code",
   "execution_count": null,
   "id": "b773f95d",
   "metadata": {},
   "outputs": [],
   "source": [
    "# 1. Calcular la temperatura promedio por isla. Usa groupby para agrupar por isla\n"
   ]
  },
  {
   "cell_type": "code",
   "execution_count": null,
   "id": "bf066bec",
   "metadata": {},
   "outputs": [],
   "source": [
    "# 2. Gráfico de líneas para la evolución de la temperatura en Tenerife y Gran Canaria\n",
    "plt.figure(figsize=(10, 5))\n",
    "for isla in [\"Tenerife\", \"Gran Canaria\"]:\n",
    "    print(isla)\n"
   ]
  },
  {
   "cell_type": "code",
   "execution_count": null,
   "id": "015e9a84",
   "metadata": {},
   "outputs": [],
   "source": [
    "# 3. Gráfico de barras para la precipitación total por isla. Usa groupby para agrupar por isla\n",
    "\n",
    "plt.figure(figsize=(10, 6))\n",
    "# Usamos la funcion bar de matplotlib"
   ]
  },
  {
   "cell_type": "code",
   "execution_count": null,
   "id": "1d1494b0",
   "metadata": {},
   "outputs": [],
   "source": [
    "# 4. Gráfico de área apilada para la velocidad del viento en todas las islas\n",
    "df_viento = df.pivot_table(index=df.index, columns=\"Isla\", values=\"Velocidad del Viento (km/h)\", aggfunc=\"mean\")\n",
    "\n",
    "plt.figure(figsize=(10, 6))\n",
    "# Usamos la funcion stackplot de matplotlib\n"
   ]
  }
 ],
 "metadata": {
  "jupytext": {
   "cell_metadata_filter": "-all",
   "main_language": "python",
   "notebook_metadata_filter": "-all"
  }
 },
 "nbformat": 4,
 "nbformat_minor": 5
}
