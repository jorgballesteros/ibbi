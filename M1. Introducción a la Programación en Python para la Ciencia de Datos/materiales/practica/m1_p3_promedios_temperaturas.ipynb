{
 "cells": [
  {
   "cell_type": "markdown",
   "id": "27b89d81",
   "metadata": {},
   "source": [
    "### Caso Práctico 3: Análisis de Temperaturas con NumPy\n",
    "**Objetivo**: Practicar la creación y manipulación de arrays de NumPy, así como el uso de operaciones básicas y funciones de este paquete.\n",
    "\n",
    "---\n",
    "\n",
    "#### **Descripción del ejercicio**:\n",
    "Se te proporcionan los datos de temperatura (en grados Celsius) registrados durante los últimos 7 días en tres ciudades diferentes. Utiliza **NumPy** para realizar cálculos y análisis de estas temperaturas.\n",
    "\n",
    "Los datos son los siguientes:\n",
    "\n",
    "```\n",
    "Ciudad A: [22, 21, 23, 24, 20, 19, 21]\n",
    "Ciudad B: [18, 17, 19, 20, 21, 20, 22]\n",
    "Ciudad C: [25, 24, 26, 27, 23, 22, 24]\n",
    "```\n",
    "\n",
    "La tarea es:\n",
    "\n",
    "1. Crear un array de **NumPy** para cada ciudad.\n",
    "2. Calcular la **temperatura promedio** de cada ciudad.\n",
    "3. Determinar la **temperatura máxima y mínima** registrada en cada ciudad.\n",
    "4. Calcular la **temperatura promedio de todas las ciudades** para cada día.\n",
    "5. Determinar qué ciudad tuvo la **mayor temperatura promedio** durante la semana.\n",
    "6. Crear un nuevo array que contenga la **diferencia** entre las temperaturas de la Ciudad A y Ciudad B para cada día.\n",
    "\n",
    "---\n",
    "\n",
    "#### **Instrucciones**:\n",
    "1. Importa el módulo `numpy`.\n",
    "2. Crea arrays de NumPy para almacenar los datos de temperatura.\n",
    "3. Realiza los cálculos solicitados utilizando las funciones y métodos de NumPy.\n",
    "4. Imprime los resultados de cada cálculo.\n",
    "\n",
    "---\n",
    "\n",
    "#### **Código de inicio**:"
   ]
  },
  {
   "cell_type": "code",
   "execution_count": null,
   "id": "7d66135c",
   "metadata": {},
   "outputs": [],
   "source": [
    "import numpy as np\n",
    "\n",
    "# 1. Crear arrays de NumPy para cada ciudad\n",
    "ciudad_a = np.array([22, 21, 23, 24, 20, 19, 21])\n",
    "ciudad_b = np.array([18, 17, 19, 20, 21, 20, 22])\n",
    "ciudad_c = np.array([25, 24, 26, 27, 23, 22, 24])"
   ]
  }
 ],
 "metadata": {
  "jupytext": {
   "cell_metadata_filter": "-all",
   "main_language": "python",
   "notebook_metadata_filter": "-all"
  }
 },
 "nbformat": 4,
 "nbformat_minor": 5
}
