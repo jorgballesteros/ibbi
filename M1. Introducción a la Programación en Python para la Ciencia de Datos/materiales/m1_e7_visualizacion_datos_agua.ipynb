{
 "cells": [
  {
   "cell_type": "markdown",
   "metadata": {},
   "source": [
    "## E7. Visualización de datos de agua"
   ]
  },
  {
   "cell_type": "markdown",
   "metadata": {},
   "source": [
    "### Carga de datos desde fichero CSV\n",
    "La carga de datos en pandas es una de las tareas más comunes y puede realizarse utilizando la función pd.read_csv() para archivos CSV."
   ]
  },
  {
   "cell_type": "code",
   "execution_count": null,
   "metadata": {},
   "outputs": [],
   "source": [
    "import pandas as pd\n",
    "import numpy as np\n",
    "\n",
    "# Carga de datos de Agua\n",
    "agua_df = pd.read_csv('data/m1_e7_datos_agua_dia.csv', index_col=0)\n",
    "print(agua_df.head())"
   ]
  },
  {
   "cell_type": "markdown",
   "metadata": {},
   "source": [
    "### Gráfico de Barras:\n",
    "Los gráficos de barras se utilizan principalmente para comparar cantidades entre diferentes categorías o grupos.\n",
    "\n",
    "#### Características principales:\n",
    "- **Comparación de categorías**: Son ideales para mostrar comparaciones directas entre diferentes grupos o categorías. Cada barra representa una categoría, y la altura o longitud de la barra indica la cantidad asociada a esa categoría.\n",
    "- **Visualización discreta**: Se utilizan mejor para datos discretos (por ejemplo, ventas por producto, población por país, etc.).\n",
    "- **Claridad en diferencias**: Ayuda a visualizar diferencias entre categorías que no están relacionadas de forma secuencial."
   ]
  },
  {
   "cell_type": "code",
   "execution_count": null,
   "metadata": {},
   "outputs": [],
   "source": [
    "import matplotlib.pyplot as plt\n",
    "\n",
    "# Seleccionamos una porción del dataset\n",
    "plot_df = agua_df[:31]\n",
    "\n",
    "plt.figure(figsize=(10, 6))\n",
    "plot_df['Consumo'].plot(kind='bar')\n",
    "plt.title('Consumo de Agua Mensual')\n",
    "plt.xlabel('Mes')\n",
    "plt.ylabel('Consumo (Litros)')\n",
    "plt.xticks(rotation=45)  # Rotar etiquetas del eje x para mejor visibilidad\n",
    "plt.show()"
   ]
  },
  {
   "cell_type": "code",
   "execution_count": null,
   "metadata": {},
   "outputs": [],
   "source": [
    "# Calcular el promedio de la columna 'Consumo_Agua_Litros'\n",
    "mean_consumo = plot_df['Consumo'].mean()\n",
    "\n",
    "# Crear el gráfico de barras\n",
    "plt.figure(figsize=(10, 6))\n",
    "plt.bar(plot_df.index, plot_df['Consumo'], color='skyblue', edgecolor='black')\n",
    "\n",
    "# Añadir una línea horizontal que indique el promedio\n",
    "plt.axhline(y=mean_consumo, color='red', linestyle='--', linewidth=2, label=f'Promedio: {mean_consumo:.2f} L')\n",
    "\n",
    "# Añadir etiquetas y título\n",
    "plt.title('Consumo de Agua Diario en el Centro Escolar', fontsize=16)\n",
    "plt.xlabel('Fecha', fontsize=12)\n",
    "plt.ylabel('Consumo de Agua (Litros)', fontsize=12)\n",
    "plt.xticks(rotation=45)\n",
    "\n",
    "# Mostrar la leyenda\n",
    "plt.legend()\n",
    "\n",
    "# Mostrar el gráfico\n",
    "plt.tight_layout()\n",
    "plt.show()"
   ]
  },
  {
   "cell_type": "markdown",
   "metadata": {},
   "source": [
    "### Gráfico de Líneas\n",
    "Los gráficos de líneas son útiles para visualizar la evolución de una variable a lo largo del tiempo o para mostrar la relación entre datos secuenciales.\n",
    "\n",
    "#### Características principales:\n",
    "- **Tendencias a lo largo del tiempo**: Se utilizan principalmente para mostrar cómo cambian las variables continuas a lo largo del tiempo o en secuencias ordenadas. Es ideal para series temporales.\n",
    "- **Continuidad**: Conectan puntos de datos con líneas, lo que ayuda a resaltar las tendencias o patrones en datos continuos.\n",
    "- **Diferencias sutiles**: Las líneas permiten visualizar pequeños cambios o variaciones entre los puntos de datos."
   ]
  },
  {
   "cell_type": "code",
   "execution_count": null,
   "metadata": {},
   "outputs": [],
   "source": [
    "plt.figure(figsize=(10, 6))\n",
    "plot_df[['Consumo']].plot()\n",
    "plt.title('Consumo de Agua Diario')\n",
    "plt.xlabel('Mes')\n",
    "plt.ylabel('Consumo (Litros)')\n",
    "plt.xticks(rotation=45)  # Rotar etiquetas del eje x para mejor visibilidad\n",
    "plt.show()"
   ]
  },
  {
   "cell_type": "markdown",
   "metadata": {},
   "source": [
    "El gráfico de líneas para un con junto de datos tan pequeño hace más dificil apreciar las diferencias. SIn emabrgo, si mostramos un rango más largo"
   ]
  },
  {
   "cell_type": "code",
   "execution_count": null,
   "metadata": {},
   "outputs": [],
   "source": [
    "plt.figure(figsize=(10, 6))\n",
    "agua_df[['Consumo']].plot()\n",
    "plt.title('Consumo de Agua Diario')\n",
    "plt.xlabel('Mes')\n",
    "plt.ylabel('Consumo (Litros)')\n",
    "plt.xticks(rotation=45)  # Rotar etiquetas del eje x para mejor visibilidad\n",
    "plt.show()"
   ]
  },
  {
   "cell_type": "markdown",
   "metadata": {},
   "source": [
    "Y ahora dando un poco de estilo al gráfico"
   ]
  },
  {
   "cell_type": "code",
   "execution_count": null,
   "metadata": {},
   "outputs": [],
   "source": [
    "import pandas as pd\n",
    "import matplotlib.pyplot as plt\n",
    "import matplotlib.dates as mdates\n",
    "\n",
    "# Dibujar la línea con un estilo más estilizado\n",
    "plt.plot(agua_df.index, agua_df['Consumo'], linestyle='-', marker='o', markersize=6, \n",
    "         markerfacecolor='orange', label='Consumo Diario (Litros)')\n",
    "\n",
    "# Mejorar la visualización de los ejes\n",
    "plt.gca().xaxis.set_major_locator(mdates.WeekdayLocator(interval=1))  # Mostrar una marca por semana\n",
    "plt.xticks(rotation=45, ha='right')  # Rotar las fechas en el eje X\n",
    "\n",
    "# Añadir etiquetas y título\n",
    "plt.title('Consumo de Agua Diario (Enero - Marzo 2024)', fontsize=14, fontweight='bold')\n",
    "plt.xlabel('Fecha', fontsize=12)\n",
    "plt.ylabel('Consumo de Agua (Litros)', fontsize=12)\n",
    "\n",
    "# Añadir una cuadrícula\n",
    "plt.grid(True, which='both', linestyle='--', linewidth=0.5)\n",
    "\n",
    "# Añadir leyenda\n",
    "plt.legend()\n",
    "\n",
    "# Ajustar los márgenes\n",
    "plt.tight_layout()\n",
    "\n",
    "# Mostrar el gráfico\n",
    "plt.show()"
   ]
  },
  {
   "cell_type": "markdown",
   "metadata": {},
   "source": [
    "Por el contrario, un gráfico de barras en un conjunto grande de datos se hace demasiado denso, confuso."
   ]
  },
  {
   "cell_type": "code",
   "execution_count": null,
   "metadata": {},
   "outputs": [],
   "source": [
    "agua_df[['Consumo']].plot(kind='bar')\n",
    "plt.title('Consumo de Agua Mensual')\n",
    "plt.xlabel('Mes')\n",
    "plt.ylabel('Consumo (Litros)')\n",
    "plt.xticks(rotation=45)  # Rotar etiquetas del eje x para mejor visibilidad\n",
    "plt.show()"
   ]
  },
  {
   "cell_type": "markdown",
   "metadata": {},
   "source": [
    "### Histograma\n",
    "Un histograma es un tipo de gráfico que muestra la distribución de frecuencias de un conjunto de datos numéricos. Representa cómo se distribuyen los valores de una variable continua o cuantitativa en diferentes rangos o \"bins\" (intervalos), lo que permite visualizar la forma de la distribución, como si fuera un resumen visual de los datos."
   ]
  },
  {
   "cell_type": "code",
   "execution_count": null,
   "metadata": {},
   "outputs": [],
   "source": [
    "# Crear el histograma de la columna 'Consumo'\n",
    "plt.figure(figsize=(8, 6))\n",
    "plt.hist(agua_df['Consumo'], bins=30, edgecolor='black')\n",
    "\n",
    "# Añadir títulos y etiquetas\n",
    "plt.title('Histograma de Consumo de Agua', fontsize=16)\n",
    "plt.xlabel('Consumo (Litros)', fontsize=14)\n",
    "plt.ylabel('Frecuencia', fontsize=14)"
   ]
  },
  {
   "cell_type": "markdown",
   "metadata": {},
   "source": [
    "Ahora vamos a generar algunas series complementarias a partir de la fecha de cada registro"
   ]
  },
  {
   "cell_type": "code",
   "execution_count": null,
   "metadata": {},
   "outputs": [],
   "source": [
    "# Generamos una columna con un objeto fecha a partir del índice\n",
    "agua_df['Datetime'] = pd.to_datetime(agua_df.index)\n",
    "\n",
    "# Crear nuevas columnas para el mes y el año\n",
    "agua_df['Día'] = agua_df['Datetime'].dt.day  # Extraer el día\n",
    "agua_df['Mes'] = agua_df['Datetime'].dt.month  # Extraer el mes\n",
    "agua_df['Año'] = agua_df['Datetime'].dt.year   # Extraer el año"
   ]
  },
  {
   "cell_type": "code",
   "execution_count": null,
   "metadata": {},
   "outputs": [],
   "source": [
    "# Filtramos por mes y solo nos quedamos con los datos del mes de Marzo\n",
    "febrero_df = agua_df[agua_df['Mes'] == 3]\n",
    "febrero_df[['Consumo']].plot()\n",
    "plt.title('Consumo de Agua Mensual')\n",
    "plt.xlabel('Mes')\n",
    "plt.ylabel('Consumo (Litros)')\n",
    "plt.xticks(rotation=45)  # Rotar etiquetas del eje x para mejor visibilidad\n",
    "plt.show()"
   ]
  },
  {
   "cell_type": "code",
   "execution_count": null,
   "metadata": {},
   "outputs": [],
   "source": [
    "# Crear el histograma de la columna 'Consumo'\n",
    "plt.figure(figsize=(8, 6))\n",
    "plt.hist(febrero_df['Consumo'], bins=30, edgecolor='black')\n",
    "\n",
    "# Añadir títulos y etiquetas\n",
    "plt.title('Histograma de Consumo de Agua', fontsize=16)\n",
    "plt.xlabel('Consumo (Litros)', fontsize=14)\n",
    "plt.ylabel('Frecuencia', fontsize=14)"
   ]
  },
  {
   "cell_type": "markdown",
   "metadata": {},
   "source": [
    "### Visualización con `seaborn`"
   ]
  },
  {
   "cell_type": "markdown",
   "metadata": {},
   "source": [
    "Primero representamos el conjunto de datos una visualiación en matpolotlib"
   ]
  },
  {
   "cell_type": "code",
   "execution_count": null,
   "metadata": {},
   "outputs": [],
   "source": [
    "# Visualización con matplotlib\n",
    "plt.figure(figsize=(12, 6))\n",
    "plt.plot(agua_df.index, agua_df['Consumo'], label='Consumo de Agua', color='blue')\n",
    "plt.title('Consumo de Agua Diario')\n",
    "plt.xlabel('Fecha')\n",
    "plt.ylabel('Litros')\n",
    "plt.grid(True)\n",
    "plt.legend()\n",
    "plt.show()"
   ]
  },
  {
   "cell_type": "markdown",
   "metadata": {},
   "source": [
    "Ahora usaremos seaborn par mejora la visualización, reduciendo ruido y resaltando los detalles"
   ]
  },
  {
   "cell_type": "code",
   "execution_count": null,
   "metadata": {},
   "outputs": [],
   "source": [
    "import seaborn as sns\n",
    "\n",
    "# Visualización mejorada con seaborn\n",
    "sns.set_style('whitegrid')\n",
    "# Paleta de color\n",
    "sns.set_palette(\"Set2\")\n",
    "plt.figure(figsize=(12, 6))\n",
    "sns.lineplot(x=\"Datetime\",y='Consumo', data=agua_df, label='Consumo de Agua', marker='o')\n",
    "plt.title('Consumo de Agua Diario (Mejorado con Seaborn)')\n",
    "plt.xlabel('Fecha')\n",
    "plt.ylabel('Litros')\n",
    "plt.legend()\n",
    "plt.show()"
   ]
  },
  {
   "cell_type": "markdown",
   "metadata": {},
   "source": [
    "### Represntación de multiples series\n",
    "Ahora vamos a cargar un nuevo conjunto de datos que contiene consumos para 3 edificios diferentes"
   ]
  },
  {
   "cell_type": "code",
   "execution_count": null,
   "metadata": {},
   "outputs": [],
   "source": [
    "import pandas as pd\n",
    "import seaborn as sns\n",
    "import matplotlib.pyplot as plt\n",
    "\n",
    "# Cargar datos\n",
    "df = pd.read_csv('data/m1_e7_datos_agua_dia_edificios.csv', parse_dates=['Fecha'])\n",
    "df = df[df['Fecha'].dt.month < 3]\n",
    "\n",
    "# Exploración inicial del dataset\n",
    "print(df.head())\n",
    "print(df['Edificio'].value_counts())\n",
    "\n",
    "# Configurar estilo de seaborn\n",
    "sns.set_style('whitegrid')\n",
    "# Paleta de color\n",
    "sns.set_palette(\"Set2\")\n",
    "\n",
    "# Visualización con hue para diferenciar por edificio\n",
    "plt.figure(figsize=(12, 6))\n",
    "sns.lineplot(\n",
    "    x='Fecha',\n",
    "    y='Consumo',\n",
    "    hue='Edificio',  # Diferenciar por el edificio usando `hue`\n",
    "    data=df,\n",
    "    marker='o'\n",
    ")\n",
    "\n",
    "# Personalización del gráfico\n",
    "plt.title('Consumo de Agua Diario por Edificio')\n",
    "plt.xlabel('Fecha')\n",
    "plt.ylabel('Consumo en Litros')\n",
    "plt.legend(title='Edificio')\n",
    "plt.xticks(rotation=45)\n",
    "plt.show()\n"
   ]
  },
  {
   "cell_type": "markdown",
   "metadata": {},
   "source": [
    "Ahora representaremos todas los valores de las seires sin discrimnar por edificio. La ´line representa el valor promedio y y la banda más los valores extremos (mínimo y maximo) en cada día."
   ]
  },
  {
   "cell_type": "code",
   "execution_count": null,
   "metadata": {},
   "outputs": [],
   "source": [
    "plt.figure(figsize=(12, 6))\n",
    "sns.lineplot(data=df, x=\"Fecha\", y=\"Consumo\")\n",
    "plt.title('Consumo de Agua Diario combinados')\n",
    "plt.xlabel('Fecha')\n",
    "plt.ylabel('Consumo en Litros')\n",
    "plt.xticks(rotation=45)\n",
    "plt.show()"
   ]
  },
  {
   "cell_type": "markdown",
   "metadata": {},
   "source": [
    "Para conocer la distribución de los valores para cada edificio, haremos un histograma combinado de los 3 edificios"
   ]
  },
  {
   "cell_type": "code",
   "execution_count": null,
   "metadata": {},
   "outputs": [],
   "source": [
    "hist_plot = sns.histplot(data=df, \n",
    "                         x='Consumo', \n",
    "                         bins=20, \n",
    "                         kde=True, \n",
    "                         hue=\"Edificio\", \n",
    "                         element='step')\n",
    "\n",
    "plt.title('Distribución del Consumo de Agua por Edificio', fontsize=12)\n",
    "plt.xlabel('Consumo en Litros', fontsize=12)\n",
    "plt.ylabel('Frecuencia', fontsize=12)\n",
    "\n",
    "plt.show()"
   ]
  },
  {
   "cell_type": "markdown",
   "metadata": {},
   "source": [
    "Vamos a representar la relación entre consumos por pares de edificios"
   ]
  },
  {
   "cell_type": "code",
   "execution_count": null,
   "metadata": {},
   "outputs": [],
   "source": [
    "# Transformar el DataFrame utilizando pivot para fenrar una columna nueva por edificio\n",
    "pivot_df = df.pivot(index='Fecha', columns='Edificio', values='Consumo')\n",
    "pivot_df.head()"
   ]
  },
  {
   "cell_type": "code",
   "execution_count": null,
   "metadata": {},
   "outputs": [],
   "source": [
    "# Generar el scatterplot entre pares de consumos\n",
    "sns.pairplot(pivot_df[['Edificio A', 'Edificio B', 'Edificio C']], diag_kind='kde', height=3, markers='o')\n",
    "\n",
    "# Configurar el título\n",
    "plt.suptitle('Relación entre consumos de diferentes edificios', y=1.02)\n",
    "plt.show()"
   ]
  },
  {
   "cell_type": "markdown",
   "metadata": {},
   "source": [
    "Ahora vamos a ver el mapa de correlaciones entre estas series y 2 nuevas series con el día de la semana y el mes del año"
   ]
  },
  {
   "cell_type": "code",
   "execution_count": null,
   "metadata": {},
   "outputs": [],
   "source": [
    "# Añadir las columnas de Mes y Día de la semana\n",
    "pivot_df['Mes'] = pivot_df.index.month\n",
    "pivot_df['Día'] = pivot_df.index.day_of_week\n",
    "\n",
    "plt.figure(figsize=(10, 8))\n",
    "sns.heatmap(pivot_df.corr(), annot=True)\n",
    "\n",
    "# Configurar el título del gráfico\n",
    "plt.title('Mapa de Correlación de Consumos')\n",
    "plt.show()"
   ]
  }
 ],
 "metadata": {
  "kernelspec": {
   "display_name": "ibbi",
   "language": "python",
   "name": "python3"
  },
  "language_info": {
   "codemirror_mode": {
    "name": "ipython",
    "version": 3
   },
   "file_extension": ".py",
   "mimetype": "text/x-python",
   "name": "python",
   "nbconvert_exporter": "python",
   "pygments_lexer": "ipython3",
   "version": "3.12.0"
  }
 },
 "nbformat": 4,
 "nbformat_minor": 2
}
