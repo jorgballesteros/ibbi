{
 "cells": [
  {
   "cell_type": "markdown",
   "id": "056b2b5b",
   "metadata": {},
   "source": [
    "# Ejercicio 4. Análisis Exploratorio de Datos (EDA)\n",
    "\n",
    "## Contexto del Ejercicio\n",
    "\n",
    "Trabajaremos con un conjunto de datos de **consumo energético** y **generación fotovoltaica** de un edificio en Canarias, complementado con variables meteorológicas como temperatura, radiación solar, humedad y velocidad del viento. Este ejercicio avanzado incluye no solo un análisis descriptivo básico, sino también la **detección de anomalías**, la **segmentación de datos** y el análisis detallado de relaciones entre variables para obtener ***insights*** accionables.\n",
    "\n",
    "## Objetivos del Ejercicio\n",
    "\n",
    "1. Realizar un análisis descriptivo y visual de los datos.\n",
    "2. Detectar **anomalías** en el consumo y la generación.\n",
    "3. Analizar relaciones entre variables meteorológicas y energéticas.\n",
    "4. **Segmentar datos temporalmente** (e.g., un mes específico) para un análisis detallado.\n",
    "5. Evaluar patrones estacionales y diferenciar entre días laborables y fines de semana.\n",
    "\n",
    "## Desarrollo del Ejercicio\n",
    "\n",
    "### **Paso 1: Cargar y Explorar los Datos**\n",
    "\n",
    "Cargamos los datos y realizamos una exploración inicial."
   ]
  },
  {
   "cell_type": "code",
   "execution_count": null,
   "id": "3b2e5378",
   "metadata": {},
   "outputs": [],
   "source": [
    "import pandas as pd\n",
    "\n",
    "# Cargar el conjunto de datos\n",
    "ruta_csv = \"data/m3_e4_datos_energia_canarias.csv\"\n",
    "df = pd.read_csv(ruta_csv,index_col=0)\n",
    "\n",
    "# Inspección inicial\n",
    "print(\"Primeras filas del conjunto de datos:\")\n",
    "df.head()"
   ]
  },
  {
   "cell_type": "code",
   "execution_count": null,
   "id": "57738c23",
   "metadata": {},
   "outputs": [],
   "source": [
    "# Información básica\n",
    "print(\"\\nInformación del conjunto de datos:\")\n",
    "df.info()"
   ]
  },
  {
   "cell_type": "code",
   "execution_count": null,
   "id": "4c2013c4",
   "metadata": {},
   "outputs": [],
   "source": [
    "# Resumen estadístico\n",
    "print(\"\\nResumen estadístico:\")\n",
    "df.describe()"
   ]
  },
  {
   "cell_type": "markdown",
   "id": "71a5386d",
   "metadata": {},
   "source": [
    "**Preguntas iniciales**:\n",
    "- ¿Qué variables tenemos?\n",
    "- ¿Hay valores nulos o inconsistencias?\n",
    "- ¿Son las fechas interpretadas correctamente?\n",
    "\n",
    "---\n",
    "\n",
    "### **Paso 2: Limpiar y Preparar los Datos**\n",
    "\n",
    "1. Convertir fechas al formato `datetime`.\n",
    "2. Detectar y gestionar valores nulos.\n",
    "3. Crear nuevas columnas para análisis segmentado:\n",
    "   - Mes, día de la semana (laborable o fin de semana).\n",
    "   - Categorías climáticas (e.g., \"Alta radiación\" según umbrales)."
   ]
  },
  {
   "cell_type": "code",
   "execution_count": null,
   "id": "6d3022ba",
   "metadata": {},
   "outputs": [],
   "source": [
    "# Convertir la columna de fecha\n",
    "df[\"Fecha\"] = pd.to_datetime(df[\"Fecha\"])\n",
    "\n",
    "# Detectar y manejar valores nulos\n",
    "print(\"\\nValores nulos por columna:\")\n",
    "print(df.isnull().sum())\n",
    "df = df.dropna()  # Eliminamos filas con valores nulos"
   ]
  },
  {
   "cell_type": "code",
   "execution_count": null,
   "id": "59a0217c",
   "metadata": {},
   "outputs": [],
   "source": [
    "# Comprobar información del dataset modificado\n",
    "df.info()"
   ]
  },
  {
   "cell_type": "code",
   "execution_count": null,
   "id": "c094058b",
   "metadata": {},
   "outputs": [],
   "source": [
    "# Crear columnas derivadas\n",
    "df[\"Mes\"] = df[\"Fecha\"].dt.month\n",
    "df[\"Día Semana\"] = df[\"Fecha\"].dt.day_name()\n",
    "df[\"Es Fin de Semana\"] = df[\"Día Semana\"].isin([\"Saturday\", \"Sunday\"])\n",
    "df[\"Categoría Radiación\"] = pd.cut(df[\"Radiación Solar (W/m²)\"],\n",
    "                                    bins=[0, 500, 700, 1000],\n",
    "                                    labels=[\"Baja\", \"Media\", \"Alta\"])"
   ]
  },
  {
   "cell_type": "markdown",
   "id": "e7b7f9bc",
   "metadata": {},
   "source": [
    "---\n",
    "\n",
    "### **Paso 3: Análisis Descriptivo y Visualización**\n",
    "\n",
    "1. **Distribuciones de Consumo y Generación**:\n",
    "   - Histogramas y gráficos de violín para detectar patrones y outliers."
   ]
  },
  {
   "cell_type": "code",
   "execution_count": null,
   "id": "7129d9ae",
   "metadata": {},
   "outputs": [],
   "source": [
    "import seaborn as sns\n",
    "import matplotlib.pyplot as plt\n",
    "\n",
    "# Distribución de consumo energético\n",
    "sns.histplot(df[\"Consumo Energía (kWh)\"], kde=True, color=\"blue\")\n",
    "plt.title(\"Distribución del Consumo Energético\")\n",
    "plt.xlabel(\"Consumo Energía (kWh)\")\n",
    "plt.ylabel(\"Frecuencia\")\n",
    "plt.show()\n"
   ]
  },
  {
   "cell_type": "code",
   "execution_count": null,
   "id": "b34eeb9a",
   "metadata": {},
   "outputs": [],
   "source": [
    "# Distribución de generación FV por categoría de radiación\n",
    "sns.violinplot(data=df, x=\"Categoría Radiación\", y=\"Generación FV (kWh)\", palette=\"viridis\", hue=\"Categoría Radiación\")\n",
    "plt.title(\"Distribución de Generación FV por Categoría de Radiación\")\n",
    "plt.xlabel(\"Categoría de Radiación\")\n",
    "plt.ylabel(\"Generación FV (kWh)\")\n",
    "plt.show()"
   ]
  },
  {
   "cell_type": "markdown",
   "id": "aa12c1de",
   "metadata": {},
   "source": [
    "---\n",
    "\n",
    "2. **Tendencias Temporales y Segmentación**:\n",
    "   - Visualización por meses o días específicos."
   ]
  },
  {
   "cell_type": "code",
   "execution_count": null,
   "id": "bd7a1998",
   "metadata": {},
   "outputs": [],
   "source": [
    "# Filtrar datos de un mes específico (e.g., Enero)\n",
    "df_enero = df[df[\"Mes\"] == 1]\n",
    "\n",
    "# Tendencias diarias en enero\n",
    "plt.plot(df_enero[\"Fecha\"], df_enero[\"Consumo Energía (kWh)\"], label=\"Consumo Energético\", color=\"blue\", marker=\"o\")\n",
    "plt.plot(df_enero[\"Fecha\"], df_enero[\"Generación FV (kWh)\"], label=\"Generación FV\", color=\"green\")\n",
    "plt.title(\"Tendencias Diarias en Enero\")\n",
    "plt.xlabel(\"Fecha\")\n",
    "plt.ylabel(\"Energía (kWh)\")\n",
    "plt.legend()\n",
    "plt.grid()\n",
    "plt.show()"
   ]
  },
  {
   "cell_type": "markdown",
   "id": "88cbb50c",
   "metadata": {},
   "source": [
    "---\n",
    "\n",
    "### **Paso 4: Detección de Anomalías**\n",
    "\n",
    "1. Identificar días con consumos de energía fuera de lo esperado mediante **percentiles** o **reglas estadísticas**."
   ]
  },
  {
   "cell_type": "code",
   "execution_count": null,
   "id": "86bbdfb4",
   "metadata": {},
   "outputs": [],
   "source": [
    "# Detección de outliers basada en percentiles\n",
    "p10 = df[\"Consumo Energía (kWh)\"].quantile(0.10)\n",
    "p90 = df[\"Consumo Energía (kWh)\"].quantile(0.90)\n",
    "\n",
    "p30 = df[\"Consumo Energía (kWh)\"].quantile(0.30)\n",
    "p70 = df[\"Consumo Energía (kWh)\"].quantile(0.70)\n",
    "\n",
    "# Marcar valores fuera del rango esperado\n",
    "df[\"Es Anómalo\"] = ((df[\"Consumo Energía (kWh)\"] < p10) | (df[\"Consumo Energía (kWh)\"] > p90))\n",
    "df[\"Menos Anómalo\"] = ((df[\"Consumo Energía (kWh)\"] < p30) | (df[\"Consumo Energía (kWh)\"] > p70))\n",
    "\n",
    "# Visualizar anomalías\n",
    "plt.figure(figsize=(12, 6))\n",
    "plt.plot(df[\"Fecha\"], df[\"Consumo Energía (kWh)\"], label=\"Consumo Energético\", color=\"blue\")\n",
    "plt.scatter(df[df[\"Menos Anómalo\"]][\"Fecha\"], df[df[\"Menos Anómalo\"]][\"Consumo Energía (kWh)\"], color=\"yellow\", label=\"Anomalías\")\n",
    "plt.scatter(df[df[\"Es Anómalo\"]][\"Fecha\"], df[df[\"Es Anómalo\"]][\"Consumo Energía (kWh)\"], color=\"red\", label=\"Menos Anomalías\")\n",
    "plt.title(\"Detección de Anomalías en Consumo Energético\")\n",
    "plt.xlabel(\"Fecha\")\n",
    "plt.ylabel(\"Consumo Energía (kWh)\")\n",
    "plt.legend()\n",
    "plt.show()"
   ]
  },
  {
   "cell_type": "markdown",
   "id": "f19964bf",
   "metadata": {},
   "source": [
    "---\n",
    "\n",
    "### **Paso 5: Relaciones Entre Variables**\n",
    "\n",
    "Visualizar y analizar correlaciones para detectar dependencias entre consumo, generación y variables meteorológicas."
   ]
  },
  {
   "cell_type": "code",
   "execution_count": null,
   "id": "13ef261b",
   "metadata": {},
   "outputs": [],
   "source": [
    "# Matriz de correlación\n",
    "correlaciones = df[[\"Consumo Energía (kWh)\", \"Generación FV (kWh)\", \"Temperatura (°C)\", \"Radiación Solar (W/m²)\"]].corr()\n",
    "sns.heatmap(correlaciones, annot=True, cmap=\"coolwarm\", linewidths=0.5)\n",
    "plt.title(\"Matriz de Correlación\")\n",
    "plt.show()"
   ]
  },
  {
   "cell_type": "code",
   "execution_count": null,
   "id": "f752a39c",
   "metadata": {},
   "outputs": [],
   "source": [
    "# Relación entre radiación solar y generación\n",
    "sns.scatterplot(data=df, x=\"Radiación Solar (W/m²)\", y=\"Generación FV (kWh)\", hue=\"Categoría Radiación\", palette=\"viridis\")\n",
    "plt.title(\"Relación entre Radiación Solar y Generación FV\")\n",
    "plt.xlabel(\"Radiación Solar (W/m²)\")\n",
    "plt.ylabel(\"Generación FV (kWh)\")\n",
    "plt.show()"
   ]
  },
  {
   "cell_type": "code",
   "execution_count": null,
   "id": "fbd821be",
   "metadata": {},
   "outputs": [],
   "source": [
    "# Relación entre radiación solar y generación\n",
    "anom_df = df[df['Es Anómalo']]\n",
    "sns.scatterplot(data=anom_df, x=\"Radiación Solar (W/m²)\", y=\"Generación FV (kWh)\", hue=\"Categoría Radiación\", palette=\"viridis\")\n",
    "plt.title(\"Relación entre Radiación Solar y Generación FV\")\n",
    "plt.xlabel(\"Radiación Solar (W/m²)\")\n",
    "plt.ylabel(\"Generación FV (kWh)\")\n",
    "plt.show()"
   ]
  },
  {
   "cell_type": "markdown",
   "id": "d1c49cc9",
   "metadata": {},
   "source": [
    "---\n",
    "\n",
    "### **Conclusión**\n",
    "\n",
    "Este ejercicio avanzado de EDA hemos analizado datos energéticos y meteorológicos para identificar patrones, detectar anomalías y explorar relaciones clave. A través de técnicas visuales y estadísticas, obtenemos ***insights*** críticos sobre estacionalidad, días atípicos y factores que afectan el consumo y la generación de energía. Esta metodología es esencial para optimizar recursos y tomar decisiones basadas en datos en sistemas energéticos reales."
   ]
  }
 ],
 "metadata": {
  "jupytext": {
   "cell_metadata_filter": "-all",
   "main_language": "python",
   "notebook_metadata_filter": "-all"
  },
  "kernelspec": {
   "display_name": "ibbi",
   "language": "python",
   "name": "python3"
  },
  "language_info": {
   "codemirror_mode": {
    "name": "ipython",
    "version": 3
   },
   "file_extension": ".py",
   "mimetype": "text/x-python",
   "name": "python",
   "nbconvert_exporter": "python",
   "pygments_lexer": "ipython3",
   "version": "3.12.7"
  }
 },
 "nbformat": 4,
 "nbformat_minor": 5
}
