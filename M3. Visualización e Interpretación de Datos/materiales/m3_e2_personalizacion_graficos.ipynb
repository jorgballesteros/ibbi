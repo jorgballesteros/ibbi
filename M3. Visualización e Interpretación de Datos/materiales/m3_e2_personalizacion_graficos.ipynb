{
 "cells": [
  {
   "cell_type": "markdown",
   "id": "64fd583e",
   "metadata": {
    "lines_to_next_cell": 0
   },
   "source": [
    "# Ejercicio 2. Personalización de Gráficos\n",
    "\n",
    "`matplotlib` permite una amplia personalización de gráficos para adaptarlos a distintos contextos y audiencias. A continuación, se describen los principales aspectos de personalización y buenas prácticas asociadas.\n",
    "\n",
    "---\n",
    "\n",
    "## Buenas Prácticas Generales\n",
    "\n",
    "1. **Conoce tu audiencia**:\n",
    "   - Asegúrate de que los gráficos sean claros para el público objetivo (e.g., técnicos, directivos).\n",
    "2. **Simplifica**:\n",
    "   - Elimina elementos innecesarios que puedan distraer.\n",
    "3. **Consistencia**:\n",
    "   - Usa la misma paleta de colores, estilos y tamaños en gráficos relacionados.\n",
    "4. **Accesibilidad**:\n",
    "   - Asegúrate de que los gráficos sean interpretables para personas con discapacidades visuales.\n",
    "5. **Prueba antes de presentar**:\n",
    "   - Verifica que los elementos sean legibles en diferentes dispositivos o formatos (e.g., pantallas pequeñas, impresiones).\n",
    "\n",
    "## Personalización de Elementos\n",
    "\n",
    "### **1. Añadir Títulos y Etiquetas a un Gráfico**\n",
    "#### Títulos y etiquetas\n",
    "- **Títulos**: Un título claro y descriptivo ayuda a comprender rápidamente el propósito del gráfico.\n",
    "  - Coloca un título informativo en la parte superior del gráfico.\n",
    "- **Etiquetas de Ejes**: Los ejes deben estar etiquetados con unidades o descripciones relevantes.\n",
    "  - Ejemplo: En un gráfico de tiempo, el eje X puede ser \"Meses\", y el eje Y \"Consumo Energético (kWh)\".\n",
    "#### Líneas de Cuadrícula\n",
    "- Las cuadrículas mejoran la legibilidad al permitir al lector localizar valores.\n",
    "- **Recomendaciones**:\n",
    "  - Usa cuadrículas ligeras y no intrusivas (e.g., grises claros o discontinuas).\n",
    "  - Activa las cuadrículas para gráficos con valores continuos."
   ]
  },
  {
   "cell_type": "code",
   "execution_count": null,
   "id": "a9083020",
   "metadata": {},
   "outputs": [],
   "source": [
    "import matplotlib.pyplot as plt\n",
    "\n",
    "# Datos simples\n",
    "x = [1, 2, 3, 4, 5]\n",
    "y = [2, 3, 5, 7, 11]\n",
    "\n",
    "# Crear el gráfico\n",
    "plt.plot(x, y)\n",
    "\n",
    "# Personalización\n",
    "plt.title(\"Gráfico de Números Primos\")  # Título\n",
    "plt.xlabel(\"Índice\")                   # Etiqueta del eje X\n",
    "plt.ylabel(\"Valor\")                    # Etiqueta del eje Y\n",
    "plt.grid(True)                         # Agregar cuadrícula\n",
    "plt.show()"
   ]
  },
  {
   "cell_type": "markdown",
   "id": "9e2ce09e",
   "metadata": {
    "lines_to_next_cell": 0
   },
   "source": [
    "---\n",
    "\n",
    "### **2. Cambiar Colores y Estilos de Línea**\n",
    "#### Colores\n",
    "- Los colores ayudan a distinguir categorías o elementos.\n",
    "- **Buenas prácticas**:\n",
    "  - Usa colores consistentes con el tema o marca de la visualización.\n",
    "  - Evita usar demasiados colores brillantes o similares, ya que dificultan la lectura.\n",
    "  - Utiliza paletas accesibles para personas con daltonismo (e.g., paleta `viridis`).\n",
    "\n",
    "#### Estilos de Líneas y Marcadores\n",
    "- Los estilos de líneas (e.g., sólidas, punteadas) y los marcadores (e.g., círculos, cuadrados) son útiles para diferenciar series.\n",
    "- **Recomendaciones**:\n",
    "  - Usa líneas sólidas para la mayoría de los gráficos de tendencia.\n",
    "  - Combina estilos de líneas con colores si tienes muchas series.\n",
    "  - Asegúrate de que los marcadores sean visibles y no se solapen demasiado."
   ]
  },
  {
   "cell_type": "code",
   "execution_count": null,
   "id": "f031d537",
   "metadata": {},
   "outputs": [],
   "source": [
    "plt.plot(x, y, color=\"red\", linestyle=\"--\", linewidth=2, marker=\"o\", markersize=8)\n",
    "\n",
    "# Personalización\n",
    "plt.title(\"Gráfico Personalizado con Estilo\")\n",
    "plt.xlabel(\"Índice\")\n",
    "plt.ylabel(\"Valor\")\n",
    "plt.grid(True)\n",
    "plt.show()"
   ]
  },
  {
   "cell_type": "markdown",
   "id": "4a81e4f3",
   "metadata": {},
   "source": [
    "---\n",
    "\n",
    "### **3. Agregar Leyendas a Múltiples Líneas**\n",
    "- Las leyendas identifican las distintas categorías, series o elementos en un gráfico.\n",
    "- **Buenas prácticas**:\n",
    "  - Usa nombres descriptivos en las leyendas (no abreviaturas ambiguas).\n",
    "  - Ubica la leyenda fuera del área de trazado si el gráfico tiene varias líneas o elementos que se solapan.\n",
    "  - Asegúrate de que los colores o estilos de las líneas coincidan con los elementos representados.\n"
   ]
  },
  {
   "cell_type": "code",
   "execution_count": null,
   "id": "f4dad8f5",
   "metadata": {},
   "outputs": [],
   "source": [
    "x = [1, 2, 3, 4, 5]\n",
    "y1 = [2, 4, 6, 8, 10]\n",
    "y2 = [1, 3, 5, 7, 9]\n",
    "\n",
    "# Crear múltiples líneas\n",
    "plt.plot(x, y1, label=\"Línea 1\", color=\"blue\")\n",
    "plt.plot(x, y2, label=\"Línea 2\", color=\"green\")\n",
    "\n",
    "# Personalización\n",
    "plt.title(\"Gráfico con Leyendas\")\n",
    "plt.xlabel(\"Eje X\")\n",
    "plt.ylabel(\"Eje Y\")\n",
    "plt.legend(loc=\"upper left\")  # Posición de la leyenda\n",
    "plt.grid(True)\n",
    "plt.show()"
   ]
  },
  {
   "cell_type": "markdown",
   "id": "2cfb194e",
   "metadata": {
    "lines_to_next_cell": 0
   },
   "source": [
    "---\n",
    "\n",
    "### **4. Cambiar Tamaño y Fuentes de los Textos**\n",
    "#### Tamaño de la Figura\n",
    "- Ajustar el tamaño del gráfico garantiza que todos los elementos sean visibles.\n",
    "- **Recomendaciones**:\n",
    "  - Para gráficos complejos, utiliza tamaños más grandes para evitar saturación.\n",
    "  - Mantén una proporción adecuada entre el gráfico y los textos o leyendas.\n",
    "\n",
    "#### Fuentes y Tamaños de Texto\n",
    "- Elige fuentes legibles y tamaños apropiados para el contexto.\n",
    "- **Buenas prácticas**:\n",
    "  - Usa fuentes más grandes para presentaciones.\n",
    "  - Evita fuentes decorativas; prioriza la claridad.\n",
    "  - Asegúrate de que los textos no se superpongan con otros elementos."
   ]
  },
  {
   "cell_type": "code",
   "execution_count": null,
   "id": "df313c8e",
   "metadata": {},
   "outputs": [],
   "source": [
    "plt.plot(x, y)\n",
    "\n",
    "# Personalización de texto\n",
    "plt.title(\"Gráfico con Fuentes Personalizadas\", fontsize=16, fontweight=\"bold\")\n",
    "plt.xlabel(\"Eje X\", fontsize=12)\n",
    "plt.ylabel(\"Eje Y\", fontsize=12)\n",
    "plt.grid(True)\n",
    "plt.show()"
   ]
  },
  {
   "cell_type": "markdown",
   "id": "edfcc0c0",
   "metadata": {},
   "source": [
    "---\n",
    "\n",
    "### **5. Usar Colores Personalizados (RGB o Hexadecimal)**\n",
    "Es posible seleccionar colores personalizdos para los elementos de la gráfica. En este caso, seleccionamos un color mediante su código en hexadecimal."
   ]
  },
  {
   "cell_type": "code",
   "execution_count": null,
   "id": "a8421c82",
   "metadata": {},
   "outputs": [],
   "source": [
    "plt.plot(x, y, color=\"#FF5788\", marker=\"o\")  # Hexadecimal para naranja\n",
    "plt.title(\"Gráfico con Colores Personalizados\")\n",
    "plt.xlabel(\"Eje X\")\n",
    "plt.ylabel(\"Eje Y\")\n",
    "plt.grid(True)\n",
    "plt.show()"
   ]
  },
  {
   "cell_type": "markdown",
   "id": "8abede3e",
   "metadata": {},
   "source": [
    "---\n",
    "\n",
    "### **6. Cambiar el Estilo Global del Gráfico**\n",
    "- `matplotlib` incluye estilos predefinidos (e.g., `ggplot`, `seaborn`, `fivethirtyeight`) que mejoran la apariencia del gráfico.\n",
    "- **Recomendaciones**:\n",
    "  - Usa estilos consistentes en todas las visualizaciones de un proyecto.\n",
    "  - Elige estilos que se alineen con el propósito: algunos son más adecuados para publicaciones científicas, otros para presentaciones."
   ]
  },
  {
   "cell_type": "code",
   "execution_count": null,
   "id": "6fb94548",
   "metadata": {},
   "outputs": [],
   "source": [
    "import matplotlib.pyplot as plt\n",
    "\n",
    "# Cambiar estilo\n",
    "plt.style.use(\"ggplot\")  # Estilos: 'seaborn', 'ggplot', 'fivethirtyeight', etc.\n",
    "\n",
    "# Crear gráfico\n",
    "plt.plot(x, y)\n",
    "plt.title(\"Gráfico con Estilo ggplot\")\n",
    "plt.show()"
   ]
  },
  {
   "cell_type": "markdown",
   "id": "599ad817",
   "metadata": {
    "lines_to_next_cell": 0
   },
   "source": [
    "---\n",
    "\n",
    "### **7. Personalizar un Gráfico de Barras**"
   ]
  },
  {
   "cell_type": "code",
   "execution_count": null,
   "id": "93842928",
   "metadata": {},
   "outputs": [],
   "source": [
    "categorias = [\"A\", \"B\", \"C\", \"D\"]\n",
    "valores = [3, 7, 5, 9]\n",
    "\n",
    "plt.bar(categorias, valores, color=\"green\", edgecolor=\"black\", linewidth=1.5)\n",
    "\n",
    "# Personalización\n",
    "plt.title(\"Gráfico de Barras Personalizado\")\n",
    "plt.xlabel(\"Categorías\")\n",
    "plt.ylabel(\"Valores\")\n",
    "plt.show()"
   ]
  },
  {
   "cell_type": "markdown",
   "id": "46f5f443",
   "metadata": {
    "lines_to_next_cell": 0
   },
   "source": [
    "---\n",
    "\n",
    "### **8. Gráfico con Anotaciones**\n",
    "- Las anotaciones destacan puntos clave o explican patrones en los datos.\n",
    "- **Buenas prácticas**:\n",
    "  - Úsalas para resaltar máximos, mínimos o puntos de interés.\n",
    "  - Mantén las anotaciones breves y claras."
   ]
  },
  {
   "cell_type": "code",
   "execution_count": null,
   "id": "ec9f9479",
   "metadata": {},
   "outputs": [],
   "source": [
    "plt.plot(x, y)\n",
    "\n",
    "# Anotar un punto específico\n",
    "plt.annotate(\"Punto máximo\", xy=(5, 11), xytext=(4, 9),\n",
    "             arrowprops=dict(facecolor=\"black\", arrowstyle=\"->\"))\n",
    "\n",
    "# Personalización\n",
    "plt.title(\"Gráfico con Anotaciones\")\n",
    "plt.xlabel(\"Eje X\")\n",
    "plt.ylabel(\"Eje Y\")\n",
    "plt.grid(True)\n",
    "plt.show()"
   ]
  },
  {
   "cell_type": "markdown",
   "id": "ed03e8cb",
   "metadata": {
    "lines_to_next_cell": 0
   },
   "source": [
    "---\n",
    "\n",
    "### **9. Gráfico de Dispersión con Personalización**"
   ]
  },
  {
   "cell_type": "code",
   "execution_count": null,
   "id": "76c346de",
   "metadata": {},
   "outputs": [],
   "source": [
    "import numpy as np\n",
    "\n",
    "x = np.random.rand(50)\n",
    "y = np.random.rand(50)\n",
    "\n",
    "plt.scatter(x, y, color=\"purple\", alpha=0.7, edgecolor=\"black\")\n",
    "plt.title(\"Gráfico de Dispersión Personalizado\")\n",
    "plt.xlabel(\"Eje X\")\n",
    "plt.ylabel(\"Eje Y\")\n",
    "plt.show()"
   ]
  },
  {
   "cell_type": "markdown",
   "id": "aa5f7044",
   "metadata": {
    "lines_to_next_cell": 0
   },
   "source": [
    "---\n",
    "\n",
    "### **10. Gráfico con Subgráficos (Subplots)**\n",
    "#### Subgráficos\n",
    "- Representación de varias gráficas en una misma figura. \n",
    "- **Buenas prácticas**:\n",
    "  - Recomendable cuando repesentamos datos que no tiene una correlación temporal alta y/o tienen diferentes unidades de medida.\n",
    "\n",
    "#### Espaciado y Márgenes\n",
    "- Deja espacio suficiente para que los títulos, etiquetas y leyendas no se recorten.\n",
    "- **Buenas prácticas**:\n",
    "  - Usa opciones como `tight_layout` para ajustar automáticamente los márgenes.\n",
    "  - Si hay muchos elementos externos al gráfico (e.g., títulos largos), aumenta manualmente los márgenes."
   ]
  },
  {
   "cell_type": "code",
   "execution_count": null,
   "id": "9d42702b",
   "metadata": {},
   "outputs": [],
   "source": [
    "fig, ax = plt.subplots(2, 2, figsize=(10, 8))\n",
    "\n",
    "# Subgráfico 1\n",
    "ax[0, 0].plot(x, y, color=\"blue\")\n",
    "ax[0, 0].set_title(\"Subgráfico 1\")\n",
    "\n",
    "# Subgráfico 2\n",
    "ax[0, 1].bar(categorias, valores, color=\"green\")\n",
    "ax[0, 1].set_title(\"Subgráfico 2\")\n",
    "\n",
    "# Subgráfico 3\n",
    "ax[1, 0].scatter(x, y, color=\"red\")\n",
    "ax[1, 0].set_title(\"Subgráfico 3\")\n",
    "\n",
    "# Subgráfico 4\n",
    "ax[1, 1].hist(valores, bins=5, color=\"orange\")\n",
    "ax[1, 1].set_title(\"Subgráfico 4\")\n",
    "\n",
    "plt.tight_layout()\n",
    "plt.show()"
   ]
  },
  {
   "cell_type": "markdown",
   "id": "b7e79bfb",
   "metadata": {},
   "source": [
    "---\n",
    "## Conclusión\n",
    "En este ejercicio, hemos explorado cómo **personalizar gráficos** en Python utilizando `matplotlib` y `seaborn` para crear visualizaciones **claras, efectivas y visualmente atractivas**. Aprendimos a seleccionar tipos de gráficos adecuados según el tipo de dato y el mensaje que deseamos comunicar, aplicando personalizaciones como **títulos, etiquetas, leyendas, colores y estilos**. Estas herramientas nos permiten destacar **patrones, relaciones y tendencias** en los datos, garantizando que nuestras visualizaciones no solo sean informativas, sino también comprensibles para diferentes audiencias. La clave está en mantener **consistencia, simplicidad y claridad** en nuestras visualizaciones para maximizar su impacto."
   ]
  }
 ],
 "metadata": {
  "jupytext": {
   "cell_metadata_filter": "-all",
   "main_language": "python",
   "notebook_metadata_filter": "-all"
  },
  "kernelspec": {
   "display_name": "ibbi",
   "language": "python",
   "name": "python3"
  },
  "language_info": {
   "codemirror_mode": {
    "name": "ipython",
    "version": 3
   },
   "file_extension": ".py",
   "mimetype": "text/x-python",
   "name": "python",
   "nbconvert_exporter": "python",
   "pygments_lexer": "ipython3",
   "version": "3.12.7"
  }
 },
 "nbformat": 4,
 "nbformat_minor": 5
}
