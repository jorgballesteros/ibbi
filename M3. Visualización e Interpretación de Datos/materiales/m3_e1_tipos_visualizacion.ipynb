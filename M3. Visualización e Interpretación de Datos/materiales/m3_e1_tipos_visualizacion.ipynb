{
 "cells": [
  {
   "cell_type": "markdown",
   "id": "8988492f",
   "metadata": {},
   "source": [
    "# Ejercicio 1. Tipos de Visualización de Datos \n",
    "\n",
    "---\n",
    "\n",
    "## Introducción a la Visualización de Datos\n",
    "\n",
    "La visualización de datos es una herramienta esencial para comprender patrones, tendencias y relaciones en un conjunto de datos. Existen diversos tipos de datos que podemos representar, y para cada tipo, ciertos gráficos son más adecuados:\n",
    "\n",
    "### Tipos de Datos\n",
    "1. **Datos Temporales**: Fechas u horas (e.g., consumo diario, tendencias de ventas).\n",
    "   - **Gráficos recomendados**: Líneas, áreas, barras.\n",
    "2. **Datos Categóricos**: Agrupados en categorías (e.g., tipo de producto, estaciones).\n",
    "   - **Gráficos recomendados**: Barras, caja y bigotes, violines.\n",
    "3. **Datos Continuos**: Valores numéricos (e.g., temperatura, ingresos).\n",
    "   - **Gráficos recomendados**: Histogramas, diagramas de dispersión.\n",
    "4. **Datos Relacionales**: Relaciones entre variables (e.g., correlaciones).\n",
    "   - **Gráficos recomendados**: Mapas de calor, diagramas de dispersión.\n",
    "\n",
    "**Pregunta clave antes de elegir un gráfico:**\n",
    "¿Qué queremos comunicar? Tendencias, distribuciones, relaciones o variaciones.\n",
    "Antes de elegir un gráfico, es fundamental preguntarse: **¿Qué queremos comunicar con los datos?** Esto ayuda a seleccionar el tipo de gráfico más adecuado según el propósito del análisis. Aquí tienes una breve explicación de las categorías principales:\n",
    "\n",
    "#### **1. Tendencias**\n",
    "- **¿Qué representan?**\n",
    "  - Muestran cómo cambia una variable a lo largo del tiempo o en relación a otra dimensión.\n",
    "- **Cuándo usarlos:**\n",
    "  - Para datos temporales o secuenciales, como el consumo energético diario o la temperatura a lo largo de los meses.\n",
    "- **Gráficos recomendados:**\n",
    "  - Líneas, áreas, barras.\n",
    "\n",
    "#### **2. Distribuciones**\n",
    "- **¿Qué representan?**\n",
    "  - Visualizan cómo se distribuyen los valores de una variable, resaltando patrones como concentraciones, dispersiones y outliers.\n",
    "- **Cuándo usarlos:**\n",
    "  - Para analizar la frecuencia y dispersión de datos continuos, como el rango de temperaturas o la variabilidad del consumo.\n",
    "- **Gráficos recomendados:**\n",
    "  - Histogramas, boxplots, violines.\n",
    "\n",
    "### **3. Relaciones**\n",
    "- **¿Qué representan?**\n",
    "  - Muestran cómo dos o más variables están conectadas entre sí.\n",
    "- **Cuándo usarlos:**\n",
    "  - Para identificar correlaciones o dependencias entre variables, como la relación entre la radiación solar y el consumo energético.\n",
    "- **Gráficos recomendados:**\n",
    "  - Diagramas de dispersión, mapas de calor.\n",
    "\n",
    "### **4. Variaciones**\n",
    "- **¿Qué representan?**\n",
    "  - Resaltan cambios y diferencias entre categorías o grupos.\n",
    "- **Cuándo usarlos:**\n",
    "  - Para comparar valores agrupados, como el consumo promedio de diferentes edificios o meses.\n",
    "- **Gráficos recomendados:**\n",
    "  - Barras, boxplots.\n",
    "\n",
    "La clave está en la **historia que queremos contar**. Si buscas mostrar cambios a lo largo del tiempo, usaremos gráficos de tendencia; si queremos entender relaciones, enfócate en gráficos relacionales. Tener clara esta pregunta nos permitirá elegir el gráfico más impactante y efectivo para el análisis.\n",
    "\n",
    "---\n",
    "\n",
    "## Creación de Gráficos con Matplotlib y Seaborn\n",
    "\n",
    "Trabajaremos con un dataset simulado que contiene datos diarios de consumo energético y de agua en un edificio ubicado en Canarias durante un año."
   ]
  },
  {
   "cell_type": "code",
   "execution_count": null,
   "id": "6f239941",
   "metadata": {},
   "outputs": [],
   "source": [
    "import pandas as pd\n",
    "import numpy as np\n",
    "\n",
    "# Generar datos simulados\n",
    "np.random.seed(42)\n",
    "fechas = pd.date_range(start=\"2023-01-01\", end=\"2023-12-31\", freq=\"D\")\n",
    "consumo_energia = 300 + 20 * np.sin(2 * np.pi * fechas.dayofyear / 365) + np.random.normal(0, 10, len(fechas))\n",
    "consumo_agua = 25 + 5 * np.cos(2 * np.pi * fechas.dayofyear / 365) + np.random.normal(0, 2, len(fechas))\n",
    "\n",
    "# Crear DataFrame\n",
    "df = pd.DataFrame({\n",
    "    \"Fecha\": fechas,\n",
    "    \"Consumo Energía (kWh)\": consumo_energia,\n",
    "    \"Consumo Agua (m³)\": consumo_agua\n",
    "})"
   ]
  },
  {
   "cell_type": "markdown",
   "id": "8af46d3f",
   "metadata": {
    "lines_to_next_cell": 0
   },
   "source": [
    "### Gráficos de Series Temporales\n",
    "\n",
    "#### **Gráfico de Líneas**"
   ]
  },
  {
   "cell_type": "code",
   "execution_count": null,
   "id": "6ddd7f3a",
   "metadata": {},
   "outputs": [],
   "source": [
    "import matplotlib.pyplot as plt\n",
    "\n",
    "plt.figure(figsize=(10, 5))\n",
    "plt.plot(df[\"Fecha\"], df[\"Consumo Energía (kWh)\"], label=\"Energía (kWh)\", color=\"blue\")\n",
    "plt.plot(df[\"Fecha\"], df[\"Consumo Agua (m³)\"], label=\"Agua (m³)\", color=\"green\")\n",
    "plt.title(\"Consumo Diario de Energía y Agua\")\n",
    "plt.xlabel(\"Fecha\")\n",
    "plt.ylabel(\"Consumo\")\n",
    "plt.legend()\n",
    "plt.grid(True)\n",
    "plt.show()"
   ]
  },
  {
   "cell_type": "markdown",
   "id": "3c5db40b",
   "metadata": {
    "lines_to_next_cell": 0
   },
   "source": [
    "**Cuándo usarlo:** Para mostrar tendencias a lo largo del tiempo.\n",
    "\n",
    "#### **Gráfico de Barras**"
   ]
  },
  {
   "cell_type": "code",
   "execution_count": null,
   "id": "928b1a30",
   "metadata": {},
   "outputs": [],
   "source": [
    "df[\"Mes\"] = df[\"Fecha\"].dt.strftime(\"%B\")\n",
    "df_mensual = df.groupby(\"Mes\").mean().sort_index()\n",
    "\n",
    "plt.figure(figsize=(10, 5))\n",
    "plt.bar(df_mensual.index, df_mensual[\"Consumo Energía (kWh)\"], label=\"Energía\", alpha=0.7, color=\"blue\")\n",
    "plt.bar(df_mensual.index, df_mensual[\"Consumo Agua (m³)\"], label=\"Agua\", alpha=0.7, color=\"green\")\n",
    "plt.title(\"Consumo Promedio Mensual\")\n",
    "plt.xlabel(\"Mes\")\n",
    "plt.ylabel(\"Consumo\")\n",
    "plt.legend()\n",
    "plt.show()"
   ]
  },
  {
   "cell_type": "markdown",
   "id": "7f947969",
   "metadata": {
    "lines_to_next_cell": 0
   },
   "source": [
    "**Cuándo usarlo:** Para comparar cantidades agrupadas por categorías.\n",
    "\n",
    "#### **Gráfico de Áreas**"
   ]
  },
  {
   "cell_type": "code",
   "execution_count": null,
   "id": "fab24a23",
   "metadata": {},
   "outputs": [],
   "source": [
    "plt.figure(figsize=(10, 5))\n",
    "plt.fill_between(df[\"Fecha\"], df[\"Consumo Energía (kWh)\"], color=\"blue\", alpha=0.4, label=\"Energía\")\n",
    "plt.fill_between(df[\"Fecha\"], df[\"Consumo Agua (m³)\"], color=\"green\", alpha=0.4, label=\"Agua\")\n",
    "plt.title(\"Consumo Diario de Energía y Agua (Áreas)\")\n",
    "plt.xlabel(\"Fecha\")\n",
    "plt.ylabel(\"Consumo\")\n",
    "plt.legend()\n",
    "plt.show()"
   ]
  },
  {
   "cell_type": "markdown",
   "id": "006d2a69",
   "metadata": {
    "lines_to_next_cell": 0
   },
   "source": [
    "**Cuándo usarlo:** Para visualizar proporciones acumulativas o totales a lo largo del tiempo.\n",
    "\n",
    "### Distribuciones y Variaciones\n",
    "\n",
    "#### **Histograma**"
   ]
  },
  {
   "cell_type": "code",
   "execution_count": null,
   "id": "d1d3d76b",
   "metadata": {},
   "outputs": [],
   "source": [
    "plt.figure(figsize=(10, 5))\n",
    "plt.hist(df[\"Consumo Energía (kWh)\"], bins=20, alpha=0.7, label=\"Energía\", color=\"blue\")\n",
    "plt.hist(df[\"Consumo Agua (m³)\"], bins=20, alpha=0.7, label=\"Agua\", color=\"green\")\n",
    "plt.title(\"Distribución del Consumo\")\n",
    "plt.xlabel(\"Consumo\")\n",
    "plt.ylabel(\"Frecuencia\")\n",
    "plt.legend()\n",
    "plt.show()"
   ]
  },
  {
   "cell_type": "markdown",
   "id": "267ab8dc",
   "metadata": {
    "lines_to_next_cell": 0
   },
   "source": [
    "**Cuándo usarlo:** Para mostrar la distribución de datos continuos.\n",
    "\n",
    "#### Gráficos de caja y violín"
   ]
  },
  {
   "cell_type": "code",
   "execution_count": null,
   "id": "eb865b36",
   "metadata": {},
   "outputs": [],
   "source": [
    "import seaborn as sns\n",
    "\n",
    "plt.figure(figsize=(10, 5))\n",
    "sns.boxplot(data=df[[\"Consumo Energía (kWh)\", \"Consumo Agua (m³)\"]])\n",
    "plt.title(\"Variación en el Consumo\")\n",
    "plt.xlabel(\"Tipo de Consumo\")\n",
    "plt.ylabel(\"Consumo\")\n",
    "plt.show()\n",
    "\n",
    "plt.figure(figsize=(10, 5))\n",
    "sns.violinplot(data=df[[\"Consumo Energía (kWh)\", \"Consumo Agua (m³)\"]])\n",
    "plt.title(\"Distribución del Consumo (Violín)\")\n",
    "plt.xlabel(\"Tipo de Consumo\")\n",
    "plt.ylabel(\"Consumo\")\n",
    "plt.show()"
   ]
  },
  {
   "cell_type": "markdown",
   "id": "8cb52bb1",
   "metadata": {
    "lines_to_next_cell": 0
   },
   "source": [
    "**Cuándo usarlo:** Para visualizar variaciones, outliers y distribuciones.\n",
    "\n",
    "### Relación entre Variables\n",
    "\n",
    "#### **Gráfico de Dispersión**"
   ]
  },
  {
   "cell_type": "code",
   "execution_count": null,
   "id": "9afe1b46",
   "metadata": {},
   "outputs": [],
   "source": [
    "plt.figure(figsize=(10, 5))\n",
    "plt.scatter(df[\"Consumo Energía (kWh)\"], df[\"Consumo Agua (m³)\"], alpha=0.6, color=\"purple\")\n",
    "plt.title(\"Relación entre Consumo de Energía y Agua\")\n",
    "plt.xlabel(\"Consumo Energía (kWh)\")\n",
    "plt.ylabel(\"Consumo Agua (m³)\")\n",
    "plt.grid(True)\n",
    "plt.show()"
   ]
  },
  {
   "cell_type": "markdown",
   "id": "e38e5879",
   "metadata": {
    "lines_to_next_cell": 0
   },
   "source": [
    "**Cuándo usarlo:** Para explorar relaciones entre dos variables continuas.\n",
    "\n",
    "#### **Mapa de Calor**"
   ]
  },
  {
   "cell_type": "code",
   "execution_count": null,
   "id": "1962851c",
   "metadata": {},
   "outputs": [],
   "source": [
    "correlaciones = df[[\"Consumo Energía (kWh)\", \"Consumo Agua (m³)\"]].corr()\n",
    "\n",
    "plt.figure(figsize=(8, 5))\n",
    "sns.heatmap(correlaciones, annot=True, cmap=\"coolwarm\", linewidths=0.5)\n",
    "plt.title(\"Correlaciones entre Variables\")\n",
    "plt.show()"
   ]
  },
  {
   "cell_type": "markdown",
   "id": "7c3ceec1",
   "metadata": {},
   "source": [
    "**Cuándo usarlo:** Para analizar correlaciones entre múltiples variables.\n",
    "\n",
    "---\n",
    "\n",
    "## Conclusiones\n",
    "1. Los **gráficos de líneas y áreas** son ideales para representar tendencias en series temporales.\n",
    "2. **Histogramas y boxplots** muestran distribuciones y outliers.\n",
    "3. Los **diagramas de dispersión** y **mapas de calor** ayudan a entender relaciones entre variables.\n",
    "4. Matplotlib ofrece flexibilidad detallada, mientras que Seaborn simplifica la creación de gráficos más complejos con estilos predefinidos."
   ]
  }
 ],
 "metadata": {
  "jupytext": {
   "cell_metadata_filter": "-all",
   "main_language": "python",
   "notebook_metadata_filter": "-all"
  },
  "kernelspec": {
   "display_name": "ibbi",
   "language": "python",
   "name": "python3"
  },
  "language_info": {
   "codemirror_mode": {
    "name": "ipython",
    "version": 3
   },
   "file_extension": ".py",
   "mimetype": "text/x-python",
   "name": "python",
   "nbconvert_exporter": "python",
   "pygments_lexer": "ipython3",
   "version": "3.12.7"
  }
 },
 "nbformat": 4,
 "nbformat_minor": 5
}
