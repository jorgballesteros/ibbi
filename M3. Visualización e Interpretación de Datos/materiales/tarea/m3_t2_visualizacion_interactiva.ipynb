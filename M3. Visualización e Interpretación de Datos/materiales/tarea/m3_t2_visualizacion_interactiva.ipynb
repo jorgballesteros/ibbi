{
 "cells": [
  {
   "cell_type": "markdown",
   "id": "0279d923",
   "metadata": {},
   "source": [
    "# Tarea 2. Visulización Interactiva de Datos de Consumos y Generación en Edificio\n",
    "\n",
    "En este ejercicio, exploraremos un conjunto de datos con registros horarios del año 2023 que incluyen información clave sobre el consumo de recursos, generación de energía y factores climáticos. El objetivo principal es generar visualizaciones interactivas que permitan analizar patrones y comparativas entre diferentes meses y variables.\n",
    "\n",
    "Los datos se presentan con las siguientes columnas:\n",
    "\n",
    "- **Fecha**: Registro temporal de las observaciones (en formato `YYYY-MM-DD HH:mm`).\n",
    "- **Consumo Agua (L)**: Cantidad de agua consumida, medida en litros.\n",
    "- **Consumo Energía (kWh)**: Energía consumida, medida en kilovatios hora.\n",
    "- **Generación FV (kWh)**: Energía generada mediante fotovoltaica, medida en kilovatios hora.\n",
    "- **Temperatura (°C)**: Temperatura registrada en grados Celsius.\n",
    "- **Radiación Solar (W/m²)**: Radiación solar medida en vatios por metro cuadrado.\n",
    "- **Mes**: Mes del año correspondiente a cada registro (1 a 12).\n",
    "- **Día de la Semana**: Nombre o índice del día (por ejemplo, Monday, Tuesday...).\n",
    "\n",
    "---\n",
    "\n",
    "## **1. Objetivo de la Tarea**\n",
    "1. **Visualizar datos de consumo y generación de recursos en dos meses diferentes (abril y agosto)**.\n",
    "2. Generar gráficos de líneas interactivos para:\n",
    "   - Comparar los **consumos** de agua y energía.\n",
    "   - Comparar la **generación fotovoltaica** y la **radiación solar**.\n",
    "3. Representar todas las series en un único gráfico para cada mes (abril y agosto).\n",
    "4. Crear un gráfico comparativo de todas las series, compartiendo el eje X, y realizar zoom en intervalos específicos:\n",
    "   - **Del 5 al 11 de abril.**\n",
    "   - **Del 20 al 26 de agosto.**\n",
    "\n",
    "---\n",
    "\n",
    "## **2. Pasos a Seguir**\n",
    "\n",
    "### **Paso 1: Cargar y Explorar los Datos**\n",
    "1. Carga el archivo `m3_t2_datos_edificio_canarias.csv` utilizando **Pandas**.\n",
    "2. Inspecciona las primeras filas para comprender la estructura de los datos.\n",
    "3. Obtén un resumen estadístico de las columnas numéricas para identificar rangos, medias y valores extremos.\n",
    "4. Verifica la existencia de datos faltantes o inconsistencias."
   ]
  },
  {
   "cell_type": "code",
   "execution_count": null,
   "id": "45be430d",
   "metadata": {},
   "outputs": [],
   "source": [
    "import pandas as pd\n",
    "import plotly.express as px\n",
    "import plotly.graph_objects as go\n",
    "\n",
    "# Supongamos que los datos están en un archivo CSV\n",
    "# Puedes reemplazar \"datos.csv\" con la ubicación de tu archivo\n",
    "df = pd.read_csv(\"../data/m3_t2_datos_edificio_canarias.csv\")\n",
    "\n",
    "# Convertir la columna Fecha a tipo datetime\n",
    "df[\"Fecha\"] = pd.to_datetime(df[\"Fecha\"])"
   ]
  },
  {
   "cell_type": "code",
   "execution_count": null,
   "id": "59814487",
   "metadata": {},
   "outputs": [],
   "source": [
    "# Mostra información básica del dfframe\n"
   ]
  },
  {
   "cell_type": "code",
   "execution_count": null,
   "id": "12186b2e",
   "metadata": {},
   "outputs": [],
   "source": [
    "# Muestra las 10 primeras filas\n"
   ]
  },
  {
   "cell_type": "code",
   "execution_count": null,
   "id": "38835754",
   "metadata": {},
   "outputs": [],
   "source": [
    "# Resumen estadítico de las columnas\n"
   ]
  },
  {
   "cell_type": "code",
   "execution_count": null,
   "id": "54aa0ef6",
   "metadata": {},
   "outputs": [],
   "source": [
    "# Comprobar que no faltan datos en ninguna fila\n"
   ]
  },
  {
   "cell_type": "markdown",
   "id": "122790a9",
   "metadata": {},
   "source": [
    "### **Paso 2: Generar Subconjuntos de Datos**\n",
    "1. Construir 2 dataframes diferentes, uno para le mes de Abril y otro para el mes de Agosto"
   ]
  },
  {
   "cell_type": "code",
   "execution_count": null,
   "id": "537f9e52",
   "metadata": {},
   "outputs": [],
   "source": [
    "# Filtrar datos por mes"
   ]
  },
  {
   "cell_type": "markdown",
   "id": "e3c9d3c3",
   "metadata": {},
   "source": [
    "**Paso 3. Generar Gráficos de Líneas por Temática**\n",
    "1. Usa `plotly.express` para graficar las series `Consumo Agua (L)` y `Consumo Energía (kWh)`.\n",
    "2. Genera un gráfico para abril y otro para agosto:"
   ]
  },
  {
   "cell_type": "code",
   "execution_count": null,
   "id": "b9facc27",
   "metadata": {},
   "outputs": [],
   "source": [
    "import plotly.express as px\n",
    "\n",
    "# Gráfico de consumos en Abril\n"
   ]
  },
  {
   "cell_type": "code",
   "execution_count": null,
   "id": "724ad086",
   "metadata": {},
   "outputs": [],
   "source": [
    "# Gráfico de consumos en Agosto\n"
   ]
  },
  {
   "cell_type": "markdown",
   "id": "eb5d4d8c",
   "metadata": {},
   "source": [
    "3. Usa `plotly.express` para graficar las series `Genración FV (kWh)` y `Radiació Solar (W/m2)`.\n",
    "4. Genera un gráfico para abril y otro para agosto\n",
    "5. Haz un zoom para las fechas y genera una captura:\n",
    "    - 5 al 11 de abril.\n",
    "    - 20 al 26 de agosto."
   ]
  },
  {
   "cell_type": "code",
   "execution_count": null,
   "id": "6eb1f4c1",
   "metadata": {},
   "outputs": [],
   "source": [
    "# Gráfico de Generación y Radiación en Abril\n"
   ]
  },
  {
   "cell_type": "code",
   "execution_count": null,
   "id": "a40ec5b9",
   "metadata": {},
   "outputs": [],
   "source": [
    "# Gráfico de Generación y Radiación en Agosto\n"
   ]
  },
  {
   "cell_type": "markdown",
   "id": "d64736c4",
   "metadata": {},
   "source": [
    "6. Genera un gráfico con todas las series para abril y otro para agosto"
   ]
  },
  {
   "cell_type": "code",
   "execution_count": null,
   "id": "6dd342f9",
   "metadata": {},
   "outputs": [],
   "source": [
    "# Gráfico de Series en Abril\n",
    "series = [\n",
    "        \"Consumo Agua (L)\",\n",
    "        \"Consumo Energía (kWh)\",\n",
    "        \"Generación FV (kWh)\",\n",
    "        \"Radiación Solar (W/m²)\",\n",
    "    ]\n"
   ]
  },
  {
   "cell_type": "code",
   "execution_count": null,
   "id": "d491210e",
   "metadata": {},
   "outputs": [],
   "source": [
    "# Gráfico de Series en Agosto\n"
   ]
  },
  {
   "cell_type": "markdown",
   "id": "8d0f8365",
   "metadata": {},
   "source": [
    "**Paso 4. Generar Gráficos Comparativo por Mes**\n",
    "1. Agregar datos por día usando el promedio como función de agregación\n",
    "2. Represntar en una sola figura cada serie en una gráfica diferente comparando diferencias entre ambos conjuntos.\n",
    "3. El eje x debe ser compartido por todas las gráficas.\n",
    "4. Aplicar un zoom a la figura para los primeros 10 días de cada mes.\n"
   ]
  },
  {
   "cell_type": "code",
   "execution_count": null,
   "id": "22ae1428",
   "metadata": {},
   "outputs": [],
   "source": [
    "# Generar serie con día del mes a partir de Fecha\n"
   ]
  },
  {
   "cell_type": "code",
   "execution_count": null,
   "id": "d398543a",
   "metadata": {},
   "outputs": [],
   "source": [
    "# Agrupar por día\n"
   ]
  },
  {
   "cell_type": "code",
   "execution_count": null,
   "id": "4009d7f6",
   "metadata": {},
   "outputs": [],
   "source": [
    "# --- Gráfico 4: Comparativa de todas las series en gráficas diferentes-\n",
    "import plotly.graph_objects as go\n",
    "from plotly.subplots import make_subplots\n",
    "\n",
    "titulos = [\n",
    "        \"Consumo Agua (L)\", \n",
    "        \"Consumo Energía (kWh)\", \n",
    "        \"Generación FV (kWh)\", \n",
    "        \"Radiación Solar (W/m²)\"\n",
    "    ]\n",
    "\n",
    "# Usa make_subplots para generar multiples graficas en una sola figura\n",
    "\n",
    "# Añadir trazas de cada serie y mes a la figura\n",
    "\n",
    "# Actualizar el layout"
   ]
  },
  {
   "cell_type": "code",
   "execution_count": null,
   "id": "808666de",
   "metadata": {},
   "outputs": [],
   "source": [
    "# Aplicar zoom en fechas específicas (update_axes)\n"
   ]
  },
  {
   "cell_type": "markdown",
   "id": "7483d84b",
   "metadata": {},
   "source": [
    "---\n",
    "\n",
    "### **Entregables**\n",
    "Un informe en formato notebook que incluya:\n",
    "1. Gráficos individuales para los consumos (agua y energía).\n",
    "2. Gráficos individuales para generación fotovoltaica y radiación solar.\n",
    "3. Gráficos combinados para todas las series por mes.\n",
    "4. Gráfico comparativo interactivo con zoom en los intervalos especificados."
   ]
  }
 ],
 "metadata": {
  "jupytext": {
   "cell_metadata_filter": "-all",
   "main_language": "python",
   "notebook_metadata_filter": "-all"
  },
  "kernelspec": {
   "display_name": "ibbi",
   "language": "python",
   "name": "python3"
  },
  "language_info": {
   "codemirror_mode": {
    "name": "ipython",
    "version": 3
   },
   "file_extension": ".py",
   "mimetype": "text/x-python",
   "name": "python",
   "nbconvert_exporter": "python",
   "pygments_lexer": "ipython3",
   "version": "3.12.7"
  }
 },
 "nbformat": 4,
 "nbformat_minor": 5
}
