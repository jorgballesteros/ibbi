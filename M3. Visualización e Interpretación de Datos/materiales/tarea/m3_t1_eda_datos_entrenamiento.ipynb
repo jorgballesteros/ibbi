{
 "cells": [
  {
   "cell_type": "markdown",
   "id": "6bac900e",
   "metadata": {},
   "source": [
    "# Tarea 1. Análisis Exploratorio de Datos (EDA) de Datos de Centro de Entrenamiento Deportivo\n",
    "\n",
    "---\n",
    "\n",
    "## **1. Objetivo de la Tarea**\n",
    "\n",
    "El objetivo de esta tarea es realizar un **Análisis Exploratorio de Datos (EDA)** del conjunto de datos generado, que contiene información diaria sobre:\n",
    "- Asistencia al centro de entrenamiento.\n",
    "- Condiciones meteorológicas (temperatura y humedad).\n",
    "- Consumo de agua y energía.\n",
    "\n",
    "Tu misión será explorar y visualizar los datos para identificar patrones, relaciones, anomalías y posibles insights relacionados con el comportamiento del consumo y la asistencia al gimnasio.\n",
    "\n",
    "---\n",
    "\n",
    "## **2. Pasos a Seguir**\n",
    "\n",
    "### **Paso 1: Cargar y Explorar los Datos**\n",
    "1. Carga el archivo `m4_t1_datos_entrenamiento_deportivo.csv` utilizando **Pandas**.\n",
    "2. Inspecciona las primeras filas para comprender la estructura de los datos.\n",
    "3. Obtén un resumen estadístico de las columnas numéricas para identificar rangos, medias y valores extremos.\n",
    "4. Verifica la existencia de datos faltantes o inconsistencias.\n",
    "## **3. Código Base**\n",
    "\n",
    "A continuación, un esquema para que comiences con el análisis:"
   ]
  },
  {
   "cell_type": "code",
   "execution_count": null,
   "id": "213fa2d9",
   "metadata": {},
   "outputs": [],
   "source": [
    "# Importar librerías\n",
    "import pandas as pd\n",
    "import matplotlib.pyplot as plt\n",
    "import seaborn as sns\n",
    "\n",
    "# Cargar los datos\n",
    "ruta_csv = \"../data/m3_t1_datos_entrenamiento_deportivo.csv\"\n",
    "df = pd.read_csv(ruta_csv)\n",
    "# Convertimos columna Fecha a objeto tipo fecha\n",
    "df['Fecha'] = pd.to_datetime(df['Fecha'])"
   ]
  },
  {
   "cell_type": "markdown",
   "id": "68834957",
   "metadata": {
    "lines_to_next_cell": 0
   },
   "source": [
    "### **Paso 2: Análisis Descriptivo**\n",
    "1. Analiza la **distribución de asistencia**, **temperatura**, **humedad**, **consumo de agua** y **energía** mediante histogramas.\n",
    "2. Examina cómo varía la asistencia y los consumos entre los **días laborables y fines de semana**.\n",
    "3. Observa la **distribución estacional** (por meses) de las variables meteorológicas y los consumos."
   ]
  },
  {
   "cell_type": "code",
   "execution_count": null,
   "id": "124cdff4",
   "metadata": {},
   "outputs": [],
   "source": [
    "# Exploración inicial\n",
    "print(\"Primeras filas del conjunto de datos:\")\n",
    "\n",
    "print(\"\\nResumen estadístico:\")\n",
    "\n",
    "print(\"\\nValores nulos por columna:\")\n"
   ]
  },
  {
   "cell_type": "code",
   "execution_count": null,
   "id": "01eec256",
   "metadata": {
    "lines_to_next_cell": 0
   },
   "outputs": [],
   "source": [
    "# Visualización: Distribuciones (usa sns.histplot)\n",
    "plt.figure(figsize=(10, 6))\n"
   ]
  },
  {
   "cell_type": "code",
   "execution_count": null,
   "id": "5bfb8631",
   "metadata": {
    "lines_to_next_cell": 0
   },
   "outputs": [],
   "source": [
    "# Variación de asistencia entre días laborables y fines de semana\n",
    "\n",
    "# Crear una columna para identificar fines de semana\n",
    "df[\"Es Fin de Semana\"] = df[\"Día de la Semana\"].isin([\"Saturday\", \"Sunday\"])\n",
    "# Gráfico de barras: Asistencia media en días laborables y fines de semana (barplot)\n",
    "plt.figure(figsize=(10, 6))"
   ]
  },
  {
   "cell_type": "code",
   "execution_count": null,
   "id": "79bf244b",
   "metadata": {},
   "outputs": [],
   "source": [
    "# Distribución estacional por meses de temperatura, humedad y consumo de energía\n",
    "\n",
    "# Generar columna de mes\n",
    "df['Mes'] = df['Fecha'].dt.month\n",
    "\n",
    "# Agrupa por mes usando el promedio\n"
   ]
  },
  {
   "cell_type": "markdown",
   "id": "ef7985c8",
   "metadata": {},
   "source": [
    "### **Paso 3: Visualización de Tendencias**\n",
    "1. Crea gráficos de líneas para observar cómo evolucionan:\n",
    "   - La asistencia a lo largo del año.\n",
    "   - El consumo de agua y energía.\n",
    "   - La temperatura y la humedad.\n",
    "2. Identifica patrones o anomalías, especialmente en los meses con anomalías (abril, octubre y diciembre)."
   ]
  },
  {
   "cell_type": "code",
   "execution_count": null,
   "id": "786af412",
   "metadata": {},
   "outputs": [],
   "source": [
    "import matplotlib.pyplot as plt\n",
    "\n",
    "# Gráfico de líneas: Asistencia a lo largo del año (plt.plot())\n",
    "plt.figure(figsize=(12, 6))\n",
    "\n",
    "# Gráfico de líneas: Consumo de Agua y Energía\n",
    "\n",
    "# Gráfico de líneas: Temperatura y Humedad\n"
   ]
  },
  {
   "cell_type": "markdown",
   "id": "2c364c3b",
   "metadata": {},
   "source": [
    "### **Paso 4: Relaciones Entre Variables**\n",
    "1. Usa gráficos de dispersión para explorar la relación entre:\n",
    "   - Temperatura, asistencia y día de la semana.\n",
    "   - Temperatura y consumo de agua.\n",
    "   - Asistencia y consumo de energía.\n",
    "2. Calcula la matriz de correlación entre las variables numéricas y visualízala con un **heatmap**."
   ]
  },
  {
   "cell_type": "code",
   "execution_count": null,
   "id": "16a02f3c",
   "metadata": {},
   "outputs": [],
   "source": [
    "import seaborn as sns\n",
    "import matplotlib.pyplot as plt\n",
    "\n",
    "# Gráfico de dispersión: Relación entre Temperatura y Consumo de Agua (scatterplot())\n",
    "plt.figure(figsize=(10, 6))\n",
    "\n",
    "# Gráfico de dispersión: Relación entre Asistencia y Consumo de Energía (scatterplot())\n",
    "\n",
    "# Relación entre temperatura y consumo de agua y día de la semana (scatterplot() con hue)\n"
   ]
  },
  {
   "cell_type": "code",
   "execution_count": null,
   "id": "faf65897",
   "metadata": {},
   "outputs": [],
   "source": [
    "# Matriz de correlación (heatmap())\n",
    "plt.figure(figsize=(10, 8))\n",
    "# Selecciona solo columnas con valores numéricos\n"
   ]
  },
  {
   "cell_type": "markdown",
   "id": "2d1e87de",
   "metadata": {},
   "source": [
    "---\n",
    "\n",
    "## **4. Resultados Esperados**\n",
    "\n",
    "1. **Distribuciones**:\n",
    "   - Identificar si la asistencia tiene picos o está equilibrada.\n",
    "   - Ver cómo varían los consumos según las condiciones meteorológicas.\n",
    "\n",
    "2. **Tendencias**:\n",
    "   - Observar la estacionalidad en el consumo y asistencia.\n",
    "   - Detectar patrones semanales (fines de semana vs laborables).\n",
    "\n",
    "3. **Relaciones**:\n",
    "   - Confirmar si los consumos son más elevados en días calurosos.\n",
    "   - Ver cómo la asistencia afecta el consumo de agua y energía.\n",
    "\n",
    "---\n",
    "\n",
    "## **5. Entregables**\n",
    "\n",
    "- Un informe que incluya:\n",
    "  - Gráficos generados.\n",
    "  - Conclusiones basadas en el análisis."
   ]
  }
 ],
 "metadata": {
  "jupytext": {
   "cell_metadata_filter": "-all",
   "main_language": "python",
   "notebook_metadata_filter": "-all"
  },
  "language_info": {
   "name": "python"
  }
 },
 "nbformat": 4,
 "nbformat_minor": 5
}
