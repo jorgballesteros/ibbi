{
 "cells": [
  {
   "cell_type": "markdown",
   "id": "0235bf6f",
   "metadata": {},
   "source": [
    "# Ejercicio 5: Introducción a Plotly\n",
    "---\n",
    "\n",
    "## 1. Contexto\n",
    "\n",
    "**Plotly** es una biblioteca de visualización de datos en Python que permite crear gráficos interactivos de alta calidad. A diferencia de **Matplotlib**, que es más adecuado para gráficos estáticos, **Plotly** ofrece una experiencia dinámica que incluye opciones de zoom, tooltips, selección de datos y más. Esto lo convierte en una herramienta ideal para análisis exploratorio interactivo y la creación de dashboards.\n",
    "\n",
    "**¿Qué aporta Plotly respecto a Matplotlib?\n",
    "1. **Interactividad**: Los gráficos son dinámicos y permiten explorar datos sin necesidad de regenerar el gráfico.\n",
    "2. **Versatilidad**: Ofrece soporte para gráficos avanzados como mapas, gráficos 3D y visualizaciones financieras.\n",
    "3. **Facilidad de Uso**: A través de **Plotly Express**, se pueden crear gráficos complejos con pocas líneas de código.\n",
    "4. **Integración**: Compatible con herramientas como Streamlit, Dash y Jupyter Notebooks.\n",
    "\n",
    "En este ejercicio, aprenderemos a crear gráficos básicos con **Plotly Express**: tablas, líneas, áreas, barras, scatter, gráficos de pastel (pie charts) y gráficos de burbujas (bubble charts)."
   ]
  },
  {
   "cell_type": "code",
   "execution_count": null,
   "id": "b41ef313",
   "metadata": {},
   "outputs": [],
   "source": [
    "! pip install plotly"
   ]
  },
  {
   "cell_type": "markdown",
   "id": "ade0734a",
   "metadata": {},
   "source": [
    "---\n",
    "\n",
    "## 2. Objetivos\n",
    "\n",
    "1. Introducir los conceptos básicos de **Plotly** y su funcionamiento.\n",
    "2. Crear ejemplos sencillos de gráficos con **Plotly Express**.\n",
    "3. Familiarizarse con las configuraciones básicas de personalización.\n",
    "\n",
    "---\n",
    "\n",
    "## 3. Desarrollo del Ejercicio\n",
    "\n",
    "### Paso 1: Cargar y Preparar Datos\n",
    "Para este ejercicio, utilizaremos un dataset simulado de ventas diarias de productos en diferentes regiones."
   ]
  },
  {
   "cell_type": "code",
   "execution_count": null,
   "id": "31a31ddf",
   "metadata": {},
   "outputs": [],
   "source": []
  },
  {
   "cell_type": "code",
   "execution_count": null,
   "id": "d58dfc19",
   "metadata": {},
   "outputs": [],
   "source": [
    "import pandas as pd\n",
    "import numpy as np\n",
    "\n",
    "# Generar un dataset simulado\n",
    "df = pd.read_csv('data/m3_e5_datos_ventas.csv')\n",
    "df = df.set_index(\"Fecha\")"
   ]
  },
  {
   "cell_type": "code",
   "execution_count": null,
   "id": "e82cb7e4",
   "metadata": {},
   "outputs": [],
   "source": [
    "df.head()"
   ]
  },
  {
   "cell_type": "code",
   "execution_count": null,
   "id": "389cd02e",
   "metadata": {},
   "outputs": [],
   "source": [
    "df.info()"
   ]
  },
  {
   "cell_type": "markdown",
   "id": "8063ab5c",
   "metadata": {
    "lines_to_next_cell": 0
   },
   "source": [
    "---\n",
    "\n",
    "### Paso 2: Ejemplos de Gráficos Básicos\n",
    "\n",
    "#### 1. Tablas"
   ]
  },
  {
   "cell_type": "code",
   "execution_count": null,
   "id": "a6ff7346",
   "metadata": {},
   "outputs": [],
   "source": [
    "import plotly.graph_objects as go\n",
    "\n",
    "# Crear una tabla con datos resumidos\n",
    "resumen = df.groupby([\"Producto\", \"Región\"]).sum().reset_index()\n",
    "\n",
    "fig = go.Figure(data=[go.Table(\n",
    "    header=dict(values=list(resumen.columns), fill_color='lightsalmon', align='left'),\n",
    "    cells=dict(values=[resumen[col] for col in resumen.columns], fill_color='lavender', align='left')\n",
    ")])\n",
    "fig.update_layout(title=\"Resumen de Ventas por Producto y Región\")\n",
    "fig.show()"
   ]
  },
  {
   "cell_type": "markdown",
   "id": "56140b3d",
   "metadata": {
    "lines_to_next_cell": 0
   },
   "source": [
    "---\n",
    "\n",
    "#### 2. Líneas"
   ]
  },
  {
   "cell_type": "code",
   "execution_count": null,
   "id": "63eda469",
   "metadata": {},
   "outputs": [],
   "source": [
    "import plotly.express as px\n",
    "\n",
    "# Ventas diarias totales\n",
    "ventas_diarias = df.groupby(\"Fecha\").sum().reset_index()\n",
    "\n",
    "fig = px.line(ventas_diarias, x=\"Fecha\", y=\"Ventas\", title=\"Ventas Diarias Totales\")\n",
    "fig.update_traces(mode=\"lines+markers\")\n",
    "fig.show()"
   ]
  },
  {
   "cell_type": "code",
   "execution_count": null,
   "id": "c1b3920a",
   "metadata": {},
   "outputs": [],
   "source": [
    "\n",
    "# Ventas diarias totales\n",
    "ventas_producto_diarias = df.groupby([\"Fecha\", \"Producto\"]).sum().reset_index()\n",
    "\n",
    "fig = px.line(ventas_producto_diarias, x=\"Fecha\", y=\"Ventas\", color=\"Producto\", title=\"Ventas Diarias Totales\")\n",
    "fig.update_traces(mode=\"lines+markers\")\n",
    "fig.show()"
   ]
  },
  {
   "cell_type": "markdown",
   "id": "9482c7f6",
   "metadata": {
    "lines_to_next_cell": 0
   },
   "source": [
    "---\n",
    "\n",
    "#### 3. Áreas"
   ]
  },
  {
   "cell_type": "code",
   "execution_count": null,
   "id": "fa51fcc9",
   "metadata": {},
   "outputs": [],
   "source": [
    "# Ventas acumuladas diarias\n",
    "ventas_producto_diarias[\"Ventas Acumuladas\"] = ventas_producto_diarias[\"Ventas\"].cumsum()\n",
    "\n",
    "fig = px.area(ventas_producto_diarias, x=\"Fecha\", y=\"Ventas Acumuladas\", color=\"Producto\",title=\"Ventas Acumuladas Diarias\")\n",
    "fig.show()"
   ]
  },
  {
   "cell_type": "markdown",
   "id": "c4f4db70",
   "metadata": {
    "lines_to_next_cell": 0
   },
   "source": [
    "---\n",
    "\n",
    "#### 4. Barras"
   ]
  },
  {
   "cell_type": "code",
   "execution_count": null,
   "id": "0bf08ca2",
   "metadata": {},
   "outputs": [],
   "source": [
    "# Ventas por producto\n",
    "ventas_producto = df.groupby(\"Producto\").sum().reset_index()\n",
    "\n",
    "fig = px.bar(ventas_producto, x=\"Producto\", y=\"Ventas\", color=\"Producto\", title=\"Ventas Totales por Producto\")\n",
    "fig.show()"
   ]
  },
  {
   "cell_type": "code",
   "execution_count": null,
   "id": "9191d1e5",
   "metadata": {},
   "outputs": [],
   "source": [
    "ventas_producto_region = df.groupby([\"Producto\",\"Región\"]).sum().reset_index()\n",
    "ventas_producto_region.head()\n",
    "# Crear gráfico de barras apiladas con Plotly\n",
    "fig = px.bar(\n",
    "    ventas_producto_region,\n",
    "    x=\"Región\",\n",
    "    y=\"Ventas\",\n",
    "    color=\"Producto\",  # Diferenciar por producto\n",
    "    title=\"Ventas por Región y Producto\",\n",
    "    labels={\"Ventas\": \"Total Ventas\", \"Región\": \"Región\", \"Producto\": \"Producto\"},\n",
    "    barmode=\"group\"  # Apilar las barras por producto\n",
    ")\n",
    "\n",
    "# Mostrar el gráfico\n",
    "fig.show()\n",
    "\n"
   ]
  },
  {
   "cell_type": "markdown",
   "id": "316efc8a",
   "metadata": {
    "lines_to_next_cell": 0
   },
   "source": [
    "---\n",
    "\n",
    "#### 5. Scatter"
   ]
  },
  {
   "cell_type": "code",
   "execution_count": null,
   "id": "38bd8d28",
   "metadata": {},
   "outputs": [],
   "source": [
    "# Relación entre ventas y beneficio\n",
    "fig = px.scatter(df, x=\"Ventas\", y=\"Beneficio\", color=\"Región\", title=\"Relación entre Ventas y Beneficio\")\n",
    "fig.show()"
   ]
  },
  {
   "cell_type": "code",
   "execution_count": null,
   "id": "234ca190",
   "metadata": {},
   "outputs": [],
   "source": [
    "fig = px.scatter(df, x=\"Ventas\", y=\"Beneficio\", color=\"Región\", size=\"Ventas\", title=\"Relación entre Ventas y Beneficio\")\n",
    "fig.show()"
   ]
  },
  {
   "cell_type": "markdown",
   "id": "ef96cc57",
   "metadata": {
    "lines_to_next_cell": 0
   },
   "source": [
    "---\n",
    "\n",
    "#### 6. Pie Charts"
   ]
  },
  {
   "cell_type": "code",
   "execution_count": null,
   "id": "40e2ea29",
   "metadata": {},
   "outputs": [],
   "source": [
    "# Proporción de ventas por región\n",
    "ventas_region = df.groupby(\"Región\").sum().reset_index()\n",
    "\n",
    "fig = px.pie(ventas_region, values=\"Ventas\", names=\"Región\", title=\"Proporción de Ventas por Región\")\n",
    "fig.show()"
   ]
  },
  {
   "cell_type": "code",
   "execution_count": null,
   "id": "1d6aa213",
   "metadata": {},
   "outputs": [],
   "source": [
    "# Proporción de ventas por región\n",
    "ventas_producto = df.groupby(\"Producto\").sum().reset_index()\n",
    "\n",
    "fig = px.pie(ventas_producto, values=\"Ventas\", names=\"Producto\", hole=0.3, title=\"Proporción de Ventas por Producto\")\n",
    "fig.show()"
   ]
  },
  {
   "cell_type": "markdown",
   "id": "a7e685d3",
   "metadata": {
    "lines_to_next_cell": 0
   },
   "source": [
    "---\n",
    "\n",
    "#### 7. Bubble Chart"
   ]
  },
  {
   "cell_type": "code",
   "execution_count": null,
   "id": "f2d13ef7",
   "metadata": {},
   "outputs": [],
   "source": [
    "# Ventas y beneficio por región y producto\n",
    "ventas_bubble = df.groupby([\"Región\", \"Producto\"]).sum().reset_index()\n",
    "\n",
    "fig = px.scatter(ventas_bubble, x=\"Región\", y=\"Producto\", size=\"Ventas\", color=\"Producto\",\n",
    "                 title=\"Ventas y Beneficio por Región y Producto\", hover_data=[\"Beneficio\"])\n",
    "fig.show()"
   ]
  },
  {
   "cell_type": "markdown",
   "id": "925549f8",
   "metadata": {},
   "source": [
    "---\n",
    "\n",
    "## 4. Conclusión\n",
    "\n",
    "En este ejercicio, hemos explorado cómo crear gráficos básicos con **Plotly**, desde tablas hasta gráficos de áreas y burbujas. **Plotly** destaca por su interactividad, lo que lo convierte en una herramienta ideal para análisis dinámico de datos. Su facilidad de uso, combinada con su versatilidad, lo hace una opción excelente para construir gráficos que vayan más allá de lo estático, proporcionando insights profundos y visualizaciones atractivas.\n",
    "\n",
    "---\n",
    "\n",
    "## 5. Referencias y Ayuda\n",
    "- [Plotly Express Documentation](https://plotly.com/python/plotly-express/)\n",
    "- [Plotly Basic Charts](https://plotly.com/python/basic-charts/)"
   ]
  }
 ],
 "metadata": {
  "jupytext": {
   "cell_metadata_filter": "-all",
   "main_language": "python",
   "notebook_metadata_filter": "-all"
  },
  "kernelspec": {
   "display_name": "ibbi",
   "language": "python",
   "name": "python3"
  },
  "language_info": {
   "codemirror_mode": {
    "name": "ipython",
    "version": 3
   },
   "file_extension": ".py",
   "mimetype": "text/x-python",
   "name": "python",
   "nbconvert_exporter": "python",
   "pygments_lexer": "ipython3",
   "version": "3.12.7"
  }
 },
 "nbformat": 4,
 "nbformat_minor": 5
}
