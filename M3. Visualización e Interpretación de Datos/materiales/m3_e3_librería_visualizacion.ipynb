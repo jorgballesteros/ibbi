{
 "cells": [
  {
   "cell_type": "markdown",
   "id": "f6456ec1",
   "metadata": {},
   "source": [
    "# Ejercicio 3. Librerías para Visualización Avanzada de Datos\n",
    "En este ejercicio, exploraremos el uso de **Seaborn**, una potente biblioteca de visualización de datos en Python, para crear gráficos avanzados que permitan analizar y comunicar patrones, relaciones y distribuciones en los datos.\n",
    "\n",
    "Compararemos su funcionalidad con Matplotlib para destacar las ventajas de Seaborn en el análisis exploratorio de datos. Este ejercicio te permitirá comprender cuándo y cómo aplicar las herramientas de Seaborn en tus proyectos de análisis de datos, garantizando visualizaciones atractivas y efectivas.\n",
    "\n",
    "También profundizaremos en buenas prácticas de uso, como la integración con Pandas, el uso de paletas predefinidas y la personalización de gráficos para garantizar la claridad y efectividad. \n",
    "\n",
    "Por último, exploraremos otras herramientas populares en Python para visualización, como Plotly (gráficos interactivos), Bokeh (visualización para grandes datos), y Altair (gráficos declarativos), permitiéndote elegir la herramienta más adecuada según el contexto y la audiencia.\n",
    "\n",
    "## Introducción a Seaborn\n",
    "\n",
    "### ¿Qué es Seaborn?\n",
    "Seaborn es una biblioteca de visualización de datos en Python basada en Matplotlib. Fue desarrollada para simplificar la creación de gráficos estadísticos y mejorar su estética, integrando automáticamente características como estilos predeterminados, paletas de colores y gráficos complejos. \n",
    "\n",
    "### ¿Por qué surge Seaborn?\n",
    "Matplotlib es poderoso y altamente personalizable, pero requiere muchas configuraciones para obtener gráficos visualmente atractivos. Seaborn surge para abordar esta limitación, permitiendo generar gráficos más elegantes y con configuraciones predeterminadas minimalistas, ahorrando tiempo y esfuerzo. \n",
    "\n",
    "### ¿En qué complementa Matplotlib?\n",
    "- Estilos predeterminados y consistentes.\n",
    "- Integración automática con estructuras de datos como DataFrames de Pandas.\n",
    "- Gráficos estadísticos avanzados (e.g., distribuciones, relaciones entre variables, heatmaps).\n",
    "- Funcionalidades simplificadas para trabajar con múltiples categorías y dimensiones.\n",
    "\n",
    "### ¿Cuándo usar Seaborn en lugar de Matplotlib?\n",
    "- **Seaborn**: Para análisis exploratorio, gráficos estadísticos y comparaciones categóricas o relacionales.\n",
    "- **Matplotlib**: Para gráficos personalizados, diseño detallado y cuando se necesitan elementos específicos que Seaborn no ofrece.\n",
    "\n",
    "---\n",
    "\n",
    "## Tipos de Visualización en Seaborn\n",
    "\n",
    "Seaborn permite crear diversos tipos de gráficos según el tipo de datos y el objetivo:\n",
    "\n",
    "1. **Distribuciones de Datos**:\n",
    "   - Histogramas, KDEs, gráficos de violín, y gráficos de caja y bigotes.\n",
    "   - Ejemplo: Comparar la distribución de edades en un grupo.\n",
    "\n",
    "2. **Relaciones entre Variables**:\n",
    "   - Diagramas de dispersión, gráficos lineales y gráficos de regresión.\n",
    "   - Ejemplo: Identificar la correlación entre temperatura y consumo energético.\n",
    "\n",
    "3. **Comparaciones Categóricas**:\n",
    "   - Gráficos de barras, puntos, cajas y violines categóricos.\n",
    "   - Ejemplo: Comparar ingresos promedio por departamento.\n",
    "\n",
    "4. **Matrices y Mapas de Calor**:\n",
    "   - Mapas de calor (heatmaps) y visualización de correlaciones.\n",
    "   - Ejemplo: Analizar relaciones entre múltiples variables numéricas.\n",
    "\n",
    "5. **Series Temporales**:\n",
    "   - Gráficos de líneas con múltiples categorías.\n",
    "   - Ejemplo: Visualizar tendencias mensuales de ventas.\n",
    "\n",
    "---\n",
    "\n",
    "## Ejemplos de Uso\n",
    "\n",
    "### **Ejercicio: Visualización Avanzada con Seaborn**\n",
    "\n",
    "---\n",
    "\n",
    "### **1. Contexto del Ejercicio**\n",
    "\n",
    "En este ejercicio, exploraremos el potencial de **Seaborn** para crear visualizaciones avanzadas de datos, enfocándonos en la representación de tendencias, relaciones y distribuciones. Vamos a trabajar con un conjunto de datos que incluye **consumo energético**, **generación fotovoltaica** y **variables meteorológicas**. Ampliaremos el uso de **Seaborn** explorando funcionalidades como el uso del parámetro `hue`, la representación de rangos de valores (mínimos y máximos), y gráficos avanzados de líneas y distribuciones.\n",
    "\n",
    "---\n",
    "\n",
    "### **2. Objetivos del Ejercicio**\n",
    "\n",
    "1. **Comprender y aplicar** las funcionalidades de Seaborn para representar relaciones complejas entre variables.\n",
    "2. **Utilizar `hue`** para diferenciar categorías o grupos en gráficos.\n",
    "3. Representar **rangos de valores** en gráficos de líneas para mostrar variabilidad o incertidumbre.\n",
    "4. **Combinar múltiples tipos de gráficos** para obtener insights más completos.\n",
    "\n",
    "---\n",
    "\n",
    "### **3. Desarrollo del Ejercicio**\n",
    "\n",
    "#### **Paso 1: Preparación del Conjunto de Datos**\n",
    "\n",
    "Simularemos un conjunto de datos con las siguientes características:\n",
    "- **Consumo energético (kWh)** diario de un edificio.\n",
    "- **Generación fotovoltaica (kWh)** de una instalación de 40 kW.\n",
    "- **Variables meteorológicas**: temperatura, radiación solar, humedad.\n",
    "- Datos generados para **un año completo** con estacionalidad y variabilidad diaria."
   ]
  },
  {
   "cell_type": "code",
   "execution_count": null,
   "id": "7f77a976",
   "metadata": {},
   "outputs": [],
   "source": [
    "import pandas as pd\n",
    "import numpy as np\n",
    "\n",
    "# Configuración inicial\n",
    "np.random.seed(42)\n",
    "fechas = pd.date_range(start=\"2023-01-01\", end=\"2023-12-31\", freq=\"D\")\n",
    "\n",
    "# Generar variables con estacionalidad\n",
    "consumo_energia = 300 + 20 * np.sin(2 * np.pi * fechas.dayofyear / 365) + np.random.normal(0, 10, len(fechas))\n",
    "generacion_fv = 200 + 30 * np.sin(2 * np.pi * (fechas.dayofyear -90)/ 365) + np.random.normal(0, 15, len(fechas))\n",
    "temperatura = 20 + 5 * np.sin(2 * np.pi * fechas.dayofyear / 365) + np.random.normal(0, 2, len(fechas))\n",
    "radiacion_solar = 600 + 100 * np.sin(2 * np.pi * (fechas.dayofyear -90) / 365) + np.random.normal(0, 50, len(fechas))\n",
    "\n",
    "# Crear DataFrame\n",
    "df = pd.DataFrame({\n",
    "    \"Fecha\": fechas,\n",
    "    \"Consumo Energía (kWh)\": consumo_energia,\n",
    "    \"Generación FV (kWh)\": generacion_fv,\n",
    "    \"Temperatura (°C)\": temperatura,\n",
    "    \"Radiación Solar (W/m²)\": radiacion_solar,\n",
    "    \"Mes\": fechas.month,\n",
    "    \"Día de la Semana\": fechas.day_name()\n",
    "})"
   ]
  },
  {
   "cell_type": "code",
   "execution_count": null,
   "id": "461fdb6d",
   "metadata": {},
   "outputs": [],
   "source": [
    "# Guardamos datos en local\n",
    "df.to_csv(\"data/m3_e3_datos_energia_canarias.csv\")"
   ]
  },
  {
   "cell_type": "code",
   "execution_count": null,
   "id": "d86d3a8f",
   "metadata": {},
   "outputs": [],
   "source": [
    "import matplotlib.pyplot as plt\n",
    "plt.plot(df['Fecha'], df[\"Consumo Energía (kWh)\"], label=\"Consumo\")\n",
    "# Configuramos títulos y leyendas\n",
    "plt.title('Evolución del Consumo de Energía')\n",
    "plt.xlabel('Fecha')\n",
    "plt.ylabel('Consumo (kW)')\n",
    "plt.show()"
   ]
  },
  {
   "cell_type": "markdown",
   "id": "3c172633",
   "metadata": {},
   "source": [
    "---\n",
    "\n",
    "#### **Paso 2: Gráficos de Líneas con `hue`**\n",
    "\n",
    "Visualicemos el **consumo energético** y la **generación fotovoltaica** diferenciando los meses con el parámetro `hue`."
   ]
  },
  {
   "cell_type": "code",
   "execution_count": null,
   "id": "dc31cd3a",
   "metadata": {},
   "outputs": [],
   "source": [
    "import seaborn as sns\n",
    "import matplotlib.pyplot as plt\n",
    "\n",
    "# Gráfico de líneas con `hue`\n",
    "plt.figure(figsize=(12, 6))\n",
    "sns.lineplot(data=df, x=\"Fecha\", y=\"Consumo Energía (kWh)\", hue=\"Mes\", palette=\"viridis\")\n",
    "plt.title(\"Consumo Energético Diario Diferenciado por Mes\")\n",
    "plt.xlabel(\"Fecha\")\n",
    "plt.ylabel(\"Consumo Energía (kWh)\")\n",
    "plt.legend(title=\"Mes\", loc=\"upper right\")\n",
    "plt.grid(True)\n",
    "plt.show()"
   ]
  },
  {
   "cell_type": "markdown",
   "id": "0df56925",
   "metadata": {},
   "source": [
    "**¿Por qué usar `hue`?**\n",
    "- Permite diferenciar grupos o categorías en un gráfico continuo, mostrando cómo cambian los valores según una dimensión adicional (e.g., mes, categoría).\n",
    "\n",
    "---\n",
    "\n",
    "#### **Paso 3: Representación de Rangos (Mínimo y Máximo)**\n",
    "\n",
    "Supongamos que queremos mostrar el rango de generación fotovoltaica para cada mes. Calcularemos los valores mínimos, máximos y promedio para graficarlos."
   ]
  },
  {
   "cell_type": "code",
   "execution_count": null,
   "id": "d622935d",
   "metadata": {},
   "outputs": [],
   "source": [
    "# Calcular promedios, mínimos y máximos por mes\n",
    "df_mes = df.groupby(\"Mes\").agg({\n",
    "    \"Generación FV (kWh)\": [\"mean\", \"min\", \"max\"]\n",
    "}).reset_index()\n",
    "df_mes.columns = [\"Mes\", \"Generación Media (kWh)\", \"Generación Mínima (kWh)\", \"Generación Máxima (kWh)\"]\n",
    "\n",
    "# Gráfico de líneas con banda de rango\n",
    "plt.figure(figsize=(12, 6))\n",
    "sns.lineplot(data=df_mes, x=\"Mes\", y=\"Generación Media (kWh)\", label=\"Media\", color=\"green\")\n",
    "plt.fill_between(df_mes[\"Mes\"], \n",
    "                 df_mes[\"Generación Mínima (kWh)\"], \n",
    "                 df_mes[\"Generación Máxima (kWh)\"], \n",
    "                 color=\"green\", \n",
    "                 alpha=0.2, \n",
    "                 label=\"Rango (Min-Max)\")\n",
    "plt.title(\"Generación Fotovoltaica Mensual con Rango Min-Max\")\n",
    "plt.xlabel(\"Mes\")\n",
    "plt.ylabel(\"Generación FV (kWh)\")\n",
    "plt.legend()\n",
    "plt.grid(True)\n",
    "plt.show()"
   ]
  },
  {
   "cell_type": "markdown",
   "id": "3d093adf",
   "metadata": {},
   "source": [
    "**¿Por qué representar rangos?**\n",
    "- Ayuda a visualizar la variabilidad de los datos, resaltando periodos de mayor o menor incertidumbre.\n",
    "\n",
    "---\n",
    "\n",
    "#### **Paso 4: Combinación de Relación y Distribución**\n",
    "\n",
    "Visualicemos la relación entre la **radiación solar** y la **generación fotovoltaica**, incluyendo distribuciones marginales."
   ]
  },
  {
   "cell_type": "code",
   "execution_count": null,
   "id": "1067561e",
   "metadata": {},
   "outputs": [],
   "source": [
    "# Gráfico de dispersión con distribuciones marginales\n",
    "sns.jointplot(data=df, x=\"Radiación Solar (W/m²)\", y=\"Generación FV (kWh)\", kind=\"scatter\", hue=\"Mes\", palette=\"cool\")\n",
    "plt.suptitle(\"Relación entre Radiación Solar y Generación FV\", y=1.02)\n",
    "plt.show()"
   ]
  },
  {
   "cell_type": "markdown",
   "id": "bbdf256c",
   "metadata": {},
   "source": [
    "**¿Por qué usar gráficos combinados?**\n",
    "- Facilitan el análisis detallado de relaciones, proporcionando una visión completa de las distribuciones y tendencias.\n",
    "\n",
    "---\n",
    "\n",
    "#### **Paso 5: Distribuciones Categorizadas**\n",
    "\n",
    "Analicemos cómo varía el consumo energético según el día de la semana."
   ]
  },
  {
   "cell_type": "code",
   "execution_count": null,
   "id": "0c8a7220",
   "metadata": {},
   "outputs": [],
   "source": [
    "# Gráfico de violín para consumo energético por día de la semana\n",
    "plt.figure(figsize=(10, 6))\n",
    "sns.violinplot(data=df, x=\"Día de la Semana\", y=\"Consumo Energía (kWh)\", palette=\"pastel\")\n",
    "plt.title(\"Distribución de Consumo Energético por Día de la Semana\")\n",
    "plt.xlabel(\"Día de la Semana\")\n",
    "plt.ylabel(\"Consumo Energía (kWh)\")\n",
    "plt.grid(True)\n",
    "plt.show()"
   ]
  },
  {
   "cell_type": "markdown",
   "id": "c709e84e",
   "metadata": {
    "lines_to_next_cell": 0
   },
   "source": [
    "**¿Por qué usar gráficos de violín?**\n",
    "- Combina información de distribución (histograma) y resumen estadístico (boxplot) en un solo gráfico.\n",
    "\n",
    "---\n",
    "\n",
    "#### Comparativa: Seaborn vs Matplotlib (Gráficos de Distribución)\n",
    "Con Matplotlib:"
   ]
  },
  {
   "cell_type": "code",
   "execution_count": null,
   "id": "71bad306",
   "metadata": {},
   "outputs": [],
   "source": [
    "import matplotlib.pyplot as plt\n",
    "import numpy as np\n",
    "\n",
    "# Datos simulados\n",
    "# datos = np.random.normal(size=100)\n",
    "datos = df[\"Generación FV (kWh)\"]\n",
    "\n",
    "plt.hist(datos, bins=20, color=\"blue\", alpha=0.7)\n",
    "plt.title(\"Distribución con Matplotlib\")\n",
    "plt.xlabel(\"Valor\")\n",
    "plt.ylabel(\"Frecuencia\")\n",
    "plt.show()"
   ]
  },
  {
   "cell_type": "markdown",
   "id": "6bdfb1f2",
   "metadata": {
    "lines_to_next_cell": 0
   },
   "source": [
    "Con Seaborn:"
   ]
  },
  {
   "cell_type": "code",
   "execution_count": null,
   "id": "9cde53bf",
   "metadata": {},
   "outputs": [],
   "source": [
    "import seaborn as sns\n",
    "\n",
    "# Distribución con Seaborn\n",
    "sns.histplot(datos, bins=20, kde=True, color=\"crimson\", alpha=0.6, line_kws={'color': 'crimson', 'lw': 5, 'ls': ':'})\n",
    "plt.title(\"Distribución con Seaborn\")\n",
    "plt.xlabel(\"Valor\")\n",
    "plt.ylabel(\"Frecuencia\")\n",
    "plt.show()"
   ]
  },
  {
   "cell_type": "markdown",
   "id": "9c7b5ae8",
   "metadata": {
    "lines_to_next_cell": 0
   },
   "source": [
    "### Gráficos Relacionales"
   ]
  },
  {
   "cell_type": "code",
   "execution_count": null,
   "id": "35c48895",
   "metadata": {},
   "outputs": [],
   "source": [
    "# Datos simulados de consumos de aga y energía e tres edificios\n",
    "import pandas as pd\n",
    "np.random.seed(42)\n",
    "cat_df = pd.DataFrame({\n",
    "    \"Consumo Energía\": np.random.normal(300, 20, 100),\n",
    "    \"Consumo Agua\": np.random.normal(30, 5, 100),\n",
    "    \"Edificio\": np.random.choice([\"A\", \"B\", \"C\"], 100)\n",
    "})\n",
    "\n",
    "# Relación con Seaborn\n",
    "sns.scatterplot(data=cat_df, x=\"Consumo Energía\", y=\"Consumo Agua\", hue=\"Edificio\", style=\"Edificio\", palette=\"cool\")\n",
    "plt.title(\"Relación entre Consumos\")\n",
    "plt.show()"
   ]
  },
  {
   "cell_type": "markdown",
   "id": "89eb75f4",
   "metadata": {
    "lines_to_next_cell": 0
   },
   "source": [
    "### Mapa de Calor"
   ]
  },
  {
   "cell_type": "code",
   "execution_count": null,
   "id": "b9790632",
   "metadata": {},
   "outputs": [],
   "source": [
    "# Mapa de calor de correlaciones\n",
    "cols = [\"Consumo Energía (kWh)\", \"Generación FV (kWh)\", \"Temperatura (°C)\", \"Radiación Solar (W/m²)\"]\n",
    "correlaciones = df[cols].corr()\n",
    "sns.heatmap(correlaciones, annot=True, cmap=\"coolwarm\", linewidths=0.5)\n",
    "plt.title(\"Mapa de Calor de Correlaciones\")\n",
    "plt.show()"
   ]
  },
  {
   "cell_type": "markdown",
   "id": "4b3ba503",
   "metadata": {},
   "source": [
    "---\n",
    "\n",
    "## Buenas Prácticas de Uso\n",
    "\n",
    "1. **Integración con Pandas**:\n",
    "   - Trabaja directamente con DataFrames para facilitar el manejo de datos categóricos y numéricos.\n",
    "  \n",
    "2. **Paletas de Colores**:\n",
    "   - Usa paletas predefinidas de Seaborn (`deep`, `muted`, `cool`) para gráficos consistentes y estéticamente agradables.\n",
    "\n",
    "3. **Ajuste de Ejes y Títulos**:\n",
    "   - Aunque Seaborn configura automáticamente muchos aspectos, personaliza los ejes y títulos según el contexto.\n",
    "\n",
    "4. **Uso de Facetas**:\n",
    "   - Aprovecha funciones como `sns.FacetGrid` para dividir gráficos por categorías.\n",
    "\n",
    "5. **Exploración de Datos**:\n",
    "   - Utiliza gráficos de distribución y correlación para obtener insights iniciales antes de profundizar en el análisis.\n",
    "\n",
    "---\n",
    "\n",
    "## Otras Herramientas/Librerías para Visualización\n",
    "\n",
    "1. **Plotly**:\n",
    "   - Para gráficos interactivos y dashboards.\n",
    "   - Ideal para exploración visual avanzada y aplicaciones dinámicas.\n",
    "\n",
    "2. **Bokeh**:\n",
    "   - Centrada en gráficos interactivos para grandes conjuntos de datos.\n",
    "\n",
    "3. **Altair**:\n",
    "   - Declarativa, fácil de usar y bien integrada con Pandas.\n",
    "\n",
    "4. **ggplot (Python)**:\n",
    "   - Inspirada en ggplot2 de R, orientada a gráficos estadísticos.\n",
    "\n",
    "5. **Dash**:\n",
    "   - Construcción de aplicaciones web interactivas con visualizaciones.\n",
    "\n",
    "6. **Streamlit**:\n",
    "   - Creación aplicaciones web interactivas de forma rápida y sencilla para visualizar, explorar y analizar datos.\n",
    "\n",
    "---\n",
    "\n",
    "## Conclusión\n",
    "\n",
    "Seaborn es una herramienta que complementa a Matplotlib, facilitando la creación de gráficos estadísticos elegantes con configuraciones mínimas. Su integración con Pandas y sus estilos predefinidos lo hacen ideal para análisis exploratorio y comparativo. Aunque no reemplaza completamente a Matplotlib, Seaborn simplifica tareas comunes y destaca en la visualización de relaciones complejas y distribuciones, ofreciendo una experiencia eficiente y visualmente atractiva."
   ]
  }
 ],
 "metadata": {
  "jupytext": {
   "cell_metadata_filter": "-all",
   "main_language": "python",
   "notebook_metadata_filter": "-all"
  },
  "language_info": {
   "name": "python"
  }
 },
 "nbformat": 4,
 "nbformat_minor": 5
}
