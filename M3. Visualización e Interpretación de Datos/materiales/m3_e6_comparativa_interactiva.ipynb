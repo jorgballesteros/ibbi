{
 "cells": [
  {
   "cell_type": "markdown",
   "id": "50fbe52f",
   "metadata": {},
   "source": [
    "# Ejercicio 6: Comparativa Interactiva de Datos\n",
    "\n",
    "---\n",
    "\n",
    "## 1. Contexto\n",
    "\n",
    "En este ejercicio, trabajaremos con datos meteorológicos horarios de cuatro localizaciones diferentes, correspondientes al periodo del **1 de enero de 2023** al **1 de diciembre de 2024**. Los datos están almacenados en archivos CSV con las siguientes columnas: `fecha`, `temperature`, `humidity`, `precipitation`, `wind_speed`. Nuestro objetivo será explorar y visualizar estas series temporales, permitiendo al usuario interactuar con los datos mediante filtros por rangos de fechas y localizaciones.\n",
    "\n",
    "El análisis y la visualización interactiva se realizarán utilizando **Plotly**, una poderosa biblioteca de Python para crear gráficos dinámicos y estéticamente atractivos."
   ]
  },
  {
   "cell_type": "code",
   "execution_count": null,
   "id": "ee1f9012",
   "metadata": {},
   "outputs": [],
   "source": [
    "! pip install plotly"
   ]
  },
  {
   "cell_type": "markdown",
   "id": "34b05bb2",
   "metadata": {},
   "source": [
    "---\n",
    "\n",
    "## 2. Objetivos\n",
    "\n",
    "1. Visualizar las series temporales de variables meteorológicas (temperatura, humedad, precipitación, velocidad del viento) para cada localización.\n",
    "2. Permitir la selección de rangos de fechas específicos y localizaciones para enfocar el análisis.\n",
    "3. Facilitar la comparación de series temporales entre diferentes localizaciones o variables mediante gráficos interactivos.\n",
    "\n",
    "---\n",
    "\n",
    "## 3. Desarrollo del Ejercicio\n",
    "\n",
    "### Paso 1: Cargar y Preparar los Datos\n",
    "\n",
    "1. Descarga y carga los archivos CSV correspondientes a las cuatro localizaciones en un **DataFrame de Pandas**.\n",
    "2. Convierte la columna `fecha` al formato datetime y combina los datos de todas las localizaciones en un solo DataFrame.\n",
    "3. Añade una columna que indique la localización."
   ]
  },
  {
   "cell_type": "code",
   "execution_count": null,
   "id": "0324a4b2",
   "metadata": {},
   "outputs": [],
   "source": [
    "import pandas as pd\n",
    "\n",
    "# Cargar los datos\n",
    "filepath = \"data/m3_e6_datos_meteo_combinados.csv\"\n",
    "df = pd.read_csv(filepath)\n",
    "df[\"fecha\"] = pd.to_datetime(df[\"fecha\"])\n",
    "# df = df.set_index('fecha')"
   ]
  },
  {
   "cell_type": "code",
   "execution_count": null,
   "id": "e51ef9a3",
   "metadata": {},
   "outputs": [],
   "source": [
    "df.head()"
   ]
  },
  {
   "cell_type": "code",
   "execution_count": null,
   "id": "81972cc9",
   "metadata": {},
   "outputs": [],
   "source": [
    "df.describe()"
   ]
  },
  {
   "cell_type": "code",
   "execution_count": null,
   "id": "bc105241",
   "metadata": {},
   "outputs": [],
   "source": [
    "df.info()"
   ]
  },
  {
   "cell_type": "code",
   "execution_count": null,
   "id": "11128e44",
   "metadata": {},
   "outputs": [],
   "source": [
    "# Filtramos valores duplicados en el índice\n",
    "df = df.loc[~df[['fecha','location']].duplicated(keep='first')]\n",
    "df.info()"
   ]
  },
  {
   "cell_type": "code",
   "execution_count": null,
   "id": "39e6301f",
   "metadata": {},
   "outputs": [],
   "source": [
    "# Filtrar filas que contienen NaN\n",
    "filas_con_nans = df[df.isnull().any(axis=1)]\n",
    "print(filas_con_nans)"
   ]
  },
  {
   "cell_type": "code",
   "execution_count": null,
   "id": "f8ae7e6b",
   "metadata": {},
   "outputs": [],
   "source": [
    "df = df.dropna()"
   ]
  },
  {
   "cell_type": "code",
   "execution_count": null,
   "id": "0c796105",
   "metadata": {},
   "outputs": [],
   "source": [
    "df.info()"
   ]
  },
  {
   "cell_type": "markdown",
   "id": "dda92054",
   "metadata": {},
   "source": [
    "---\n",
    "\n",
    "### Paso 2: Visualización de Series Temporales por Localización\n",
    "\n",
    "1. Crea un gráfico de líneas con **Plotly Express** para visualizar la serie temporal de temperatura en cada localización.\n",
    "2. Configura tooltips dinámicos para mostrar el valor exacto al pasar el ratón sobre los puntos."
   ]
  },
  {
   "cell_type": "code",
   "execution_count": null,
   "id": "b27c039b",
   "metadata": {},
   "outputs": [],
   "source": [
    "import plotly.express as px\n",
    "\n",
    "if 'fecha' not in df.columns:\n",
    "    df['fecha'] = df.index\n",
    "\n",
    "# Filtrar datos para una variable específica\n",
    "fig = px.line(\n",
    "    df,\n",
    "    x=\"fecha\",\n",
    "    y=\"temperature\",\n",
    "    color=\"location\",\n",
    "    labels={\"temperature\": \"Temperatura (°C)\", \"fecha\": \"Fecha\", \"location\": \"Localización\"},\n",
    "    title=\"Evolución de la Temperatura por Localización\"\n",
    ")\n",
    "fig.update_traces(mode=\"lines\")\n",
    "fig.show()"
   ]
  },
  {
   "cell_type": "markdown",
   "id": "fc003ce9",
   "metadata": {},
   "source": [
    "---\n",
    "\n",
    "### Paso 3: Filtrado por Rango Temporal\n",
    "\n",
    "1. Permite al usuario seleccionar un rango de fechas para visualizar solo los datos dentro de ese intervalo.\n",
    "2. Filtra el DataFrame según las fechas seleccionadas y genera un gráfico actualizado."
   ]
  },
  {
   "cell_type": "code",
   "execution_count": null,
   "id": "b573e7e0",
   "metadata": {},
   "outputs": [],
   "source": [
    "# Seleccionar un rango de fechas (Septiembre 2024)\n",
    "fecha_inicio = pd.Timestamp(\"2024-09-01\")\n",
    "fecha_fin = pd.Timestamp(\"2024-09-30\")\n",
    "\n",
    "df_filtrado = df[(df[\"fecha\"] >= fecha_inicio) & (df[\"fecha\"] <= fecha_fin)]\n",
    "\n",
    "# Gráfico actualizado\n",
    "fig = px.line(\n",
    "    df_filtrado,\n",
    "    x='fecha',\n",
    "    y=\"temperature\",\n",
    "    color=\"location\",\n",
    "    labels={\"temperature\": \"Temperatura (°C)\", \"fecha\": \"Fecha\", \"location\": \"Localización\"},\n",
    "    title=f\"Temperatura por Localización ({fecha_inicio.date()} a {fecha_fin.date()})\"\n",
    ")\n",
    "fig.update_traces(mode=\"lines\")\n",
    "fig.show()"
   ]
  },
  {
   "cell_type": "markdown",
   "id": "1f347b45",
   "metadata": {},
   "source": [
    "3. Seleccionames un subconjunto de datos y añadimos marcadores"
   ]
  },
  {
   "cell_type": "code",
   "execution_count": null,
   "id": "3af6909b",
   "metadata": {},
   "outputs": [],
   "source": [
    "df_capitales = df_filtrado[df_filtrado['location'].isin(['santacruz', 'lpgc', 'santacruzlapalma','sansebastian'])]\n",
    "# Gráfico actualizado\n",
    "fig = px.line(\n",
    "    df_capitales,\n",
    "    x=\"fecha\",\n",
    "    y=\"temperature\",\n",
    "    color=\"location\",\n",
    "    labels={\"temperature\": \"Temperatura (°C)\", \"fecha\": \"Fecha\", \"location\": \"Localización\"},\n",
    "    title=f\"Temperatura en Capitales ({fecha_inicio.date()} a {fecha_fin.date()})\"\n",
    ")\n",
    "fig.update_traces(mode=\"lines+markers\")\n",
    "fig.show()"
   ]
  },
  {
   "cell_type": "markdown",
   "id": "dc115bbf",
   "metadata": {},
   "source": [
    "---\n",
    "\n",
    "### Paso 4: Comparación de Variables por Serie Temporal\n",
    "\n",
    "1. Crea gráficos que permitan comparar diferentes variables (e.g., `temperature` vs. `humidity`) en una misma visualización.\n",
    "2. Utiliza subgráficos para mostrar todas las variables meteorológicas en un único gráfico."
   ]
  },
  {
   "cell_type": "code",
   "execution_count": null,
   "id": "03bc4310",
   "metadata": {},
   "outputs": [],
   "source": [
    "# Subgráficos con múltiples variables\n",
    "from plotly.subplots import make_subplots\n",
    "import plotly.graph_objects as go\n",
    "\n",
    "fig = make_subplots(rows=2, cols=2, subplot_titles=[\"Temperatura\", \"Humedad\", \"Precipitación\", \"Velocidad del Viento\"])\n",
    "\n",
    "variables = [\"temperature\", \"humidity\", \"precipitation\", \"wind_speed\"]\n",
    "titles = [\"Temperatura (°C)\", \"Humedad (%)\", \"Precipitación (mm)\", \"Velocidad del Viento (m/s)\"]\n",
    "colors = [\"blue\", \"green\", \"purple\", \"orange\"]\n",
    "\n",
    "df_icod = df_filtrado[df_filtrado['location'] == 'icod']\n",
    "\n",
    "for i, var in enumerate(variables):\n",
    "    fig.add_trace(\n",
    "        go.Scatter(\n",
    "            x=df_icod[\"fecha\"],\n",
    "            y=df_icod[var],\n",
    "            mode=\"lines\",\n",
    "            name=titles[i],\n",
    "            line=dict(color=colors[i])\n",
    "        ),\n",
    "        row=(i // 2) + 1,\n",
    "        col=(i % 2) + 1\n",
    "    )\n",
    "\n",
    "fig.update_layout(title=\"Variables Meteorológicas en Icod\", height=600, showlegend=True)\n",
    "fig.show()"
   ]
  },
  {
   "cell_type": "markdown",
   "id": "97c47544",
   "metadata": {},
   "source": [
    "3. Mostramos la misma gráfica para otra localización"
   ]
  },
  {
   "cell_type": "code",
   "execution_count": null,
   "id": "d9886ef6",
   "metadata": {},
   "outputs": [],
   "source": [
    "fig = make_subplots(rows=2, cols=2, subplot_titles=[\"Temperatura\", \"Humedad\", \"Precipitación\", \"Velocidad del Viento\"])\n",
    "\n",
    "variables = [\"temperature\", \"humidity\", \"precipitation\", \"wind_speed\"]\n",
    "titles = [\"Temperatura (°C)\", \"Humedad (%)\", \"Precipitación (mm)\", \"Velocidad del Viento (m/s)\"]\n",
    "colors = [\"blue\", \"green\", \"purple\", \"orange\"]\n",
    "\n",
    "df_sc = df_filtrado[df_filtrado['location'] == 'santacruz']\n",
    "\n",
    "for i, var in enumerate(variables):\n",
    "    fig.add_trace(\n",
    "        go.Scatter(\n",
    "            x=df_sc[\"fecha\"],\n",
    "            y=df_sc[var],\n",
    "            mode=\"lines\",\n",
    "            name=titles[i],\n",
    "            line=dict(color=colors[i])\n",
    "        ),\n",
    "        row=(i // 2) + 1,\n",
    "        col=(i % 2) + 1\n",
    "    )\n",
    "\n",
    "fig.update_layout(title=\"Variables Meteorológicas en Santa Cruz de Tenerife\", height=600, showlegend=True)\n",
    "fig.show()"
   ]
  },
  {
   "cell_type": "markdown",
   "id": "aead480e",
   "metadata": {},
   "source": [
    "4. Mostramos ambos conjuntos en la misma figura"
   ]
  },
  {
   "cell_type": "code",
   "execution_count": null,
   "id": "9f855459",
   "metadata": {},
   "outputs": [],
   "source": [
    "fig = make_subplots(rows=2, cols=2, subplot_titles=[\"Temperatura\", \"Humedad\", \"Precipitación\", \"Velocidad del Viento\"])\n",
    "\n",
    "localizaciones = [\"icod\", \"santacruz\"]\n",
    "variables = [\"temperature\", \"humidity\", \"precipitation\", \"wind_speed\"]\n",
    "\n",
    "df_comparativa = df_filtrado[df_filtrado['location'].isin(localizaciones)]\n",
    "\n",
    "for i, loc in enumerate(localizaciones):\n",
    "    print(i, loc)\n",
    "    df_loc = df_comparativa[df_comparativa['location'] == loc]\n",
    "    titles = [\"Temperatura \"+loc+\" (°C)\", \"Humedad \"+loc+\" (%)\", \"Precipitación \"+loc+\" (mm)\", \"Velocidad del Viento \"+loc+\" (m/s)\"]\n",
    "    for j, var in enumerate(variables):\n",
    "        fig.add_trace(\n",
    "        go.Scatter(\n",
    "            x=df_loc[\"fecha\"],\n",
    "            y=df_loc[var],\n",
    "            mode=\"lines\",\n",
    "            name=titles[j]\n",
    "        ),\n",
    "        row=(j // 2) + 1,\n",
    "        col=(j % 2) + 1\n",
    "        )\n",
    "\n",
    "fig.update_layout(title=\"Variables Meteorológicas en \"+\", \".join(localizaciones), height=600, showlegend=True)\n",
    "fig.show()"
   ]
  },
  {
   "cell_type": "markdown",
   "id": "15f0823f",
   "metadata": {},
   "source": [
    "### Posibles mejoras"
   ]
  },
  {
   "cell_type": "markdown",
   "id": "ce2b463d",
   "metadata": {},
   "source": [
    "1. Encapsular código en funciones"
   ]
  },
  {
   "cell_type": "code",
   "execution_count": null,
   "id": "7896579e",
   "metadata": {},
   "outputs": [],
   "source": [
    "def line_graph(df, var, title, mode=\"lines+markers\"):\n",
    "    return go.Scatter(\n",
    "            x=df[\"fecha\"],\n",
    "            y=df[var],\n",
    "            mode=mode,\n",
    "            name=title\n",
    "        )\n",
    "\n",
    "def area_graph(df, var, title, mode=\"lines\"):\n",
    "    return go.Scatter(\n",
    "            x=df[\"fecha\"],\n",
    "            y=df[var],\n",
    "            mode=mode,\n",
    "            name=title,\n",
    "            fill=\"tozeroy\"\n",
    "        )"
   ]
  },
  {
   "cell_type": "markdown",
   "id": "50a42555",
   "metadata": {},
   "source": [
    "2. Usar diferentes tipos de representación en función de la variable"
   ]
  },
  {
   "cell_type": "code",
   "execution_count": null,
   "id": "30d28c2d",
   "metadata": {},
   "outputs": [],
   "source": [
    "fig = make_subplots(rows=4, cols=1, shared_xaxes=True, subplot_titles=[\"Temperatura\", \"Humedad\", \"Precipitación\", \"Velocidad del Viento\"])\n",
    "\n",
    "localizaciones = [\"icod\", \"santacruz\"]\n",
    "variables = [\"temperature\", \"humidity\", \"precipitation\", \"wind_speed\"]\n",
    "\n",
    "df_a = df_filtrado[df_filtrado['location'].isin(localizaciones)]\n",
    "df_b = df_a[df_a['fecha'].dt.day < 15]\n",
    "\n",
    "for i, loc in enumerate(localizaciones):\n",
    "    print(i, loc)\n",
    "    df_loc = df_b[df_b['location'] == loc]\n",
    "    titles = [\"Temperatura \"+loc+\" (°C)\", \"Humedad \"+loc+\" (%)\", \"Precipitación \"+loc+\" (mm)\", \"Velocidad del Viento \"+loc+\" (m/s)\"]\n",
    "    for j, var in enumerate(variables):\n",
    "        if var == \"precipitation\":\n",
    "            fig.add_trace(area_graph(df_loc, var, titles[j]), row = j + 1, col = 1)\n",
    "        else:\n",
    "            fig.add_trace(line_graph(df_loc, var, titles[j]), row = j + 1, col = 1)\n",
    "\n",
    "fig.update_layout(title=\"Variables Meteorológicas en \"+\", \".join(localizaciones), \n",
    "                  height=900, \n",
    "                  barmode='stack',\n",
    "                  showlegend=True)\n",
    "fig.show()"
   ]
  },
  {
   "cell_type": "markdown",
   "id": "c41dd6a5",
   "metadata": {},
   "source": [
    "---\n",
    "\n",
    "## 4. Conclusión\n",
    "\n",
    "Este ejercicio demuestra cómo usar **Plotly** para crear gráficos interactivos que permitan explorar grandes conjuntos de datos temporales de manera eficiente. Los filtros por rango de fechas y localizaciones facilitan el análisis enfocado, mientras que la posibilidad de comparar múltiples variables en un único gráfico enriquece la comprensión de los datos. Esta práctica es fundamental para visualizar y analizar patrones en datos meteorológicos, energéticos o de consumo.\n",
    "\n",
    "---\n",
    "\n",
    "## 5. Referencias y Ayuda\n",
    "\n",
    "1. **Plotly Express Documentation**: [https://plotly.com/python/plotly-express/](https://plotly.com/python/plotly-express/)\n",
    "3. **Plotly Graph Objects**: [https://plotly.com/python/graph-objects/](https://plotly.com/python/graph-objects/)"
   ]
  }
 ],
 "metadata": {
  "jupytext": {
   "cell_metadata_filter": "-all",
   "main_language": "python",
   "notebook_metadata_filter": "-all"
  },
  "kernelspec": {
   "display_name": "ibbi",
   "language": "python",
   "name": "python3"
  },
  "language_info": {
   "codemirror_mode": {
    "name": "ipython",
    "version": 3
   },
   "file_extension": ".py",
   "mimetype": "text/x-python",
   "name": "python",
   "nbconvert_exporter": "python",
   "pygments_lexer": "ipython3",
   "version": "3.12.7"
  }
 },
 "nbformat": 4,
 "nbformat_minor": 5
}
