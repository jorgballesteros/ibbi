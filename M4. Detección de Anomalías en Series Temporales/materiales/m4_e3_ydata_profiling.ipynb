{
 "cells": [
  {
   "cell_type": "markdown",
   "id": "5f429554",
   "metadata": {},
   "source": [
    "# E3. Uso de Ydata Profiling para EDA\n",
    "\n",
    "## Objetivo  \n",
    "Utilizar la herramienta pandas_profiling (ahora ydata-profiling) para realizar un análisis exploratorio de datos (EDA) sobre una serie temporal de consumo energético.\n",
    "\n",
    "## Descripción del ejercicio\n",
    "Tienes un conjunto de datos con información del consumo energético registrado por hora en una ciudad. Tu tarea es utilizar pandas_profiling para obtener un análisis detallado de la serie temporal, identificar valores faltantes, detectar posibles anomalías y extraer información relevante sobre las tendencias de consumo."
   ]
  },
  {
   "cell_type": "markdown",
   "id": "9d357796",
   "metadata": {},
   "source": [
    "### Instalación de librerias"
   ]
  },
  {
   "cell_type": "code",
   "execution_count": null,
   "id": "b8541890",
   "metadata": {},
   "outputs": [],
   "source": [
    "!pip install ydata_profiling\n",
    "!pip install ydata-profiling[notebook]"
   ]
  },
  {
   "cell_type": "markdown",
   "id": "61bb8963",
   "metadata": {},
   "source": [
    "### Carga de datos"
   ]
  },
  {
   "cell_type": "code",
   "execution_count": null,
   "id": "252da3bf",
   "metadata": {},
   "outputs": [],
   "source": [
    "import pandas as pd\n",
    "from ydata_profiling import ProfileReport\n",
    "import numpy as np\n",
    "\n",
    "# Generar datos sintéticos de consumo energético por hora\n",
    "np.random.seed(42)\n",
    "date_range = pd.date_range(start=\"2023-01-01\", periods=24*30, freq=\"1h\")  # Un mes de datos\n",
    "consumo = np.random.normal(loc=50, scale=10, size=len(date_range))  # Consumo con ruido\n",
    "\n",
    "# Introducir algunos valores nulos y anomalías\n",
    "consumo[100] = np.nan  # Valor faltante\n",
    "consumo[500] = 200  # Valor atípico\n",
    "consumo[1000:1010] = np.nan  # Segmento de datos faltantes\n",
    "\n",
    "# Crear DataFrame\n",
    "df = pd.DataFrame({\"Fecha\": date_range, \"Consumo_kWh\": consumo})\n",
    "df[\"Fecha\"] = pd.to_datetime(df[\"Fecha\"])  # Asegurar formato datetime\n",
    "df.set_index(\"Fecha\", inplace=True)\n"
   ]
  },
  {
   "cell_type": "code",
   "execution_count": null,
   "id": "9d001642",
   "metadata": {},
   "outputs": [],
   "source": [
    "# De manera alternativa podemos utilizar un dataset más rico en datos\n",
    "from ydata_profiling.utils.cache import cache_file\n",
    "\n",
    "file_name = cache_file(\n",
    "    \"titanic.csv\",\n",
    "    \"https://raw.githubusercontent.com/datasciencedojo/datasets/master/titanic.csv\",\n",
    ")\n",
    "df = pd.read_csv(file_name)\n"
   ]
  },
  {
   "cell_type": "markdown",
   "id": "bd0db54c",
   "metadata": {},
   "source": [
    "## Generación de Informe\n",
    "La función `create_report` de Dataprep realiza un análisis exploratorio completo: describe las variables, detecta valores faltantes, genera gráficos interactivos, distribuciones y correlaciones, todo sin necesidad de codificar manualmente cada paso."
   ]
  },
  {
   "cell_type": "code",
   "execution_count": null,
   "id": "04d4452b",
   "metadata": {},
   "outputs": [],
   "source": [
    "# Generar reporte de pandas profiling\n",
    "profile = ProfileReport(df, explorative=True)\n",
    "# Guardar y visualizar el informe\n",
    "profile.to_file(\"data/profiling_eda.html\")\n",
    "print(\"Reporte generado: eda_consumo_energetico.html\")"
   ]
  },
  {
   "cell_type": "markdown",
   "id": "5f8ea67e",
   "metadata": {},
   "source": [
    "## Visualización\n",
    "\n",
    "Una vez generado, el informe se abre en el navegador, permitiendo explorar interactivamente los resultados y personalizar el análisis según se requiera."
   ]
  },
  {
   "cell_type": "code",
   "execution_count": null,
   "id": "b5d108a5",
   "metadata": {},
   "outputs": [],
   "source": [
    "profile.to_widgets()"
   ]
  }
 ],
 "metadata": {
  "jupytext": {
   "cell_metadata_filter": "-all",
   "main_language": "python",
   "notebook_metadata_filter": "-all"
  },
  "kernelspec": {
   "display_name": "ibbi",
   "language": "python",
   "name": "python3"
  },
  "language_info": {
   "codemirror_mode": {
    "name": "ipython",
    "version": 3
   },
   "file_extension": ".py",
   "mimetype": "text/x-python",
   "name": "python",
   "nbconvert_exporter": "python",
   "pygments_lexer": "ipython3",
   "version": "3.12.8"
  }
 },
 "nbformat": 4,
 "nbformat_minor": 5
}
