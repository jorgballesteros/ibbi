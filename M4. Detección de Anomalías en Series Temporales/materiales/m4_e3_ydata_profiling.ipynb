{
 "cells": [
  {
   "cell_type": "markdown",
   "id": "5f429554",
   "metadata": {},
   "source": [
    "# E3. Uso de Ydata Profiling para EDA\n",
    "\n",
    "## Objetivo  \n",
    "Utilizar la herramienta pandas_profiling (ahora ydata-profiling) para realizar un análisis exploratorio de datos (EDA) sobre una serie temporal de consumo energético.\n",
    "\n",
    "## Descripción del ejercicio\n",
    "Tienes un conjunto de datos con información del consumo energético registrado por hora en una ciudad. Tu tarea es utilizar pandas_profiling para obtener un análisis detallado de la serie temporal, identificar valores faltantes, detectar posibles anomalías y extraer información relevante sobre las tendencias de consumo."
   ]
  },
  {
   "cell_type": "markdown",
   "id": "9d357796",
   "metadata": {},
   "source": [
    "### Instalación de librerias"
   ]
  },
  {
   "cell_type": "code",
   "execution_count": 9,
   "id": "b8541890",
   "metadata": {},
   "outputs": [
    {
     "name": "stdout",
     "output_type": "stream",
     "text": [
      "Requirement already satisfied: ydata_profiling in /home/jballesteros/.virtualenvs/ibbi/lib/python3.10/site-packages (4.14.0)\n",
      "Requirement already satisfied: scipy<1.16,>=1.4.1 in /home/jballesteros/.virtualenvs/ibbi/lib/python3.10/site-packages (from ydata_profiling) (1.15.2)\n",
      "Requirement already satisfied: pandas!=1.4.0,<3.0,>1.1 in /home/jballesteros/.virtualenvs/ibbi/lib/python3.10/site-packages (from ydata_profiling) (2.2.3)\n",
      "Requirement already satisfied: matplotlib<=3.10,>=3.5 in /home/jballesteros/.virtualenvs/ibbi/lib/python3.10/site-packages (from ydata_profiling) (3.10.0)\n",
      "Requirement already satisfied: pydantic>=2 in /home/jballesteros/.virtualenvs/ibbi/lib/python3.10/site-packages (from ydata_profiling) (2.10.6)\n",
      "Requirement already satisfied: PyYAML<6.1,>=5.0.0 in /home/jballesteros/.virtualenvs/ibbi/lib/python3.10/site-packages (from ydata_profiling) (6.0.2)\n",
      "Requirement already satisfied: jinja2<3.2,>=2.11.1 in /home/jballesteros/.virtualenvs/ibbi/lib/python3.10/site-packages (from ydata_profiling) (3.1.6)\n",
      "Requirement already satisfied: visions<0.8.2,>=0.7.5 in /home/jballesteros/.virtualenvs/ibbi/lib/python3.10/site-packages (from visions[type_image_path]<0.8.2,>=0.7.5->ydata_profiling) (0.8.1)\n",
      "Requirement already satisfied: numpy<2.2,>=1.16.0 in /home/jballesteros/.virtualenvs/ibbi/lib/python3.10/site-packages (from ydata_profiling) (2.1.3)\n",
      "Requirement already satisfied: htmlmin==0.1.12 in /home/jballesteros/.virtualenvs/ibbi/lib/python3.10/site-packages (from ydata_profiling) (0.1.12)\n",
      "Requirement already satisfied: phik<0.13,>=0.11.1 in /home/jballesteros/.virtualenvs/ibbi/lib/python3.10/site-packages (from ydata_profiling) (0.12.4)\n",
      "Requirement already satisfied: requests<3,>=2.24.0 in /home/jballesteros/.virtualenvs/ibbi/lib/python3.10/site-packages (from ydata_profiling) (2.32.3)\n",
      "Requirement already satisfied: tqdm<5,>=4.48.2 in /home/jballesteros/.virtualenvs/ibbi/lib/python3.10/site-packages (from ydata_profiling) (4.67.1)\n",
      "Requirement already satisfied: seaborn<0.14,>=0.10.1 in /home/jballesteros/.virtualenvs/ibbi/lib/python3.10/site-packages (from ydata_profiling) (0.13.2)\n",
      "Requirement already satisfied: multimethod<2,>=1.4 in /home/jballesteros/.virtualenvs/ibbi/lib/python3.10/site-packages (from ydata_profiling) (1.12)\n",
      "Requirement already satisfied: statsmodels<1,>=0.13.2 in /home/jballesteros/.virtualenvs/ibbi/lib/python3.10/site-packages (from ydata_profiling) (0.14.4)\n",
      "Requirement already satisfied: typeguard<5,>=3 in /home/jballesteros/.virtualenvs/ibbi/lib/python3.10/site-packages (from ydata_profiling) (4.4.2)\n",
      "Requirement already satisfied: imagehash==4.3.1 in /home/jballesteros/.virtualenvs/ibbi/lib/python3.10/site-packages (from ydata_profiling) (4.3.1)\n",
      "Requirement already satisfied: wordcloud>=1.9.3 in /home/jballesteros/.virtualenvs/ibbi/lib/python3.10/site-packages (from ydata_profiling) (1.9.4)\n",
      "Requirement already satisfied: dacite>=1.8 in /home/jballesteros/.virtualenvs/ibbi/lib/python3.10/site-packages (from ydata_profiling) (1.9.2)\n",
      "Requirement already satisfied: numba<1,>=0.56.0 in /home/jballesteros/.virtualenvs/ibbi/lib/python3.10/site-packages (from ydata_profiling) (0.61.0)\n",
      "Requirement already satisfied: PyWavelets in /home/jballesteros/.virtualenvs/ibbi/lib/python3.10/site-packages (from imagehash==4.3.1->ydata_profiling) (1.8.0)\n",
      "Requirement already satisfied: pillow in /home/jballesteros/.virtualenvs/ibbi/lib/python3.10/site-packages (from imagehash==4.3.1->ydata_profiling) (11.1.0)\n",
      "Requirement already satisfied: MarkupSafe>=2.0 in /home/jballesteros/.virtualenvs/ibbi/lib/python3.10/site-packages (from jinja2<3.2,>=2.11.1->ydata_profiling) (3.0.2)\n",
      "Requirement already satisfied: contourpy>=1.0.1 in /home/jballesteros/.virtualenvs/ibbi/lib/python3.10/site-packages (from matplotlib<=3.10,>=3.5->ydata_profiling) (1.3.1)\n",
      "Requirement already satisfied: cycler>=0.10 in /home/jballesteros/.virtualenvs/ibbi/lib/python3.10/site-packages (from matplotlib<=3.10,>=3.5->ydata_profiling) (0.12.1)\n",
      "Requirement already satisfied: fonttools>=4.22.0 in /home/jballesteros/.virtualenvs/ibbi/lib/python3.10/site-packages (from matplotlib<=3.10,>=3.5->ydata_profiling) (4.56.0)\n",
      "Requirement already satisfied: kiwisolver>=1.3.1 in /home/jballesteros/.virtualenvs/ibbi/lib/python3.10/site-packages (from matplotlib<=3.10,>=3.5->ydata_profiling) (1.4.8)\n",
      "Requirement already satisfied: packaging>=20.0 in /home/jballesteros/.virtualenvs/ibbi/lib/python3.10/site-packages (from matplotlib<=3.10,>=3.5->ydata_profiling) (24.2)\n",
      "Requirement already satisfied: pyparsing>=2.3.1 in /home/jballesteros/.virtualenvs/ibbi/lib/python3.10/site-packages (from matplotlib<=3.10,>=3.5->ydata_profiling) (3.2.1)\n",
      "Requirement already satisfied: python-dateutil>=2.7 in /home/jballesteros/.virtualenvs/ibbi/lib/python3.10/site-packages (from matplotlib<=3.10,>=3.5->ydata_profiling) (2.9.0.post0)\n",
      "Requirement already satisfied: llvmlite<0.45,>=0.44.0dev0 in /home/jballesteros/.virtualenvs/ibbi/lib/python3.10/site-packages (from numba<1,>=0.56.0->ydata_profiling) (0.44.0)\n",
      "Requirement already satisfied: pytz>=2020.1 in /home/jballesteros/.virtualenvs/ibbi/lib/python3.10/site-packages (from pandas!=1.4.0,<3.0,>1.1->ydata_profiling) (2025.1)\n",
      "Requirement already satisfied: tzdata>=2022.7 in /home/jballesteros/.virtualenvs/ibbi/lib/python3.10/site-packages (from pandas!=1.4.0,<3.0,>1.1->ydata_profiling) (2025.1)\n",
      "Requirement already satisfied: joblib>=0.14.1 in /home/jballesteros/.virtualenvs/ibbi/lib/python3.10/site-packages (from phik<0.13,>=0.11.1->ydata_profiling) (1.4.2)\n",
      "Requirement already satisfied: annotated-types>=0.6.0 in /home/jballesteros/.virtualenvs/ibbi/lib/python3.10/site-packages (from pydantic>=2->ydata_profiling) (0.7.0)\n",
      "Requirement already satisfied: pydantic-core==2.27.2 in /home/jballesteros/.virtualenvs/ibbi/lib/python3.10/site-packages (from pydantic>=2->ydata_profiling) (2.27.2)\n",
      "Requirement already satisfied: typing-extensions>=4.12.2 in /home/jballesteros/.virtualenvs/ibbi/lib/python3.10/site-packages (from pydantic>=2->ydata_profiling) (4.12.2)\n",
      "Requirement already satisfied: charset-normalizer<4,>=2 in /home/jballesteros/.virtualenvs/ibbi/lib/python3.10/site-packages (from requests<3,>=2.24.0->ydata_profiling) (3.4.1)\n",
      "Requirement already satisfied: idna<4,>=2.5 in /home/jballesteros/.virtualenvs/ibbi/lib/python3.10/site-packages (from requests<3,>=2.24.0->ydata_profiling) (3.10)\n",
      "Requirement already satisfied: urllib3<3,>=1.21.1 in /home/jballesteros/.virtualenvs/ibbi/lib/python3.10/site-packages (from requests<3,>=2.24.0->ydata_profiling) (2.3.0)\n",
      "Requirement already satisfied: certifi>=2017.4.17 in /home/jballesteros/.virtualenvs/ibbi/lib/python3.10/site-packages (from requests<3,>=2.24.0->ydata_profiling) (2025.1.31)\n",
      "Requirement already satisfied: patsy>=0.5.6 in /home/jballesteros/.virtualenvs/ibbi/lib/python3.10/site-packages (from statsmodels<1,>=0.13.2->ydata_profiling) (1.0.1)\n",
      "Requirement already satisfied: attrs>=19.3.0 in /home/jballesteros/.virtualenvs/ibbi/lib/python3.10/site-packages (from visions<0.8.2,>=0.7.5->visions[type_image_path]<0.8.2,>=0.7.5->ydata_profiling) (25.2.0)\n",
      "Requirement already satisfied: networkx>=2.4 in /home/jballesteros/.virtualenvs/ibbi/lib/python3.10/site-packages (from visions<0.8.2,>=0.7.5->visions[type_image_path]<0.8.2,>=0.7.5->ydata_profiling) (3.4.2)\n",
      "Requirement already satisfied: puremagic in /home/jballesteros/.virtualenvs/ibbi/lib/python3.10/site-packages (from visions<0.8.2,>=0.7.5->visions[type_image_path]<0.8.2,>=0.7.5->ydata_profiling) (1.28)\n",
      "Requirement already satisfied: six>=1.5 in /home/jballesteros/.virtualenvs/ibbi/lib/python3.10/site-packages (from python-dateutil>=2.7->matplotlib<=3.10,>=3.5->ydata_profiling) (1.17.0)\n",
      "Requirement already satisfied: ydata-profiling[notebook] in /home/jballesteros/.virtualenvs/ibbi/lib/python3.10/site-packages (4.14.0)\n",
      "Requirement already satisfied: scipy<1.16,>=1.4.1 in /home/jballesteros/.virtualenvs/ibbi/lib/python3.10/site-packages (from ydata-profiling[notebook]) (1.15.2)\n",
      "Requirement already satisfied: pandas!=1.4.0,<3.0,>1.1 in /home/jballesteros/.virtualenvs/ibbi/lib/python3.10/site-packages (from ydata-profiling[notebook]) (2.2.3)\n",
      "Requirement already satisfied: matplotlib<=3.10,>=3.5 in /home/jballesteros/.virtualenvs/ibbi/lib/python3.10/site-packages (from ydata-profiling[notebook]) (3.10.0)\n",
      "Requirement already satisfied: pydantic>=2 in /home/jballesteros/.virtualenvs/ibbi/lib/python3.10/site-packages (from ydata-profiling[notebook]) (2.10.6)\n",
      "Requirement already satisfied: PyYAML<6.1,>=5.0.0 in /home/jballesteros/.virtualenvs/ibbi/lib/python3.10/site-packages (from ydata-profiling[notebook]) (6.0.2)\n",
      "Requirement already satisfied: jinja2<3.2,>=2.11.1 in /home/jballesteros/.virtualenvs/ibbi/lib/python3.10/site-packages (from ydata-profiling[notebook]) (3.1.6)\n",
      "Requirement already satisfied: visions<0.8.2,>=0.7.5 in /home/jballesteros/.virtualenvs/ibbi/lib/python3.10/site-packages (from visions[type_image_path]<0.8.2,>=0.7.5->ydata-profiling[notebook]) (0.8.1)\n",
      "Requirement already satisfied: numpy<2.2,>=1.16.0 in /home/jballesteros/.virtualenvs/ibbi/lib/python3.10/site-packages (from ydata-profiling[notebook]) (2.1.3)\n",
      "Requirement already satisfied: htmlmin==0.1.12 in /home/jballesteros/.virtualenvs/ibbi/lib/python3.10/site-packages (from ydata-profiling[notebook]) (0.1.12)\n",
      "Requirement already satisfied: phik<0.13,>=0.11.1 in /home/jballesteros/.virtualenvs/ibbi/lib/python3.10/site-packages (from ydata-profiling[notebook]) (0.12.4)\n",
      "Requirement already satisfied: requests<3,>=2.24.0 in /home/jballesteros/.virtualenvs/ibbi/lib/python3.10/site-packages (from ydata-profiling[notebook]) (2.32.3)\n",
      "Requirement already satisfied: tqdm<5,>=4.48.2 in /home/jballesteros/.virtualenvs/ibbi/lib/python3.10/site-packages (from ydata-profiling[notebook]) (4.67.1)\n",
      "Requirement already satisfied: seaborn<0.14,>=0.10.1 in /home/jballesteros/.virtualenvs/ibbi/lib/python3.10/site-packages (from ydata-profiling[notebook]) (0.13.2)\n",
      "Requirement already satisfied: multimethod<2,>=1.4 in /home/jballesteros/.virtualenvs/ibbi/lib/python3.10/site-packages (from ydata-profiling[notebook]) (1.12)\n",
      "Requirement already satisfied: statsmodels<1,>=0.13.2 in /home/jballesteros/.virtualenvs/ibbi/lib/python3.10/site-packages (from ydata-profiling[notebook]) (0.14.4)\n",
      "Requirement already satisfied: typeguard<5,>=3 in /home/jballesteros/.virtualenvs/ibbi/lib/python3.10/site-packages (from ydata-profiling[notebook]) (4.4.2)\n",
      "Requirement already satisfied: imagehash==4.3.1 in /home/jballesteros/.virtualenvs/ibbi/lib/python3.10/site-packages (from ydata-profiling[notebook]) (4.3.1)\n",
      "Requirement already satisfied: wordcloud>=1.9.3 in /home/jballesteros/.virtualenvs/ibbi/lib/python3.10/site-packages (from ydata-profiling[notebook]) (1.9.4)\n",
      "Requirement already satisfied: dacite>=1.8 in /home/jballesteros/.virtualenvs/ibbi/lib/python3.10/site-packages (from ydata-profiling[notebook]) (1.9.2)\n",
      "Requirement already satisfied: numba<1,>=0.56.0 in /home/jballesteros/.virtualenvs/ibbi/lib/python3.10/site-packages (from ydata-profiling[notebook]) (0.61.0)\n",
      "Requirement already satisfied: jupyter>=1.0.0 in /home/jballesteros/.virtualenvs/ibbi/lib/python3.10/site-packages (from ydata-profiling[notebook]) (1.1.1)\n",
      "Requirement already satisfied: ipywidgets>=7.5.1 in /home/jballesteros/.virtualenvs/ibbi/lib/python3.10/site-packages (from ydata-profiling[notebook]) (8.1.5)\n",
      "Requirement already satisfied: PyWavelets in /home/jballesteros/.virtualenvs/ibbi/lib/python3.10/site-packages (from imagehash==4.3.1->ydata-profiling[notebook]) (1.8.0)\n",
      "Requirement already satisfied: pillow in /home/jballesteros/.virtualenvs/ibbi/lib/python3.10/site-packages (from imagehash==4.3.1->ydata-profiling[notebook]) (11.1.0)\n",
      "Requirement already satisfied: comm>=0.1.3 in /home/jballesteros/.virtualenvs/ibbi/lib/python3.10/site-packages (from ipywidgets>=7.5.1->ydata-profiling[notebook]) (0.2.2)\n",
      "Requirement already satisfied: ipython>=6.1.0 in /home/jballesteros/.virtualenvs/ibbi/lib/python3.10/site-packages (from ipywidgets>=7.5.1->ydata-profiling[notebook]) (8.34.0)\n",
      "Requirement already satisfied: traitlets>=4.3.1 in /home/jballesteros/.virtualenvs/ibbi/lib/python3.10/site-packages (from ipywidgets>=7.5.1->ydata-profiling[notebook]) (5.14.3)\n",
      "Requirement already satisfied: widgetsnbextension~=4.0.12 in /home/jballesteros/.virtualenvs/ibbi/lib/python3.10/site-packages (from ipywidgets>=7.5.1->ydata-profiling[notebook]) (4.0.13)\n",
      "Requirement already satisfied: jupyterlab-widgets~=3.0.12 in /home/jballesteros/.virtualenvs/ibbi/lib/python3.10/site-packages (from ipywidgets>=7.5.1->ydata-profiling[notebook]) (3.0.13)\n",
      "Requirement already satisfied: MarkupSafe>=2.0 in /home/jballesteros/.virtualenvs/ibbi/lib/python3.10/site-packages (from jinja2<3.2,>=2.11.1->ydata-profiling[notebook]) (3.0.2)\n",
      "Requirement already satisfied: notebook in /home/jballesteros/.virtualenvs/ibbi/lib/python3.10/site-packages (from jupyter>=1.0.0->ydata-profiling[notebook]) (7.3.2)\n",
      "Requirement already satisfied: jupyter-console in /home/jballesteros/.virtualenvs/ibbi/lib/python3.10/site-packages (from jupyter>=1.0.0->ydata-profiling[notebook]) (6.6.3)\n",
      "Requirement already satisfied: nbconvert in /home/jballesteros/.virtualenvs/ibbi/lib/python3.10/site-packages (from jupyter>=1.0.0->ydata-profiling[notebook]) (7.16.6)\n",
      "Requirement already satisfied: ipykernel in /home/jballesteros/.virtualenvs/ibbi/lib/python3.10/site-packages (from jupyter>=1.0.0->ydata-profiling[notebook]) (6.29.5)\n",
      "Requirement already satisfied: jupyterlab in /home/jballesteros/.virtualenvs/ibbi/lib/python3.10/site-packages (from jupyter>=1.0.0->ydata-profiling[notebook]) (4.3.5)\n",
      "Requirement already satisfied: contourpy>=1.0.1 in /home/jballesteros/.virtualenvs/ibbi/lib/python3.10/site-packages (from matplotlib<=3.10,>=3.5->ydata-profiling[notebook]) (1.3.1)\n",
      "Requirement already satisfied: cycler>=0.10 in /home/jballesteros/.virtualenvs/ibbi/lib/python3.10/site-packages (from matplotlib<=3.10,>=3.5->ydata-profiling[notebook]) (0.12.1)\n",
      "Requirement already satisfied: fonttools>=4.22.0 in /home/jballesteros/.virtualenvs/ibbi/lib/python3.10/site-packages (from matplotlib<=3.10,>=3.5->ydata-profiling[notebook]) (4.56.0)\n",
      "Requirement already satisfied: kiwisolver>=1.3.1 in /home/jballesteros/.virtualenvs/ibbi/lib/python3.10/site-packages (from matplotlib<=3.10,>=3.5->ydata-profiling[notebook]) (1.4.8)\n",
      "Requirement already satisfied: packaging>=20.0 in /home/jballesteros/.virtualenvs/ibbi/lib/python3.10/site-packages (from matplotlib<=3.10,>=3.5->ydata-profiling[notebook]) (24.2)\n",
      "Requirement already satisfied: pyparsing>=2.3.1 in /home/jballesteros/.virtualenvs/ibbi/lib/python3.10/site-packages (from matplotlib<=3.10,>=3.5->ydata-profiling[notebook]) (3.2.1)\n",
      "Requirement already satisfied: python-dateutil>=2.7 in /home/jballesteros/.virtualenvs/ibbi/lib/python3.10/site-packages (from matplotlib<=3.10,>=3.5->ydata-profiling[notebook]) (2.9.0.post0)\n",
      "Requirement already satisfied: llvmlite<0.45,>=0.44.0dev0 in /home/jballesteros/.virtualenvs/ibbi/lib/python3.10/site-packages (from numba<1,>=0.56.0->ydata-profiling[notebook]) (0.44.0)\n",
      "Requirement already satisfied: pytz>=2020.1 in /home/jballesteros/.virtualenvs/ibbi/lib/python3.10/site-packages (from pandas!=1.4.0,<3.0,>1.1->ydata-profiling[notebook]) (2025.1)\n",
      "Requirement already satisfied: tzdata>=2022.7 in /home/jballesteros/.virtualenvs/ibbi/lib/python3.10/site-packages (from pandas!=1.4.0,<3.0,>1.1->ydata-profiling[notebook]) (2025.1)\n",
      "Requirement already satisfied: joblib>=0.14.1 in /home/jballesteros/.virtualenvs/ibbi/lib/python3.10/site-packages (from phik<0.13,>=0.11.1->ydata-profiling[notebook]) (1.4.2)\n",
      "Requirement already satisfied: annotated-types>=0.6.0 in /home/jballesteros/.virtualenvs/ibbi/lib/python3.10/site-packages (from pydantic>=2->ydata-profiling[notebook]) (0.7.0)\n",
      "Requirement already satisfied: pydantic-core==2.27.2 in /home/jballesteros/.virtualenvs/ibbi/lib/python3.10/site-packages (from pydantic>=2->ydata-profiling[notebook]) (2.27.2)\n",
      "Requirement already satisfied: typing-extensions>=4.12.2 in /home/jballesteros/.virtualenvs/ibbi/lib/python3.10/site-packages (from pydantic>=2->ydata-profiling[notebook]) (4.12.2)\n",
      "Requirement already satisfied: charset-normalizer<4,>=2 in /home/jballesteros/.virtualenvs/ibbi/lib/python3.10/site-packages (from requests<3,>=2.24.0->ydata-profiling[notebook]) (3.4.1)\n",
      "Requirement already satisfied: idna<4,>=2.5 in /home/jballesteros/.virtualenvs/ibbi/lib/python3.10/site-packages (from requests<3,>=2.24.0->ydata-profiling[notebook]) (3.10)\n",
      "Requirement already satisfied: urllib3<3,>=1.21.1 in /home/jballesteros/.virtualenvs/ibbi/lib/python3.10/site-packages (from requests<3,>=2.24.0->ydata-profiling[notebook]) (2.3.0)\n",
      "Requirement already satisfied: certifi>=2017.4.17 in /home/jballesteros/.virtualenvs/ibbi/lib/python3.10/site-packages (from requests<3,>=2.24.0->ydata-profiling[notebook]) (2025.1.31)\n",
      "Requirement already satisfied: patsy>=0.5.6 in /home/jballesteros/.virtualenvs/ibbi/lib/python3.10/site-packages (from statsmodels<1,>=0.13.2->ydata-profiling[notebook]) (1.0.1)\n",
      "Requirement already satisfied: attrs>=19.3.0 in /home/jballesteros/.virtualenvs/ibbi/lib/python3.10/site-packages (from visions<0.8.2,>=0.7.5->visions[type_image_path]<0.8.2,>=0.7.5->ydata-profiling[notebook]) (25.2.0)\n",
      "Requirement already satisfied: networkx>=2.4 in /home/jballesteros/.virtualenvs/ibbi/lib/python3.10/site-packages (from visions<0.8.2,>=0.7.5->visions[type_image_path]<0.8.2,>=0.7.5->ydata-profiling[notebook]) (3.4.2)\n",
      "Requirement already satisfied: puremagic in /home/jballesteros/.virtualenvs/ibbi/lib/python3.10/site-packages (from visions<0.8.2,>=0.7.5->visions[type_image_path]<0.8.2,>=0.7.5->ydata-profiling[notebook]) (1.28)\n",
      "Requirement already satisfied: decorator in /home/jballesteros/.virtualenvs/ibbi/lib/python3.10/site-packages (from ipython>=6.1.0->ipywidgets>=7.5.1->ydata-profiling[notebook]) (5.2.1)\n",
      "Requirement already satisfied: exceptiongroup in /home/jballesteros/.virtualenvs/ibbi/lib/python3.10/site-packages (from ipython>=6.1.0->ipywidgets>=7.5.1->ydata-profiling[notebook]) (1.2.2)\n",
      "Requirement already satisfied: jedi>=0.16 in /home/jballesteros/.virtualenvs/ibbi/lib/python3.10/site-packages (from ipython>=6.1.0->ipywidgets>=7.5.1->ydata-profiling[notebook]) (0.19.2)\n",
      "Requirement already satisfied: matplotlib-inline in /home/jballesteros/.virtualenvs/ibbi/lib/python3.10/site-packages (from ipython>=6.1.0->ipywidgets>=7.5.1->ydata-profiling[notebook]) (0.1.7)\n",
      "Requirement already satisfied: pexpect>4.3 in /home/jballesteros/.virtualenvs/ibbi/lib/python3.10/site-packages (from ipython>=6.1.0->ipywidgets>=7.5.1->ydata-profiling[notebook]) (4.9.0)\n",
      "Requirement already satisfied: prompt_toolkit<3.1.0,>=3.0.41 in /home/jballesteros/.virtualenvs/ibbi/lib/python3.10/site-packages (from ipython>=6.1.0->ipywidgets>=7.5.1->ydata-profiling[notebook]) (3.0.50)\n",
      "Requirement already satisfied: pygments>=2.4.0 in /home/jballesteros/.virtualenvs/ibbi/lib/python3.10/site-packages (from ipython>=6.1.0->ipywidgets>=7.5.1->ydata-profiling[notebook]) (2.19.1)\n",
      "Requirement already satisfied: stack_data in /home/jballesteros/.virtualenvs/ibbi/lib/python3.10/site-packages (from ipython>=6.1.0->ipywidgets>=7.5.1->ydata-profiling[notebook]) (0.6.3)\n",
      "Requirement already satisfied: six>=1.5 in /home/jballesteros/.virtualenvs/ibbi/lib/python3.10/site-packages (from python-dateutil>=2.7->matplotlib<=3.10,>=3.5->ydata-profiling[notebook]) (1.17.0)\n",
      "Requirement already satisfied: debugpy>=1.6.5 in /home/jballesteros/.virtualenvs/ibbi/lib/python3.10/site-packages (from ipykernel->jupyter>=1.0.0->ydata-profiling[notebook]) (1.8.13)\n",
      "Requirement already satisfied: jupyter-client>=6.1.12 in /home/jballesteros/.virtualenvs/ibbi/lib/python3.10/site-packages (from ipykernel->jupyter>=1.0.0->ydata-profiling[notebook]) (8.6.3)\n",
      "Requirement already satisfied: jupyter-core!=5.0.*,>=4.12 in /home/jballesteros/.virtualenvs/ibbi/lib/python3.10/site-packages (from ipykernel->jupyter>=1.0.0->ydata-profiling[notebook]) (5.7.2)\n",
      "Requirement already satisfied: nest-asyncio in /home/jballesteros/.virtualenvs/ibbi/lib/python3.10/site-packages (from ipykernel->jupyter>=1.0.0->ydata-profiling[notebook]) (1.6.0)\n",
      "Requirement already satisfied: psutil in /home/jballesteros/.virtualenvs/ibbi/lib/python3.10/site-packages (from ipykernel->jupyter>=1.0.0->ydata-profiling[notebook]) (7.0.0)\n",
      "Requirement already satisfied: pyzmq>=24 in /home/jballesteros/.virtualenvs/ibbi/lib/python3.10/site-packages (from ipykernel->jupyter>=1.0.0->ydata-profiling[notebook]) (26.3.0)\n",
      "Requirement already satisfied: tornado>=6.1 in /home/jballesteros/.virtualenvs/ibbi/lib/python3.10/site-packages (from ipykernel->jupyter>=1.0.0->ydata-profiling[notebook]) (6.4.2)\n",
      "Requirement already satisfied: async-lru>=1.0.0 in /home/jballesteros/.virtualenvs/ibbi/lib/python3.10/site-packages (from jupyterlab->jupyter>=1.0.0->ydata-profiling[notebook]) (2.0.4)\n",
      "Requirement already satisfied: httpx>=0.25.0 in /home/jballesteros/.virtualenvs/ibbi/lib/python3.10/site-packages (from jupyterlab->jupyter>=1.0.0->ydata-profiling[notebook]) (0.28.1)\n",
      "Requirement already satisfied: jupyter-lsp>=2.0.0 in /home/jballesteros/.virtualenvs/ibbi/lib/python3.10/site-packages (from jupyterlab->jupyter>=1.0.0->ydata-profiling[notebook]) (2.2.5)\n",
      "Requirement already satisfied: jupyter-server<3,>=2.4.0 in /home/jballesteros/.virtualenvs/ibbi/lib/python3.10/site-packages (from jupyterlab->jupyter>=1.0.0->ydata-profiling[notebook]) (2.15.0)\n",
      "Requirement already satisfied: jupyterlab-server<3,>=2.27.1 in /home/jballesteros/.virtualenvs/ibbi/lib/python3.10/site-packages (from jupyterlab->jupyter>=1.0.0->ydata-profiling[notebook]) (2.27.3)\n",
      "Requirement already satisfied: notebook-shim>=0.2 in /home/jballesteros/.virtualenvs/ibbi/lib/python3.10/site-packages (from jupyterlab->jupyter>=1.0.0->ydata-profiling[notebook]) (0.2.4)\n",
      "Requirement already satisfied: setuptools>=40.8.0 in /home/jballesteros/.virtualenvs/ibbi/lib/python3.10/site-packages (from jupyterlab->jupyter>=1.0.0->ydata-profiling[notebook]) (75.8.0)\n",
      "Requirement already satisfied: tomli>=1.2.2 in /home/jballesteros/.virtualenvs/ibbi/lib/python3.10/site-packages (from jupyterlab->jupyter>=1.0.0->ydata-profiling[notebook]) (2.2.1)\n",
      "Requirement already satisfied: beautifulsoup4 in /home/jballesteros/.virtualenvs/ibbi/lib/python3.10/site-packages (from nbconvert->jupyter>=1.0.0->ydata-profiling[notebook]) (4.13.3)\n",
      "Requirement already satisfied: bleach!=5.0.0 in /home/jballesteros/.virtualenvs/ibbi/lib/python3.10/site-packages (from bleach[css]!=5.0.0->nbconvert->jupyter>=1.0.0->ydata-profiling[notebook]) (6.2.0)\n",
      "Requirement already satisfied: defusedxml in /home/jballesteros/.virtualenvs/ibbi/lib/python3.10/site-packages (from nbconvert->jupyter>=1.0.0->ydata-profiling[notebook]) (0.7.1)\n",
      "Requirement already satisfied: jupyterlab-pygments in /home/jballesteros/.virtualenvs/ibbi/lib/python3.10/site-packages (from nbconvert->jupyter>=1.0.0->ydata-profiling[notebook]) (0.3.0)\n",
      "Requirement already satisfied: mistune<4,>=2.0.3 in /home/jballesteros/.virtualenvs/ibbi/lib/python3.10/site-packages (from nbconvert->jupyter>=1.0.0->ydata-profiling[notebook]) (3.1.2)\n",
      "Requirement already satisfied: nbclient>=0.5.0 in /home/jballesteros/.virtualenvs/ibbi/lib/python3.10/site-packages (from nbconvert->jupyter>=1.0.0->ydata-profiling[notebook]) (0.10.2)\n",
      "Requirement already satisfied: nbformat>=5.7 in /home/jballesteros/.virtualenvs/ibbi/lib/python3.10/site-packages (from nbconvert->jupyter>=1.0.0->ydata-profiling[notebook]) (5.10.4)\n",
      "Requirement already satisfied: pandocfilters>=1.4.1 in /home/jballesteros/.virtualenvs/ibbi/lib/python3.10/site-packages (from nbconvert->jupyter>=1.0.0->ydata-profiling[notebook]) (1.5.1)\n",
      "Requirement already satisfied: webencodings in /home/jballesteros/.virtualenvs/ibbi/lib/python3.10/site-packages (from bleach!=5.0.0->bleach[css]!=5.0.0->nbconvert->jupyter>=1.0.0->ydata-profiling[notebook]) (0.5.1)\n",
      "Requirement already satisfied: tinycss2<1.5,>=1.1.0 in /home/jballesteros/.virtualenvs/ibbi/lib/python3.10/site-packages (from bleach[css]!=5.0.0->nbconvert->jupyter>=1.0.0->ydata-profiling[notebook]) (1.4.0)\n",
      "Requirement already satisfied: anyio in /home/jballesteros/.virtualenvs/ibbi/lib/python3.10/site-packages (from httpx>=0.25.0->jupyterlab->jupyter>=1.0.0->ydata-profiling[notebook]) (4.8.0)\n",
      "Requirement already satisfied: httpcore==1.* in /home/jballesteros/.virtualenvs/ibbi/lib/python3.10/site-packages (from httpx>=0.25.0->jupyterlab->jupyter>=1.0.0->ydata-profiling[notebook]) (1.0.7)\n",
      "Requirement already satisfied: h11<0.15,>=0.13 in /home/jballesteros/.virtualenvs/ibbi/lib/python3.10/site-packages (from httpcore==1.*->httpx>=0.25.0->jupyterlab->jupyter>=1.0.0->ydata-profiling[notebook]) (0.14.0)\n",
      "Requirement already satisfied: parso<0.9.0,>=0.8.4 in /home/jballesteros/.virtualenvs/ibbi/lib/python3.10/site-packages (from jedi>=0.16->ipython>=6.1.0->ipywidgets>=7.5.1->ydata-profiling[notebook]) (0.8.4)\n",
      "Requirement already satisfied: platformdirs>=2.5 in /home/jballesteros/.virtualenvs/ibbi/lib/python3.10/site-packages (from jupyter-core!=5.0.*,>=4.12->ipykernel->jupyter>=1.0.0->ydata-profiling[notebook]) (4.3.6)\n",
      "Requirement already satisfied: argon2-cffi>=21.1 in /home/jballesteros/.virtualenvs/ibbi/lib/python3.10/site-packages (from jupyter-server<3,>=2.4.0->jupyterlab->jupyter>=1.0.0->ydata-profiling[notebook]) (23.1.0)\n",
      "Requirement already satisfied: jupyter-events>=0.11.0 in /home/jballesteros/.virtualenvs/ibbi/lib/python3.10/site-packages (from jupyter-server<3,>=2.4.0->jupyterlab->jupyter>=1.0.0->ydata-profiling[notebook]) (0.12.0)\n",
      "Requirement already satisfied: jupyter-server-terminals>=0.4.4 in /home/jballesteros/.virtualenvs/ibbi/lib/python3.10/site-packages (from jupyter-server<3,>=2.4.0->jupyterlab->jupyter>=1.0.0->ydata-profiling[notebook]) (0.5.3)\n",
      "Requirement already satisfied: overrides>=5.0 in /home/jballesteros/.virtualenvs/ibbi/lib/python3.10/site-packages (from jupyter-server<3,>=2.4.0->jupyterlab->jupyter>=1.0.0->ydata-profiling[notebook]) (7.7.0)\n",
      "Requirement already satisfied: prometheus-client>=0.9 in /home/jballesteros/.virtualenvs/ibbi/lib/python3.10/site-packages (from jupyter-server<3,>=2.4.0->jupyterlab->jupyter>=1.0.0->ydata-profiling[notebook]) (0.21.1)\n",
      "Requirement already satisfied: send2trash>=1.8.2 in /home/jballesteros/.virtualenvs/ibbi/lib/python3.10/site-packages (from jupyter-server<3,>=2.4.0->jupyterlab->jupyter>=1.0.0->ydata-profiling[notebook]) (1.8.3)\n",
      "Requirement already satisfied: terminado>=0.8.3 in /home/jballesteros/.virtualenvs/ibbi/lib/python3.10/site-packages (from jupyter-server<3,>=2.4.0->jupyterlab->jupyter>=1.0.0->ydata-profiling[notebook]) (0.18.1)\n",
      "Requirement already satisfied: websocket-client>=1.7 in /home/jballesteros/.virtualenvs/ibbi/lib/python3.10/site-packages (from jupyter-server<3,>=2.4.0->jupyterlab->jupyter>=1.0.0->ydata-profiling[notebook]) (1.8.0)\n",
      "Requirement already satisfied: babel>=2.10 in /home/jballesteros/.virtualenvs/ibbi/lib/python3.10/site-packages (from jupyterlab-server<3,>=2.27.1->jupyterlab->jupyter>=1.0.0->ydata-profiling[notebook]) (2.17.0)\n",
      "Requirement already satisfied: json5>=0.9.0 in /home/jballesteros/.virtualenvs/ibbi/lib/python3.10/site-packages (from jupyterlab-server<3,>=2.27.1->jupyterlab->jupyter>=1.0.0->ydata-profiling[notebook]) (0.10.0)\n",
      "Requirement already satisfied: jsonschema>=4.18.0 in /home/jballesteros/.virtualenvs/ibbi/lib/python3.10/site-packages (from jupyterlab-server<3,>=2.27.1->jupyterlab->jupyter>=1.0.0->ydata-profiling[notebook]) (4.23.0)\n",
      "Requirement already satisfied: fastjsonschema>=2.15 in /home/jballesteros/.virtualenvs/ibbi/lib/python3.10/site-packages (from nbformat>=5.7->nbconvert->jupyter>=1.0.0->ydata-profiling[notebook]) (2.21.1)\n",
      "Requirement already satisfied: ptyprocess>=0.5 in /home/jballesteros/.virtualenvs/ibbi/lib/python3.10/site-packages (from pexpect>4.3->ipython>=6.1.0->ipywidgets>=7.5.1->ydata-profiling[notebook]) (0.7.0)\n",
      "Requirement already satisfied: wcwidth in /home/jballesteros/.virtualenvs/ibbi/lib/python3.10/site-packages (from prompt_toolkit<3.1.0,>=3.0.41->ipython>=6.1.0->ipywidgets>=7.5.1->ydata-profiling[notebook]) (0.2.13)\n",
      "Requirement already satisfied: soupsieve>1.2 in /home/jballesteros/.virtualenvs/ibbi/lib/python3.10/site-packages (from beautifulsoup4->nbconvert->jupyter>=1.0.0->ydata-profiling[notebook]) (2.6)\n",
      "Requirement already satisfied: executing>=1.2.0 in /home/jballesteros/.virtualenvs/ibbi/lib/python3.10/site-packages (from stack_data->ipython>=6.1.0->ipywidgets>=7.5.1->ydata-profiling[notebook]) (2.2.0)\n",
      "Requirement already satisfied: asttokens>=2.1.0 in /home/jballesteros/.virtualenvs/ibbi/lib/python3.10/site-packages (from stack_data->ipython>=6.1.0->ipywidgets>=7.5.1->ydata-profiling[notebook]) (3.0.0)\n",
      "Requirement already satisfied: pure-eval in /home/jballesteros/.virtualenvs/ibbi/lib/python3.10/site-packages (from stack_data->ipython>=6.1.0->ipywidgets>=7.5.1->ydata-profiling[notebook]) (0.2.3)\n",
      "Requirement already satisfied: sniffio>=1.1 in /home/jballesteros/.virtualenvs/ibbi/lib/python3.10/site-packages (from anyio->httpx>=0.25.0->jupyterlab->jupyter>=1.0.0->ydata-profiling[notebook]) (1.3.1)\n",
      "Requirement already satisfied: argon2-cffi-bindings in /home/jballesteros/.virtualenvs/ibbi/lib/python3.10/site-packages (from argon2-cffi>=21.1->jupyter-server<3,>=2.4.0->jupyterlab->jupyter>=1.0.0->ydata-profiling[notebook]) (21.2.0)\n",
      "Requirement already satisfied: jsonschema-specifications>=2023.03.6 in /home/jballesteros/.virtualenvs/ibbi/lib/python3.10/site-packages (from jsonschema>=4.18.0->jupyterlab-server<3,>=2.27.1->jupyterlab->jupyter>=1.0.0->ydata-profiling[notebook]) (2024.10.1)\n",
      "Requirement already satisfied: referencing>=0.28.4 in /home/jballesteros/.virtualenvs/ibbi/lib/python3.10/site-packages (from jsonschema>=4.18.0->jupyterlab-server<3,>=2.27.1->jupyterlab->jupyter>=1.0.0->ydata-profiling[notebook]) (0.36.2)\n",
      "Requirement already satisfied: rpds-py>=0.7.1 in /home/jballesteros/.virtualenvs/ibbi/lib/python3.10/site-packages (from jsonschema>=4.18.0->jupyterlab-server<3,>=2.27.1->jupyterlab->jupyter>=1.0.0->ydata-profiling[notebook]) (0.23.1)\n",
      "Requirement already satisfied: python-json-logger>=2.0.4 in /home/jballesteros/.virtualenvs/ibbi/lib/python3.10/site-packages (from jupyter-events>=0.11.0->jupyter-server<3,>=2.4.0->jupyterlab->jupyter>=1.0.0->ydata-profiling[notebook]) (3.3.0)\n",
      "Requirement already satisfied: rfc3339-validator in /home/jballesteros/.virtualenvs/ibbi/lib/python3.10/site-packages (from jupyter-events>=0.11.0->jupyter-server<3,>=2.4.0->jupyterlab->jupyter>=1.0.0->ydata-profiling[notebook]) (0.1.4)\n",
      "Requirement already satisfied: rfc3986-validator>=0.1.1 in /home/jballesteros/.virtualenvs/ibbi/lib/python3.10/site-packages (from jupyter-events>=0.11.0->jupyter-server<3,>=2.4.0->jupyterlab->jupyter>=1.0.0->ydata-profiling[notebook]) (0.1.1)\n",
      "Requirement already satisfied: fqdn in /home/jballesteros/.virtualenvs/ibbi/lib/python3.10/site-packages (from jsonschema[format-nongpl]>=4.18.0->jupyter-events>=0.11.0->jupyter-server<3,>=2.4.0->jupyterlab->jupyter>=1.0.0->ydata-profiling[notebook]) (1.5.1)\n",
      "Requirement already satisfied: isoduration in /home/jballesteros/.virtualenvs/ibbi/lib/python3.10/site-packages (from jsonschema[format-nongpl]>=4.18.0->jupyter-events>=0.11.0->jupyter-server<3,>=2.4.0->jupyterlab->jupyter>=1.0.0->ydata-profiling[notebook]) (20.11.0)\n",
      "Requirement already satisfied: jsonpointer>1.13 in /home/jballesteros/.virtualenvs/ibbi/lib/python3.10/site-packages (from jsonschema[format-nongpl]>=4.18.0->jupyter-events>=0.11.0->jupyter-server<3,>=2.4.0->jupyterlab->jupyter>=1.0.0->ydata-profiling[notebook]) (3.0.0)\n",
      "Requirement already satisfied: uri-template in /home/jballesteros/.virtualenvs/ibbi/lib/python3.10/site-packages (from jsonschema[format-nongpl]>=4.18.0->jupyter-events>=0.11.0->jupyter-server<3,>=2.4.0->jupyterlab->jupyter>=1.0.0->ydata-profiling[notebook]) (1.3.0)\n",
      "Requirement already satisfied: webcolors>=24.6.0 in /home/jballesteros/.virtualenvs/ibbi/lib/python3.10/site-packages (from jsonschema[format-nongpl]>=4.18.0->jupyter-events>=0.11.0->jupyter-server<3,>=2.4.0->jupyterlab->jupyter>=1.0.0->ydata-profiling[notebook]) (24.11.1)\n",
      "Requirement already satisfied: cffi>=1.0.1 in /home/jballesteros/.virtualenvs/ibbi/lib/python3.10/site-packages (from argon2-cffi-bindings->argon2-cffi>=21.1->jupyter-server<3,>=2.4.0->jupyterlab->jupyter>=1.0.0->ydata-profiling[notebook]) (1.17.1)\n",
      "Requirement already satisfied: pycparser in /home/jballesteros/.virtualenvs/ibbi/lib/python3.10/site-packages (from cffi>=1.0.1->argon2-cffi-bindings->argon2-cffi>=21.1->jupyter-server<3,>=2.4.0->jupyterlab->jupyter>=1.0.0->ydata-profiling[notebook]) (2.22)\n",
      "Requirement already satisfied: arrow>=0.15.0 in /home/jballesteros/.virtualenvs/ibbi/lib/python3.10/site-packages (from isoduration->jsonschema[format-nongpl]>=4.18.0->jupyter-events>=0.11.0->jupyter-server<3,>=2.4.0->jupyterlab->jupyter>=1.0.0->ydata-profiling[notebook]) (1.3.0)\n",
      "Requirement already satisfied: types-python-dateutil>=2.8.10 in /home/jballesteros/.virtualenvs/ibbi/lib/python3.10/site-packages (from arrow>=0.15.0->isoduration->jsonschema[format-nongpl]>=4.18.0->jupyter-events>=0.11.0->jupyter-server<3,>=2.4.0->jupyterlab->jupyter>=1.0.0->ydata-profiling[notebook]) (2.9.0.20241206)\n"
     ]
    }
   ],
   "source": [
    "!pip install ydata_profiling\n",
    "!pip install ydata-profiling[notebook]"
   ]
  },
  {
   "cell_type": "markdown",
   "id": "61bb8963",
   "metadata": {},
   "source": [
    "### Carga de datos"
   ]
  },
  {
   "cell_type": "code",
   "execution_count": 15,
   "id": "252da3bf",
   "metadata": {},
   "outputs": [],
   "source": [
    "import pandas as pd\n",
    "from ydata_profiling import ProfileReport\n",
    "import numpy as np\n",
    "\n",
    "# Generar datos sintéticos de consumo energético por hora\n",
    "np.random.seed(42)\n",
    "date_range = pd.date_range(start=\"2023-01-01\", periods=24*30, freq=\"1h\")  # Un mes de datos\n",
    "consumo = np.random.normal(loc=50, scale=10, size=len(date_range))  # Consumo con ruido\n",
    "\n",
    "# Introducir algunos valores nulos y anomalías\n",
    "consumo[100] = np.nan  # Valor faltante\n",
    "consumo[500] = 200  # Valor atípico\n",
    "consumo[1000:1010] = np.nan  # Segmento de datos faltantes\n",
    "\n",
    "# Crear DataFrame\n",
    "df = pd.DataFrame({\"Fecha\": date_range, \"Consumo_kWh\": consumo})\n",
    "df[\"Fecha\"] = pd.to_datetime(df[\"Fecha\"])  # Asegurar formato datetime\n",
    "df.set_index(\"Fecha\", inplace=True)\n"
   ]
  },
  {
   "cell_type": "code",
   "execution_count": 11,
   "id": "9d001642",
   "metadata": {},
   "outputs": [],
   "source": [
    "# De manera alternativa podemos utilizar un dataset más rico en datos\n",
    "from ydata_profiling.utils.cache import cache_file\n",
    "\n",
    "file_name = cache_file(\n",
    "    \"titanic.csv\",\n",
    "    \"https://raw.githubusercontent.com/datasciencedojo/datasets/master/titanic.csv\",\n",
    ")\n",
    "df = pd.read_csv(file_name)\n"
   ]
  },
  {
   "cell_type": "markdown",
   "id": "bd0db54c",
   "metadata": {},
   "source": [
    "## Generación de Informe\n",
    "La función `create_report` de Dataprep realiza un análisis exploratorio completo: describe las variables, detecta valores faltantes, genera gráficos interactivos, distribuciones y correlaciones, todo sin necesidad de codificar manualmente cada paso."
   ]
  },
  {
   "cell_type": "code",
   "execution_count": null,
   "id": "04d4452b",
   "metadata": {},
   "outputs": [
    {
     "data": {
      "application/vnd.jupyter.widget-view+json": {
       "model_id": "aec1d7f28d31452e8f7d87870a75f446",
       "version_major": 2,
       "version_minor": 0
      },
      "text/plain": [
       "Summarize dataset:   0%|          | 0/5 [00:00<?, ?it/s]"
      ]
     },
     "metadata": {},
     "output_type": "display_data"
    },
    {
     "data": {
      "application/vnd.jupyter.widget-view+json": {
       "model_id": "035b7136a2ff4ec38fe33b85c0cfad7e",
       "version_major": 2,
       "version_minor": 0
      },
      "text/plain": [
       "Generate report structure:   0%|          | 0/1 [00:00<?, ?it/s]"
      ]
     },
     "metadata": {},
     "output_type": "display_data"
    },
    {
     "data": {
      "application/vnd.jupyter.widget-view+json": {
       "model_id": "224c9c75549c4f53884c88d453267083",
       "version_major": 2,
       "version_minor": 0
      },
      "text/plain": [
       "Render HTML:   0%|          | 0/1 [00:00<?, ?it/s]"
      ]
     },
     "metadata": {},
     "output_type": "display_data"
    },
    {
     "data": {
      "application/vnd.jupyter.widget-view+json": {
       "model_id": "88c374bbd82947f7a6319675f0dd35d4",
       "version_major": 2,
       "version_minor": 0
      },
      "text/plain": [
       "Export report to file:   0%|          | 0/1 [00:00<?, ?it/s]"
      ]
     },
     "metadata": {},
     "output_type": "display_data"
    },
    {
     "name": "stdout",
     "output_type": "stream",
     "text": [
      "Reporte generado: eda_consumo_energetico.html\n"
     ]
    }
   ],
   "source": [
    "# Generar reporte de pandas profiling\n",
    "profile = ProfileReport(df, explorative=True)\n",
    "# Guardar y visualizar el informe\n",
    "profile.to_file(\"data/html/profiling_eda.html\")\n",
    "print(\"Reporte generado: eda_consumo_energetico.html\")"
   ]
  },
  {
   "cell_type": "markdown",
   "id": "5f8ea67e",
   "metadata": {},
   "source": [
    "## Visualización\n",
    "\n",
    "Una vez generado, el informe se abre en el navegador, permitiendo explorar interactivamente los resultados y personalizar el análisis según se requiera."
   ]
  },
  {
   "cell_type": "code",
   "execution_count": 13,
   "id": "b5d108a5",
   "metadata": {},
   "outputs": [
    {
     "data": {
      "application/vnd.jupyter.widget-view+json": {
       "model_id": "273ff29170de4dca9a31858f1cc4cb20",
       "version_major": 2,
       "version_minor": 0
      },
      "text/plain": [
       "Render widgets:   0%|          | 0/1 [00:00<?, ?it/s]"
      ]
     },
     "metadata": {},
     "output_type": "display_data"
    },
    {
     "data": {
      "application/vnd.jupyter.widget-view+json": {
       "model_id": "86d26576c39d4ae093cefef1e91b336d",
       "version_major": 2,
       "version_minor": 0
      },
      "text/plain": [
       "VBox(children=(Tab(children=(Tab(children=(GridBox(children=(VBox(children=(GridspecLayout(children=(HTML(valu…"
      ]
     },
     "metadata": {},
     "output_type": "display_data"
    }
   ],
   "source": [
    "profile.to_widgets()"
   ]
  }
 ],
 "metadata": {
  "jupytext": {
   "cell_metadata_filter": "-all",
   "main_language": "python",
   "notebook_metadata_filter": "-all"
  },
  "kernelspec": {
   "display_name": "ibbi",
   "language": "python",
   "name": "python3"
  },
  "language_info": {
   "codemirror_mode": {
    "name": "ipython",
    "version": 3
   },
   "file_extension": ".py",
   "mimetype": "text/x-python",
   "name": "python",
   "nbconvert_exporter": "python",
   "pygments_lexer": "ipython3",
   "version": "3.10.12"
  }
 },
 "nbformat": 4,
 "nbformat_minor": 5
}
