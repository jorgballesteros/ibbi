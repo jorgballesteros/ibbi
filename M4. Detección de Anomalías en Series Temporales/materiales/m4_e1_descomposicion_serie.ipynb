{
 "cells": [
  {
   "cell_type": "markdown",
   "id": "e2a9d993",
   "metadata": {},
   "source": [
    "# E!. Descomposición de una Serie Temporal\n",
    "\n",
    "Aprenderemos a descomponer una serie temporal en sus componentes principales: **tendencia**, **estacionalidad** y **residuo**. Además, incluiremos un diagrama ilustrativo para visualizar este proceso.\n",
    "\n",
    "El objetivo es repasar cómo se separa la serie en sus componentes para facilitar el análisis, especialmente en el contexto de la detección de anomalías utilizando técnicas de inteligencia artificial."
   ]
  },
  {
   "cell_type": "markdown",
   "id": "d1652463",
   "metadata": {},
   "source": [
    "## 1. Introducción y Conceptos Clave\n",
    "\n",
    "- **Serie Temporal:** Datos recolectados secuencialmente en el tiempo.\n",
    "- **Tendencia:** Componente que refleja el comportamiento a largo plazo de la serie.\n",
    "- **Estacionalidad:** Patrón cíclico o periódico que se repite en intervalos regulares.\n",
    "- **Residuo:** Componente que representa las fluctuaciones aleatorias o el \"ruido\".\n",
    "\n",
    "El proceso de descomposición permite analizar cada uno de estos componentes de forma independiente, lo que resulta útil para mejorar el rendimiento de modelos de detección de anomalías."
   ]
  },
  {
   "cell_type": "markdown",
   "id": "7af2e24a",
   "metadata": {},
   "source": [
    "## 2. Diagrama Ilustrativo de la Descomposición\n",
    "\n",
    "El siguiente diagrama muestra cómo se descompone una serie temporal en sus componentes principales:"
   ]
  },
  {
   "cell_type": "markdown",
   "id": "6590f2c9",
   "metadata": {},
   "source": [
    "```mermaid\n",
    "flowchart TD\n",
    "    A[Serie Temporal Original] --> B[Descomposición de la Serie Temporal]\n",
    "    B --> C[Tendencia]\n",
    "    B --> D[Estacionalidad]\n",
    "    B --> E[Residuo]\n",
    "```"
   ]
  },
  {
   "cell_type": "markdown",
   "id": "2cf708c2",
   "metadata": {},
   "source": [
    "El diagrama anterior muestra de forma esquemática cómo se parte de la **Serie Temporal Original** para obtener:\n",
    "\n",
    "- **Tendencia:** El comportamiento a largo plazo.\n",
    "- **Estacionalidad:** Los patrones periódicos.\n",
    "- **Residuo:** El ruido o variaciones aleatorias.\n",
    "\n",
    "Este enfoque es clave para identificar y modelar anomalías de manera efectiva, ya que permite centrar la atención en cada componente por separado."
   ]
  },
  {
   "cell_type": "markdown",
   "id": "1019bceb",
   "metadata": {},
   "source": [
    "## 3. Ejemplo Práctico: Descomposición de una Serie Temporal Real\n",
    "\n",
    "Utilizaremos el dataset de pasajeros aéreos (AirPassengers) que es un ejemplo clásico de serie temporal. Usaremos la función `seasonal_decompose` de la librería `statsmodels` para descomponer la serie."
   ]
  },
  {
   "cell_type": "code",
   "execution_count": null,
   "id": "4acacfc6",
   "metadata": {},
   "outputs": [],
   "source": [
    "!pip install statsmodels"
   ]
  },
  {
   "cell_type": "code",
   "execution_count": null,
   "id": "d82b70cf",
   "metadata": {},
   "outputs": [],
   "source": [
    "import pandas as pd\n",
    "import matplotlib.pyplot as plt\n",
    "from statsmodels.tsa.seasonal import seasonal_decompose\n",
    "\n",
    "# Cargar el dataset AirPassengers\n",
    "url = 'https://raw.githubusercontent.com/jbrownlee/Datasets/master/airline-passengers.csv'\n",
    "df = pd.read_csv(url, parse_dates=['Month'], index_col='Month')\n",
    "df.head()"
   ]
  },
  {
   "cell_type": "markdown",
   "id": "4646e4b8",
   "metadata": {},
   "source": [
    "### Visualización de la Serie Temporal Original"
   ]
  },
  {
   "cell_type": "code",
   "execution_count": null,
   "id": "2dfb82a2",
   "metadata": {},
   "outputs": [],
   "source": [
    "plt.figure(figsize=(10, 4))\n",
    "plt.plot(df, label='Número de pasajeros')\n",
    "plt.title('Serie Temporal: Número de Pasajeros')\n",
    "plt.xlabel('Fecha')\n",
    "plt.ylabel('Pasajeros')\n",
    "plt.legend()\n",
    "plt.show()"
   ]
  },
  {
   "cell_type": "markdown",
   "id": "4c81c6a1",
   "metadata": {},
   "source": [
    "### Descomposición de la Serie Temporal\n",
    "\n",
    "Aplicamos la descomposición aditiva (útil cuando la variación de la serie es aproximadamente constante a lo largo del tiempo) para separar los componentes de la serie."
   ]
  },
  {
   "cell_type": "code",
   "execution_count": null,
   "id": "cc8d30b2",
   "metadata": {},
   "outputs": [],
   "source": [
    "result = seasonal_decompose(df, model='additive', period=12)  # period=12 para datos mensuales\n",
    "\n",
    "plt.rcParams.update({'figure.figsize': (10, 8)})\n",
    "result.plot()\n",
    "plt.show()"
   ]
  },
  {
   "cell_type": "markdown",
   "id": "e8a18bb8",
   "metadata": {},
   "source": [
    "## 4. Conclusiones\n",
    "\n",
    "En este Notebook hemos visto cómo descomponer una serie temporal en sus componentes esenciales:\n",
    "\n",
    "- **Tendencia:** Muestra el comportamiento a largo plazo.\n",
    "- **Estacionalidad:** Resalta los patrones periódicos.\n",
    "- **Residuo:** Captura la variabilidad aleatoria.\n",
    "\n",
    "Esta técnica es muy útil para la detección de anomalías, ya que permite identificar de forma más precisa aquellas variaciones inesperadas que pueden estar ocultas por la tendencia o la estacionalidad.\n"
   ]
  }
 ],
 "metadata": {
  "kernelspec": {
   "display_name": "ibbi",
   "language": "python",
   "name": "python3"
  },
  "language_info": {
   "codemirror_mode": {
    "name": "ipython",
    "version": 3
   },
   "file_extension": ".py",
   "mimetype": "text/x-python",
   "name": "python",
   "nbconvert_exporter": "python",
   "pygments_lexer": "ipython3",
   "version": "3.12.8"
  }
 },
 "nbformat": 4,
 "nbformat_minor": 5
}
