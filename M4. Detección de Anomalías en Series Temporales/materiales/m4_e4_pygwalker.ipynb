{
 "cells": [
  {
   "cell_type": "markdown",
   "metadata": {},
   "source": [
    "# E$. Análisis exploratorio con pygwalker\n",
    "\n",
    "En este notebook vamos a demostrar el uso de **pygwalker**, una herramienta interactiva que facilita el análisis exploratorio de datos directamente en Jupyter Notebook."
   ]
  },
  {
   "cell_type": "markdown",
   "metadata": {},
   "source": [
    "## Instalación de pygwalker\n",
    "\n",
    "Si aún no tienes instalado pygwalker, ejecuta el siguiente comando en tu terminal:"
   ]
  },
  {
   "cell_type": "code",
   "execution_count": null,
   "metadata": {},
   "outputs": [],
   "source": [
    "!pip install pygwalker"
   ]
  },
  {
   "cell_type": "code",
   "execution_count": null,
   "metadata": {},
   "outputs": [],
   "source": [
    "import pandas as pd\n",
    "import pygwalker as pyg\n",
    "\n",
    "# Cargamos un dataset de ejemplo (usamos el dataset \"iris\" de seaborn)\n",
    "url = \"https://raw.githubusercontent.com/mwaskom/seaborn-data/master/iris.csv\"\n",
    "df = pd.read_csv(url)\n",
    "\n",
    "\n",
    "# Mostramos las primeras filas del DataFrame\n",
    "df.head()"
   ]
  },
  {
   "cell_type": "code",
   "execution_count": null,
   "metadata": {},
   "outputs": [],
   "source": [
    "# Cargamos un conjunto más rico en datos\n",
    "df = pd.read_csv(\"https://kanaries-app.s3.ap-northeast-1.amazonaws.com/public-datasets/bike_sharing_dc.csv\", parse_dates=['date'])"
   ]
  },
  {
   "cell_type": "code",
   "execution_count": null,
   "metadata": {},
   "outputs": [],
   "source": [
    "df.info()"
   ]
  },
  {
   "cell_type": "code",
   "execution_count": null,
   "metadata": {},
   "outputs": [],
   "source": [
    "df.describe()"
   ]
  },
  {
   "cell_type": "markdown",
   "metadata": {},
   "source": [
    "## Uso de pygwalker\n",
    "\n",
    "La función principal de pygwalker es `pyg.walk()`, que permite explorar el DataFrame de forma interactiva. Con ella puedes visualizar la estructura de los datos, filtrarlos, agruparlos y generar gráficos sin necesidad de escribir código adicional."
   ]
  },
  {
   "cell_type": "code",
   "execution_count": null,
   "metadata": {},
   "outputs": [],
   "source": [
    "# Iniciamos la interfaz interactiva para explorar el dataset\n",
    "pyg.walk(df)\n",
    "\n",
    "# Una vez ejecutado, aparecerá una interfaz interactiva donde podrás realizar análisis exploratorio de manera dinámica."
   ]
  },
  {
   "cell_type": "markdown",
   "metadata": {},
   "source": [
    "## Explicación de las principales funciones de pygwalker\n",
    "\n",
    "1. **pyg.walk(df)**: Es la función principal. Recibe un DataFrame de pandas y lanza una interfaz interactiva para analizar y visualizar los datos.\n",
    "\n",
    "2. **Interfaz interactiva**: Una vez activada, permite:\n",
    "   - Explorar la estructura y las estadísticas básicas del DataFrame.\n",
    "   - Filtrar y agrupar los datos dinámicamente.\n",
    "   - Crear diversos tipos de gráficos para detectar patrones y relaciones entre variables.\n",
    "\n",
    "Esta herramienta es ideal para realizar un análisis exploratorio sin necesidad de generar múltiples líneas de código para cada visualización."
   ]
  },
  {
   "cell_type": "markdown",
   "metadata": {},
   "source": [
    "## Conclusión\n",
    "\n",
    "En este ejercicio práctico, hemos visto cómo utilizar **pygwalker** para explorar datos de forma interactiva. Esta herramienta facilita la identificación de patrones y la generación de gráficos en el análisis exploratorio, lo que resulta especialmente útil cuando se trabaja con grandes conjuntos de datos."
   ]
  },
  {
   "cell_type": "markdown",
   "metadata": {},
   "source": [
    "Tabla comparativa entre **Metabase** y **PyGWalker**:\n",
    "\n",
    "| **Aspecto**               | **Metabase**                                                                                                                                         | **PyGWalker**                                                                                                                                                                                                                      |\n",
    "|---------------------------|------------------------------------------------------------------------------------------------------------------------------------------------------|------------------------------------------------------------------------------------------------------------------------------------------------------------------------------------------------------------------------------------|\n",
    "| **Descripción**           | Plataforma de Business Intelligence (BI) para crear dashboards e informes visuales sin necesidad de programación.                                     | Extensión interactiva en Python que integra visualizaciones dinámicas (inspiradas en Power BI) directamente en Jupyter Notebooks.                                                                                                  |\n",
    "| **Interfaz de Usuario**   | Interfaz web amigable y orientada a usuarios no técnicos.                                                                                          | Integrado en notebooks, combinando código Python y visualización interactiva; requiere conocimientos básicos de Python.                                                                                                            |\n",
    "| **Casos de Uso**          | - Creación de dashboards empresariales.<br>- Reportes colaborativos y análisis a nivel organizacional.                                               | - Exploración de datos interactiva en entornos de desarrollo.<br>- Visualización rápida y dinámica durante el análisis en Python.                                                                                                  |\n",
    "| **Funcionalidades**       | - Query builder visual para construir consultas.<br>- Filtros interactivos y dashboards configurables.<br>- Programación de reportes y alertas.        | - Visualización interactiva de pandas DataFrames.<br>- Interfaz dinámica para explorar datos en tiempo real.<br>- Integración fluida con el ecosistema Python.                                                              |\n",
    "| **Nivel Técnico**         | No requiere conocimientos de programación, ideal para usuarios no técnicos.                                                                        | Requiere nociones básicas de Python y manejo de Jupyter Notebooks; enfocado a usuarios que trabajan en entornos de análisis de datos.                                                                                              |\n",
    "| **Integración**           | Se conecta a múltiples fuentes de datos (bases de datos SQL, etc.) y se despliega como herramienta independiente.                                  | Funciona dentro del ecosistema Python, integrándose directamente con bibliotecas como pandas, facilitando la transición entre código y visualización.                                                                             |\n",
    "| **Personalización**       | Opciones predefinidas con cierto grado de personalización a través de la interfaz; ideal para resultados rápidos sin mucho ajuste manual.            | Alta personalización, ya que el usuario puede modificar y ajustar el código para obtener visualizaciones a medida y explorar diferentes aspectos del dataset en un entorno interactivo.                                          |\n",
    "| **Comunidad y Soporte**   | Amplia comunidad y documentación, con un enfoque empresarial y uso extendido en entornos corporativos.                                               | Comunidad en crecimiento entre usuarios de Python y ciencia de datos, con recursos y ejemplos en GitHub y foros especializados en análisis de datos interactivo en notebooks.                                             |\n",
    "\n",
    "Esta tabla resalta las principales diferencias y ventajas de cada herramienta, permitiendo elegir la que mejor se adapte a las necesidades del proyecto o al perfil del usuario."
   ]
  },
  {
   "cell_type": "markdown",
   "metadata": {},
   "source": [
    "## Referencias\n",
    " - Documentación oficial PyGWalker [https://github.com/Kanaries/pygwalker]\n",
    " - PyGwalker + Streamlit [https://www.youtube.com/watch?v=rprn79wfB9E]\n",
    " - Como usar pygwalker en Kaggle [https://github.com/Kanaries/pygwalker/wiki/Best-Practices-for-Using-Pygwalker-in-Kaggle]"
   ]
  }
 ],
 "metadata": {
  "kernelspec": {
   "display_name": "ibbi",
   "language": "python",
   "name": "python3"
  },
  "language_info": {
   "codemirror_mode": {
    "name": "ipython",
    "version": 3
   },
   "file_extension": ".py",
   "mimetype": "text/x-python",
   "name": "python",
   "nbconvert_exporter": "python",
   "pygments_lexer": "ipython3",
   "version": "3.10.12"
  }
 },
 "nbformat": 4,
 "nbformat_minor": 2
}
