{
 "cells": [
  {
   "cell_type": "markdown",
   "metadata": {},
   "source": [
    "# E$. Análisis exploratorio con pygwalker\n",
    "\n",
    "En este notebook vamos a demostrar el uso de **pygwalker**, una herramienta interactiva que facilita el análisis exploratorio de datos directamente en Jupyter Notebook."
   ]
  },
  {
   "cell_type": "markdown",
   "metadata": {},
   "source": [
    "## Instalación de pygwalker\n",
    "\n",
    "Si aún no tienes instalado pygwalker, ejecuta el siguiente comando en tu terminal:"
   ]
  },
  {
   "cell_type": "code",
   "execution_count": 1,
   "metadata": {},
   "outputs": [
    {
     "name": "stdout",
     "output_type": "stream",
     "text": [
      "Requirement already satisfied: pygwalker in /Users/jballesteros/.virtualenvs/ibbi/lib/python3.12/site-packages (0.4.9.14)\n",
      "Requirement already satisfied: anywidget in /Users/jballesteros/.virtualenvs/ibbi/lib/python3.12/site-packages (from pygwalker) (0.9.15)\n",
      "Requirement already satisfied: appdirs in /Users/jballesteros/.virtualenvs/ibbi/lib/python3.12/site-packages (from pygwalker) (1.4.4)\n",
      "Requirement already satisfied: arrow in /Users/jballesteros/.virtualenvs/ibbi/lib/python3.12/site-packages (from pygwalker) (1.3.0)\n",
      "Requirement already satisfied: astor in /Users/jballesteros/.virtualenvs/ibbi/lib/python3.12/site-packages (from pygwalker) (0.8.1)\n",
      "Requirement already satisfied: cachetools in /Users/jballesteros/.virtualenvs/ibbi/lib/python3.12/site-packages (from pygwalker) (5.5.2)\n",
      "Requirement already satisfied: duckdb<2.0.0,>=0.10.1 in /Users/jballesteros/.virtualenvs/ibbi/lib/python3.12/site-packages (from pygwalker) (1.2.1)\n",
      "Requirement already satisfied: gw-dsl-parser==0.1.49.1 in /Users/jballesteros/.virtualenvs/ibbi/lib/python3.12/site-packages (from pygwalker) (0.1.49.1)\n",
      "Requirement already satisfied: ipylab<=1.0.0 in /Users/jballesteros/.virtualenvs/ibbi/lib/python3.12/site-packages (from pygwalker) (1.0.0)\n",
      "Requirement already satisfied: ipython in /Users/jballesteros/.virtualenvs/ibbi/lib/python3.12/site-packages (from pygwalker) (8.28.0)\n",
      "Requirement already satisfied: ipywidgets in /Users/jballesteros/.virtualenvs/ibbi/lib/python3.12/site-packages (from pygwalker) (8.1.5)\n",
      "Requirement already satisfied: jinja2 in /Users/jballesteros/.virtualenvs/ibbi/lib/python3.12/site-packages (from pygwalker) (3.1.4)\n",
      "Requirement already satisfied: kanaries-track==0.0.5 in /Users/jballesteros/.virtualenvs/ibbi/lib/python3.12/site-packages (from pygwalker) (0.0.5)\n",
      "Requirement already satisfied: numpy in /Users/jballesteros/.virtualenvs/ibbi/lib/python3.12/site-packages (from pygwalker) (1.26.4)\n",
      "Requirement already satisfied: packaging in /Users/jballesteros/.virtualenvs/ibbi/lib/python3.12/site-packages (from pygwalker) (24.1)\n",
      "Requirement already satisfied: pandas in /Users/jballesteros/.virtualenvs/ibbi/lib/python3.12/site-packages (from pygwalker) (2.2.3)\n",
      "Requirement already satisfied: psutil in /Users/jballesteros/.virtualenvs/ibbi/lib/python3.12/site-packages (from pygwalker) (6.1.0)\n",
      "Requirement already satisfied: pyarrow in /Users/jballesteros/.virtualenvs/ibbi/lib/python3.12/site-packages (from pygwalker) (19.0.1)\n",
      "Requirement already satisfied: pydantic in /Users/jballesteros/.virtualenvs/ibbi/lib/python3.12/site-packages (from pygwalker) (2.10.6)\n",
      "Requirement already satisfied: pytz in /Users/jballesteros/.virtualenvs/ibbi/lib/python3.12/site-packages (from pygwalker) (2024.2)\n",
      "Requirement already satisfied: quickjs in /Users/jballesteros/.virtualenvs/ibbi/lib/python3.12/site-packages (from pygwalker) (1.19.4)\n",
      "Requirement already satisfied: requests in /Users/jballesteros/.virtualenvs/ibbi/lib/python3.12/site-packages (from pygwalker) (2.32.3)\n",
      "Requirement already satisfied: segment-analytics-python==2.2.3 in /Users/jballesteros/.virtualenvs/ibbi/lib/python3.12/site-packages (from pygwalker) (2.2.3)\n",
      "Requirement already satisfied: sqlalchemy in /Users/jballesteros/.virtualenvs/ibbi/lib/python3.12/site-packages (from pygwalker) (2.0.39)\n",
      "Requirement already satisfied: sqlglot>=23.15.8 in /Users/jballesteros/.virtualenvs/ibbi/lib/python3.12/site-packages (from pygwalker) (26.9.0)\n",
      "Requirement already satisfied: traitlets in /Users/jballesteros/.virtualenvs/ibbi/lib/python3.12/site-packages (from pygwalker) (5.14.3)\n",
      "Requirement already satisfied: typing-extensions in /Users/jballesteros/.virtualenvs/ibbi/lib/python3.12/site-packages (from pygwalker) (4.12.2)\n",
      "Requirement already satisfied: wasmtime>=12.0.0 in /Users/jballesteros/.virtualenvs/ibbi/lib/python3.12/site-packages (from gw-dsl-parser==0.1.49.1->pygwalker) (30.0.0)\n",
      "Requirement already satisfied: backoff>=2.2.1 in /Users/jballesteros/.virtualenvs/ibbi/lib/python3.12/site-packages (from kanaries-track==0.0.5->pygwalker) (2.2.1)\n",
      "Requirement already satisfied: dateutils>=0.6.12 in /Users/jballesteros/.virtualenvs/ibbi/lib/python3.12/site-packages (from kanaries-track==0.0.5->pygwalker) (0.6.12)\n",
      "Requirement already satisfied: monotonic~=1.5 in /Users/jballesteros/.virtualenvs/ibbi/lib/python3.12/site-packages (from segment-analytics-python==2.2.3->pygwalker) (1.6)\n",
      "Requirement already satisfied: python-dateutil~=2.2 in /Users/jballesteros/.virtualenvs/ibbi/lib/python3.12/site-packages (from segment-analytics-python==2.2.3->pygwalker) (2.9.0.post0)\n",
      "Requirement already satisfied: comm>=0.1.3 in /Users/jballesteros/.virtualenvs/ibbi/lib/python3.12/site-packages (from ipywidgets->pygwalker) (0.2.2)\n",
      "Requirement already satisfied: widgetsnbextension~=4.0.12 in /Users/jballesteros/.virtualenvs/ibbi/lib/python3.12/site-packages (from ipywidgets->pygwalker) (4.0.13)\n",
      "Requirement already satisfied: jupyterlab-widgets~=3.0.12 in /Users/jballesteros/.virtualenvs/ibbi/lib/python3.12/site-packages (from ipywidgets->pygwalker) (3.0.13)\n",
      "Requirement already satisfied: decorator in /Users/jballesteros/.virtualenvs/ibbi/lib/python3.12/site-packages (from ipython->pygwalker) (5.1.1)\n",
      "Requirement already satisfied: jedi>=0.16 in /Users/jballesteros/.virtualenvs/ibbi/lib/python3.12/site-packages (from ipython->pygwalker) (0.19.1)\n",
      "Requirement already satisfied: matplotlib-inline in /Users/jballesteros/.virtualenvs/ibbi/lib/python3.12/site-packages (from ipython->pygwalker) (0.1.7)\n",
      "Requirement already satisfied: prompt-toolkit<3.1.0,>=3.0.41 in /Users/jballesteros/.virtualenvs/ibbi/lib/python3.12/site-packages (from ipython->pygwalker) (3.0.48)\n",
      "Requirement already satisfied: pygments>=2.4.0 in /Users/jballesteros/.virtualenvs/ibbi/lib/python3.12/site-packages (from ipython->pygwalker) (2.18.0)\n",
      "Requirement already satisfied: stack-data in /Users/jballesteros/.virtualenvs/ibbi/lib/python3.12/site-packages (from ipython->pygwalker) (0.6.3)\n",
      "Requirement already satisfied: pexpect>4.3 in /Users/jballesteros/.virtualenvs/ibbi/lib/python3.12/site-packages (from ipython->pygwalker) (4.9.0)\n",
      "Requirement already satisfied: charset-normalizer<4,>=2 in /Users/jballesteros/.virtualenvs/ibbi/lib/python3.12/site-packages (from requests->pygwalker) (3.4.0)\n",
      "Requirement already satisfied: idna<4,>=2.5 in /Users/jballesteros/.virtualenvs/ibbi/lib/python3.12/site-packages (from requests->pygwalker) (3.10)\n",
      "Requirement already satisfied: urllib3<3,>=1.21.1 in /Users/jballesteros/.virtualenvs/ibbi/lib/python3.12/site-packages (from requests->pygwalker) (2.2.3)\n",
      "Requirement already satisfied: certifi>=2017.4.17 in /Users/jballesteros/.virtualenvs/ibbi/lib/python3.12/site-packages (from requests->pygwalker) (2024.8.30)\n",
      "Requirement already satisfied: psygnal>=0.8.1 in /Users/jballesteros/.virtualenvs/ibbi/lib/python3.12/site-packages (from anywidget->pygwalker) (0.12.0)\n",
      "Requirement already satisfied: types-python-dateutil>=2.8.10 in /Users/jballesteros/.virtualenvs/ibbi/lib/python3.12/site-packages (from arrow->pygwalker) (2.9.0.20241206)\n",
      "Requirement already satisfied: MarkupSafe>=2.0 in /Users/jballesteros/.virtualenvs/ibbi/lib/python3.12/site-packages (from jinja2->pygwalker) (3.0.2)\n",
      "Requirement already satisfied: tzdata>=2022.7 in /Users/jballesteros/.virtualenvs/ibbi/lib/python3.12/site-packages (from pandas->pygwalker) (2024.2)\n",
      "Requirement already satisfied: annotated-types>=0.6.0 in /Users/jballesteros/.virtualenvs/ibbi/lib/python3.12/site-packages (from pydantic->pygwalker) (0.7.0)\n",
      "Requirement already satisfied: pydantic-core==2.27.2 in /Users/jballesteros/.virtualenvs/ibbi/lib/python3.12/site-packages (from pydantic->pygwalker) (2.27.2)\n",
      "Requirement already satisfied: greenlet!=0.4.17 in /Users/jballesteros/.virtualenvs/ibbi/lib/python3.12/site-packages (from sqlalchemy->pygwalker) (3.1.1)\n",
      "Requirement already satisfied: parso<0.9.0,>=0.8.3 in /Users/jballesteros/.virtualenvs/ibbi/lib/python3.12/site-packages (from jedi>=0.16->ipython->pygwalker) (0.8.4)\n",
      "Requirement already satisfied: ptyprocess>=0.5 in /Users/jballesteros/.virtualenvs/ibbi/lib/python3.12/site-packages (from pexpect>4.3->ipython->pygwalker) (0.7.0)\n",
      "Requirement already satisfied: wcwidth in /Users/jballesteros/.virtualenvs/ibbi/lib/python3.12/site-packages (from prompt-toolkit<3.1.0,>=3.0.41->ipython->pygwalker) (0.2.13)\n",
      "Requirement already satisfied: six>=1.5 in /Users/jballesteros/.virtualenvs/ibbi/lib/python3.12/site-packages (from python-dateutil~=2.2->segment-analytics-python==2.2.3->pygwalker) (1.16.0)\n",
      "Requirement already satisfied: importlib_resources>=5.10 in /Users/jballesteros/.virtualenvs/ibbi/lib/python3.12/site-packages (from wasmtime>=12.0.0->gw-dsl-parser==0.1.49.1->pygwalker) (6.5.2)\n",
      "Requirement already satisfied: executing>=1.2.0 in /Users/jballesteros/.virtualenvs/ibbi/lib/python3.12/site-packages (from stack-data->ipython->pygwalker) (2.1.0)\n",
      "Requirement already satisfied: asttokens>=2.1.0 in /Users/jballesteros/.virtualenvs/ibbi/lib/python3.12/site-packages (from stack-data->ipython->pygwalker) (2.4.1)\n",
      "Requirement already satisfied: pure-eval in /Users/jballesteros/.virtualenvs/ibbi/lib/python3.12/site-packages (from stack-data->ipython->pygwalker) (0.2.3)\n",
      "\n",
      "\u001b[1m[\u001b[0m\u001b[34;49mnotice\u001b[0m\u001b[1;39;49m]\u001b[0m\u001b[39;49m A new release of pip is available: \u001b[0m\u001b[31;49m24.1.1\u001b[0m\u001b[39;49m -> \u001b[0m\u001b[32;49m25.0.1\u001b[0m\n",
      "\u001b[1m[\u001b[0m\u001b[34;49mnotice\u001b[0m\u001b[1;39;49m]\u001b[0m\u001b[39;49m To update, run: \u001b[0m\u001b[32;49mpip install --upgrade pip\u001b[0m\n"
     ]
    }
   ],
   "source": [
    "!pip install pygwalker"
   ]
  },
  {
   "cell_type": "code",
   "execution_count": 2,
   "metadata": {},
   "outputs": [
    {
     "data": {
      "text/html": [
       "<div>\n",
       "<style scoped>\n",
       "    .dataframe tbody tr th:only-of-type {\n",
       "        vertical-align: middle;\n",
       "    }\n",
       "\n",
       "    .dataframe tbody tr th {\n",
       "        vertical-align: top;\n",
       "    }\n",
       "\n",
       "    .dataframe thead th {\n",
       "        text-align: right;\n",
       "    }\n",
       "</style>\n",
       "<table border=\"1\" class=\"dataframe\">\n",
       "  <thead>\n",
       "    <tr style=\"text-align: right;\">\n",
       "      <th></th>\n",
       "      <th>sepal_length</th>\n",
       "      <th>sepal_width</th>\n",
       "      <th>petal_length</th>\n",
       "      <th>petal_width</th>\n",
       "      <th>species</th>\n",
       "    </tr>\n",
       "  </thead>\n",
       "  <tbody>\n",
       "    <tr>\n",
       "      <th>0</th>\n",
       "      <td>5.1</td>\n",
       "      <td>3.5</td>\n",
       "      <td>1.4</td>\n",
       "      <td>0.2</td>\n",
       "      <td>setosa</td>\n",
       "    </tr>\n",
       "    <tr>\n",
       "      <th>1</th>\n",
       "      <td>4.9</td>\n",
       "      <td>3.0</td>\n",
       "      <td>1.4</td>\n",
       "      <td>0.2</td>\n",
       "      <td>setosa</td>\n",
       "    </tr>\n",
       "    <tr>\n",
       "      <th>2</th>\n",
       "      <td>4.7</td>\n",
       "      <td>3.2</td>\n",
       "      <td>1.3</td>\n",
       "      <td>0.2</td>\n",
       "      <td>setosa</td>\n",
       "    </tr>\n",
       "    <tr>\n",
       "      <th>3</th>\n",
       "      <td>4.6</td>\n",
       "      <td>3.1</td>\n",
       "      <td>1.5</td>\n",
       "      <td>0.2</td>\n",
       "      <td>setosa</td>\n",
       "    </tr>\n",
       "    <tr>\n",
       "      <th>4</th>\n",
       "      <td>5.0</td>\n",
       "      <td>3.6</td>\n",
       "      <td>1.4</td>\n",
       "      <td>0.2</td>\n",
       "      <td>setosa</td>\n",
       "    </tr>\n",
       "  </tbody>\n",
       "</table>\n",
       "</div>"
      ],
      "text/plain": [
       "   sepal_length  sepal_width  petal_length  petal_width species\n",
       "0           5.1          3.5           1.4          0.2  setosa\n",
       "1           4.9          3.0           1.4          0.2  setosa\n",
       "2           4.7          3.2           1.3          0.2  setosa\n",
       "3           4.6          3.1           1.5          0.2  setosa\n",
       "4           5.0          3.6           1.4          0.2  setosa"
      ]
     },
     "execution_count": 2,
     "metadata": {},
     "output_type": "execute_result"
    }
   ],
   "source": [
    "import pandas as pd\n",
    "import pygwalker as pyg\n",
    "\n",
    "# Cargamos un dataset de ejemplo (usamos el dataset \"iris\" de seaborn)\n",
    "url = \"https://raw.githubusercontent.com/mwaskom/seaborn-data/master/iris.csv\"\n",
    "df = pd.read_csv(url)\n",
    "\n",
    "# Mostramos las primeras filas del DataFrame\n",
    "df.head()"
   ]
  },
  {
   "cell_type": "code",
   "execution_count": 3,
   "metadata": {},
   "outputs": [
    {
     "data": {
      "text/html": [
       "<div>\n",
       "<style scoped>\n",
       "    .dataframe tbody tr th:only-of-type {\n",
       "        vertical-align: middle;\n",
       "    }\n",
       "\n",
       "    .dataframe tbody tr th {\n",
       "        vertical-align: top;\n",
       "    }\n",
       "\n",
       "    .dataframe thead th {\n",
       "        text-align: right;\n",
       "    }\n",
       "</style>\n",
       "<table border=\"1\" class=\"dataframe\">\n",
       "  <thead>\n",
       "    <tr style=\"text-align: right;\">\n",
       "      <th></th>\n",
       "      <th>sepal_length</th>\n",
       "      <th>sepal_width</th>\n",
       "      <th>petal_length</th>\n",
       "      <th>petal_width</th>\n",
       "    </tr>\n",
       "  </thead>\n",
       "  <tbody>\n",
       "    <tr>\n",
       "      <th>count</th>\n",
       "      <td>150.000000</td>\n",
       "      <td>150.000000</td>\n",
       "      <td>150.000000</td>\n",
       "      <td>150.000000</td>\n",
       "    </tr>\n",
       "    <tr>\n",
       "      <th>mean</th>\n",
       "      <td>5.843333</td>\n",
       "      <td>3.057333</td>\n",
       "      <td>3.758000</td>\n",
       "      <td>1.199333</td>\n",
       "    </tr>\n",
       "    <tr>\n",
       "      <th>std</th>\n",
       "      <td>0.828066</td>\n",
       "      <td>0.435866</td>\n",
       "      <td>1.765298</td>\n",
       "      <td>0.762238</td>\n",
       "    </tr>\n",
       "    <tr>\n",
       "      <th>min</th>\n",
       "      <td>4.300000</td>\n",
       "      <td>2.000000</td>\n",
       "      <td>1.000000</td>\n",
       "      <td>0.100000</td>\n",
       "    </tr>\n",
       "    <tr>\n",
       "      <th>25%</th>\n",
       "      <td>5.100000</td>\n",
       "      <td>2.800000</td>\n",
       "      <td>1.600000</td>\n",
       "      <td>0.300000</td>\n",
       "    </tr>\n",
       "    <tr>\n",
       "      <th>50%</th>\n",
       "      <td>5.800000</td>\n",
       "      <td>3.000000</td>\n",
       "      <td>4.350000</td>\n",
       "      <td>1.300000</td>\n",
       "    </tr>\n",
       "    <tr>\n",
       "      <th>75%</th>\n",
       "      <td>6.400000</td>\n",
       "      <td>3.300000</td>\n",
       "      <td>5.100000</td>\n",
       "      <td>1.800000</td>\n",
       "    </tr>\n",
       "    <tr>\n",
       "      <th>max</th>\n",
       "      <td>7.900000</td>\n",
       "      <td>4.400000</td>\n",
       "      <td>6.900000</td>\n",
       "      <td>2.500000</td>\n",
       "    </tr>\n",
       "  </tbody>\n",
       "</table>\n",
       "</div>"
      ],
      "text/plain": [
       "       sepal_length  sepal_width  petal_length  petal_width\n",
       "count    150.000000   150.000000    150.000000   150.000000\n",
       "mean       5.843333     3.057333      3.758000     1.199333\n",
       "std        0.828066     0.435866      1.765298     0.762238\n",
       "min        4.300000     2.000000      1.000000     0.100000\n",
       "25%        5.100000     2.800000      1.600000     0.300000\n",
       "50%        5.800000     3.000000      4.350000     1.300000\n",
       "75%        6.400000     3.300000      5.100000     1.800000\n",
       "max        7.900000     4.400000      6.900000     2.500000"
      ]
     },
     "execution_count": 3,
     "metadata": {},
     "output_type": "execute_result"
    }
   ],
   "source": [
    "df.describe()"
   ]
  },
  {
   "cell_type": "markdown",
   "metadata": {},
   "source": [
    "## Uso de pygwalker\n",
    "\n",
    "La función principal de pygwalker es `pyg.walk()`, que permite explorar el DataFrame de forma interactiva. Con ella puedes visualizar la estructura de los datos, filtrarlos, agruparlos y generar gráficos sin necesidad de escribir código adicional."
   ]
  },
  {
   "cell_type": "code",
   "execution_count": 4,
   "metadata": {},
   "outputs": [
    {
     "data": {
      "application/vnd.jupyter.widget-view+json": {
       "model_id": "05e0ce5286bc4f4288ce2084d2adf463",
       "version_major": 2,
       "version_minor": 0
      },
      "text/plain": [
       "Box(children=(HTML(value='\\n<div id=\"ifr-pyg-0006302dfe9a71c3fO7dWjx24ZU9CeLA\" style=\"height: auto\">\\n    <hea…"
      ]
     },
     "metadata": {},
     "output_type": "display_data"
    },
    {
     "data": {
      "text/html": [
       "<script>\n",
       "    window.addEventListener(\"message\", function(event) {\n",
       "        const backgroundMap = {\n",
       "            \"dark\": \"hsl(240 10% 3.9%)\",\n",
       "            \"light\": \"hsl(0 0 100%)\",\n",
       "        };\n",
       "        const colorMap = {\n",
       "            \"dark\": \"hsl(0 0% 98%)\",\n",
       "            \"light\": \"hsl(240 10% 3.9%)\",\n",
       "        };\n",
       "        if (event.data.action === \"changeAppearance\" && event.data.gid === \"0006302dfe9a71c3fO7dWjx24ZU9CeLA\") {\n",
       "            var iframe = document.getElementById(\"gwalker-0006302dfe9a71c3fO7dWjx24ZU9CeLA\");\n",
       "            iframe.style.background  = backgroundMap[event.data.appearance];\n",
       "            iframe.style.color = colorMap[event.data.appearance];\n",
       "        }\n",
       "    });\n",
       "</script>"
      ],
      "text/plain": [
       "<IPython.core.display.HTML object>"
      ]
     },
     "metadata": {},
     "output_type": "display_data"
    },
    {
     "data": {
      "text/html": [],
      "text/plain": [
       "<IPython.core.display.HTML object>"
      ]
     },
     "metadata": {},
     "output_type": "display_data"
    },
    {
     "data": {
      "text/plain": [
       "<pygwalker.api.pygwalker.PygWalker at 0x119b77ce0>"
      ]
     },
     "execution_count": 4,
     "metadata": {},
     "output_type": "execute_result"
    }
   ],
   "source": [
    "# Iniciamos la interfaz interactiva para explorar el dataset\n",
    "pyg.walk(df)\n",
    "\n",
    "# Una vez ejecutado, aparecerá una interfaz interactiva donde podrás realizar análisis exploratorio de manera dinámica."
   ]
  },
  {
   "cell_type": "markdown",
   "metadata": {},
   "source": [
    "## Explicación de las principales funciones de pygwalker\n",
    "\n",
    "1. **pyg.walk(df)**: Es la función principal. Recibe un DataFrame de pandas y lanza una interfaz interactiva para analizar y visualizar los datos.\n",
    "\n",
    "2. **Interfaz interactiva**: Una vez activada, permite:\n",
    "   - Explorar la estructura y las estadísticas básicas del DataFrame.\n",
    "   - Filtrar y agrupar los datos dinámicamente.\n",
    "   - Crear diversos tipos de gráficos para detectar patrones y relaciones entre variables.\n",
    "\n",
    "Esta herramienta es ideal para realizar un análisis exploratorio sin necesidad de generar múltiples líneas de código para cada visualización."
   ]
  },
  {
   "cell_type": "markdown",
   "metadata": {},
   "source": [
    "## Conclusión\n",
    "\n",
    "En este ejercicio práctico, hemos visto cómo utilizar **pygwalker** para explorar datos de forma interactiva. Esta herramienta facilita la identificación de patrones y la generación de gráficos en el análisis exploratorio, lo que resulta especialmente útil cuando se trabaja con grandes conjuntos de datos."
   ]
  },
  {
   "cell_type": "markdown",
   "metadata": {},
   "source": [
    "Tabla comparativa entre **Metabase** y **PyGWalker**:\n",
    "\n",
    "| **Aspecto**               | **Metabase**                                                                                                                                         | **PyGWalker**                                                                                                                                                                                                                      |\n",
    "|---------------------------|------------------------------------------------------------------------------------------------------------------------------------------------------|------------------------------------------------------------------------------------------------------------------------------------------------------------------------------------------------------------------------------------|\n",
    "| **Descripción**           | Plataforma de Business Intelligence (BI) para crear dashboards e informes visuales sin necesidad de programación.                                     | Extensión interactiva en Python que integra visualizaciones dinámicas (inspiradas en Power BI) directamente en Jupyter Notebooks.                                                                                                  |\n",
    "| **Interfaz de Usuario**   | Interfaz web amigable y orientada a usuarios no técnicos.                                                                                          | Integrado en notebooks, combinando código Python y visualización interactiva; requiere conocimientos básicos de Python.                                                                                                            |\n",
    "| **Casos de Uso**          | - Creación de dashboards empresariales.<br>- Reportes colaborativos y análisis a nivel organizacional.                                               | - Exploración de datos interactiva en entornos de desarrollo.<br>- Visualización rápida y dinámica durante el análisis en Python.                                                                                                  |\n",
    "| **Funcionalidades**       | - Query builder visual para construir consultas.<br>- Filtros interactivos y dashboards configurables.<br>- Programación de reportes y alertas.        | - Visualización interactiva de pandas DataFrames.<br>- Interfaz dinámica para explorar datos en tiempo real.<br>- Integración fluida con el ecosistema Python.                                                              |\n",
    "| **Nivel Técnico**         | No requiere conocimientos de programación, ideal para usuarios no técnicos.                                                                        | Requiere nociones básicas de Python y manejo de Jupyter Notebooks; enfocado a usuarios que trabajan en entornos de análisis de datos.                                                                                              |\n",
    "| **Integración**           | Se conecta a múltiples fuentes de datos (bases de datos SQL, etc.) y se despliega como herramienta independiente.                                  | Funciona dentro del ecosistema Python, integrándose directamente con bibliotecas como pandas, facilitando la transición entre código y visualización.                                                                             |\n",
    "| **Personalización**       | Opciones predefinidas con cierto grado de personalización a través de la interfaz; ideal para resultados rápidos sin mucho ajuste manual.            | Alta personalización, ya que el usuario puede modificar y ajustar el código para obtener visualizaciones a medida y explorar diferentes aspectos del dataset en un entorno interactivo.                                          |\n",
    "| **Comunidad y Soporte**   | Amplia comunidad y documentación, con un enfoque empresarial y uso extendido en entornos corporativos.                                               | Comunidad en crecimiento entre usuarios de Python y ciencia de datos, con recursos y ejemplos en GitHub y foros especializados en análisis de datos interactivo en notebooks.                                             |\n",
    "\n",
    "Esta tabla resalta las principales diferencias y ventajas de cada herramienta, permitiendo elegir la que mejor se adapte a las necesidades del proyecto o al perfil del usuario."
   ]
  }
 ],
 "metadata": {
  "kernelspec": {
   "display_name": "ibbi",
   "language": "python",
   "name": "python3"
  },
  "language_info": {
   "codemirror_mode": {
    "name": "ipython",
    "version": 3
   },
   "file_extension": ".py",
   "mimetype": "text/x-python",
   "name": "python",
   "nbconvert_exporter": "python",
   "pygments_lexer": "ipython3",
   "version": "3.12.8"
  }
 },
 "nbformat": 4,
 "nbformat_minor": 2
}
