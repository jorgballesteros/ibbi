{
 "cells": [
  {
   "cell_type": "markdown",
   "id": "d13d6c6a",
   "metadata": {},
   "source": [
    "# E6. Introducción a la Detección de Anomalías con IA\n",
    "\n",
    "En este Notebook se presentan técnicas basadas en inteligencia artificial para detectar anomalías en series temporales. En concreto, se muestra la aplicación del algoritmo **Isolation Forest** y se comentan brevemente otras alternativas como **One-Class SVM** y **Autoencoders**.\n",
    "\n",
    "El objetivo es comparar estas técnicas con los métodos estadísticos vistos anteriormente, demostrando su potencial para identificar valores atípicos de forma automática."
   ]
  },
  {
   "cell_type": "markdown",
   "id": "9f4e1d20",
   "metadata": {},
   "source": [
    "## 1. Importación de Librerías y Creación del Dataset\n",
    "\n",
    "Utilizaremos un dataset simulado similar al anterior, que representa el consumo energético mensual (en kWh) con algunos valores anómalos."
   ]
  },
  {
   "cell_type": "code",
   "execution_count": null,
   "id": "6e212f9e",
   "metadata": {},
   "outputs": [],
   "source": [
    "import pandas as pd\n",
    "import numpy as np\n",
    "import matplotlib.pyplot as plt\n",
    "import seaborn as sns\n",
    "from sklearn.ensemble import IsolationForest\n",
    "from sklearn.svm import OneClassSVM\n",
    "\n",
    "# Configuración de estilo para gráficos\n",
    "sns.set(style=\"darkgrid\")\n",
    "plt.rcParams['figure.figsize'] = (10, 5)\n",
    "\n",
    "# Generar dataset simulado\n",
    "np.random.seed(42)\n",
    "dates = pd.date_range(start='2020-01-01', periods=50, freq='ME')\n",
    "consumo = np.random.normal(loc=200, scale=20, size=len(dates))\n",
    "\n",
    "# Introducimos algunas anomalías\n",
    "consumo[5] = 300\n",
    "consumo[20] = 150\n",
    "consumo[35] = 280\n",
    "\n",
    "df = pd.DataFrame({'Fecha': dates, 'Consumo_kWh': consumo})\n",
    "df.set_index('Fecha', inplace=True)\n",
    "\n",
    "print('Vista previa del dataset:')\n",
    "display(df.head(10))\n",
    "\n",
    "# Visualización de la serie temporal\n",
    "plt.figure()\n",
    "plt.plot(df.index, df['Consumo_kWh'], marker='o', label='Consumo (kWh)')\n",
    "plt.title('Serie Temporal: Consumo Energético')\n",
    "plt.xlabel('Fecha')\n",
    "plt.ylabel('Consumo (kWh)')\n",
    "plt.legend()\n",
    "plt.show()"
   ]
  },
  {
   "cell_type": "markdown",
   "id": "6f8e28ce",
   "metadata": {},
   "source": [
    "## 2. Detección de Anomalías con Isolation Forest\n",
    "\n",
    "Isolation Forest es un algoritmo de detección de anomalías que funciona aislando observaciones. Es especialmente eficaz en datasets de alta dimensionalidad, pero también se aplica en series temporales de una sola variable.\n",
    "\n",
    "A continuación, se aplica este método para detectar anomalías en nuestro dataset."
   ]
  },
  {
   "cell_type": "code",
   "execution_count": 1,
   "id": "a4b4f5c1",
   "metadata": {},
   "outputs": [
    {
     "ename": "NameError",
     "evalue": "name 'IsolationForest' is not defined",
     "output_type": "error",
     "traceback": [
      "\u001b[31m---------------------------------------------------------------------------\u001b[39m",
      "\u001b[31mNameError\u001b[39m                                 Traceback (most recent call last)",
      "\u001b[36mCell\u001b[39m\u001b[36m \u001b[39m\u001b[32mIn[1]\u001b[39m\u001b[32m, line 2\u001b[39m\n\u001b[32m      1\u001b[39m \u001b[38;5;66;03m# Definir el modelo Isolation Forest\u001b[39;00m\n\u001b[32m----> \u001b[39m\u001b[32m2\u001b[39m modelo_if = \u001b[43mIsolationForest\u001b[49m(contamination=\u001b[32m0.1\u001b[39m, random_state=\u001b[32m42\u001b[39m)\n\u001b[32m      4\u001b[39m \u001b[38;5;66;03m# Ajustar el modelo a los datos (reshape necesario para datos unidimensionales)\u001b[39;00m\n\u001b[32m      5\u001b[39m df[\u001b[33m'\u001b[39m\u001b[33mAnomalia_IF\u001b[39m\u001b[33m'\u001b[39m] = modelo_if.fit_predict(df[[\u001b[33m'\u001b[39m\u001b[33mConsumo_kWh\u001b[39m\u001b[33m'\u001b[39m]])\n",
      "\u001b[31mNameError\u001b[39m: name 'IsolationForest' is not defined"
     ]
    }
   ],
   "source": [
    "# Definir el modelo Isolation Forest\n",
    "modelo_if = IsolationForest(contamination=0.1, random_state=42)\n",
    "\n",
    "# Ajustar el modelo a los datos (reshape necesario para datos unidimensionales)\n",
    "df['Anomalia_IF'] = modelo_if.fit_predict(df[['Consumo_kWh']])\n",
    "\n",
    "# Convertir la salida: 1 indica comportamiento normal, -1 anomalía\n",
    "df['Anomalia_IF'] = df['Anomalia_IF'].map({1: False, -1: True})\n",
    "\n",
    "print('Detección de anomalías usando Isolation Forest:')\n",
    "display(df[['Consumo_kWh', 'Anomalia_IF']])"
   ]
  },
  {
   "cell_type": "code",
   "execution_count": null,
   "id": "32e52b8b",
   "metadata": {},
   "outputs": [],
   "source": [
    "# Visualización de resultados\n",
    "plt.figure()\n",
    "plt.plot(df.index, df['Consumo_kWh'], label='Consumo (kWh)')\n",
    "plt.scatter(df.index[df['Anomalia_IF']], df['Consumo_kWh'][df['Anomalia_IF']], color='red', label='Anomalías')\n",
    "plt.title('Detección de Anomalías con Isolation Forest')\n",
    "plt.xlabel('Fecha')\n",
    "plt.ylabel('Consumo (kWh)')\n",
    "plt.legend()\n",
    "plt.show()"
   ]
  },
  {
   "cell_type": "markdown",
   "id": "bbfc8111",
   "metadata": {},
   "source": [
    "## 3. One-Class-SVM\n",
    "\n",
    "Además de Isolation Forest, existen otros métodos que se pueden emplear para detectar anomalías en series temporales:\n",
    "\n",
    "One-Class-SVM utiliza un enfoque de clasificación para identificar datos que se desvían de la norma. Es eficaz pero puede requerir ajuste cuidadoso de parámetros."
   ]
  },
  {
   "cell_type": "code",
   "execution_count": null,
   "id": "6fe46f69",
   "metadata": {},
   "outputs": [],
   "source": [
    "# Ejemplo rápido de One-Class SVM\n",
    "modelo_ocsvm = OneClassSVM(nu=0.1, kernel='rbf', gamma=0.1)\n",
    "df['Anomalia_OCSVM'] = modelo_ocsvm.fit_predict(df[['Consumo_kWh']])\n",
    "df['Anomalia_OCSVM'] = df['Anomalia_OCSVM'].map({1: False, -1: True})\n",
    "display(df[['Consumo_kWh', 'Anomalia_OCSVM']])"
   ]
  },
  {
   "cell_type": "code",
   "execution_count": null,
   "id": "6124c2b9",
   "metadata": {},
   "outputs": [],
   "source": [
    "# Visualización de resultados\n",
    "plt.figure()\n",
    "plt.plot(df.index, df['Consumo_kWh'], label='Consumo (kWh)')\n",
    "plt.scatter(df.index[df['Anomalia_IF']], df['Consumo_kWh'][df['Anomalia_IF']], color='red', label='Anomalías Isolation Forest')\n",
    "plt.scatter(df.index[df['Anomalia_OCSVM']], df['Consumo_kWh'][df['Anomalia_OCSVM']], color='orange', label='Anomalías OCSVM')\n",
    "plt.title('Detección de Anomalías con Isolation Forest')\n",
    "plt.xlabel('Fecha')\n",
    "plt.ylabel('Consumo (kWh)')\n",
    "plt.legend()\n",
    "plt.show()"
   ]
  },
  {
   "cell_type": "markdown",
   "id": "d35e273a",
   "metadata": {},
   "source": [
    "## 4. Autoencoders\n",
    "Redes neuronales que aprenden a reconstruir los datos. Las diferencias entre la entrada y la salida pueden utilizarse para identificar anomalías. Este método es especialmente útil para series temporales multivariadas y complejas.\n",
    "\n",
    "*Nota:* La implementación de autoencoders es más avanzada y requiere conocimientos en deep learning (usando Keras o TensorFlow)"
   ]
  },
  {
   "cell_type": "code",
   "execution_count": null,
   "id": "8c5f1aed",
   "metadata": {},
   "outputs": [],
   "source": [
    "import pandas as pd\n",
    "import numpy as np\n",
    "import matplotlib.pyplot as plt\n",
    "import tensorflow as tf\n",
    "from tensorflow.keras.models import Model\n",
    "from tensorflow.keras.layers import Input, Dense\n",
    "from tensorflow.keras import regularizers\n",
    "from sklearn.preprocessing import MinMaxScaler\n",
    "\n",
    "import sys\n",
    "sys.setrecursionlimit(20000)\n",
    "\n",
    "# Normalización de los datos\n",
    "scaler = MinMaxScaler()\n",
    "data_scaled = scaler.fit_transform(df[['Consumo_kWh']])\n",
    "\n",
    "# Construir un autoencoder simple\n",
    "input_dim = data_scaled.shape[1]\n",
    "encoding_dim = 1  # Tamaño de la capa oculta\n",
    "\n",
    "input_layer = Input(shape=(input_dim,))\n",
    "# Capa de codificación con regularización L1 para promover sparsity\n",
    "encoder = Dense(encoding_dim, activation=\"relu\", \n",
    "                activity_regularizer=regularizers.l1(1e-5))(input_layer)\n",
    "# Capa de decodificación para reconstruir la entrada\n",
    "decoder = Dense(input_dim, activation=\"linear\")(encoder)\n",
    "autoencoder = Model(inputs=input_layer, outputs=decoder)\n",
    "\n",
    "autoencoder.compile(optimizer='adam', loss='mse')\n",
    "autoencoder.summary()"
   ]
  },
  {
   "cell_type": "code",
   "execution_count": null,
   "id": "87788a3d",
   "metadata": {},
   "outputs": [],
   "source": [
    "# Entrenar el autoencoder\n",
    "history = autoencoder.fit(data_scaled, data_scaled,\n",
    "                          epochs=50,\n",
    "                          batch_size=4,\n",
    "                          shuffle=True,\n",
    "                          verbose=0)"
   ]
  },
  {
   "cell_type": "code",
   "execution_count": null,
   "id": "6f53334c",
   "metadata": {},
   "outputs": [],
   "source": [
    "# Guardar el modelo entrenado\n",
    "autoencoder.save('data/autoencoder_model.h5')"
   ]
  },
  {
   "cell_type": "code",
   "execution_count": null,
   "id": "debe3f46",
   "metadata": {},
   "outputs": [],
   "source": [
    "from tensorflow.keras.models import load_model\n",
    "from tensorflow.keras.losses import MeanSquaredError\n",
    "\n",
    "modelo_cargado = load_model('data/autoencoder_model.h5', custom_objects={'mse': MeanSquaredError()})"
   ]
  },
  {
   "cell_type": "code",
   "execution_count": null,
   "id": "9be18e40",
   "metadata": {},
   "outputs": [],
   "source": [
    "# Obtener las reconstrucciones y calcular el error cuadrático medio (MSE)\n",
    "reconstructions = autoencoder.predict(data_scaled)\n",
    "mse = np.mean(np.power(data_scaled - reconstructions, 2), axis=1)\n",
    "\n",
    "# Definir un umbral para detectar anomalías (por ejemplo, media + 2*desviación estándar)\n",
    "threshold = np.mean(mse) + 2 * np.std(mse)"
   ]
  },
  {
   "cell_type": "code",
   "execution_count": null,
   "id": "911e6266",
   "metadata": {},
   "outputs": [],
   "source": [
    "# Marcar las anomalías basadas en el error de reconstrucción\n",
    "df['Anomalia_AE'] = mse > threshold\n",
    "\n",
    "print(\"Error de reconstrucción (MSE):\")\n",
    "print(mse)\n",
    "print(\"Umbral de detección:\", threshold)\n",
    "display(df[['Consumo_kWh', 'Anomalia_AE']])"
   ]
  },
  {
   "cell_type": "code",
   "execution_count": null,
   "id": "19f287fd",
   "metadata": {},
   "outputs": [],
   "source": [
    "# Visualización de los resultados\n",
    "plt.figure()\n",
    "plt.plot(df.index, df['Consumo_kWh'], marker='x', label='Consumo (kWh)')\n",
    "plt.scatter(df.index[df['Anomalia_AE']], df['Consumo_kWh'][df['Anomalia_AE']], \n",
    "            color='red', label='Anomalías detectadas (AE)')\n",
    "plt.title('Detección de Anomalías con Autoencoder')\n",
    "plt.xlabel('Fecha')\n",
    "plt.ylabel('Consumo (kWh)')\n",
    "plt.legend()\n",
    "plt.show()"
   ]
  },
  {
   "cell_type": "markdown",
   "id": "6a0e3b05",
   "metadata": {},
   "source": [
    "## 5. Conclusiones\n",
    "\n",
    "En este Notebook se ha demostrado la aplicación de modelos de IA para la detección de anomalías en series temporales. En concreto:\n",
    "\n",
    "- Se ha utilizado **Isolation Forest** para identificar automáticamente anomalías en un dataset simulado.\n",
    "- Se han mencionado otras técnicas como **One-Class SVM** y **Autoencoders**, que pueden adaptarse a diferentes necesidades y complejidades de datos.\n",
    "\n",
    "Estos métodos permiten detectar anomalías de forma automatizada, facilitando el análisis en entornos donde los métodos estadísticos tradicionales pueden ser insuficientes.\n",
    "\n",
    "Tabla comparativa que resume las principales características de los tres métodos de detección de anomalías presentados:\n",
    "\n",
    "| **Método**             | **Enfoque**                                          | **Ventajas**                                                                                           | **Desventajas**                                                                                       | **Notas/Requerimientos**                                                      |\n",
    "|------------------------|------------------------------------------------------|--------------------------------------------------------------------------------------------------------|-------------------------------------------------------------------------------------------------------|-------------------------------------------------------------------------------|\n",
    "| **Isolation Forest**   | Basado en árboles de decisión que aíslan observaciones | - Rápido y escalable<br>- Fácil de implementar<br>- Robusto ante outliers                               | - Sensible a la elección del parámetro de contaminación<br>- Menor interpretabilidad en el modelo      | Funciona bien en datos unidimensionales y multivariados.                      |\n",
    "| **One-Class SVM**      | Clasificador de una clase usando SVM                 | - Eficaz para detectar distribuciones no lineales<br>- Buen rendimiento en datasets pequeños             | - Requiere ajuste cuidadoso de parámetros (kernel, gamma, nu)<br>- Más costoso computacionalmente     | Se recomienda escalar los datos y probar distintos kernels según el caso.     |\n",
    "| **Autoencoder**        | Red neuronal no supervisada que aprende a reconstruir la entrada | - Muy flexible, puede capturar patrones complejos<br>- Adecuado para datos multivariados                 | - Requiere mayor cantidad de datos y tiempo de entrenamiento<br>- Más complejidad en la implementación   | Necesita definir un umbral de error de reconstrucción y conocimientos en deep learning. |\n"
   ]
  }
 ],
 "metadata": {
  "kernelspec": {
   "display_name": "ibbi",
   "language": "python",
   "name": "python3"
  },
  "language_info": {
   "codemirror_mode": {
    "name": "ipython",
    "version": 3
   },
   "file_extension": ".py",
   "mimetype": "text/x-python",
   "name": "python",
   "nbconvert_exporter": "python",
   "pygments_lexer": "ipython3",
   "version": "3.12.9"
  }
 },
 "nbformat": 4,
 "nbformat_minor": 5
}
