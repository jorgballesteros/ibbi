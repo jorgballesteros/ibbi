{
 "cells": [
  {
   "cell_type": "markdown",
   "id": "53b2f769",
   "metadata": {
    "lines_to_next_cell": 0
   },
   "source": [
    "# **E7: Detección de Anomalías con Isolation Forest**  \n",
    "\n",
    "## **Objetivo**  \n",
    "Implementar **Isolation Forest** para detectar anomalías en datos de consumo energético y meteorología.  \n",
    "\n",
    "## **Datos de entrada**  \n",
    "Un dataset con las siguientes columnas:  \n",
    "- **Consumo Energía (kWh)**  \n",
    "- **Generación FV (kWh)**  \n",
    "- **Temperatura (°C)**  \n",
    "- **Radiación Solar (W/m²)**  \n",
    "\n",
    "---\n",
    "\n",
    "# **Pasos a seguir**  \n",
    "\n",
    "## 1️⃣ Cargar y visualizar los datos  "
   ]
  },
  {
   "cell_type": "code",
   "execution_count": null,
   "id": "371d3aad",
   "metadata": {},
   "outputs": [],
   "source": [
    "import pandas as pd  \n",
    "import numpy as np  \n",
    "import matplotlib.pyplot as plt  \n",
    "\n",
    "# Cargar dataset\n",
    "df = pd.read_csv(\"data/m4_datos_energia_canarias.csv\", usecols=range(1, 6) )\n",
    "\n",
    "df['Fecha'] = pd.to_datetime(df['Fecha'])\n",
    "df = df.set_index('Fecha')\n",
    "# Ver las primeras filas\n",
    "print(df.head())\n",
    "\n"
   ]
  },
  {
   "cell_type": "code",
   "execution_count": null,
   "id": "dbb0f02b",
   "metadata": {},
   "outputs": [],
   "source": [
    "df.describe()"
   ]
  },
  {
   "cell_type": "code",
   "execution_count": null,
   "id": "7ec9c1e5",
   "metadata": {},
   "outputs": [],
   "source": [
    "# Visualizar las variables clave\n",
    "df.plot(subplots=True, figsize=(10, 8))\n",
    "plt.show()"
   ]
  },
  {
   "cell_type": "markdown",
   "id": "4cf95217",
   "metadata": {
    "lines_to_next_cell": 0
   },
   "source": [
    "---\n",
    "\n",
    "## 2️⃣ Preprocesamiento  \n",
    "- **Rellenar valores nulos**  \n",
    "- **Normalizar datos** para mejorar la detección  "
   ]
  },
  {
   "cell_type": "code",
   "execution_count": null,
   "id": "180225b3",
   "metadata": {},
   "outputs": [],
   "source": [
    "# Rellenar valores nulos\n",
    "df.interpolate(inplace=True)\n",
    "\n",
    "# Normalización Min-Max\n",
    "df_normalized = (df - df.min()) / (df.max() - df.min())"
   ]
  },
  {
   "cell_type": "code",
   "execution_count": null,
   "id": "67c85829",
   "metadata": {},
   "outputs": [],
   "source": [
    "# Visualizar las variables clave\n",
    "df_normalized.plot(subplots=True, figsize=(10, 8))\n",
    "plt.show()"
   ]
  },
  {
   "cell_type": "markdown",
   "id": "05e6b48d",
   "metadata": {
    "lines_to_next_cell": 0
   },
   "source": [
    "---\n",
    "\n",
    "## 3️⃣ Entrenar Isolation Forest  "
   ]
  },
  {
   "cell_type": "code",
   "execution_count": null,
   "id": "24f5d385",
   "metadata": {},
   "outputs": [],
   "source": [
    "from sklearn.ensemble import IsolationForest  \n",
    "\n",
    "# Inicializar modelo  \n",
    "model = IsolationForest(contamination=0.10, random_state=42)  \n",
    "\n",
    "# Entrenar y predecir anomalías  \n",
    "df[\"Anomaly\"] = model.fit_predict(df_normalized)  \n",
    "\n",
    "# Mostrar conteo de anomalías detectadas\n",
    "print(df[\"Anomaly\"].value_counts())"
   ]
  },
  {
   "cell_type": "code",
   "execution_count": null,
   "id": "51789cb1",
   "metadata": {},
   "outputs": [],
   "source": [
    "# Contar el número total de anomalías detectadas\n",
    "num_anomalies = (df[\"Anomaly\"] == -1).sum()\n",
    "print(f\"Número total de anomalías detectadas: {num_anomalies}\")\n"
   ]
  },
  {
   "cell_type": "markdown",
   "id": "e54ed6c8",
   "metadata": {
    "lines_to_next_cell": 0
   },
   "source": [
    "---\n",
    "\n",
    "## 4️⃣ Visualizar anomalías  "
   ]
  },
  {
   "cell_type": "code",
   "execution_count": null,
   "id": "6488e0d2",
   "metadata": {},
   "outputs": [],
   "source": [
    "# 5️⃣ Gráfico de línea con anomalías\n",
    "plt.figure(figsize=(12, 6))\n",
    "plt.plot(df.index, df[\"Consumo Energía (kWh)\"], label=\"Serie Original\", color=\"blue\")\n",
    "plt.scatter(df.index[df[\"Anomaly\"] == -1], df[\"Consumo Energía (kWh)\"][df[\"Anomaly\"] == -1],\n",
    "            color='red', label='Anomalías', marker='o')\n",
    "plt.xlabel(\"Tiempo\")\n",
    "plt.ylabel(\"Consumo Energía (kWh)\")\n",
    "plt.title(\"Serie Temporal con Anomalías Detectadas\")\n",
    "plt.legend()\n",
    "plt.show()"
   ]
  },
  {
   "cell_type": "code",
   "execution_count": null,
   "id": "98aa005b",
   "metadata": {},
   "outputs": [],
   "source": [
    "# Aumentamos el zoom en el primer trimestre\n",
    "plot_df = df[df.index.month < 4]\n",
    "# 5️⃣ Gráfico de línea con anomalías\n",
    "plt.figure(figsize=(12, 6))\n",
    "plt.plot(plot_df.index, plot_df[\"Consumo Energía (kWh)\"], label=\"Serie Original\", color=\"blue\")\n",
    "plt.xlabel(\"Tiempo\")\n",
    "plt.ylabel(\"Consumo Energía (kWh)\")\n",
    "plt.title(\"Serie Temporal sin Anomalías Detectadas\")\n",
    "plt.legend()\n",
    "plt.show()"
   ]
  },
  {
   "cell_type": "code",
   "execution_count": null,
   "id": "9e71448b",
   "metadata": {},
   "outputs": [],
   "source": [
    "# 5️⃣ Gráfico de línea con anomalías\n",
    "plt.figure(figsize=(12, 6))\n",
    "plt.plot(plot_df.index, plot_df[\"Consumo Energía (kWh)\"], label=\"Serie Original\", color=\"blue\", marker=\"x\")\n",
    "plt.scatter(plot_df.index[plot_df[\"Anomaly\"] == -1], plot_df[\"Consumo Energía (kWh)\"][plot_df[\"Anomaly\"] == -1],\n",
    "            color='red', label='Anomalías', marker='o')\n",
    "plt.xlabel(\"Tiempo\")\n",
    "plt.ylabel(\"Consumo Energía (kWh)\")\n",
    "plt.title(\"Serie Temporal con Anomalías Detectadas\")\n",
    "plt.legend()\n",
    "plt.show()"
   ]
  },
  {
   "cell_type": "markdown",
   "id": "36335717",
   "metadata": {},
   "source": [
    "---\n",
    "\n",
    "# **Conclusión**  \n",
    "- Los puntos rojos en la gráfica representan anomalías detectadas.  \n",
    "- Probar a ajustar el hiperparámetro `contamination` para ver cómo varía la detección.\n",
    "- Probar a visualizar otros rangos para completar el análisis del detector"
   ]
  }
 ],
 "metadata": {
  "jupytext": {
   "cell_metadata_filter": "-all",
   "main_language": "python",
   "notebook_metadata_filter": "-all"
  },
  "kernelspec": {
   "display_name": "ibbi",
   "language": "python",
   "name": "python3"
  },
  "language_info": {
   "codemirror_mode": {
    "name": "ipython",
    "version": 3
   },
   "file_extension": ".py",
   "mimetype": "text/x-python",
   "name": "python",
   "nbconvert_exporter": "python",
   "pygments_lexer": "ipython3",
   "version": "3.12.8"
  }
 },
 "nbformat": 4,
 "nbformat_minor": 5
}
