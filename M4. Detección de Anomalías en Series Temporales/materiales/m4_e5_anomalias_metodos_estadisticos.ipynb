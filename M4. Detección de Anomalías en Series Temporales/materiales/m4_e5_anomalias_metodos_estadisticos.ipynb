{
 "cells": [
  {
   "cell_type": "markdown",
   "id": "90f2a2bb",
   "metadata": {},
   "source": [
    "# E5. Detección de Anomalías en Series Temporales utilizando Métodos Estadísticos\n",
    "\n",
    "En este Notebook se muestra cómo aplicar técnicas estadísticas básicas, como las medias móviles, z-scores y percentiles, para detectar anomalías en una serie temporal. Se utilizará un dataset simulado para ejemplificar cada uno de los métodos."
   ]
  },
  {
   "cell_type": "markdown",
   "id": "25d937ac",
   "metadata": {},
   "source": [
    "## 1. Importación de Librerías y Creación del Dataset\n",
    "\n",
    "En esta sección, importamos las librerías necesarias y generamos un dataset simulado que representa, por ejemplo, el consumo energético mensual (en kWh) con algunos valores atípicos."
   ]
  },
  {
   "cell_type": "code",
   "execution_count": null,
   "id": "c3d72b55",
   "metadata": {},
   "outputs": [],
   "source": [
    "import pandas as pd\n",
    "import numpy as np\n",
    "import matplotlib.pyplot as plt\n",
    "\n",
    "# Configuración de estilo para gráficos\n",
    "# plt.style.use('seaborn')\n",
    "\n",
    "# Generar dataset simulado\n",
    "np.random.seed(42)\n",
    "dates = pd.date_range(start='2020-01-01', periods=40, freq='ME')\n",
    "consumo = np.random.normal(loc=200, scale=20, size=len(dates))\n",
    "\n",
    "# Introducimos algunas anomalías\n",
    "consumo[5] = 300\n",
    "consumo[20] = 150\n",
    "consumo[35] = 280\n",
    "\n",
    "df = pd.DataFrame({'Fecha': dates, 'Consumo_kWh': consumo})\n",
    "df.set_index('Fecha', inplace=True)\n",
    "\n",
    "print('Vista previa del dataset:')\n",
    "display(df.head(10))\n"
   ]
  },
  {
   "cell_type": "code",
   "execution_count": null,
   "id": "79e29b6d",
   "metadata": {},
   "outputs": [],
   "source": [
    "# Visualización de la serie temporal\n",
    "plt.figure(figsize=(10, 4))\n",
    "plt.plot(df.index, df['Consumo_kWh'], marker='o', label='Consumo (kWh)')\n",
    "plt.title('Serie Temporal: Consumo Energético')\n",
    "plt.xlabel('Fecha')\n",
    "plt.ylabel('Consumo (kWh)')\n",
    "plt.legend()\n",
    "plt.show()"
   ]
  },
  {
   "cell_type": "markdown",
   "id": "a0d723ef",
   "metadata": {},
   "source": [
    "## 2. Detección de Anomalías con Medias Móviles\n",
    "\n",
    "El método de la media móvil suaviza la serie y permite identificar desviaciones significativas respecto a la tendencia local."
   ]
  },
  {
   "cell_type": "code",
   "execution_count": null,
   "id": "c2f7282b",
   "metadata": {},
   "outputs": [],
   "source": [
    "# Calcular la media móvil (ventana de 3 periodos)\n",
    "df['Media_Movil'] = df['Consumo_kWh'].rolling(window=3).mean()\n",
    "\n",
    "# Visualización comparativa\n",
    "plt.figure(figsize=(10, 4))\n",
    "plt.plot(df.index, df['Consumo_kWh'], marker='o', label='Consumo (kWh)')\n",
    "plt.plot(df.index, df['Media_Movil'], marker='o', label='Media Móvil (3 periodos)', color='red')\n",
    "plt.title('Detección de Anomalías: Media Móvil')\n",
    "plt.xlabel('Fecha')\n",
    "plt.ylabel('Consumo (kWh)')\n",
    "plt.legend()\n",
    "plt.show()"
   ]
  },
  {
   "cell_type": "markdown",
   "id": "f28f9d12",
   "metadata": {},
   "source": [
    "## 3. Detección de Anomalías con Z-Scores\n",
    "\n",
    "Los z-scores miden cuántas desviaciones estándar se aleja un dato de la media. Valores absolutos altos indican anomalías."
   ]
  },
  {
   "cell_type": "code",
   "execution_count": null,
   "id": "85375a40",
   "metadata": {},
   "outputs": [],
   "source": [
    "# Calcular la media y la desviación estándar\n",
    "mean_val = df['Consumo_kWh'].mean()\n",
    "std_val = df['Consumo_kWh'].std()\n",
    "\n",
    "# Calcular z-score para cada valor\n",
    "df['Z_Score'] = (df['Consumo_kWh'] - mean_val) / std_val\n",
    "\n",
    "# Definir umbral para considerar una anomalía (por ejemplo, |z| > 2)\n",
    "umbral = 2\n",
    "df['Anomalia_Z'] = df['Z_Score'].abs() > umbral\n",
    "\n",
    "# Visualización de los z-scores\n",
    "plt.figure(figsize=(10, 4))\n",
    "plt.plot(df.index, df['Z_Score'], marker='o', label='Z-Score')\n",
    "plt.axhline(umbral, color='red', linestyle='--', label='Umbral +2')\n",
    "plt.axhline(-umbral, color='red', linestyle='--', label='Umbral -2')\n",
    "plt.title('Detección de Anomalías: Z-Scores')\n",
    "plt.xlabel('Fecha')\n",
    "plt.ylabel('Z-Score')\n",
    "plt.legend()\n",
    "plt.show()"
   ]
  },
  {
   "cell_type": "code",
   "execution_count": null,
   "id": "0ef94c55",
   "metadata": {},
   "outputs": [],
   "source": [
    "print('Datos con z-scores:')\n",
    "display(df[['Consumo_kWh', 'Z_Score', 'Anomalia_Z']])"
   ]
  },
  {
   "cell_type": "markdown",
   "id": "7334cdda",
   "metadata": {},
   "source": [
    "## 4. Detección de Anomalías con Percentiles\n",
    "\n",
    "El uso de percentiles permite identificar valores extremos comparándolos con el resto de la distribución. Aquí se utiliza el percentil 5 y 95 para definir los límites inferiores y superiores."
   ]
  },
  {
   "cell_type": "code",
   "execution_count": null,
   "id": "49f3a2f4",
   "metadata": {},
   "outputs": [],
   "source": [
    "# Calcular los percentiles 5 y 95\n",
    "p5 = np.percentile(df['Consumo_kWh'], 5)\n",
    "p95 = np.percentile(df['Consumo_kWh'], 95)\n",
    "\n",
    "print(f'Percentil 5: {p5:.2f} kWh, Percentil 95: {p95:.2f} kWh')\n",
    "\n",
    "# Marcar los valores que se encuentren fuera de estos rangos\n",
    "df['Anomalia_Percentil'] = (df['Consumo_kWh'] < p5) | (df['Consumo_kWh'] > p95)\n",
    "\n",
    "# Visualización de los percentiles y las anomalías\n",
    "plt.figure(figsize=(10, 4))\n",
    "plt.plot(df.index, df['Consumo_kWh'], marker='o', label='Consumo (kWh)')\n",
    "plt.axhline(p5, color='red', linestyle='--', label='Percentil 5')\n",
    "plt.axhline(p95, color='green', linestyle='--', label='Percentil 95')\n",
    "plt.title('Detección de Anomalías: Percentiles')\n",
    "plt.xlabel('Fecha')\n",
    "plt.ylabel('Consumo (kWh)')\n",
    "plt.legend()\n",
    "plt.show()"
   ]
  },
  {
   "cell_type": "code",
   "execution_count": null,
   "id": "c95bc420",
   "metadata": {},
   "outputs": [],
   "source": [
    "display(df[['Consumo_kWh', 'Anomalia_Percentil']])"
   ]
  },
  {
   "cell_type": "markdown",
   "id": "4c51c250",
   "metadata": {},
   "source": [
    "## 5. Detección de Anomalías con IQR\n",
    "\n",
    "1. Calcular el primer cuartil (Q1) y el tercer cuartil (Q3) de la serie.\n",
    "2. Determina el rango intercuartílico:\n",
    "$$\n",
    "\\text{IQR} = Q3 - Q1\n",
    "$$\n",
    "3. Define los límites inferior y superior:  \n",
    "   - Límite inferior: \n",
    "   $$\n",
    "   Q1 - 1.5 \\times \\text{IQR}\n",
    "   $$\n",
    "   - Límite superior:\n",
    "   $$\n",
    "   Q3 + 1.5 \\times \\text{IQR}\n",
    "   $$\n",
    "4. Identificar como anomalías los datos que caen fuera de estos límites."
   ]
  },
  {
   "cell_type": "code",
   "execution_count": null,
   "id": "aa14bc47",
   "metadata": {},
   "outputs": [],
   "source": [
    "# Calcular Q1, Q3 e IQR\n",
    "Q1 = df['Consumo_kWh'].quantile(0.25)\n",
    "Q3 = df['Consumo_kWh'].quantile(0.75)\n",
    "IQR = Q3 - Q1\n",
    "\n",
    "# Definir límites para detectar outliers\n",
    "limite_inferior = Q1 - 1.5 * IQR\n",
    "limite_superior = Q3 + 1.5 * IQR\n",
    "\n",
    "# Marcar las anomalías basadas en IQR\n",
    "df['Anomalia_IQR'] = (df['Consumo_kWh'] < limite_inferior) | (df['Consumo_kWh'] > limite_superior)\n",
    "\n",
    "# Visualización de la detección de anomalías con IQR\n",
    "plt.figure(figsize=(10, 4))\n",
    "plt.plot(df.index, df['Consumo_kWh'], marker='o', label='Consumo (kWh)')\n",
    "plt.axhline(limite_inferior, color='red', linestyle='--', label='Límite Inferior')\n",
    "plt.axhline(limite_superior, color='green', linestyle='--', label='Límite Superior')\n",
    "plt.title('Detección de Anomalías: Método IQR')\n",
    "plt.xlabel('Fecha')\n",
    "plt.ylabel('Consumo (kWh)')\n",
    "plt.legend()\n",
    "plt.show()\n"
   ]
  },
  {
   "cell_type": "code",
   "execution_count": null,
   "id": "5b508558",
   "metadata": {},
   "outputs": [],
   "source": [
    "print(\"Límite inferior:\", limite_inferior)\n",
    "print(\"Límite superior:\", limite_superior)\n",
    "display(df[['Consumo_kWh', 'Anomalia_IQR']])"
   ]
  },
  {
   "cell_type": "markdown",
   "id": "b6c3f0f8",
   "metadata": {},
   "source": [
    "## 5. Conclusiones\n",
    "\n",
    "En este Notebook se han aplicado tres métodos estadísticos para detectar anomalías en una serie temporal:\n",
    "\n",
    "- **Medias Móviles:** Permiten suavizar la serie y detectar desviaciones respecto a la tendencia local.\n",
    "- **Z-Scores:** Ayudan a identificar valores que se desvían significativamente de la media.\n",
    "- **Percentiles:** Permiten definir límites basados en la distribución de los datos para identificar valores extremos.\n",
    "\n",
    "**Tabla Comparativa**\n",
    "\n",
    "| Método        | Ventajas                                               | Consideraciones                                      |\n",
    "|---------------|---------------------------------------------------------|------------------------------------------------------|\n",
    "| Media Móvil   | Suaviza ruido y facilita ver tendencias locales.        | Puede retrasar la detección de cambios bruscos.      |\n",
    "| Z-Scores      | Rápido y sencillo, permite definir umbrales claros.      | Sensible a la presencia de outliers extremos.        |\n",
    "| Percentiles   | Basado en la distribución real de los datos.            | Requiere un análisis previo de la distribución.      |\n",
    "| IQR           | Robusto ante outliers; basado en cuartiles.             | Puede no detectar anomalías en distribuciones simétricas.|\n",
    "\n",
    "\n",
    "**Consideraciones Finales**\n",
    "\n",
    "La elección del método dependerá de la naturaleza de los datos y el objetivo del análisis.\n",
    "En ocasiones, la combinación de varios métodos puede ofrecer una detección más robusta de anomalías."
   ]
  }
 ],
 "metadata": {
  "kernelspec": {
   "display_name": "ibbi",
   "language": "python",
   "name": "python3"
  },
  "language_info": {
   "codemirror_mode": {
    "name": "ipython",
    "version": 3
   },
   "file_extension": ".py",
   "mimetype": "text/x-python",
   "name": "python",
   "nbconvert_exporter": "python",
   "pygments_lexer": "ipython3",
   "version": "3.12.8"
  }
 },
 "nbformat": 4,
 "nbformat_minor": 5
}
