{
 "cells": [
  {
   "cell_type": "markdown",
   "id": "53b2f769",
   "metadata": {
    "lines_to_next_cell": 0
   },
   "source": [
    "# **E9: Detección de Anomalías con Autoencoder**  \n",
    "\n",
    "## **Objetivo**  \n",
    "Implementar un **Autoencoder** para detectar anomalías en datos de consumo energético y meteorología, asegurando que se ejecute eficientemente sin GPU.\n",
    "\n",
    "## **Datos de entrada**  \n",
    "Un dataset con las siguientes columnas:  \n",
    "- **Consumo Energía (kWh)**  \n",
    "- **Generación FV (kWh)**  \n",
    "- **Temperatura (°C)**  \n",
    "- **Radiación Solar (W/m²)**  \n",
    "\n",
    "---\n",
    "\n",
    "# **Pasos a seguir**  \n",
    "\n",
    "## 1. Cargar y visualizar los datos  "
   ]
  },
  {
   "cell_type": "code",
   "execution_count": null,
   "id": "371d3aad",
   "metadata": {},
   "outputs": [],
   "source": [
    "import pandas as pd  \n",
    "import numpy as np  \n",
    "import matplotlib.pyplot as plt  \n",
    "\n",
    "import tensorflow as tf  \n",
    "from tensorflow import keras  \n",
    "from tensorflow.keras.models import Model  \n",
    "from tensorflow.keras.layers import Input, Dense  \n",
    "\n",
    "# Cargar dataset\n",
    "df = pd.read_csv(\"data/m4_datos_energia_canarias.csv\", usecols=range(1, 6) )\n",
    "\n",
    "df['Fecha'] = pd.to_datetime(df['Fecha'])\n",
    "df = df.set_index('Fecha')\n",
    "# Ver las primeras filas\n",
    "print(df.head())"
   ]
  },
  {
   "cell_type": "code",
   "execution_count": null,
   "id": "dbb0f02b",
   "metadata": {},
   "outputs": [],
   "source": [
    "df.describe()"
   ]
  },
  {
   "cell_type": "code",
   "execution_count": null,
   "id": "7ec9c1e5",
   "metadata": {},
   "outputs": [],
   "source": [
    "# Visualizar las variables clave\n",
    "df.plot(subplots=True, figsize=(10, 8))\n",
    "plt.show()"
   ]
  },
  {
   "cell_type": "markdown",
   "id": "4cf95217",
   "metadata": {
    "lines_to_next_cell": 0
   },
   "source": [
    "---\n",
    "\n",
    "## 2. Preprocesamiento  \n",
    "- **Rellenar valores nulos**  \n",
    "- **Normalizar datos** para mejorar la detección  "
   ]
  },
  {
   "cell_type": "code",
   "execution_count": null,
   "id": "180225b3",
   "metadata": {},
   "outputs": [],
   "source": [
    "# Rellenar valores nulos\n",
    "df.interpolate(inplace=True)\n",
    "\n",
    "# Normalización Min-Max\n",
    "df_normalized = (df - df.min()) / (df.max() - df.min())"
   ]
  },
  {
   "cell_type": "markdown",
   "id": "05e6b48d",
   "metadata": {
    "lines_to_next_cell": 0
   },
   "source": [
    "---\n",
    "\n",
    "## 3. Entrenar Autoencoder"
   ]
  },
  {
   "cell_type": "code",
   "execution_count": null,
   "id": "24f5d385",
   "metadata": {},
   "outputs": [],
   "source": [
    "# Configuración de TensorFlow para evitar el uso de GPU\n",
    "import os\n",
    "os.environ[\"CUDA_VISIBLE_DEVICES\"] = \"-1\"  # Forzar ejecución en CPU\n",
    "\n",
    "# Definir la arquitectura del Autoencoder\n",
    "input_dim = df_normalized.shape[1]  \n",
    "encoding_dim = 3  # Capa oculta con menor dimensionalidad\n",
    "\n",
    "input_layer = Input(shape=(input_dim,))\n",
    "encoded = Dense(encoding_dim, activation=\"relu\")(input_layer)\n",
    "decoded = Dense(input_dim, activation=\"sigmoid\")(encoded)\n",
    "\n",
    "autoencoder = Model(inputs=input_layer, outputs=decoded)\n",
    "autoencoder.compile(optimizer=\"adam\", loss=\"mse\")\n",
    "\n",
    "# Entrenar el modelo\n",
    "autoencoder.fit(df_normalized, df_normalized, epochs=50, batch_size=16, shuffle=True, verbose=1)\n"
   ]
  },
  {
   "cell_type": "markdown",
   "id": "08962521",
   "metadata": {},
   "source": [
    "📌 Explicación:\n",
    "\n",
    " - encoding_dim=3 → Reduce la dimensión de los datos para detectar patrones.\n",
    " - loss=\"mse\" → Minimiza el error cuadrático medio entre entrada y salida.\n",
    " - batch_size=16 → Tamaño pequeño para evitar alto consumo de RAM.\n",
    " - os.environ[\"CUDA_VISIBLE_DEVICES\"] = \"-1\" → Forza el uso de CPU."
   ]
  },
  {
   "cell_type": "markdown",
   "id": "0f394d00",
   "metadata": {},
   "source": [
    "### 3.1. Almacenar modelo"
   ]
  },
  {
   "cell_type": "code",
   "execution_count": null,
   "id": "b9a1edfb",
   "metadata": {},
   "outputs": [],
   "source": [
    "# Guardar modelo en disco\n",
    "autoencoder.save(\"models/autoencoder_model.h5\")\n",
    "print(\"Modelo guardado en disco como 'autoencoder_model.h5'\")\n"
   ]
  },
  {
   "cell_type": "markdown",
   "id": "bd953e99",
   "metadata": {},
   "source": [
    "### 3.2 Cargar modelo"
   ]
  },
  {
   "cell_type": "code",
   "execution_count": null,
   "id": "98c7e796",
   "metadata": {},
   "outputs": [],
   "source": [
    "from tensorflow.keras.models import load_model\n",
    "from tensorflow.keras.losses import MeanSquaredError\n",
    "\n",
    "# Definir la función de pérdida explícitamente\n",
    "mse = MeanSquaredError()\n",
    "\n",
    "# Cargar modelo asegurando que reconoce la función de pérdida\n",
    "autoencoder_loaded = load_model(\"models/autoencoder_model.h5\", compile=False)\n",
    "\n",
    "# Compilar el modelo cargado\n",
    "autoencoder_loaded.compile(optimizer=\"adam\", loss=mse)\n",
    "\n",
    "print(\"Modelo cargado y recompilado exitosamente.\")\n"
   ]
  },
  {
   "cell_type": "markdown",
   "id": "1e40b8da",
   "metadata": {},
   "source": [
    "---\n",
    "\n",
    "## 4. Detección de anomalías"
   ]
  },
  {
   "cell_type": "code",
   "execution_count": null,
   "id": "be35436c",
   "metadata": {},
   "outputs": [],
   "source": [
    "# Obtener reconstrucciones del Autoencoder\n",
    "reconstructions = autoencoder.predict(df_normalized)\n",
    "\n",
    "# Calcular error de reconstrucción\n",
    "mse = np.mean(np.power(df_normalized - reconstructions, 2), axis=1)\n",
    "\n",
    "# Definir umbral para anomalías (percentil 95)\n",
    "threshold = np.percentile(mse, 95)\n",
    "\n",
    "# Etiquetar anomalías\n",
    "df[\"Anomaly\"] = mse > threshold\n",
    "\n",
    "# Mostrar conteo de anomalías detectadas\n",
    "print(df[\"Anomaly\"].value_counts())\n"
   ]
  },
  {
   "cell_type": "code",
   "execution_count": null,
   "id": "44b34bea",
   "metadata": {},
   "outputs": [],
   "source": [
    "# Contar el número total de anomalías detectadas\n",
    "num_anomalies = (df[\"Anomaly\"] == True).sum()\n",
    "print(f\"Número total de anomalías detectadas: {num_anomalies}\")\n"
   ]
  },
  {
   "cell_type": "markdown",
   "id": "e54ed6c8",
   "metadata": {
    "lines_to_next_cell": 0
   },
   "source": [
    "---\n",
    "\n",
    "## 4. Visualizar anomalías  "
   ]
  },
  {
   "cell_type": "code",
   "execution_count": null,
   "id": "6488e0d2",
   "metadata": {},
   "outputs": [],
   "source": [
    "# 5️⃣ Gráfico de línea con anomalías\n",
    "plt.figure(figsize=(12, 6))\n",
    "plt.plot(df.index, df[\"Consumo Energía (kWh)\"], label=\"Serie Original\", color=\"blue\")\n",
    "plt.scatter(df.index[df[\"Anomaly\"] == True], df[\"Consumo Energía (kWh)\"][df[\"Anomaly\"] == True],\n",
    "            color='red', label='Anomalías', marker='o')\n",
    "plt.xlabel(\"Tiempo\")\n",
    "plt.ylabel(\"Consumo Energía (kWh)\")\n",
    "plt.title(\"Serie Temporal con Anomalías Detectadas\")\n",
    "plt.legend()\n",
    "plt.show()"
   ]
  },
  {
   "cell_type": "code",
   "execution_count": null,
   "id": "98aa005b",
   "metadata": {},
   "outputs": [],
   "source": [
    "# Aumentamos el zoom en el primer trimestre\n",
    "plot_df = df[df.index.month < 4]\n",
    "# 5️⃣ Gráfico de línea con anomalías\n",
    "plt.figure(figsize=(12, 6))\n",
    "plt.plot(plot_df.index, plot_df[\"Consumo Energía (kWh)\"], label=\"Serie Original\", color=\"blue\")\n",
    "plt.xlabel(\"Tiempo\")\n",
    "plt.ylabel(\"Consumo Energía (kWh)\")\n",
    "plt.title(\"Serie Temporal sin Anomalías Detectadas\")\n",
    "plt.legend()\n",
    "plt.show()"
   ]
  },
  {
   "cell_type": "code",
   "execution_count": null,
   "id": "9e71448b",
   "metadata": {},
   "outputs": [],
   "source": [
    "# 5️⃣ Gráfico de línea con anomalías\n",
    "plt.figure(figsize=(12, 6))\n",
    "plt.plot(plot_df.index, plot_df[\"Consumo Energía (kWh)\"], label=\"Serie Original\", color=\"blue\", marker=\"x\")\n",
    "plt.scatter(plot_df.index[plot_df[\"Anomaly\"]], plot_df[\"Consumo Energía (kWh)\"][plot_df[\"Anomaly\"]],  \n",
    "            color='red', label='Anomalías', marker='o')\n",
    "plt.xlabel(\"Tiempo\")\n",
    "plt.ylabel(\"Consumo Energía (kWh)\")\n",
    "plt.title(\"Serie Temporal con Anomalías Detectadas\")\n",
    "plt.legend()\n",
    "plt.show()"
   ]
  },
  {
   "cell_type": "markdown",
   "id": "36335717",
   "metadata": {},
   "source": [
    "---\n",
    "\n",
    "# **Conclusión**  \n",
    "- Autoencoder permite detectar anomalías analizando diferencias en la reconstrucción de datos normales.\n",
    "- Sin necesidad de GPU, este enfoque sigue siendo eficiente con tamaños de batch pequeños y menos neuronas.\n",
    "- Extensión: Probar diferentes valores de encoding_dim o umbrales de detección."
   ]
  }
 ],
 "metadata": {
  "jupytext": {
   "cell_metadata_filter": "-all",
   "main_language": "python",
   "notebook_metadata_filter": "-all"
  },
  "kernelspec": {
   "display_name": "ibbi",
   "language": "python",
   "name": "python3"
  },
  "language_info": {
   "codemirror_mode": {
    "name": "ipython",
    "version": 3
   },
   "file_extension": ".py",
   "mimetype": "text/x-python",
   "name": "python",
   "nbconvert_exporter": "python",
   "pygments_lexer": "ipython3",
   "version": "3.12.8"
  }
 },
 "nbformat": 4,
 "nbformat_minor": 5
}
