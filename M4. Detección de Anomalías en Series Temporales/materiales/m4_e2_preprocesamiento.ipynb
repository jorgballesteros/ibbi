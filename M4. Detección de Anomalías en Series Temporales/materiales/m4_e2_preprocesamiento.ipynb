{
 "cells": [
  {
   "cell_type": "markdown",
   "id": "fbbf5b7f",
   "metadata": {},
   "source": [
    "# E2. Preprocesamiento de una Serie Temporal para Modelos de IA\n",
    "\n",
    "En este Notebook se muestra el proceso completo de preprocesamiento de una serie temporal. Se abordan los pasos desde la carga de los datos en bruto, su limpieza, transformación y finalmente la normalización y escalado, dejando los datos listos para alimentar un modelo de inteligencia artificial."
   ]
  },
  {
   "cell_type": "markdown",
   "id": "e1426e77",
   "metadata": {},
   "source": [
    "## 1. Importación de Librerías y Carga de Datos\n",
    "\n",
    "Utilizaremos el dataset clásico *AirPassengers*, que contiene el número de pasajeros mensuales, para ejemplificar el proceso. Este dataset presenta patrones estacionales y una tendencia creciente a lo largo del tiempo."
   ]
  },
  {
   "cell_type": "code",
   "execution_count": null,
   "id": "800bd64f",
   "metadata": {},
   "outputs": [],
   "source": [
    "!pip install scikit-learn"
   ]
  },
  {
   "cell_type": "code",
   "execution_count": null,
   "id": "2f7055c1",
   "metadata": {},
   "outputs": [],
   "source": [
    "import pandas as pd\n",
    "import numpy as np\n",
    "import matplotlib.pyplot as plt\n",
    "from sklearn.preprocessing import StandardScaler, MinMaxScaler\n",
    "from statsmodels.tsa.seasonal import seasonal_decompose\n",
    "\n",
    "# Cargar el dataset AirPassengers\n",
    "url = 'https://raw.githubusercontent.com/jbrownlee/Datasets/master/airline-passengers.csv'\n",
    "df = pd.read_csv(url, parse_dates=['Month'], index_col='Month')\n",
    "\n",
    "print('Vista previa de los datos:')\n",
    "display(df.head(10))"
   ]
  },
  {
   "cell_type": "code",
   "execution_count": null,
   "id": "4e3ad17d",
   "metadata": {},
   "outputs": [],
   "source": [
    "# Visualización de la serie temporal original\n",
    "plt.figure(figsize=(10, 4))\n",
    "plt.plot(df, label='Número de pasajeros')\n",
    "plt.title('Serie Temporal: Número de Pasajeros')\n",
    "plt.xlabel('Fecha')\n",
    "plt.ylabel('Pasajeros')\n",
    "plt.legend()\n",
    "plt.show()"
   ]
  },
  {
   "cell_type": "markdown",
   "id": "c8863f10",
   "metadata": {},
   "source": [
    "## 2. Limpieza y Exploración de Datos\n",
    "\n",
    "Revisamos la existencia de valores faltantes y realizamos una limpieza básica de los datos."
   ]
  },
  {
   "cell_type": "code",
   "execution_count": null,
   "id": "33a5d8b9",
   "metadata": {},
   "outputs": [],
   "source": [
    "nan_df = df.copy()\n",
    "# Simular valores faltantes: eliminar aleatoriamente 10 filas\\n\",\n",
    "np.random.seed(42)\n",
    "missing_indices = np.random.choice(nan_df.index, size=10, replace=False)\n",
    "nan_df.loc[missing_indices, 'Passengers'] = np.nan\n",
    "display(nan_df.head(15))"
   ]
  },
  {
   "cell_type": "code",
   "execution_count": null,
   "id": "6beee1bd",
   "metadata": {},
   "outputs": [],
   "source": [
    "# Visualización de la serie temporal con datos faltantes\n",
    "plt.figure(figsize=(10, 4))\n",
    "plt.plot(nan_df, label='Número de pasajeros')\n",
    "plt.title('Serie Temporal: Número de Pasajeros')\n",
    "plt.xlabel('Fecha')\n",
    "plt.ylabel('Pasajeros')\n",
    "plt.legend()\n",
    "plt.show()"
   ]
  },
  {
   "cell_type": "code",
   "execution_count": null,
   "id": "d4e3a728",
   "metadata": {},
   "outputs": [],
   "source": [
    "# Verificar valores faltantes\n",
    "print('Valores faltantes por columna:')\n",
    "print(nan_df.isnull().sum())\n",
    "\n",
    "# En este dataset no se esperan valores faltantes, pero en caso de haberlos se podrían imputar o eliminar\n",
    "\n",
    "# Visualización rápida de estadísticas descriptivas\n",
    "display(nan_df.describe())"
   ]
  },
  {
   "cell_type": "code",
   "execution_count": null,
   "id": "1e48fed5",
   "metadata": {},
   "outputs": [],
   "source": [
    "restored_df = nan_df.interpolate(method='time')\n",
    "print(restored_df.isnull().sum())"
   ]
  },
  {
   "cell_type": "code",
   "execution_count": null,
   "id": "c1ca6682",
   "metadata": {},
   "outputs": [],
   "source": [
    "# Visualización de la serie temporal con datos restaurados\n",
    "plt.figure(figsize=(10, 4))\n",
    "plt.plot(restored_df, label='Número de pasajeros')\n",
    "plt.plot(df, label='Número de pasajeros original')\n",
    "plt.title('Serie Temporal: Número de Pasajeros')\n",
    "plt.xlabel('Fecha')\n",
    "plt.ylabel('Pasajeros')\n",
    "plt.legend()\n",
    "plt.show()"
   ]
  },
  {
   "cell_type": "markdown",
   "id": "d0cb8a35",
   "metadata": {},
   "source": [
    "## 3. Transformación y Descomposición de la Serie Temporal\n",
    "\n",
    "Para entender mejor la estructura de la serie, descompondremos la serie en sus componentes: tendencia, estacionalidad y residuo."
   ]
  },
  {
   "cell_type": "code",
   "execution_count": null,
   "id": "1a4cf29c",
   "metadata": {},
   "outputs": [],
   "source": [
    "# Aplicar descomposición aditiva (útil cuando la variación es aproximadamente constante)\n",
    "result = seasonal_decompose(df, model='additive', period=12)  \n",
    "\n",
    "plt.rcParams.update({'figure.figsize': (10, 8)})\n",
    "result.plot()\n",
    "plt.show()"
   ]
  },
  {
   "cell_type": "code",
   "execution_count": null,
   "id": "e1d655d7",
   "metadata": {},
   "outputs": [],
   "source": [
    "# Aplicar descomposición aditiva (útil cuando la variación es aproximadamente constante)\n",
    "result = seasonal_decompose(restored_df, model='additive', period=12)  \n",
    "\n",
    "plt.rcParams.update({'figure.figsize': (10, 8)})\n",
    "result.plot()\n",
    "plt.show()"
   ]
  },
  {
   "cell_type": "markdown",
   "id": "b372e2db",
   "metadata": {},
   "source": [
    "## 4. Normalización y Escalado\n",
    "\n",
    "Para preparar los datos para un modelo de IA, es importante normalizarlos y escalarlos. Aquí se muestran dos enfoques: \n",
    "- **Estandarización:** Utilizando el `StandardScaler` para centrar la media y escalar a una varianza unitaria.\n",
    "- **Normalización:** Utilizando el `MinMaxScaler` para reescalar los valores en el rango [0, 1]."
   ]
  },
  {
   "cell_type": "code",
   "execution_count": null,
   "id": "ed980764",
   "metadata": {},
   "outputs": [],
   "source": [
    "# Seleccionamos la columna a escalar\n",
    "data = df.values  \n",
    "\n",
    "# Opción 1: Estandarización\n",
    "scaler_std = StandardScaler()\n",
    "data_std = scaler_std.fit_transform(data)\n",
    "\n",
    "# Opción 2: Normalización\n",
    "scaler_mm = MinMaxScaler()\n",
    "data_mm = scaler_mm.fit_transform(data)\n",
    "\n",
    "# Visualización comparativa\n",
    "plt.figure(figsize=(12, 5))\n",
    "\n",
    "plt.subplot(1, 2, 1)\n",
    "plt.plot(data_std, label='Estandarizado')\n",
    "plt.title('Serie Estandarizada')\n",
    "plt.xlabel('Tiempo')\n",
    "plt.ylabel('Valor')\n",
    "plt.legend()\n",
    "\n",
    "plt.subplot(1, 2, 2)\n",
    "plt.plot(data_mm, label='Normalizado', color='orange')\n",
    "plt.title('Serie Normalizada')\n",
    "plt.xlabel('Tiempo')\n",
    "plt.ylabel('Valor')\n",
    "plt.legend()\n",
    "\n",
    "plt.tight_layout()\n",
    "plt.show()"
   ]
  },
  {
   "cell_type": "markdown",
   "id": "86f265c2",
   "metadata": {},
   "source": [
    "## 5. Conclusiones\n",
    "\n",
    "En este Notebook se ha mostrado el flujo completo de preprocesamiento de una serie temporal:\n",
    "\n",
    "- **Carga y exploración de datos:** Se cargó el dataset y se verificaron aspectos básicos de limpieza.\n",
    "- **Descomposición:** Se separó la serie en tendencia, estacionalidad y residuo para entender su estructura.\n",
    "- **Normalización y escalado:** Se aplicaron técnicas de estandarización y normalización para preparar los datos para su uso en modelos de IA.\n",
    "\n",
    "Este proceso es fundamental para garantizar que los modelos de inteligencia artificial trabajen con datos de alta calidad y bien estructurados, mejorando así su desempeño y capacidad de detección de anomalías."
   ]
  }
 ],
 "metadata": {
  "kernelspec": {
   "display_name": "ibbi",
   "language": "python",
   "name": "python3"
  },
  "language_info": {
   "codemirror_mode": {
    "name": "ipython",
    "version": 3
   },
   "file_extension": ".py",
   "mimetype": "text/x-python",
   "name": "python",
   "nbconvert_exporter": "python",
   "pygments_lexer": "ipython3",
   "version": "3.12.8"
  }
 },
 "nbformat": 4,
 "nbformat_minor": 5
}
