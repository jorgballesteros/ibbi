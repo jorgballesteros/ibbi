{
 "cells": [
  {
   "cell_type": "markdown",
   "id": "87fd38c1",
   "metadata": {},
   "source": [
    "# **Ejercicio 1 – Publicar y Suscribirse con MQTT**\n",
    "\n",
    "## Objetivo\n",
    "\n",
    "Que los participantes entiendan y experimenten el funcionamiento del modelo **Publicador/Suscriptor** usando MQTT, con sensores simulados y visualización del flujo de datos.\n",
    "\n",
    "---\n",
    "\n",
    "## **Materiales necesarios**\n",
    "\n",
    "* Python 3 instalado (o Node-RED, alternativa visual).\n",
    "* Un broker MQTT público (por ejemplo: `broker.hivemq.com`) o broker en [local](ayuda/mqtt-local.md).\n",
    "* Cliente de prueba (opcional): MQTT Explorer ([http://mqtt-explorer.com](http://mqtt-explorer.com)).\n",
    "\n",
    "---\n",
    "\n",
    "## Opción 1: Programación Python\n",
    "\n",
    "### Instalación de librería MQTT\n",
    "\n",
    "```\n",
    "pip install paho-mqtt\n",
    "```\n",
    "\n",
    "### Cargar credenciales"
   ]
  },
  {
   "cell_type": "code",
   "execution_count": 1,
   "id": "491766fd",
   "metadata": {},
   "outputs": [],
   "source": [
    "from dotenv import load_dotenv\n",
    "import os\n",
    "\n",
    "# Cargar variables del archivo .env\n",
    "load_dotenv()\n",
    "\n",
    "# Leer usuario y contraseña\n",
    "mqtt_broker = os.getenv(\"MQTT_BROKER\")\n",
    "mqtt_port = int(os.getenv(\"MQTT_PORT\"))\n",
    "mqtt_user = os.getenv(\"MQTT_USER\")\n",
    "mqtt_pass = os.getenv(\"MQTT_PASS\")"
   ]
  },
  {
   "cell_type": "markdown",
   "id": "23fb609f",
   "metadata": {},
   "source": [
    "### Script del Publicador (simula un sensor de agua)"
   ]
  },
  {
   "cell_type": "code",
   "execution_count": null,
   "id": "997e34d2",
   "metadata": {},
   "outputs": [
    {
     "name": "stderr",
     "output_type": "stream",
     "text": [
      "/var/folders/kh/vywr4v293s1fmshzbj358gw40000gn/T/ipykernel_130/1325743059.py:7: DeprecationWarning: Callback API version 1 is deprecated, update to latest version\n",
      "  client = mqtt.Client(protocol=mqtt.MQTTv311)\n"
     ]
    },
    {
     "name": "stdout",
     "output_type": "stream",
     "text": [
      "Publicado → Caudal: 6.05 L/min\n",
      "Publicado → Caudal: 9.88 L/min\n",
      "Publicado → Caudal: 6.34 L/min\n"
     ]
    },
    {
     "ename": "KeyboardInterrupt",
     "evalue": "",
     "output_type": "error",
     "traceback": [
      "\u001b[31m---------------------------------------------------------------------------\u001b[39m",
      "\u001b[31mKeyboardInterrupt\u001b[39m                         Traceback (most recent call last)",
      "\u001b[36mCell\u001b[39m\u001b[36m \u001b[39m\u001b[32mIn[6]\u001b[39m\u001b[32m, line 16\u001b[39m\n\u001b[32m     14\u001b[39m client.publish(topic, mensaje)\n\u001b[32m     15\u001b[39m \u001b[38;5;28mprint\u001b[39m(\u001b[33mf\u001b[39m\u001b[33m\"\u001b[39m\u001b[33mPublicado → \u001b[39m\u001b[38;5;132;01m{\u001b[39;00mmensaje\u001b[38;5;132;01m}\u001b[39;00m\u001b[33m\"\u001b[39m)\n\u001b[32m---> \u001b[39m\u001b[32m16\u001b[39m \u001b[43mtime\u001b[49m\u001b[43m.\u001b[49m\u001b[43msleep\u001b[49m\u001b[43m(\u001b[49m\u001b[32;43m5\u001b[39;49m\u001b[43m)\u001b[49m\n",
      "\u001b[31mKeyboardInterrupt\u001b[39m: "
     ]
    }
   ],
   "source": [
    "import paho.mqtt.client as mqtt\n",
    "import time\n",
    "import random\n",
    "\n",
    "def on_connect(client, userdata, flags, rc):\n",
    "    if rc == 0:\n",
    "        print(\"Connected to MQTT Broker!\")\n",
    "    else:\n",
    "        print(\"Failed to connect, return code %d\\n\", rc)\n",
    "\n",
    "topic = \"ibbi/agua\"\n",
    "\n",
    "client_id = f'python-mqtt-{random.randint(0, 1000)}'\n",
    "client = mqtt.Client(client_id1)\n",
    "client.username_pw_set(username=mqtt_user, password=mqtt_pass)\n",
    "client.connect(mqtt_broker, mqtt_port, 60)\n",
    "\n",
    "while True:\n",
    "    caudal = round(random.uniform(5.0, 15.0), 2)\n",
    "    mensaje = f\"Caudal: {caudal} L/min\"\n",
    "    client.publish(topic, mensaje)\n",
    "    print(f\"Publicado → {mensaje}\")\n",
    "    time.sleep(5)"
   ]
  },
  {
   "cell_type": "markdown",
   "id": "db5ce7e8",
   "metadata": {},
   "source": [
    "### Script del Suscriptor (simula el sistema que actúa)"
   ]
  },
  {
   "cell_type": "code",
   "execution_count": null,
   "id": "1a08f00c",
   "metadata": {},
   "outputs": [],
   "source": [
    "import paho.mqtt.client as mqtt\n",
    "\n",
    "def on_connect(client, userdata, flags, rc):\n",
    "    print(\"Conectado con código:\", rc)\n",
    "    client_sub.subscribe(topic)\n",
    "\n",
    "def on_message(client, userdata, msg):\n",
    "    print(f\"Mensaje recibido: {msg.payload.decode()} en el tema {msg.topic}\")\n",
    "\n",
    "client_sub = mqtt.Client(protocol=mqtt.MQTTv311)\n",
    "client_sub.username_pw_set(username=mqtt_user, password=mqtt_pass)\n",
    "client_sub.on_connect = on_connect\n",
    "client_sub.on_message = on_message\n",
    "\n",
    "client_sub.connect(mqtt_broker, mqtt_port, 60)\n",
    "client_sub.loop_forever()"
   ]
  },
  {
   "cell_type": "markdown",
   "id": "29bc8c6b",
   "metadata": {},
   "source": [
    "---\n",
    "\n",
    "## Opción 2: Visual y sin código – Usando Node-RED\n",
    "\n",
    "###  Preparación\n",
    "\n",
    "1. Accede a Node-RED (local o [https://fred.sensetecnic.com](https://fred.sensetecnic.com)).\n",
    "2. Arrastra los nodos:\n",
    "\n",
    "   * `mqtt in` (para suscribirse).\n",
    "   * `mqtt out` (para publicar).\n",
    "   * `inject` (para simular datos).\n",
    "   * `debug` (para ver los mensajes).\n",
    "\n",
    "### Configuración del broker\n",
    "\n",
    "* Server: `broker.hivemq.com`\n",
    "* Puerto: `1883`\n",
    "* Tema de prueba: `ibbicurso/canarias/agua`\n",
    "\n",
    "### Flujo típico:\n",
    "\n",
    "* El nodo `inject` manda un valor simulado (ej. `\"Caudal: 12.4\"`).\n",
    "* El nodo `mqtt out` lo publica.\n",
    "* El nodo `mqtt in` lo recibe.\n",
    "* Se visualiza con `debug`.\n",
    "\n",
    "## 🧠 Actividades complementarias\n",
    "\n",
    "* Cambiar el nombre del tema a algo personalizado (por grupo).\n",
    "* Probar con múltiples suscriptores (ver cómo se recibe el mismo mensaje en varias consolas).\n",
    "* Usar MQTT Explorer para visualizar los temas activos y mensajes.\n",
    "\n",
    "---\n",
    "\n",
    "## ✅ Cierre del ejercicio\n",
    "\n",
    "* Preguntas para reflexión:\n",
    "\n",
    "  * ¿Qué ventajas tiene este modelo frente al polling tradicional?\n",
    "  * ¿Cómo podríamos usar este sistema para activar una respuesta automática?"
   ]
  }
 ],
 "metadata": {
  "jupytext": {
   "cell_metadata_filter": "-all",
   "main_language": "python",
   "notebook_metadata_filter": "-all"
  },
  "kernelspec": {
   "display_name": "ibbi",
   "language": "python",
   "name": "python3"
  },
  "language_info": {
   "codemirror_mode": {
    "name": "ipython",
    "version": 3
   },
   "file_extension": ".py",
   "mimetype": "text/x-python",
   "name": "python",
   "nbconvert_exporter": "python",
   "pygments_lexer": "ipython3",
   "version": "3.12.10"
  }
 },
 "nbformat": 4,
 "nbformat_minor": 5
}
